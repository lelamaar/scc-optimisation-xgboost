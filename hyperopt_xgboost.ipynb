{
 "cells": [
  {
   "cell_type": "code",
   "execution_count": 145,
   "metadata": {},
   "outputs": [],
   "source": [
    "# Data wrangling\n",
    "import pandas as pd\n",
    "import numpy as np\n",
    "import re"
   ]
  },
  {
   "cell_type": "code",
   "execution_count": 146,
   "metadata": {},
   "outputs": [],
   "source": [
    "# Machine learning\n",
    "\n",
    "import xgboost as xgb\n",
    "from sklearn.model_selection import train_test_split"
   ]
  },
  {
   "cell_type": "code",
   "execution_count": 147,
   "metadata": {},
   "outputs": [],
   "source": [
    "# Hyperparameters tuning\n",
    "\n",
    "from hyperopt import STATUS_OK, Trials, fmin, hp, tpe"
   ]
  },
  {
   "cell_type": "code",
   "execution_count": 148,
   "metadata": {},
   "outputs": [],
   "source": [
    "# Some constants\n",
    "\n",
    "SEED = 314159265\n",
    "VALID_SIZE = 0.2\n",
    "TARGET = 'Elapsed'"
   ]
  },
  {
   "cell_type": "code",
   "execution_count": 149,
   "metadata": {},
   "outputs": [
    {
     "data": {
      "text/html": [
       "<div>\n",
       "<style scoped>\n",
       "    .dataframe tbody tr th:only-of-type {\n",
       "        vertical-align: middle;\n",
       "    }\n",
       "\n",
       "    .dataframe tbody tr th {\n",
       "        vertical-align: top;\n",
       "    }\n",
       "\n",
       "    .dataframe thead th {\n",
       "        text-align: right;\n",
       "    }\n",
       "</style>\n",
       "<table border=\"1\" class=\"dataframe\">\n",
       "  <thead>\n",
       "    <tr style=\"text-align: right;\">\n",
       "      <th></th>\n",
       "      <th>UID</th>\n",
       "      <th>GID</th>\n",
       "      <th>Area</th>\n",
       "      <th>Partition</th>\n",
       "      <th>ReqNodes</th>\n",
       "      <th>ReqCPUS</th>\n",
       "      <th>Timelimit</th>\n",
       "      <th>Submit</th>\n",
       "      <th>Elapsed</th>\n",
       "      <th>Priority</th>\n",
       "      <th>State</th>\n",
       "      <th>ExitCode</th>\n",
       "    </tr>\n",
       "  </thead>\n",
       "  <tbody>\n",
       "    <tr>\n",
       "      <th>0</th>\n",
       "      <td>1420</td>\n",
       "      <td>88068</td>\n",
       "      <td>astrophys</td>\n",
       "      <td>tornado</td>\n",
       "      <td>70</td>\n",
       "      <td>1960</td>\n",
       "      <td>10-00:00:00</td>\n",
       "      <td>2021-08-11T16:53:04</td>\n",
       "      <td>1-11:27:29</td>\n",
       "      <td>1</td>\n",
       "      <td>CANCELLED by 50260</td>\n",
       "      <td>0:0</td>\n",
       "    </tr>\n",
       "    <tr>\n",
       "      <th>1</th>\n",
       "      <td>52951</td>\n",
       "      <td>3414</td>\n",
       "      <td>phys</td>\n",
       "      <td>tornado</td>\n",
       "      <td>2</td>\n",
       "      <td>56</td>\n",
       "      <td>14-00:00:00</td>\n",
       "      <td>2021-08-18T10:38:10</td>\n",
       "      <td>14-00:00:38</td>\n",
       "      <td>1</td>\n",
       "      <td>TIMEOUT</td>\n",
       "      <td>0:0</td>\n",
       "    </tr>\n",
       "    <tr>\n",
       "      <th>2</th>\n",
       "      <td>24801</td>\n",
       "      <td>97723</td>\n",
       "      <td>mech</td>\n",
       "      <td>tornado</td>\n",
       "      <td>6</td>\n",
       "      <td>168</td>\n",
       "      <td>14-00:00:00</td>\n",
       "      <td>2021-08-18T14:50:05</td>\n",
       "      <td>13-21:05:40</td>\n",
       "      <td>1</td>\n",
       "      <td>CANCELLED by 50341</td>\n",
       "      <td>0:0</td>\n",
       "    </tr>\n",
       "    <tr>\n",
       "      <th>3</th>\n",
       "      <td>24801</td>\n",
       "      <td>97723</td>\n",
       "      <td>mech</td>\n",
       "      <td>tornado</td>\n",
       "      <td>6</td>\n",
       "      <td>168</td>\n",
       "      <td>14-00:00:00</td>\n",
       "      <td>2021-08-18T14:52:31</td>\n",
       "      <td>13-21:04:39</td>\n",
       "      <td>1</td>\n",
       "      <td>CANCELLED by 50341</td>\n",
       "      <td>0:0</td>\n",
       "    </tr>\n",
       "    <tr>\n",
       "      <th>4</th>\n",
       "      <td>70802</td>\n",
       "      <td>33028</td>\n",
       "      <td>energ</td>\n",
       "      <td>tornado-k40</td>\n",
       "      <td>1</td>\n",
       "      <td>1</td>\n",
       "      <td>14-00:00:00</td>\n",
       "      <td>2021-08-19T15:33:49</td>\n",
       "      <td>14-00:00:04</td>\n",
       "      <td>1</td>\n",
       "      <td>TIMEOUT</td>\n",
       "      <td>0:0</td>\n",
       "    </tr>\n",
       "    <tr>\n",
       "      <th>...</th>\n",
       "      <td>...</td>\n",
       "      <td>...</td>\n",
       "      <td>...</td>\n",
       "      <td>...</td>\n",
       "      <td>...</td>\n",
       "      <td>...</td>\n",
       "      <td>...</td>\n",
       "      <td>...</td>\n",
       "      <td>...</td>\n",
       "      <td>...</td>\n",
       "      <td>...</td>\n",
       "      <td>...</td>\n",
       "    </tr>\n",
       "    <tr>\n",
       "      <th>1290724</th>\n",
       "      <td>70637</td>\n",
       "      <td>47128</td>\n",
       "      <td>mech</td>\n",
       "      <td>tornado</td>\n",
       "      <td>1</td>\n",
       "      <td>28</td>\n",
       "      <td>10-00:00:00</td>\n",
       "      <td>2023-05-31T23:42:30</td>\n",
       "      <td>05:19:37</td>\n",
       "      <td>480</td>\n",
       "      <td>COMPLETED</td>\n",
       "      <td>0:0</td>\n",
       "    </tr>\n",
       "    <tr>\n",
       "      <th>1290725</th>\n",
       "      <td>70637</td>\n",
       "      <td>47128</td>\n",
       "      <td>mech</td>\n",
       "      <td>tornado</td>\n",
       "      <td>1</td>\n",
       "      <td>28</td>\n",
       "      <td>10-00:00:00</td>\n",
       "      <td>2023-05-31T23:42:47</td>\n",
       "      <td>05:25:22</td>\n",
       "      <td>480</td>\n",
       "      <td>COMPLETED</td>\n",
       "      <td>0:0</td>\n",
       "    </tr>\n",
       "    <tr>\n",
       "      <th>1290726</th>\n",
       "      <td>70637</td>\n",
       "      <td>47128</td>\n",
       "      <td>mech</td>\n",
       "      <td>tornado</td>\n",
       "      <td>1</td>\n",
       "      <td>28</td>\n",
       "      <td>10-00:00:00</td>\n",
       "      <td>2023-05-31T23:43:10</td>\n",
       "      <td>05:28:30</td>\n",
       "      <td>480</td>\n",
       "      <td>COMPLETED</td>\n",
       "      <td>0:0</td>\n",
       "    </tr>\n",
       "    <tr>\n",
       "      <th>1290727</th>\n",
       "      <td>72271</td>\n",
       "      <td>99243</td>\n",
       "      <td>phys</td>\n",
       "      <td>tornado</td>\n",
       "      <td>1</td>\n",
       "      <td>1</td>\n",
       "      <td>1-00:00:00</td>\n",
       "      <td>2023-05-31T23:51:20</td>\n",
       "      <td>00:01:06</td>\n",
       "      <td>233</td>\n",
       "      <td>COMPLETED</td>\n",
       "      <td>0:0</td>\n",
       "    </tr>\n",
       "    <tr>\n",
       "      <th>1290728</th>\n",
       "      <td>72271</td>\n",
       "      <td>99243</td>\n",
       "      <td>phys</td>\n",
       "      <td>tornado</td>\n",
       "      <td>1</td>\n",
       "      <td>1</td>\n",
       "      <td>1-00:00:00</td>\n",
       "      <td>2023-05-31T23:54:14</td>\n",
       "      <td>05:01:54</td>\n",
       "      <td>233</td>\n",
       "      <td>COMPLETED</td>\n",
       "      <td>0:0</td>\n",
       "    </tr>\n",
       "  </tbody>\n",
       "</table>\n",
       "<p>1290729 rows × 12 columns</p>\n",
       "</div>"
      ],
      "text/plain": [
       "           UID    GID       Area    Partition  ReqNodes  ReqCPUS    Timelimit  \\\n",
       "0         1420  88068  astrophys      tornado        70     1960  10-00:00:00   \n",
       "1        52951   3414       phys      tornado         2       56  14-00:00:00   \n",
       "2        24801  97723       mech      tornado         6      168  14-00:00:00   \n",
       "3        24801  97723       mech      tornado         6      168  14-00:00:00   \n",
       "4        70802  33028      energ  tornado-k40         1        1  14-00:00:00   \n",
       "...        ...    ...        ...          ...       ...      ...          ...   \n",
       "1290724  70637  47128       mech      tornado         1       28  10-00:00:00   \n",
       "1290725  70637  47128       mech      tornado         1       28  10-00:00:00   \n",
       "1290726  70637  47128       mech      tornado         1       28  10-00:00:00   \n",
       "1290727  72271  99243       phys      tornado         1        1   1-00:00:00   \n",
       "1290728  72271  99243       phys      tornado         1        1   1-00:00:00   \n",
       "\n",
       "                      Submit      Elapsed  Priority               State  \\\n",
       "0        2021-08-11T16:53:04   1-11:27:29         1  CANCELLED by 50260   \n",
       "1        2021-08-18T10:38:10  14-00:00:38         1             TIMEOUT   \n",
       "2        2021-08-18T14:50:05  13-21:05:40         1  CANCELLED by 50341   \n",
       "3        2021-08-18T14:52:31  13-21:04:39         1  CANCELLED by 50341   \n",
       "4        2021-08-19T15:33:49  14-00:00:04         1             TIMEOUT   \n",
       "...                      ...          ...       ...                 ...   \n",
       "1290724  2023-05-31T23:42:30     05:19:37       480           COMPLETED   \n",
       "1290725  2023-05-31T23:42:47     05:25:22       480           COMPLETED   \n",
       "1290726  2023-05-31T23:43:10     05:28:30       480           COMPLETED   \n",
       "1290727  2023-05-31T23:51:20     00:01:06       233           COMPLETED   \n",
       "1290728  2023-05-31T23:54:14     05:01:54       233           COMPLETED   \n",
       "\n",
       "        ExitCode  \n",
       "0            0:0  \n",
       "1            0:0  \n",
       "2            0:0  \n",
       "3            0:0  \n",
       "4            0:0  \n",
       "...          ...  \n",
       "1290724      0:0  \n",
       "1290725      0:0  \n",
       "1290726      0:0  \n",
       "1290727      0:0  \n",
       "1290728      0:0  \n",
       "\n",
       "[1290729 rows x 12 columns]"
      ]
     },
     "execution_count": 149,
     "metadata": {},
     "output_type": "execute_result"
    }
   ],
   "source": [
    "train_df = pd.read_csv('data/train_w_areas_st_till_june.csv',index_col=0)\n",
    "\n",
    "### FIx: число предсказаний не совпадает с числом подаваемых данных\n",
    "# train_df.dropna(inplace=True)\n",
    "\n",
    "train_df.fillna(0, inplace=True)\n",
    "\n",
    "train_df.drop(columns=['Start', 'JobName'], inplace=True)\n",
    "train_df"
   ]
  },
  {
   "cell_type": "code",
   "execution_count": 150,
   "metadata": {},
   "outputs": [],
   "source": [
    "regexp_time_list = [\n",
    "    r'(?P<days>.+?(?=-))-(?P<hours>.+?(?=:)):(?P<minutes>.+?(?=:)):(?P<seconds>\\d+)',\n",
    "    r'(?P<hours>.+?(?=:)):(?P<minutes>.+?(?=:)):(?P<seconds>\\d+)'\n",
    "]\n",
    "compiled_regexps = [re.compile(regexp) for regexp in regexp_time_list]\n",
    "\n",
    "def convert_time_to_seconds(element):\n",
    "    for rcompile in compiled_regexps:\n",
    "        rsearch = rcompile.search(element)\n",
    "        if rsearch:\n",
    "            try:\n",
    "                return (int(rsearch.group('days')) * 24 + int(rsearch.group('hours'))) * 3600 + int(rsearch.group('minutes')) * 60 + int(rsearch.group('seconds'))\n",
    "            except:\n",
    "                return int(rsearch.group('hours')) * 3600 + int(rsearch.group('minutes')) * 60 + int(rsearch.group('seconds'))\n",
    "            \n",
    "train_df['Timelimit'] = train_df['Timelimit'].apply(convert_time_to_seconds)\n",
    "train_df['Elapsed'] = train_df['Elapsed'].apply(convert_time_to_seconds)"
   ]
  },
  {
   "cell_type": "code",
   "execution_count": 151,
   "metadata": {},
   "outputs": [
    {
     "data": {
      "text/plain": [
       "0          10\n",
       "1           2\n",
       "2           8\n",
       "3           8\n",
       "4           9\n",
       "           ..\n",
       "1290724     8\n",
       "1290725     8\n",
       "1290726     8\n",
       "1290727     2\n",
       "1290728     2\n",
       "Name: Area, Length: 1290729, dtype: int32"
      ]
     },
     "execution_count": 151,
     "metadata": {},
     "output_type": "execute_result"
    }
   ],
   "source": [
    "train_df['Area'].replace({'geophys': 0,\n",
    " 'radiophys': 1,\n",
    " 'phys': 2,\n",
    " 'bioinf': 4,\n",
    " 'mach': 5,\n",
    " 'biophys': 6,\n",
    " 'it': 7,\n",
    " 'mech': 8,\n",
    " 'energ': 9,\n",
    " 'astrophys': 10}, inplace=True)\n",
    " \n",
    "train_df['Area'].astype(int)"
   ]
  },
  {
   "cell_type": "code",
   "execution_count": 152,
   "metadata": {},
   "outputs": [
    {
     "data": {
      "text/plain": [
       "0          0\n",
       "1          0\n",
       "2          0\n",
       "3          0\n",
       "4          3\n",
       "          ..\n",
       "1290724    0\n",
       "1290725    0\n",
       "1290726    0\n",
       "1290727    0\n",
       "1290728    0\n",
       "Name: Partition, Length: 1290729, dtype: int32"
      ]
     },
     "execution_count": 152,
     "metadata": {},
     "output_type": "execute_result"
    }
   ],
   "source": [
    "train_df['Partition'].replace({'tornado': 0,\n",
    " 'g2': 1,\n",
    " 'cascade': 2,\n",
    " 'tornado-k40': 3,\n",
    " 'nv': 4}, inplace=True)\n",
    "\n",
    "train_df['Partition'].astype(int)"
   ]
  },
  {
   "cell_type": "code",
   "execution_count": 153,
   "metadata": {},
   "outputs": [
    {
     "data": {
      "text/plain": [
       "0          5\n",
       "1          2\n",
       "2          5\n",
       "3          5\n",
       "4          2\n",
       "          ..\n",
       "1290724    0\n",
       "1290725    0\n",
       "1290726    0\n",
       "1290727    0\n",
       "1290728    0\n",
       "Name: State, Length: 1290729, dtype: int32"
      ]
     },
     "execution_count": 153,
     "metadata": {},
     "output_type": "execute_result"
    }
   ],
   "source": [
    "train_df['State'].replace({\n",
    "    'COMPLETED': 0,\n",
    "    'FAILED': 1,\n",
    "    'TIMEOUT': 2,\n",
    "    'NODE_FAIL': 3,\n",
    "    'OUT_OF_MEMORY': 4\n",
    "}, inplace=True)\n",
    "\n",
    "train_df['State'].replace(r'(CANCELLED.+)|(CANCELLED)', 5, regex=True, inplace=True)\n",
    "\n",
    "train_df['State'].astype(int)"
   ]
  },
  {
   "cell_type": "code",
   "execution_count": 154,
   "metadata": {},
   "outputs": [
    {
     "data": {
      "text/plain": [
       "0          0\n",
       "1          0\n",
       "2          0\n",
       "3          0\n",
       "4          0\n",
       "          ..\n",
       "1290724    0\n",
       "1290725    0\n",
       "1290726    0\n",
       "1290727    0\n",
       "1290728    0\n",
       "Name: ExitCode, Length: 1290729, dtype: int32"
      ]
     },
     "execution_count": 154,
     "metadata": {},
     "output_type": "execute_result"
    }
   ],
   "source": [
    "train_df['ExitCode'].replace(r':','', regex=True, inplace=True)\n",
    "train_df['ExitCode'] = train_df.ExitCode.astype(int)\n",
    "\n",
    "train_df['ExitCode'].astype(int)"
   ]
  },
  {
   "cell_type": "code",
   "execution_count": 155,
   "metadata": {},
   "outputs": [],
   "source": [
    "train_df.reset_index(inplace=True, drop=True)"
   ]
  },
  {
   "cell_type": "code",
   "execution_count": 156,
   "metadata": {},
   "outputs": [],
   "source": [
    "train_df['Submit'] = pd.to_datetime(train_df['Submit'])\n",
    "train_df['Month'] = train_df['Submit'].dt.month\n",
    "\n",
    "# train_df.drop(columns=['Submit'], inplace=True)"
   ]
  },
  {
   "cell_type": "code",
   "execution_count": 157,
   "metadata": {},
   "outputs": [
    {
     "data": {
      "text/plain": [
       "Timelimit\n",
       "172800     985813\n",
       "43200       99750\n",
       "1209600     42363\n",
       "86400       24690\n",
       "864000      15954\n",
       "            ...  \n",
       "1166400         1\n",
       "1500            1\n",
       "24000           1\n",
       "840             1\n",
       "7800            1\n",
       "Name: count, Length: 188, dtype: int64"
      ]
     },
     "execution_count": 157,
     "metadata": {},
     "output_type": "execute_result"
    }
   ],
   "source": [
    "train_df['Timelimit'].value_counts()"
   ]
  },
  {
   "cell_type": "markdown",
   "metadata": {},
   "source": [
    "### Добавление фичей"
   ]
  },
  {
   "cell_type": "code",
   "execution_count": 158,
   "metadata": {},
   "outputs": [],
   "source": [
    "# Среднее время\n",
    "mean_elapsed = pd.DataFrame(train_df[train_df['State'] == 0].groupby('UID').mean()['Elapsed'])\n",
    "mean_elapsed.columns = ['mean_elapsed']\n",
    "mean_elapsed.reset_index(inplace=True)\n",
    "train_df = train_df.merge(mean_elapsed, on='UID', how='left')"
   ]
  },
  {
   "cell_type": "code",
   "execution_count": 159,
   "metadata": {},
   "outputs": [],
   "source": [
    "# Количество успешных задач\n",
    "succeded_task_count = pd.DataFrame(train_df[train_df['State'] == 0].groupby('UID').count()['State'])\n",
    "succeded_task_count.columns = ['succeded_task_count']\n",
    "succeded_task_count.reset_index(inplace=True)"
   ]
  },
  {
   "cell_type": "code",
   "execution_count": 160,
   "metadata": {},
   "outputs": [],
   "source": [
    "# Количество неуспешно завершенных задач\n",
    "failed_task_count = pd.DataFrame(train_df[train_df['State'] == 1].groupby('UID').count()['State'])\n",
    "failed_task_count.columns = ['failed_task_count']\n",
    "failed_task_count.reset_index(inplace=True)"
   ]
  },
  {
   "cell_type": "code",
   "execution_count": 161,
   "metadata": {},
   "outputs": [],
   "source": [
    "# Количество задач с таймаутом\n",
    "timeout_task_count = pd.DataFrame(train_df[train_df['State'] == 2].groupby('UID').count()['State'])\n",
    "timeout_task_count.columns = ['timeout_task_count']\n",
    "timeout_task_count.reset_index(inplace=True)"
   ]
  },
  {
   "cell_type": "code",
   "execution_count": 162,
   "metadata": {},
   "outputs": [],
   "source": [
    "tasks = succeded_task_count.merge(failed_task_count, on='UID', how='left')\n",
    "tasks = tasks.merge(timeout_task_count, on='UID', how='left')\n",
    "tasks.fillna({'succeded_task_count': 0, 'failed_task_count': 0, 'timeout_task_count': 0}, inplace=True)"
   ]
  },
  {
   "cell_type": "code",
   "execution_count": 163,
   "metadata": {},
   "outputs": [],
   "source": [
    "# Отношение успешно завершенных задач к таймаутам и ошибочным\n",
    "tasks['succeded_task_proportion'] = tasks['succeded_task_count'] / (tasks['succeded_task_count'] + tasks['failed_task_count'] + tasks['timeout_task_count'])\n",
    "train_df = train_df.merge(tasks, on='UID', how='left')"
   ]
  },
  {
   "cell_type": "code",
   "execution_count": 19,
   "metadata": {},
   "outputs": [],
   "source": [
    "# Fix: использование апостериорно получаемых фичей\n",
    "\n",
    "# train_df.drop(columns=['State'], inplace=True)\n",
    "# train_df.drop(columns=['ExitCode'], inplace=True)"
   ]
  },
  {
   "cell_type": "markdown",
   "metadata": {},
   "source": [
    "### Добавление фичей (оконная функция)"
   ]
  },
  {
   "cell_type": "code",
   "execution_count": 126,
   "metadata": {},
   "outputs": [],
   "source": [
    "train_df['Submit'] = pd.to_datetime(train_df['Submit'])"
   ]
  },
  {
   "cell_type": "code",
   "execution_count": 127,
   "metadata": {},
   "outputs": [],
   "source": [
    "train_df.sort_values(by=['UID', 'Submit'], inplace=True)"
   ]
  },
  {
   "cell_type": "code",
   "execution_count": 128,
   "metadata": {},
   "outputs": [],
   "source": [
    "def calculate_features(group):\n",
    "    group['mean_elapsed'] = group['Elapsed'].expanding(min_periods=1).mean()\n",
    "    group['succeded_task_count'] = group['State'].expanding(min_periods=group.shape[0]//100).apply(lambda x: (x == 0).sum())\n",
    "    group['failed_task_count'] = group['State'].expanding(min_periods=group.shape[0]//100).apply(lambda x: (x == 1).sum())\n",
    "    group['timeout_task_count'] = group['State'].expanding(min_periods=group.shape[0]//100).apply(lambda x: (x == 2).sum())\n",
    "    return group"
   ]
  },
  {
   "cell_type": "code",
   "execution_count": 129,
   "metadata": {},
   "outputs": [],
   "source": [
    "train_df = train_df.groupby('UID').apply(calculate_features)"
   ]
  },
  {
   "cell_type": "code",
   "execution_count": 130,
   "metadata": {},
   "outputs": [
    {
     "data": {
      "text/html": [
       "<div>\n",
       "<style scoped>\n",
       "    .dataframe tbody tr th:only-of-type {\n",
       "        vertical-align: middle;\n",
       "    }\n",
       "\n",
       "    .dataframe tbody tr th {\n",
       "        vertical-align: top;\n",
       "    }\n",
       "\n",
       "    .dataframe thead th {\n",
       "        text-align: right;\n",
       "    }\n",
       "</style>\n",
       "<table border=\"1\" class=\"dataframe\">\n",
       "  <thead>\n",
       "    <tr style=\"text-align: right;\">\n",
       "      <th></th>\n",
       "      <th></th>\n",
       "      <th>UID</th>\n",
       "      <th>GID</th>\n",
       "      <th>Area</th>\n",
       "      <th>Partition</th>\n",
       "      <th>ReqNodes</th>\n",
       "      <th>ReqCPUS</th>\n",
       "      <th>Timelimit</th>\n",
       "      <th>Submit</th>\n",
       "      <th>Elapsed</th>\n",
       "      <th>Priority</th>\n",
       "      <th>State</th>\n",
       "      <th>ExitCode</th>\n",
       "      <th>Month</th>\n",
       "      <th>mean_elapsed</th>\n",
       "      <th>succeded_task_count</th>\n",
       "      <th>failed_task_count</th>\n",
       "      <th>timeout_task_count</th>\n",
       "    </tr>\n",
       "    <tr>\n",
       "      <th>UID</th>\n",
       "      <th></th>\n",
       "      <th></th>\n",
       "      <th></th>\n",
       "      <th></th>\n",
       "      <th></th>\n",
       "      <th></th>\n",
       "      <th></th>\n",
       "      <th></th>\n",
       "      <th></th>\n",
       "      <th></th>\n",
       "      <th></th>\n",
       "      <th></th>\n",
       "      <th></th>\n",
       "      <th></th>\n",
       "      <th></th>\n",
       "      <th></th>\n",
       "      <th></th>\n",
       "      <th></th>\n",
       "    </tr>\n",
       "  </thead>\n",
       "  <tbody>\n",
       "    <tr>\n",
       "      <th rowspan=\"5\" valign=\"top\">215</th>\n",
       "      <th>736429</th>\n",
       "      <td>215</td>\n",
       "      <td>76557</td>\n",
       "      <td>0</td>\n",
       "      <td>0</td>\n",
       "      <td>1</td>\n",
       "      <td>1</td>\n",
       "      <td>604800</td>\n",
       "      <td>2022-09-02 10:49:13</td>\n",
       "      <td>1</td>\n",
       "      <td>3838</td>\n",
       "      <td>0</td>\n",
       "      <td>0</td>\n",
       "      <td>9</td>\n",
       "      <td>1.000000</td>\n",
       "      <td>1.0</td>\n",
       "      <td>0.0</td>\n",
       "      <td>0.0</td>\n",
       "    </tr>\n",
       "    <tr>\n",
       "      <th>736430</th>\n",
       "      <td>215</td>\n",
       "      <td>76557</td>\n",
       "      <td>0</td>\n",
       "      <td>0</td>\n",
       "      <td>1</td>\n",
       "      <td>1</td>\n",
       "      <td>604800</td>\n",
       "      <td>2022-09-02 10:49:13</td>\n",
       "      <td>1</td>\n",
       "      <td>3838</td>\n",
       "      <td>0</td>\n",
       "      <td>0</td>\n",
       "      <td>9</td>\n",
       "      <td>1.000000</td>\n",
       "      <td>2.0</td>\n",
       "      <td>0.0</td>\n",
       "      <td>0.0</td>\n",
       "    </tr>\n",
       "    <tr>\n",
       "      <th>736431</th>\n",
       "      <td>215</td>\n",
       "      <td>76557</td>\n",
       "      <td>0</td>\n",
       "      <td>0</td>\n",
       "      <td>1</td>\n",
       "      <td>1</td>\n",
       "      <td>604800</td>\n",
       "      <td>2022-09-02 10:49:13</td>\n",
       "      <td>1</td>\n",
       "      <td>3838</td>\n",
       "      <td>0</td>\n",
       "      <td>0</td>\n",
       "      <td>9</td>\n",
       "      <td>1.000000</td>\n",
       "      <td>3.0</td>\n",
       "      <td>0.0</td>\n",
       "      <td>0.0</td>\n",
       "    </tr>\n",
       "    <tr>\n",
       "      <th>736432</th>\n",
       "      <td>215</td>\n",
       "      <td>76557</td>\n",
       "      <td>0</td>\n",
       "      <td>0</td>\n",
       "      <td>1</td>\n",
       "      <td>1</td>\n",
       "      <td>604800</td>\n",
       "      <td>2022-09-02 10:49:13</td>\n",
       "      <td>2</td>\n",
       "      <td>3838</td>\n",
       "      <td>0</td>\n",
       "      <td>0</td>\n",
       "      <td>9</td>\n",
       "      <td>1.250000</td>\n",
       "      <td>4.0</td>\n",
       "      <td>0.0</td>\n",
       "      <td>0.0</td>\n",
       "    </tr>\n",
       "    <tr>\n",
       "      <th>736433</th>\n",
       "      <td>215</td>\n",
       "      <td>76557</td>\n",
       "      <td>0</td>\n",
       "      <td>0</td>\n",
       "      <td>1</td>\n",
       "      <td>1</td>\n",
       "      <td>604800</td>\n",
       "      <td>2022-09-02 10:49:13</td>\n",
       "      <td>1</td>\n",
       "      <td>3838</td>\n",
       "      <td>0</td>\n",
       "      <td>0</td>\n",
       "      <td>9</td>\n",
       "      <td>1.200000</td>\n",
       "      <td>5.0</td>\n",
       "      <td>0.0</td>\n",
       "      <td>0.0</td>\n",
       "    </tr>\n",
       "    <tr>\n",
       "      <th>...</th>\n",
       "      <th>...</th>\n",
       "      <td>...</td>\n",
       "      <td>...</td>\n",
       "      <td>...</td>\n",
       "      <td>...</td>\n",
       "      <td>...</td>\n",
       "      <td>...</td>\n",
       "      <td>...</td>\n",
       "      <td>...</td>\n",
       "      <td>...</td>\n",
       "      <td>...</td>\n",
       "      <td>...</td>\n",
       "      <td>...</td>\n",
       "      <td>...</td>\n",
       "      <td>...</td>\n",
       "      <td>...</td>\n",
       "      <td>...</td>\n",
       "      <td>...</td>\n",
       "    </tr>\n",
       "    <tr>\n",
       "      <th rowspan=\"5\" valign=\"top\">99914</th>\n",
       "      <th>1255605</th>\n",
       "      <td>99914</td>\n",
       "      <td>53299</td>\n",
       "      <td>8</td>\n",
       "      <td>0</td>\n",
       "      <td>1</td>\n",
       "      <td>1</td>\n",
       "      <td>86400</td>\n",
       "      <td>2023-05-11 22:12:42</td>\n",
       "      <td>45050</td>\n",
       "      <td>831</td>\n",
       "      <td>0</td>\n",
       "      <td>0</td>\n",
       "      <td>5</td>\n",
       "      <td>22501.100000</td>\n",
       "      <td>7.0</td>\n",
       "      <td>1.0</td>\n",
       "      <td>0.0</td>\n",
       "    </tr>\n",
       "    <tr>\n",
       "      <th>1255606</th>\n",
       "      <td>99914</td>\n",
       "      <td>53299</td>\n",
       "      <td>8</td>\n",
       "      <td>0</td>\n",
       "      <td>1</td>\n",
       "      <td>1</td>\n",
       "      <td>86400</td>\n",
       "      <td>2023-05-11 22:13:05</td>\n",
       "      <td>43757</td>\n",
       "      <td>831</td>\n",
       "      <td>0</td>\n",
       "      <td>0</td>\n",
       "      <td>5</td>\n",
       "      <td>24433.454545</td>\n",
       "      <td>8.0</td>\n",
       "      <td>1.0</td>\n",
       "      <td>0.0</td>\n",
       "    </tr>\n",
       "    <tr>\n",
       "      <th>1257038</th>\n",
       "      <td>99914</td>\n",
       "      <td>53299</td>\n",
       "      <td>8</td>\n",
       "      <td>0</td>\n",
       "      <td>1</td>\n",
       "      <td>1</td>\n",
       "      <td>86400</td>\n",
       "      <td>2023-05-12 23:57:00</td>\n",
       "      <td>46613</td>\n",
       "      <td>681</td>\n",
       "      <td>0</td>\n",
       "      <td>0</td>\n",
       "      <td>5</td>\n",
       "      <td>26281.750000</td>\n",
       "      <td>9.0</td>\n",
       "      <td>1.0</td>\n",
       "      <td>0.0</td>\n",
       "    </tr>\n",
       "    <tr>\n",
       "      <th>1257039</th>\n",
       "      <td>99914</td>\n",
       "      <td>53299</td>\n",
       "      <td>8</td>\n",
       "      <td>0</td>\n",
       "      <td>1</td>\n",
       "      <td>1</td>\n",
       "      <td>86400</td>\n",
       "      <td>2023-05-12 23:57:33</td>\n",
       "      <td>46508</td>\n",
       "      <td>681</td>\n",
       "      <td>0</td>\n",
       "      <td>0</td>\n",
       "      <td>5</td>\n",
       "      <td>27837.615385</td>\n",
       "      <td>10.0</td>\n",
       "      <td>1.0</td>\n",
       "      <td>0.0</td>\n",
       "    </tr>\n",
       "    <tr>\n",
       "      <th>1257209</th>\n",
       "      <td>99914</td>\n",
       "      <td>53299</td>\n",
       "      <td>8</td>\n",
       "      <td>0</td>\n",
       "      <td>1</td>\n",
       "      <td>1</td>\n",
       "      <td>86400</td>\n",
       "      <td>2023-05-13 23:43:17</td>\n",
       "      <td>86426</td>\n",
       "      <td>667</td>\n",
       "      <td>2</td>\n",
       "      <td>0</td>\n",
       "      <td>5</td>\n",
       "      <td>32022.500000</td>\n",
       "      <td>10.0</td>\n",
       "      <td>1.0</td>\n",
       "      <td>1.0</td>\n",
       "    </tr>\n",
       "  </tbody>\n",
       "</table>\n",
       "<p>1290729 rows × 17 columns</p>\n",
       "</div>"
      ],
      "text/plain": [
       "                 UID    GID  Area  Partition  ReqNodes  ReqCPUS  Timelimit  \\\n",
       "UID                                                                          \n",
       "215   736429     215  76557     0          0         1        1     604800   \n",
       "      736430     215  76557     0          0         1        1     604800   \n",
       "      736431     215  76557     0          0         1        1     604800   \n",
       "      736432     215  76557     0          0         1        1     604800   \n",
       "      736433     215  76557     0          0         1        1     604800   \n",
       "...              ...    ...   ...        ...       ...      ...        ...   \n",
       "99914 1255605  99914  53299     8          0         1        1      86400   \n",
       "      1255606  99914  53299     8          0         1        1      86400   \n",
       "      1257038  99914  53299     8          0         1        1      86400   \n",
       "      1257039  99914  53299     8          0         1        1      86400   \n",
       "      1257209  99914  53299     8          0         1        1      86400   \n",
       "\n",
       "                           Submit  Elapsed  Priority  State  ExitCode  Month  \\\n",
       "UID                                                                            \n",
       "215   736429  2022-09-02 10:49:13        1      3838      0         0      9   \n",
       "      736430  2022-09-02 10:49:13        1      3838      0         0      9   \n",
       "      736431  2022-09-02 10:49:13        1      3838      0         0      9   \n",
       "      736432  2022-09-02 10:49:13        2      3838      0         0      9   \n",
       "      736433  2022-09-02 10:49:13        1      3838      0         0      9   \n",
       "...                           ...      ...       ...    ...       ...    ...   \n",
       "99914 1255605 2023-05-11 22:12:42    45050       831      0         0      5   \n",
       "      1255606 2023-05-11 22:13:05    43757       831      0         0      5   \n",
       "      1257038 2023-05-12 23:57:00    46613       681      0         0      5   \n",
       "      1257039 2023-05-12 23:57:33    46508       681      0         0      5   \n",
       "      1257209 2023-05-13 23:43:17    86426       667      2         0      5   \n",
       "\n",
       "               mean_elapsed  succeded_task_count  failed_task_count  \\\n",
       "UID                                                                   \n",
       "215   736429       1.000000                  1.0                0.0   \n",
       "      736430       1.000000                  2.0                0.0   \n",
       "      736431       1.000000                  3.0                0.0   \n",
       "      736432       1.250000                  4.0                0.0   \n",
       "      736433       1.200000                  5.0                0.0   \n",
       "...                     ...                  ...                ...   \n",
       "99914 1255605  22501.100000                  7.0                1.0   \n",
       "      1255606  24433.454545                  8.0                1.0   \n",
       "      1257038  26281.750000                  9.0                1.0   \n",
       "      1257039  27837.615385                 10.0                1.0   \n",
       "      1257209  32022.500000                 10.0                1.0   \n",
       "\n",
       "               timeout_task_count  \n",
       "UID                                \n",
       "215   736429                  0.0  \n",
       "      736430                  0.0  \n",
       "      736431                  0.0  \n",
       "      736432                  0.0  \n",
       "      736433                  0.0  \n",
       "...                           ...  \n",
       "99914 1255605                 0.0  \n",
       "      1255606                 0.0  \n",
       "      1257038                 0.0  \n",
       "      1257039                 0.0  \n",
       "      1257209                 1.0  \n",
       "\n",
       "[1290729 rows x 17 columns]"
      ]
     },
     "execution_count": 130,
     "metadata": {},
     "output_type": "execute_result"
    }
   ],
   "source": [
    "train_df"
   ]
  },
  {
   "cell_type": "code",
   "execution_count": 131,
   "metadata": {},
   "outputs": [
    {
     "data": {
      "text/plain": [
       "UID                             int64\n",
       "GID                             int64\n",
       "Area                            int64\n",
       "Partition                       int64\n",
       "ReqNodes                        int64\n",
       "ReqCPUS                         int64\n",
       "Timelimit                       int64\n",
       "Submit                 datetime64[ns]\n",
       "Elapsed                         int64\n",
       "Priority                        int64\n",
       "State                           int64\n",
       "ExitCode                        int32\n",
       "Month                           int32\n",
       "mean_elapsed                  float64\n",
       "succeded_task_count           float64\n",
       "failed_task_count             float64\n",
       "timeout_task_count            float64\n",
       "dtype: object"
      ]
     },
     "execution_count": 131,
     "metadata": {},
     "output_type": "execute_result"
    }
   ],
   "source": [
    "train_df.dtypes"
   ]
  },
  {
   "cell_type": "code",
   "execution_count": 132,
   "metadata": {},
   "outputs": [],
   "source": [
    "# Fix: использование апостериорно получаемых фичей\n",
    "\n",
    "train_df.drop(columns=['State'], inplace=True)\n",
    "train_df.drop(columns=['ExitCode'], inplace=True)"
   ]
  },
  {
   "cell_type": "code",
   "execution_count": 133,
   "metadata": {},
   "outputs": [],
   "source": [
    "train_df.fillna(0, inplace=True)"
   ]
  },
  {
   "cell_type": "code",
   "execution_count": 134,
   "metadata": {},
   "outputs": [
    {
     "data": {
      "text/html": [
       "<div>\n",
       "<style scoped>\n",
       "    .dataframe tbody tr th:only-of-type {\n",
       "        vertical-align: middle;\n",
       "    }\n",
       "\n",
       "    .dataframe tbody tr th {\n",
       "        vertical-align: top;\n",
       "    }\n",
       "\n",
       "    .dataframe thead th {\n",
       "        text-align: right;\n",
       "    }\n",
       "</style>\n",
       "<table border=\"1\" class=\"dataframe\">\n",
       "  <thead>\n",
       "    <tr style=\"text-align: right;\">\n",
       "      <th></th>\n",
       "      <th></th>\n",
       "      <th>UID</th>\n",
       "      <th>GID</th>\n",
       "      <th>Area</th>\n",
       "      <th>Partition</th>\n",
       "      <th>ReqNodes</th>\n",
       "      <th>ReqCPUS</th>\n",
       "      <th>Timelimit</th>\n",
       "      <th>Submit</th>\n",
       "      <th>Elapsed</th>\n",
       "      <th>Priority</th>\n",
       "      <th>Month</th>\n",
       "      <th>mean_elapsed</th>\n",
       "      <th>succeded_task_count</th>\n",
       "      <th>failed_task_count</th>\n",
       "      <th>timeout_task_count</th>\n",
       "    </tr>\n",
       "    <tr>\n",
       "      <th>UID</th>\n",
       "      <th></th>\n",
       "      <th></th>\n",
       "      <th></th>\n",
       "      <th></th>\n",
       "      <th></th>\n",
       "      <th></th>\n",
       "      <th></th>\n",
       "      <th></th>\n",
       "      <th></th>\n",
       "      <th></th>\n",
       "      <th></th>\n",
       "      <th></th>\n",
       "      <th></th>\n",
       "      <th></th>\n",
       "      <th></th>\n",
       "      <th></th>\n",
       "    </tr>\n",
       "  </thead>\n",
       "  <tbody>\n",
       "    <tr>\n",
       "      <th rowspan=\"5\" valign=\"top\">215</th>\n",
       "      <th>736429</th>\n",
       "      <td>215</td>\n",
       "      <td>76557</td>\n",
       "      <td>0</td>\n",
       "      <td>0</td>\n",
       "      <td>1</td>\n",
       "      <td>1</td>\n",
       "      <td>604800</td>\n",
       "      <td>2022-09-02 10:49:13</td>\n",
       "      <td>1</td>\n",
       "      <td>3838</td>\n",
       "      <td>9</td>\n",
       "      <td>1.000000</td>\n",
       "      <td>1.0</td>\n",
       "      <td>0.0</td>\n",
       "      <td>0.0</td>\n",
       "    </tr>\n",
       "    <tr>\n",
       "      <th>736430</th>\n",
       "      <td>215</td>\n",
       "      <td>76557</td>\n",
       "      <td>0</td>\n",
       "      <td>0</td>\n",
       "      <td>1</td>\n",
       "      <td>1</td>\n",
       "      <td>604800</td>\n",
       "      <td>2022-09-02 10:49:13</td>\n",
       "      <td>1</td>\n",
       "      <td>3838</td>\n",
       "      <td>9</td>\n",
       "      <td>1.000000</td>\n",
       "      <td>2.0</td>\n",
       "      <td>0.0</td>\n",
       "      <td>0.0</td>\n",
       "    </tr>\n",
       "    <tr>\n",
       "      <th>736431</th>\n",
       "      <td>215</td>\n",
       "      <td>76557</td>\n",
       "      <td>0</td>\n",
       "      <td>0</td>\n",
       "      <td>1</td>\n",
       "      <td>1</td>\n",
       "      <td>604800</td>\n",
       "      <td>2022-09-02 10:49:13</td>\n",
       "      <td>1</td>\n",
       "      <td>3838</td>\n",
       "      <td>9</td>\n",
       "      <td>1.000000</td>\n",
       "      <td>3.0</td>\n",
       "      <td>0.0</td>\n",
       "      <td>0.0</td>\n",
       "    </tr>\n",
       "    <tr>\n",
       "      <th>736432</th>\n",
       "      <td>215</td>\n",
       "      <td>76557</td>\n",
       "      <td>0</td>\n",
       "      <td>0</td>\n",
       "      <td>1</td>\n",
       "      <td>1</td>\n",
       "      <td>604800</td>\n",
       "      <td>2022-09-02 10:49:13</td>\n",
       "      <td>2</td>\n",
       "      <td>3838</td>\n",
       "      <td>9</td>\n",
       "      <td>1.250000</td>\n",
       "      <td>4.0</td>\n",
       "      <td>0.0</td>\n",
       "      <td>0.0</td>\n",
       "    </tr>\n",
       "    <tr>\n",
       "      <th>736433</th>\n",
       "      <td>215</td>\n",
       "      <td>76557</td>\n",
       "      <td>0</td>\n",
       "      <td>0</td>\n",
       "      <td>1</td>\n",
       "      <td>1</td>\n",
       "      <td>604800</td>\n",
       "      <td>2022-09-02 10:49:13</td>\n",
       "      <td>1</td>\n",
       "      <td>3838</td>\n",
       "      <td>9</td>\n",
       "      <td>1.200000</td>\n",
       "      <td>5.0</td>\n",
       "      <td>0.0</td>\n",
       "      <td>0.0</td>\n",
       "    </tr>\n",
       "    <tr>\n",
       "      <th>...</th>\n",
       "      <th>...</th>\n",
       "      <td>...</td>\n",
       "      <td>...</td>\n",
       "      <td>...</td>\n",
       "      <td>...</td>\n",
       "      <td>...</td>\n",
       "      <td>...</td>\n",
       "      <td>...</td>\n",
       "      <td>...</td>\n",
       "      <td>...</td>\n",
       "      <td>...</td>\n",
       "      <td>...</td>\n",
       "      <td>...</td>\n",
       "      <td>...</td>\n",
       "      <td>...</td>\n",
       "      <td>...</td>\n",
       "    </tr>\n",
       "    <tr>\n",
       "      <th rowspan=\"5\" valign=\"top\">99914</th>\n",
       "      <th>1255605</th>\n",
       "      <td>99914</td>\n",
       "      <td>53299</td>\n",
       "      <td>8</td>\n",
       "      <td>0</td>\n",
       "      <td>1</td>\n",
       "      <td>1</td>\n",
       "      <td>86400</td>\n",
       "      <td>2023-05-11 22:12:42</td>\n",
       "      <td>45050</td>\n",
       "      <td>831</td>\n",
       "      <td>5</td>\n",
       "      <td>22501.100000</td>\n",
       "      <td>7.0</td>\n",
       "      <td>1.0</td>\n",
       "      <td>0.0</td>\n",
       "    </tr>\n",
       "    <tr>\n",
       "      <th>1255606</th>\n",
       "      <td>99914</td>\n",
       "      <td>53299</td>\n",
       "      <td>8</td>\n",
       "      <td>0</td>\n",
       "      <td>1</td>\n",
       "      <td>1</td>\n",
       "      <td>86400</td>\n",
       "      <td>2023-05-11 22:13:05</td>\n",
       "      <td>43757</td>\n",
       "      <td>831</td>\n",
       "      <td>5</td>\n",
       "      <td>24433.454545</td>\n",
       "      <td>8.0</td>\n",
       "      <td>1.0</td>\n",
       "      <td>0.0</td>\n",
       "    </tr>\n",
       "    <tr>\n",
       "      <th>1257038</th>\n",
       "      <td>99914</td>\n",
       "      <td>53299</td>\n",
       "      <td>8</td>\n",
       "      <td>0</td>\n",
       "      <td>1</td>\n",
       "      <td>1</td>\n",
       "      <td>86400</td>\n",
       "      <td>2023-05-12 23:57:00</td>\n",
       "      <td>46613</td>\n",
       "      <td>681</td>\n",
       "      <td>5</td>\n",
       "      <td>26281.750000</td>\n",
       "      <td>9.0</td>\n",
       "      <td>1.0</td>\n",
       "      <td>0.0</td>\n",
       "    </tr>\n",
       "    <tr>\n",
       "      <th>1257039</th>\n",
       "      <td>99914</td>\n",
       "      <td>53299</td>\n",
       "      <td>8</td>\n",
       "      <td>0</td>\n",
       "      <td>1</td>\n",
       "      <td>1</td>\n",
       "      <td>86400</td>\n",
       "      <td>2023-05-12 23:57:33</td>\n",
       "      <td>46508</td>\n",
       "      <td>681</td>\n",
       "      <td>5</td>\n",
       "      <td>27837.615385</td>\n",
       "      <td>10.0</td>\n",
       "      <td>1.0</td>\n",
       "      <td>0.0</td>\n",
       "    </tr>\n",
       "    <tr>\n",
       "      <th>1257209</th>\n",
       "      <td>99914</td>\n",
       "      <td>53299</td>\n",
       "      <td>8</td>\n",
       "      <td>0</td>\n",
       "      <td>1</td>\n",
       "      <td>1</td>\n",
       "      <td>86400</td>\n",
       "      <td>2023-05-13 23:43:17</td>\n",
       "      <td>86426</td>\n",
       "      <td>667</td>\n",
       "      <td>5</td>\n",
       "      <td>32022.500000</td>\n",
       "      <td>10.0</td>\n",
       "      <td>1.0</td>\n",
       "      <td>1.0</td>\n",
       "    </tr>\n",
       "  </tbody>\n",
       "</table>\n",
       "<p>1290729 rows × 15 columns</p>\n",
       "</div>"
      ],
      "text/plain": [
       "                 UID    GID  Area  Partition  ReqNodes  ReqCPUS  Timelimit  \\\n",
       "UID                                                                          \n",
       "215   736429     215  76557     0          0         1        1     604800   \n",
       "      736430     215  76557     0          0         1        1     604800   \n",
       "      736431     215  76557     0          0         1        1     604800   \n",
       "      736432     215  76557     0          0         1        1     604800   \n",
       "      736433     215  76557     0          0         1        1     604800   \n",
       "...              ...    ...   ...        ...       ...      ...        ...   \n",
       "99914 1255605  99914  53299     8          0         1        1      86400   \n",
       "      1255606  99914  53299     8          0         1        1      86400   \n",
       "      1257038  99914  53299     8          0         1        1      86400   \n",
       "      1257039  99914  53299     8          0         1        1      86400   \n",
       "      1257209  99914  53299     8          0         1        1      86400   \n",
       "\n",
       "                           Submit  Elapsed  Priority  Month  mean_elapsed  \\\n",
       "UID                                                                         \n",
       "215   736429  2022-09-02 10:49:13        1      3838      9      1.000000   \n",
       "      736430  2022-09-02 10:49:13        1      3838      9      1.000000   \n",
       "      736431  2022-09-02 10:49:13        1      3838      9      1.000000   \n",
       "      736432  2022-09-02 10:49:13        2      3838      9      1.250000   \n",
       "      736433  2022-09-02 10:49:13        1      3838      9      1.200000   \n",
       "...                           ...      ...       ...    ...           ...   \n",
       "99914 1255605 2023-05-11 22:12:42    45050       831      5  22501.100000   \n",
       "      1255606 2023-05-11 22:13:05    43757       831      5  24433.454545   \n",
       "      1257038 2023-05-12 23:57:00    46613       681      5  26281.750000   \n",
       "      1257039 2023-05-12 23:57:33    46508       681      5  27837.615385   \n",
       "      1257209 2023-05-13 23:43:17    86426       667      5  32022.500000   \n",
       "\n",
       "               succeded_task_count  failed_task_count  timeout_task_count  \n",
       "UID                                                                        \n",
       "215   736429                   1.0                0.0                 0.0  \n",
       "      736430                   2.0                0.0                 0.0  \n",
       "      736431                   3.0                0.0                 0.0  \n",
       "      736432                   4.0                0.0                 0.0  \n",
       "      736433                   5.0                0.0                 0.0  \n",
       "...                            ...                ...                 ...  \n",
       "99914 1255605                  7.0                1.0                 0.0  \n",
       "      1255606                  8.0                1.0                 0.0  \n",
       "      1257038                  9.0                1.0                 0.0  \n",
       "      1257039                 10.0                1.0                 0.0  \n",
       "      1257209                 10.0                1.0                 1.0  \n",
       "\n",
       "[1290729 rows x 15 columns]"
      ]
     },
     "execution_count": 134,
     "metadata": {},
     "output_type": "execute_result"
    }
   ],
   "source": [
    "train_df"
   ]
  },
  {
   "cell_type": "markdown",
   "metadata": {},
   "source": [
    "### Случайное разбитие на трейн и тест"
   ]
  },
  {
   "cell_type": "code",
   "execution_count": 164,
   "metadata": {},
   "outputs": [],
   "source": [
    "train_df.drop(columns=['Submit'], inplace=True)"
   ]
  },
  {
   "cell_type": "code",
   "execution_count": 170,
   "metadata": {},
   "outputs": [],
   "source": [
    "train_df.drop(columns=['State','ExitCode'], inplace=True)"
   ]
  },
  {
   "cell_type": "code",
   "execution_count": 171,
   "metadata": {},
   "outputs": [],
   "source": [
    "X = train_df.drop(columns=['Elapsed'])\n",
    "y = train_df['Elapsed']"
   ]
  },
  {
   "cell_type": "code",
   "execution_count": 172,
   "metadata": {},
   "outputs": [
    {
     "data": {
      "text/plain": [
       "0           127649\n",
       "1          1209638\n",
       "2          1199140\n",
       "3          1199079\n",
       "4          1209604\n",
       "            ...   \n",
       "1290724      19177\n",
       "1290725      19522\n",
       "1290726      19710\n",
       "1290727         66\n",
       "1290728      18114\n",
       "Name: Elapsed, Length: 1290729, dtype: int64"
      ]
     },
     "execution_count": 172,
     "metadata": {},
     "output_type": "execute_result"
    }
   ],
   "source": [
    "train_df['Elapsed']"
   ]
  },
  {
   "cell_type": "code",
   "execution_count": 173,
   "metadata": {},
   "outputs": [],
   "source": [
    "X_train, X_test, y_train, y_test = train_test_split(X, y, test_size=VALID_SIZE, random_state=SEED)"
   ]
  },
  {
   "cell_type": "code",
   "execution_count": 174,
   "metadata": {},
   "outputs": [
    {
     "data": {
      "text/plain": [
       "UID                           int64\n",
       "GID                           int64\n",
       "Area                          int64\n",
       "Partition                     int64\n",
       "ReqNodes                      int64\n",
       "ReqCPUS                       int64\n",
       "Timelimit                     int64\n",
       "Priority                      int64\n",
       "Month                         int32\n",
       "mean_elapsed                float64\n",
       "succeded_task_count         float64\n",
       "failed_task_count           float64\n",
       "timeout_task_count          float64\n",
       "succeded_task_proportion    float64\n",
       "dtype: object"
      ]
     },
     "execution_count": 174,
     "metadata": {},
     "output_type": "execute_result"
    }
   ],
   "source": [
    "X_train.dtypes"
   ]
  },
  {
   "cell_type": "code",
   "execution_count": null,
   "metadata": {},
   "outputs": [],
   "source": []
  },
  {
   "cell_type": "markdown",
   "metadata": {},
   "source": [
    "### Разбитие по дате"
   ]
  },
  {
   "cell_type": "code",
   "execution_count": 31,
   "metadata": {},
   "outputs": [
    {
     "data": {
      "text/plain": [
       "Timestamp('2022-12-22 21:31:46')"
      ]
     },
     "execution_count": 31,
     "metadata": {},
     "output_type": "execute_result"
    }
   ],
   "source": [
    "test_quantile = 0.8\n",
    "test_date = train_df['Submit'].quantile(test_quantile)\n",
    "\n",
    "test_date"
   ]
  },
  {
   "cell_type": "code",
   "execution_count": 32,
   "metadata": {},
   "outputs": [
    {
     "data": {
      "text/html": [
       "<div>\n",
       "<style scoped>\n",
       "    .dataframe tbody tr th:only-of-type {\n",
       "        vertical-align: middle;\n",
       "    }\n",
       "\n",
       "    .dataframe tbody tr th {\n",
       "        vertical-align: top;\n",
       "    }\n",
       "\n",
       "    .dataframe thead th {\n",
       "        text-align: right;\n",
       "    }\n",
       "</style>\n",
       "<table border=\"1\" class=\"dataframe\">\n",
       "  <thead>\n",
       "    <tr style=\"text-align: right;\">\n",
       "      <th></th>\n",
       "      <th></th>\n",
       "      <th>UID</th>\n",
       "      <th>GID</th>\n",
       "      <th>Area</th>\n",
       "      <th>Partition</th>\n",
       "      <th>ReqNodes</th>\n",
       "      <th>ReqCPUS</th>\n",
       "      <th>Timelimit</th>\n",
       "      <th>Submit</th>\n",
       "      <th>Elapsed</th>\n",
       "      <th>Priority</th>\n",
       "      <th>Month</th>\n",
       "      <th>mean_elapsed</th>\n",
       "      <th>succeded_task_count</th>\n",
       "      <th>failed_task_count</th>\n",
       "      <th>timeout_task_count</th>\n",
       "    </tr>\n",
       "    <tr>\n",
       "      <th>UID</th>\n",
       "      <th></th>\n",
       "      <th></th>\n",
       "      <th></th>\n",
       "      <th></th>\n",
       "      <th></th>\n",
       "      <th></th>\n",
       "      <th></th>\n",
       "      <th></th>\n",
       "      <th></th>\n",
       "      <th></th>\n",
       "      <th></th>\n",
       "      <th></th>\n",
       "      <th></th>\n",
       "      <th></th>\n",
       "      <th></th>\n",
       "      <th></th>\n",
       "    </tr>\n",
       "  </thead>\n",
       "  <tbody>\n",
       "    <tr>\n",
       "      <th>1420</th>\n",
       "      <th>0</th>\n",
       "      <td>1420</td>\n",
       "      <td>88068</td>\n",
       "      <td>10</td>\n",
       "      <td>0</td>\n",
       "      <td>70</td>\n",
       "      <td>1960</td>\n",
       "      <td>864000</td>\n",
       "      <td>2021-08-11 16:53:04</td>\n",
       "      <td>127649</td>\n",
       "      <td>1</td>\n",
       "      <td>8</td>\n",
       "      <td>0.000000</td>\n",
       "      <td>0.0</td>\n",
       "      <td>0.0</td>\n",
       "      <td>0.0</td>\n",
       "    </tr>\n",
       "    <tr>\n",
       "      <th>52951</th>\n",
       "      <th>1</th>\n",
       "      <td>52951</td>\n",
       "      <td>3414</td>\n",
       "      <td>2</td>\n",
       "      <td>0</td>\n",
       "      <td>2</td>\n",
       "      <td>56</td>\n",
       "      <td>1209600</td>\n",
       "      <td>2021-08-18 10:38:10</td>\n",
       "      <td>1209638</td>\n",
       "      <td>1</td>\n",
       "      <td>8</td>\n",
       "      <td>0.000000</td>\n",
       "      <td>0.0</td>\n",
       "      <td>0.0</td>\n",
       "      <td>0.0</td>\n",
       "    </tr>\n",
       "    <tr>\n",
       "      <th rowspan=\"2\" valign=\"top\">24801</th>\n",
       "      <th>2</th>\n",
       "      <td>24801</td>\n",
       "      <td>97723</td>\n",
       "      <td>8</td>\n",
       "      <td>0</td>\n",
       "      <td>6</td>\n",
       "      <td>168</td>\n",
       "      <td>1209600</td>\n",
       "      <td>2021-08-18 14:50:05</td>\n",
       "      <td>1199140</td>\n",
       "      <td>1</td>\n",
       "      <td>8</td>\n",
       "      <td>0.000000</td>\n",
       "      <td>0.0</td>\n",
       "      <td>0.0</td>\n",
       "      <td>0.0</td>\n",
       "    </tr>\n",
       "    <tr>\n",
       "      <th>3</th>\n",
       "      <td>24801</td>\n",
       "      <td>97723</td>\n",
       "      <td>8</td>\n",
       "      <td>0</td>\n",
       "      <td>6</td>\n",
       "      <td>168</td>\n",
       "      <td>1209600</td>\n",
       "      <td>2021-08-18 14:52:31</td>\n",
       "      <td>1199079</td>\n",
       "      <td>1</td>\n",
       "      <td>8</td>\n",
       "      <td>0.000000</td>\n",
       "      <td>0.0</td>\n",
       "      <td>0.0</td>\n",
       "      <td>0.0</td>\n",
       "    </tr>\n",
       "    <tr>\n",
       "      <th>70802</th>\n",
       "      <th>4</th>\n",
       "      <td>70802</td>\n",
       "      <td>33028</td>\n",
       "      <td>9</td>\n",
       "      <td>3</td>\n",
       "      <td>1</td>\n",
       "      <td>1</td>\n",
       "      <td>1209600</td>\n",
       "      <td>2021-08-19 15:33:49</td>\n",
       "      <td>1209604</td>\n",
       "      <td>1</td>\n",
       "      <td>8</td>\n",
       "      <td>0.000000</td>\n",
       "      <td>0.0</td>\n",
       "      <td>0.0</td>\n",
       "      <td>0.0</td>\n",
       "    </tr>\n",
       "    <tr>\n",
       "      <th>...</th>\n",
       "      <th>...</th>\n",
       "      <td>...</td>\n",
       "      <td>...</td>\n",
       "      <td>...</td>\n",
       "      <td>...</td>\n",
       "      <td>...</td>\n",
       "      <td>...</td>\n",
       "      <td>...</td>\n",
       "      <td>...</td>\n",
       "      <td>...</td>\n",
       "      <td>...</td>\n",
       "      <td>...</td>\n",
       "      <td>...</td>\n",
       "      <td>...</td>\n",
       "      <td>...</td>\n",
       "      <td>...</td>\n",
       "    </tr>\n",
       "    <tr>\n",
       "      <th rowspan=\"3\" valign=\"top\">70637</th>\n",
       "      <th>1290724</th>\n",
       "      <td>70637</td>\n",
       "      <td>47128</td>\n",
       "      <td>8</td>\n",
       "      <td>0</td>\n",
       "      <td>1</td>\n",
       "      <td>28</td>\n",
       "      <td>864000</td>\n",
       "      <td>2023-05-31 23:42:30</td>\n",
       "      <td>19177</td>\n",
       "      <td>480</td>\n",
       "      <td>5</td>\n",
       "      <td>14731.261803</td>\n",
       "      <td>2085.0</td>\n",
       "      <td>93.0</td>\n",
       "      <td>2.0</td>\n",
       "    </tr>\n",
       "    <tr>\n",
       "      <th>1290725</th>\n",
       "      <td>70637</td>\n",
       "      <td>47128</td>\n",
       "      <td>8</td>\n",
       "      <td>0</td>\n",
       "      <td>1</td>\n",
       "      <td>28</td>\n",
       "      <td>864000</td>\n",
       "      <td>2023-05-31 23:42:47</td>\n",
       "      <td>19522</td>\n",
       "      <td>480</td>\n",
       "      <td>5</td>\n",
       "      <td>14733.317031</td>\n",
       "      <td>2086.0</td>\n",
       "      <td>93.0</td>\n",
       "      <td>2.0</td>\n",
       "    </tr>\n",
       "    <tr>\n",
       "      <th>1290726</th>\n",
       "      <td>70637</td>\n",
       "      <td>47128</td>\n",
       "      <td>8</td>\n",
       "      <td>0</td>\n",
       "      <td>1</td>\n",
       "      <td>28</td>\n",
       "      <td>864000</td>\n",
       "      <td>2023-05-31 23:43:10</td>\n",
       "      <td>19710</td>\n",
       "      <td>480</td>\n",
       "      <td>5</td>\n",
       "      <td>14735.451115</td>\n",
       "      <td>2087.0</td>\n",
       "      <td>93.0</td>\n",
       "      <td>2.0</td>\n",
       "    </tr>\n",
       "    <tr>\n",
       "      <th rowspan=\"2\" valign=\"top\">72271</th>\n",
       "      <th>1290727</th>\n",
       "      <td>72271</td>\n",
       "      <td>99243</td>\n",
       "      <td>2</td>\n",
       "      <td>0</td>\n",
       "      <td>1</td>\n",
       "      <td>1</td>\n",
       "      <td>86400</td>\n",
       "      <td>2023-05-31 23:51:20</td>\n",
       "      <td>66</td>\n",
       "      <td>233</td>\n",
       "      <td>5</td>\n",
       "      <td>1591.692308</td>\n",
       "      <td>12.0</td>\n",
       "      <td>0.0</td>\n",
       "      <td>0.0</td>\n",
       "    </tr>\n",
       "    <tr>\n",
       "      <th>1290728</th>\n",
       "      <td>72271</td>\n",
       "      <td>99243</td>\n",
       "      <td>2</td>\n",
       "      <td>0</td>\n",
       "      <td>1</td>\n",
       "      <td>1</td>\n",
       "      <td>86400</td>\n",
       "      <td>2023-05-31 23:54:14</td>\n",
       "      <td>18114</td>\n",
       "      <td>233</td>\n",
       "      <td>5</td>\n",
       "      <td>2771.857143</td>\n",
       "      <td>13.0</td>\n",
       "      <td>0.0</td>\n",
       "      <td>0.0</td>\n",
       "    </tr>\n",
       "  </tbody>\n",
       "</table>\n",
       "<p>1290729 rows × 15 columns</p>\n",
       "</div>"
      ],
      "text/plain": [
       "                 UID    GID  Area  Partition  ReqNodes  ReqCPUS  Timelimit  \\\n",
       "UID                                                                          \n",
       "1420  0         1420  88068    10          0        70     1960     864000   \n",
       "52951 1        52951   3414     2          0         2       56    1209600   \n",
       "24801 2        24801  97723     8          0         6      168    1209600   \n",
       "      3        24801  97723     8          0         6      168    1209600   \n",
       "70802 4        70802  33028     9          3         1        1    1209600   \n",
       "...              ...    ...   ...        ...       ...      ...        ...   \n",
       "70637 1290724  70637  47128     8          0         1       28     864000   \n",
       "      1290725  70637  47128     8          0         1       28     864000   \n",
       "      1290726  70637  47128     8          0         1       28     864000   \n",
       "72271 1290727  72271  99243     2          0         1        1      86400   \n",
       "      1290728  72271  99243     2          0         1        1      86400   \n",
       "\n",
       "                           Submit  Elapsed  Priority  Month  mean_elapsed  \\\n",
       "UID                                                                         \n",
       "1420  0       2021-08-11 16:53:04   127649         1      8      0.000000   \n",
       "52951 1       2021-08-18 10:38:10  1209638         1      8      0.000000   \n",
       "24801 2       2021-08-18 14:50:05  1199140         1      8      0.000000   \n",
       "      3       2021-08-18 14:52:31  1199079         1      8      0.000000   \n",
       "70802 4       2021-08-19 15:33:49  1209604         1      8      0.000000   \n",
       "...                           ...      ...       ...    ...           ...   \n",
       "70637 1290724 2023-05-31 23:42:30    19177       480      5  14731.261803   \n",
       "      1290725 2023-05-31 23:42:47    19522       480      5  14733.317031   \n",
       "      1290726 2023-05-31 23:43:10    19710       480      5  14735.451115   \n",
       "72271 1290727 2023-05-31 23:51:20       66       233      5   1591.692308   \n",
       "      1290728 2023-05-31 23:54:14    18114       233      5   2771.857143   \n",
       "\n",
       "               succeded_task_count  failed_task_count  timeout_task_count  \n",
       "UID                                                                        \n",
       "1420  0                        0.0                0.0                 0.0  \n",
       "52951 1                        0.0                0.0                 0.0  \n",
       "24801 2                        0.0                0.0                 0.0  \n",
       "      3                        0.0                0.0                 0.0  \n",
       "70802 4                        0.0                0.0                 0.0  \n",
       "...                            ...                ...                 ...  \n",
       "70637 1290724               2085.0               93.0                 2.0  \n",
       "      1290725               2086.0               93.0                 2.0  \n",
       "      1290726               2087.0               93.0                 2.0  \n",
       "72271 1290727                 12.0                0.0                 0.0  \n",
       "      1290728                 13.0                0.0                 0.0  \n",
       "\n",
       "[1290729 rows x 15 columns]"
      ]
     },
     "execution_count": 32,
     "metadata": {},
     "output_type": "execute_result"
    }
   ],
   "source": [
    "train_df.sort_values(by=['Submit'], inplace=True)\n",
    "train_df"
   ]
  },
  {
   "cell_type": "code",
   "execution_count": 33,
   "metadata": {},
   "outputs": [],
   "source": [
    "# Разбиваем датасет на train и test\n",
    "train = train_df[train_df['Submit'] < test_date]\n",
    "test = train_df[train_df['Submit'] >= test_date]"
   ]
  },
  {
   "cell_type": "code",
   "execution_count": 34,
   "metadata": {},
   "outputs": [
    {
     "data": {
      "text/html": [
       "<div>\n",
       "<style scoped>\n",
       "    .dataframe tbody tr th:only-of-type {\n",
       "        vertical-align: middle;\n",
       "    }\n",
       "\n",
       "    .dataframe tbody tr th {\n",
       "        vertical-align: top;\n",
       "    }\n",
       "\n",
       "    .dataframe thead th {\n",
       "        text-align: right;\n",
       "    }\n",
       "</style>\n",
       "<table border=\"1\" class=\"dataframe\">\n",
       "  <thead>\n",
       "    <tr style=\"text-align: right;\">\n",
       "      <th></th>\n",
       "      <th></th>\n",
       "      <th>UID</th>\n",
       "      <th>GID</th>\n",
       "      <th>Area</th>\n",
       "      <th>Partition</th>\n",
       "      <th>ReqNodes</th>\n",
       "      <th>ReqCPUS</th>\n",
       "      <th>Timelimit</th>\n",
       "      <th>Submit</th>\n",
       "      <th>Elapsed</th>\n",
       "      <th>Priority</th>\n",
       "      <th>Month</th>\n",
       "      <th>mean_elapsed</th>\n",
       "      <th>succeded_task_count</th>\n",
       "      <th>failed_task_count</th>\n",
       "      <th>timeout_task_count</th>\n",
       "    </tr>\n",
       "    <tr>\n",
       "      <th>UID</th>\n",
       "      <th></th>\n",
       "      <th></th>\n",
       "      <th></th>\n",
       "      <th></th>\n",
       "      <th></th>\n",
       "      <th></th>\n",
       "      <th></th>\n",
       "      <th></th>\n",
       "      <th></th>\n",
       "      <th></th>\n",
       "      <th></th>\n",
       "      <th></th>\n",
       "      <th></th>\n",
       "      <th></th>\n",
       "      <th></th>\n",
       "      <th></th>\n",
       "    </tr>\n",
       "  </thead>\n",
       "  <tbody>\n",
       "    <tr>\n",
       "      <th>1420</th>\n",
       "      <th>0</th>\n",
       "      <td>1420</td>\n",
       "      <td>88068</td>\n",
       "      <td>10</td>\n",
       "      <td>0</td>\n",
       "      <td>70</td>\n",
       "      <td>1960</td>\n",
       "      <td>864000</td>\n",
       "      <td>2021-08-11 16:53:04</td>\n",
       "      <td>127649</td>\n",
       "      <td>1</td>\n",
       "      <td>8</td>\n",
       "      <td>0.000000</td>\n",
       "      <td>0.0</td>\n",
       "      <td>0.0</td>\n",
       "      <td>0.0</td>\n",
       "    </tr>\n",
       "    <tr>\n",
       "      <th>52951</th>\n",
       "      <th>1</th>\n",
       "      <td>52951</td>\n",
       "      <td>3414</td>\n",
       "      <td>2</td>\n",
       "      <td>0</td>\n",
       "      <td>2</td>\n",
       "      <td>56</td>\n",
       "      <td>1209600</td>\n",
       "      <td>2021-08-18 10:38:10</td>\n",
       "      <td>1209638</td>\n",
       "      <td>1</td>\n",
       "      <td>8</td>\n",
       "      <td>0.000000</td>\n",
       "      <td>0.0</td>\n",
       "      <td>0.0</td>\n",
       "      <td>0.0</td>\n",
       "    </tr>\n",
       "    <tr>\n",
       "      <th rowspan=\"2\" valign=\"top\">24801</th>\n",
       "      <th>2</th>\n",
       "      <td>24801</td>\n",
       "      <td>97723</td>\n",
       "      <td>8</td>\n",
       "      <td>0</td>\n",
       "      <td>6</td>\n",
       "      <td>168</td>\n",
       "      <td>1209600</td>\n",
       "      <td>2021-08-18 14:50:05</td>\n",
       "      <td>1199140</td>\n",
       "      <td>1</td>\n",
       "      <td>8</td>\n",
       "      <td>0.000000</td>\n",
       "      <td>0.0</td>\n",
       "      <td>0.0</td>\n",
       "      <td>0.0</td>\n",
       "    </tr>\n",
       "    <tr>\n",
       "      <th>3</th>\n",
       "      <td>24801</td>\n",
       "      <td>97723</td>\n",
       "      <td>8</td>\n",
       "      <td>0</td>\n",
       "      <td>6</td>\n",
       "      <td>168</td>\n",
       "      <td>1209600</td>\n",
       "      <td>2021-08-18 14:52:31</td>\n",
       "      <td>1199079</td>\n",
       "      <td>1</td>\n",
       "      <td>8</td>\n",
       "      <td>0.000000</td>\n",
       "      <td>0.0</td>\n",
       "      <td>0.0</td>\n",
       "      <td>0.0</td>\n",
       "    </tr>\n",
       "    <tr>\n",
       "      <th>70802</th>\n",
       "      <th>4</th>\n",
       "      <td>70802</td>\n",
       "      <td>33028</td>\n",
       "      <td>9</td>\n",
       "      <td>3</td>\n",
       "      <td>1</td>\n",
       "      <td>1</td>\n",
       "      <td>1209600</td>\n",
       "      <td>2021-08-19 15:33:49</td>\n",
       "      <td>1209604</td>\n",
       "      <td>1</td>\n",
       "      <td>8</td>\n",
       "      <td>0.000000</td>\n",
       "      <td>0.0</td>\n",
       "      <td>0.0</td>\n",
       "      <td>0.0</td>\n",
       "    </tr>\n",
       "    <tr>\n",
       "      <th>...</th>\n",
       "      <th>...</th>\n",
       "      <td>...</td>\n",
       "      <td>...</td>\n",
       "      <td>...</td>\n",
       "      <td>...</td>\n",
       "      <td>...</td>\n",
       "      <td>...</td>\n",
       "      <td>...</td>\n",
       "      <td>...</td>\n",
       "      <td>...</td>\n",
       "      <td>...</td>\n",
       "      <td>...</td>\n",
       "      <td>...</td>\n",
       "      <td>...</td>\n",
       "      <td>...</td>\n",
       "      <td>...</td>\n",
       "    </tr>\n",
       "    <tr>\n",
       "      <th rowspan=\"5\" valign=\"top\">18860</th>\n",
       "      <th>1032461</th>\n",
       "      <td>18860</td>\n",
       "      <td>81411</td>\n",
       "      <td>4</td>\n",
       "      <td>0</td>\n",
       "      <td>1</td>\n",
       "      <td>1</td>\n",
       "      <td>7200</td>\n",
       "      <td>2022-12-22 21:31:45</td>\n",
       "      <td>1808</td>\n",
       "      <td>466</td>\n",
       "      <td>12</td>\n",
       "      <td>3321.995627</td>\n",
       "      <td>23703.0</td>\n",
       "      <td>839.0</td>\n",
       "      <td>13.0</td>\n",
       "    </tr>\n",
       "    <tr>\n",
       "      <th>1032460</th>\n",
       "      <td>18860</td>\n",
       "      <td>81411</td>\n",
       "      <td>4</td>\n",
       "      <td>0</td>\n",
       "      <td>1</td>\n",
       "      <td>1</td>\n",
       "      <td>7200</td>\n",
       "      <td>2022-12-22 21:31:45</td>\n",
       "      <td>1404</td>\n",
       "      <td>466</td>\n",
       "      <td>12</td>\n",
       "      <td>3322.056930</td>\n",
       "      <td>23702.0</td>\n",
       "      <td>839.0</td>\n",
       "      <td>13.0</td>\n",
       "    </tr>\n",
       "    <tr>\n",
       "      <th>1032459</th>\n",
       "      <td>18860</td>\n",
       "      <td>81411</td>\n",
       "      <td>4</td>\n",
       "      <td>0</td>\n",
       "      <td>1</td>\n",
       "      <td>1</td>\n",
       "      <td>7200</td>\n",
       "      <td>2022-12-22 21:31:45</td>\n",
       "      <td>833</td>\n",
       "      <td>466</td>\n",
       "      <td>12</td>\n",
       "      <td>3322.134597</td>\n",
       "      <td>23701.0</td>\n",
       "      <td>839.0</td>\n",
       "      <td>13.0</td>\n",
       "    </tr>\n",
       "    <tr>\n",
       "      <th>1032458</th>\n",
       "      <td>18860</td>\n",
       "      <td>81411</td>\n",
       "      <td>4</td>\n",
       "      <td>0</td>\n",
       "      <td>1</td>\n",
       "      <td>1</td>\n",
       "      <td>7200</td>\n",
       "      <td>2022-12-22 21:31:45</td>\n",
       "      <td>1913</td>\n",
       "      <td>466</td>\n",
       "      <td>12</td>\n",
       "      <td>3322.235392</td>\n",
       "      <td>23700.0</td>\n",
       "      <td>839.0</td>\n",
       "      <td>13.0</td>\n",
       "    </tr>\n",
       "    <tr>\n",
       "      <th>1032463</th>\n",
       "      <td>18860</td>\n",
       "      <td>81411</td>\n",
       "      <td>4</td>\n",
       "      <td>0</td>\n",
       "      <td>1</td>\n",
       "      <td>1</td>\n",
       "      <td>7200</td>\n",
       "      <td>2022-12-22 21:31:45</td>\n",
       "      <td>1892</td>\n",
       "      <td>466</td>\n",
       "      <td>12</td>\n",
       "      <td>3321.869069</td>\n",
       "      <td>23705.0</td>\n",
       "      <td>839.0</td>\n",
       "      <td>13.0</td>\n",
       "    </tr>\n",
       "  </tbody>\n",
       "</table>\n",
       "<p>1032514 rows × 15 columns</p>\n",
       "</div>"
      ],
      "text/plain": [
       "                 UID    GID  Area  Partition  ReqNodes  ReqCPUS  Timelimit  \\\n",
       "UID                                                                          \n",
       "1420  0         1420  88068    10          0        70     1960     864000   \n",
       "52951 1        52951   3414     2          0         2       56    1209600   \n",
       "24801 2        24801  97723     8          0         6      168    1209600   \n",
       "      3        24801  97723     8          0         6      168    1209600   \n",
       "70802 4        70802  33028     9          3         1        1    1209600   \n",
       "...              ...    ...   ...        ...       ...      ...        ...   \n",
       "18860 1032461  18860  81411     4          0         1        1       7200   \n",
       "      1032460  18860  81411     4          0         1        1       7200   \n",
       "      1032459  18860  81411     4          0         1        1       7200   \n",
       "      1032458  18860  81411     4          0         1        1       7200   \n",
       "      1032463  18860  81411     4          0         1        1       7200   \n",
       "\n",
       "                           Submit  Elapsed  Priority  Month  mean_elapsed  \\\n",
       "UID                                                                         \n",
       "1420  0       2021-08-11 16:53:04   127649         1      8      0.000000   \n",
       "52951 1       2021-08-18 10:38:10  1209638         1      8      0.000000   \n",
       "24801 2       2021-08-18 14:50:05  1199140         1      8      0.000000   \n",
       "      3       2021-08-18 14:52:31  1199079         1      8      0.000000   \n",
       "70802 4       2021-08-19 15:33:49  1209604         1      8      0.000000   \n",
       "...                           ...      ...       ...    ...           ...   \n",
       "18860 1032461 2022-12-22 21:31:45     1808       466     12   3321.995627   \n",
       "      1032460 2022-12-22 21:31:45     1404       466     12   3322.056930   \n",
       "      1032459 2022-12-22 21:31:45      833       466     12   3322.134597   \n",
       "      1032458 2022-12-22 21:31:45     1913       466     12   3322.235392   \n",
       "      1032463 2022-12-22 21:31:45     1892       466     12   3321.869069   \n",
       "\n",
       "               succeded_task_count  failed_task_count  timeout_task_count  \n",
       "UID                                                                        \n",
       "1420  0                        0.0                0.0                 0.0  \n",
       "52951 1                        0.0                0.0                 0.0  \n",
       "24801 2                        0.0                0.0                 0.0  \n",
       "      3                        0.0                0.0                 0.0  \n",
       "70802 4                        0.0                0.0                 0.0  \n",
       "...                            ...                ...                 ...  \n",
       "18860 1032461              23703.0              839.0                13.0  \n",
       "      1032460              23702.0              839.0                13.0  \n",
       "      1032459              23701.0              839.0                13.0  \n",
       "      1032458              23700.0              839.0                13.0  \n",
       "      1032463              23705.0              839.0                13.0  \n",
       "\n",
       "[1032514 rows x 15 columns]"
      ]
     },
     "execution_count": 34,
     "metadata": {},
     "output_type": "execute_result"
    }
   ],
   "source": [
    "train"
   ]
  },
  {
   "cell_type": "code",
   "execution_count": 35,
   "metadata": {},
   "outputs": [
    {
     "data": {
      "text/html": [
       "<div>\n",
       "<style scoped>\n",
       "    .dataframe tbody tr th:only-of-type {\n",
       "        vertical-align: middle;\n",
       "    }\n",
       "\n",
       "    .dataframe tbody tr th {\n",
       "        vertical-align: top;\n",
       "    }\n",
       "\n",
       "    .dataframe thead th {\n",
       "        text-align: right;\n",
       "    }\n",
       "</style>\n",
       "<table border=\"1\" class=\"dataframe\">\n",
       "  <thead>\n",
       "    <tr style=\"text-align: right;\">\n",
       "      <th></th>\n",
       "      <th></th>\n",
       "      <th>UID</th>\n",
       "      <th>GID</th>\n",
       "      <th>Area</th>\n",
       "      <th>Partition</th>\n",
       "      <th>ReqNodes</th>\n",
       "      <th>ReqCPUS</th>\n",
       "      <th>Timelimit</th>\n",
       "      <th>Submit</th>\n",
       "      <th>Elapsed</th>\n",
       "      <th>Priority</th>\n",
       "      <th>Month</th>\n",
       "      <th>mean_elapsed</th>\n",
       "      <th>succeded_task_count</th>\n",
       "      <th>failed_task_count</th>\n",
       "      <th>timeout_task_count</th>\n",
       "    </tr>\n",
       "    <tr>\n",
       "      <th>UID</th>\n",
       "      <th></th>\n",
       "      <th></th>\n",
       "      <th></th>\n",
       "      <th></th>\n",
       "      <th></th>\n",
       "      <th></th>\n",
       "      <th></th>\n",
       "      <th></th>\n",
       "      <th></th>\n",
       "      <th></th>\n",
       "      <th></th>\n",
       "      <th></th>\n",
       "      <th></th>\n",
       "      <th></th>\n",
       "      <th></th>\n",
       "      <th></th>\n",
       "    </tr>\n",
       "  </thead>\n",
       "  <tbody>\n",
       "    <tr>\n",
       "      <th rowspan=\"5\" valign=\"top\">18860</th>\n",
       "      <th>1032570</th>\n",
       "      <td>18860</td>\n",
       "      <td>81411</td>\n",
       "      <td>4</td>\n",
       "      <td>0</td>\n",
       "      <td>1</td>\n",
       "      <td>1</td>\n",
       "      <td>7200</td>\n",
       "      <td>2022-12-22 21:31:46</td>\n",
       "      <td>1343</td>\n",
       "      <td>466</td>\n",
       "      <td>12</td>\n",
       "      <td>3316.407990</td>\n",
       "      <td>23810.0</td>\n",
       "      <td>839.0</td>\n",
       "      <td>14.0</td>\n",
       "    </tr>\n",
       "    <tr>\n",
       "      <th>1032563</th>\n",
       "      <td>18860</td>\n",
       "      <td>81411</td>\n",
       "      <td>4</td>\n",
       "      <td>0</td>\n",
       "      <td>1</td>\n",
       "      <td>1</td>\n",
       "      <td>7200</td>\n",
       "      <td>2022-12-22 21:31:46</td>\n",
       "      <td>1581</td>\n",
       "      <td>466</td>\n",
       "      <td>12</td>\n",
       "      <td>3316.846976</td>\n",
       "      <td>23803.0</td>\n",
       "      <td>839.0</td>\n",
       "      <td>14.0</td>\n",
       "    </tr>\n",
       "    <tr>\n",
       "      <th>1032569</th>\n",
       "      <td>18860</td>\n",
       "      <td>81411</td>\n",
       "      <td>4</td>\n",
       "      <td>0</td>\n",
       "      <td>1</td>\n",
       "      <td>1</td>\n",
       "      <td>7200</td>\n",
       "      <td>2022-12-22 21:31:46</td>\n",
       "      <td>1347</td>\n",
       "      <td>466</td>\n",
       "      <td>12</td>\n",
       "      <td>3316.487543</td>\n",
       "      <td>23809.0</td>\n",
       "      <td>839.0</td>\n",
       "      <td>14.0</td>\n",
       "    </tr>\n",
       "    <tr>\n",
       "      <th>1032568</th>\n",
       "      <td>18860</td>\n",
       "      <td>81411</td>\n",
       "      <td>4</td>\n",
       "      <td>0</td>\n",
       "      <td>1</td>\n",
       "      <td>1</td>\n",
       "      <td>7200</td>\n",
       "      <td>2022-12-22 21:31:46</td>\n",
       "      <td>1722</td>\n",
       "      <td>466</td>\n",
       "      <td>12</td>\n",
       "      <td>3316.566942</td>\n",
       "      <td>23808.0</td>\n",
       "      <td>839.0</td>\n",
       "      <td>14.0</td>\n",
       "    </tr>\n",
       "    <tr>\n",
       "      <th>1032567</th>\n",
       "      <td>18860</td>\n",
       "      <td>81411</td>\n",
       "      <td>4</td>\n",
       "      <td>0</td>\n",
       "      <td>1</td>\n",
       "      <td>1</td>\n",
       "      <td>7200</td>\n",
       "      <td>2022-12-22 21:31:46</td>\n",
       "      <td>1719</td>\n",
       "      <td>466</td>\n",
       "      <td>12</td>\n",
       "      <td>3316.631229</td>\n",
       "      <td>23807.0</td>\n",
       "      <td>839.0</td>\n",
       "      <td>14.0</td>\n",
       "    </tr>\n",
       "    <tr>\n",
       "      <th>...</th>\n",
       "      <th>...</th>\n",
       "      <td>...</td>\n",
       "      <td>...</td>\n",
       "      <td>...</td>\n",
       "      <td>...</td>\n",
       "      <td>...</td>\n",
       "      <td>...</td>\n",
       "      <td>...</td>\n",
       "      <td>...</td>\n",
       "      <td>...</td>\n",
       "      <td>...</td>\n",
       "      <td>...</td>\n",
       "      <td>...</td>\n",
       "      <td>...</td>\n",
       "      <td>...</td>\n",
       "      <td>...</td>\n",
       "    </tr>\n",
       "    <tr>\n",
       "      <th rowspan=\"3\" valign=\"top\">70637</th>\n",
       "      <th>1290724</th>\n",
       "      <td>70637</td>\n",
       "      <td>47128</td>\n",
       "      <td>8</td>\n",
       "      <td>0</td>\n",
       "      <td>1</td>\n",
       "      <td>28</td>\n",
       "      <td>864000</td>\n",
       "      <td>2023-05-31 23:42:30</td>\n",
       "      <td>19177</td>\n",
       "      <td>480</td>\n",
       "      <td>5</td>\n",
       "      <td>14731.261803</td>\n",
       "      <td>2085.0</td>\n",
       "      <td>93.0</td>\n",
       "      <td>2.0</td>\n",
       "    </tr>\n",
       "    <tr>\n",
       "      <th>1290725</th>\n",
       "      <td>70637</td>\n",
       "      <td>47128</td>\n",
       "      <td>8</td>\n",
       "      <td>0</td>\n",
       "      <td>1</td>\n",
       "      <td>28</td>\n",
       "      <td>864000</td>\n",
       "      <td>2023-05-31 23:42:47</td>\n",
       "      <td>19522</td>\n",
       "      <td>480</td>\n",
       "      <td>5</td>\n",
       "      <td>14733.317031</td>\n",
       "      <td>2086.0</td>\n",
       "      <td>93.0</td>\n",
       "      <td>2.0</td>\n",
       "    </tr>\n",
       "    <tr>\n",
       "      <th>1290726</th>\n",
       "      <td>70637</td>\n",
       "      <td>47128</td>\n",
       "      <td>8</td>\n",
       "      <td>0</td>\n",
       "      <td>1</td>\n",
       "      <td>28</td>\n",
       "      <td>864000</td>\n",
       "      <td>2023-05-31 23:43:10</td>\n",
       "      <td>19710</td>\n",
       "      <td>480</td>\n",
       "      <td>5</td>\n",
       "      <td>14735.451115</td>\n",
       "      <td>2087.0</td>\n",
       "      <td>93.0</td>\n",
       "      <td>2.0</td>\n",
       "    </tr>\n",
       "    <tr>\n",
       "      <th rowspan=\"2\" valign=\"top\">72271</th>\n",
       "      <th>1290727</th>\n",
       "      <td>72271</td>\n",
       "      <td>99243</td>\n",
       "      <td>2</td>\n",
       "      <td>0</td>\n",
       "      <td>1</td>\n",
       "      <td>1</td>\n",
       "      <td>86400</td>\n",
       "      <td>2023-05-31 23:51:20</td>\n",
       "      <td>66</td>\n",
       "      <td>233</td>\n",
       "      <td>5</td>\n",
       "      <td>1591.692308</td>\n",
       "      <td>12.0</td>\n",
       "      <td>0.0</td>\n",
       "      <td>0.0</td>\n",
       "    </tr>\n",
       "    <tr>\n",
       "      <th>1290728</th>\n",
       "      <td>72271</td>\n",
       "      <td>99243</td>\n",
       "      <td>2</td>\n",
       "      <td>0</td>\n",
       "      <td>1</td>\n",
       "      <td>1</td>\n",
       "      <td>86400</td>\n",
       "      <td>2023-05-31 23:54:14</td>\n",
       "      <td>18114</td>\n",
       "      <td>233</td>\n",
       "      <td>5</td>\n",
       "      <td>2771.857143</td>\n",
       "      <td>13.0</td>\n",
       "      <td>0.0</td>\n",
       "      <td>0.0</td>\n",
       "    </tr>\n",
       "  </tbody>\n",
       "</table>\n",
       "<p>258215 rows × 15 columns</p>\n",
       "</div>"
      ],
      "text/plain": [
       "                 UID    GID  Area  Partition  ReqNodes  ReqCPUS  Timelimit  \\\n",
       "UID                                                                          \n",
       "18860 1032570  18860  81411     4          0         1        1       7200   \n",
       "      1032563  18860  81411     4          0         1        1       7200   \n",
       "      1032569  18860  81411     4          0         1        1       7200   \n",
       "      1032568  18860  81411     4          0         1        1       7200   \n",
       "      1032567  18860  81411     4          0         1        1       7200   \n",
       "...              ...    ...   ...        ...       ...      ...        ...   \n",
       "70637 1290724  70637  47128     8          0         1       28     864000   \n",
       "      1290725  70637  47128     8          0         1       28     864000   \n",
       "      1290726  70637  47128     8          0         1       28     864000   \n",
       "72271 1290727  72271  99243     2          0         1        1      86400   \n",
       "      1290728  72271  99243     2          0         1        1      86400   \n",
       "\n",
       "                           Submit  Elapsed  Priority  Month  mean_elapsed  \\\n",
       "UID                                                                         \n",
       "18860 1032570 2022-12-22 21:31:46     1343       466     12   3316.407990   \n",
       "      1032563 2022-12-22 21:31:46     1581       466     12   3316.846976   \n",
       "      1032569 2022-12-22 21:31:46     1347       466     12   3316.487543   \n",
       "      1032568 2022-12-22 21:31:46     1722       466     12   3316.566942   \n",
       "      1032567 2022-12-22 21:31:46     1719       466     12   3316.631229   \n",
       "...                           ...      ...       ...    ...           ...   \n",
       "70637 1290724 2023-05-31 23:42:30    19177       480      5  14731.261803   \n",
       "      1290725 2023-05-31 23:42:47    19522       480      5  14733.317031   \n",
       "      1290726 2023-05-31 23:43:10    19710       480      5  14735.451115   \n",
       "72271 1290727 2023-05-31 23:51:20       66       233      5   1591.692308   \n",
       "      1290728 2023-05-31 23:54:14    18114       233      5   2771.857143   \n",
       "\n",
       "               succeded_task_count  failed_task_count  timeout_task_count  \n",
       "UID                                                                        \n",
       "18860 1032570              23810.0              839.0                14.0  \n",
       "      1032563              23803.0              839.0                14.0  \n",
       "      1032569              23809.0              839.0                14.0  \n",
       "      1032568              23808.0              839.0                14.0  \n",
       "      1032567              23807.0              839.0                14.0  \n",
       "...                            ...                ...                 ...  \n",
       "70637 1290724               2085.0               93.0                 2.0  \n",
       "      1290725               2086.0               93.0                 2.0  \n",
       "      1290726               2087.0               93.0                 2.0  \n",
       "72271 1290727                 12.0                0.0                 0.0  \n",
       "      1290728                 13.0                0.0                 0.0  \n",
       "\n",
       "[258215 rows x 15 columns]"
      ]
     },
     "execution_count": 35,
     "metadata": {},
     "output_type": "execute_result"
    }
   ],
   "source": [
    "test"
   ]
  },
  {
   "cell_type": "code",
   "execution_count": 36,
   "metadata": {},
   "outputs": [],
   "source": [
    "X_train = train.drop(columns=['Elapsed','Submit'])\n",
    "y_train = train['Elapsed']\n",
    "X_test = test.drop(columns=['Elapsed','Submit'])\n",
    "y_test = test['Elapsed']"
   ]
  },
  {
   "cell_type": "code",
   "execution_count": 37,
   "metadata": {},
   "outputs": [
    {
     "data": {
      "text/plain": [
       "UID                      int64\n",
       "GID                      int64\n",
       "Area                     int64\n",
       "Partition                int64\n",
       "ReqNodes                 int64\n",
       "ReqCPUS                  int64\n",
       "Timelimit                int64\n",
       "Priority                 int64\n",
       "Month                    int32\n",
       "mean_elapsed           float64\n",
       "succeded_task_count    float64\n",
       "failed_task_count      float64\n",
       "timeout_task_count     float64\n",
       "dtype: object"
      ]
     },
     "execution_count": 37,
     "metadata": {},
     "output_type": "execute_result"
    }
   ],
   "source": [
    "X_train.dtypes"
   ]
  },
  {
   "cell_type": "markdown",
   "metadata": {},
   "source": [
    "### Обучение"
   ]
  },
  {
   "cell_type": "code",
   "execution_count": 175,
   "metadata": {},
   "outputs": [
    {
     "data": {
      "text/html": [
       "<style>#sk-container-id-8 {color: black;background-color: white;}#sk-container-id-8 pre{padding: 0;}#sk-container-id-8 div.sk-toggleable {background-color: white;}#sk-container-id-8 label.sk-toggleable__label {cursor: pointer;display: block;width: 100%;margin-bottom: 0;padding: 0.3em;box-sizing: border-box;text-align: center;}#sk-container-id-8 label.sk-toggleable__label-arrow:before {content: \"▸\";float: left;margin-right: 0.25em;color: #696969;}#sk-container-id-8 label.sk-toggleable__label-arrow:hover:before {color: black;}#sk-container-id-8 div.sk-estimator:hover label.sk-toggleable__label-arrow:before {color: black;}#sk-container-id-8 div.sk-toggleable__content {max-height: 0;max-width: 0;overflow: hidden;text-align: left;background-color: #f0f8ff;}#sk-container-id-8 div.sk-toggleable__content pre {margin: 0.2em;color: black;border-radius: 0.25em;background-color: #f0f8ff;}#sk-container-id-8 input.sk-toggleable__control:checked~div.sk-toggleable__content {max-height: 200px;max-width: 100%;overflow: auto;}#sk-container-id-8 input.sk-toggleable__control:checked~label.sk-toggleable__label-arrow:before {content: \"▾\";}#sk-container-id-8 div.sk-estimator input.sk-toggleable__control:checked~label.sk-toggleable__label {background-color: #d4ebff;}#sk-container-id-8 div.sk-label input.sk-toggleable__control:checked~label.sk-toggleable__label {background-color: #d4ebff;}#sk-container-id-8 input.sk-hidden--visually {border: 0;clip: rect(1px 1px 1px 1px);clip: rect(1px, 1px, 1px, 1px);height: 1px;margin: -1px;overflow: hidden;padding: 0;position: absolute;width: 1px;}#sk-container-id-8 div.sk-estimator {font-family: monospace;background-color: #f0f8ff;border: 1px dotted black;border-radius: 0.25em;box-sizing: border-box;margin-bottom: 0.5em;}#sk-container-id-8 div.sk-estimator:hover {background-color: #d4ebff;}#sk-container-id-8 div.sk-parallel-item::after {content: \"\";width: 100%;border-bottom: 1px solid gray;flex-grow: 1;}#sk-container-id-8 div.sk-label:hover label.sk-toggleable__label {background-color: #d4ebff;}#sk-container-id-8 div.sk-serial::before {content: \"\";position: absolute;border-left: 1px solid gray;box-sizing: border-box;top: 0;bottom: 0;left: 50%;z-index: 0;}#sk-container-id-8 div.sk-serial {display: flex;flex-direction: column;align-items: center;background-color: white;padding-right: 0.2em;padding-left: 0.2em;position: relative;}#sk-container-id-8 div.sk-item {position: relative;z-index: 1;}#sk-container-id-8 div.sk-parallel {display: flex;align-items: stretch;justify-content: center;background-color: white;position: relative;}#sk-container-id-8 div.sk-item::before, #sk-container-id-8 div.sk-parallel-item::before {content: \"\";position: absolute;border-left: 1px solid gray;box-sizing: border-box;top: 0;bottom: 0;left: 50%;z-index: -1;}#sk-container-id-8 div.sk-parallel-item {display: flex;flex-direction: column;z-index: 1;position: relative;background-color: white;}#sk-container-id-8 div.sk-parallel-item:first-child::after {align-self: flex-end;width: 50%;}#sk-container-id-8 div.sk-parallel-item:last-child::after {align-self: flex-start;width: 50%;}#sk-container-id-8 div.sk-parallel-item:only-child::after {width: 0;}#sk-container-id-8 div.sk-dashed-wrapped {border: 1px dashed gray;margin: 0 0.4em 0.5em 0.4em;box-sizing: border-box;padding-bottom: 0.4em;background-color: white;}#sk-container-id-8 div.sk-label label {font-family: monospace;font-weight: bold;display: inline-block;line-height: 1.2em;}#sk-container-id-8 div.sk-label-container {text-align: center;}#sk-container-id-8 div.sk-container {/* jupyter's `normalize.less` sets `[hidden] { display: none; }` but bootstrap.min.css set `[hidden] { display: none !important; }` so we also need the `!important` here to be able to override the default hidden behavior on the sphinx rendered scikit-learn.org. See: https://github.com/scikit-learn/scikit-learn/issues/21755 */display: inline-block !important;position: relative;}#sk-container-id-8 div.sk-text-repr-fallback {display: none;}</style><div id=\"sk-container-id-8\" class=\"sk-top-container\"><div class=\"sk-text-repr-fallback\"><pre>XGBRegressor(base_score=None, booster=&#x27;gbtree&#x27;, callbacks=None,\n",
       "             colsample_bylevel=None, colsample_bynode=None,\n",
       "             colsample_bytree=1.0, device=None, early_stopping_rounds=None,\n",
       "             enable_categorical=False, eval_metric=None, feature_types=None,\n",
       "             gamma=1.0, grow_policy=None, importance_type=None,\n",
       "             interaction_constraints=None, learning_rate=0.025, max_bin=None,\n",
       "             max_cat_threshold=None, max_cat_to_onehot=None,\n",
       "             max_delta_step=None, max_depth=13, max_leaves=None,\n",
       "             min_child_weight=3, missing=nan, monotone_constraints=None,\n",
       "             multi_strategy=None, n_estimators=263, n_jobs=16,\n",
       "             num_parallel_tree=None, random_state=314159265, ...)</pre><b>In a Jupyter environment, please rerun this cell to show the HTML representation or trust the notebook. <br />On GitHub, the HTML representation is unable to render, please try loading this page with nbviewer.org.</b></div><div class=\"sk-container\" hidden><div class=\"sk-item\"><div class=\"sk-estimator sk-toggleable\"><input class=\"sk-toggleable__control sk-hidden--visually\" id=\"sk-estimator-id-8\" type=\"checkbox\" checked><label for=\"sk-estimator-id-8\" class=\"sk-toggleable__label sk-toggleable__label-arrow\">XGBRegressor</label><div class=\"sk-toggleable__content\"><pre>XGBRegressor(base_score=None, booster=&#x27;gbtree&#x27;, callbacks=None,\n",
       "             colsample_bylevel=None, colsample_bynode=None,\n",
       "             colsample_bytree=1.0, device=None, early_stopping_rounds=None,\n",
       "             enable_categorical=False, eval_metric=None, feature_types=None,\n",
       "             gamma=1.0, grow_policy=None, importance_type=None,\n",
       "             interaction_constraints=None, learning_rate=0.025, max_bin=None,\n",
       "             max_cat_threshold=None, max_cat_to_onehot=None,\n",
       "             max_delta_step=None, max_depth=13, max_leaves=None,\n",
       "             min_child_weight=3, missing=nan, monotone_constraints=None,\n",
       "             multi_strategy=None, n_estimators=263, n_jobs=16,\n",
       "             num_parallel_tree=None, random_state=314159265, ...)</pre></div></div></div></div></div>"
      ],
      "text/plain": [
       "XGBRegressor(base_score=None, booster='gbtree', callbacks=None,\n",
       "             colsample_bylevel=None, colsample_bynode=None,\n",
       "             colsample_bytree=1.0, device=None, early_stopping_rounds=None,\n",
       "             enable_categorical=False, eval_metric=None, feature_types=None,\n",
       "             gamma=1.0, grow_policy=None, importance_type=None,\n",
       "             interaction_constraints=None, learning_rate=0.025, max_bin=None,\n",
       "             max_cat_threshold=None, max_cat_to_onehot=None,\n",
       "             max_delta_step=None, max_depth=13, max_leaves=None,\n",
       "             min_child_weight=3, missing=nan, monotone_constraints=None,\n",
       "             multi_strategy=None, n_estimators=263, n_jobs=16,\n",
       "             num_parallel_tree=None, random_state=314159265, ...)"
      ]
     },
     "execution_count": 175,
     "metadata": {},
     "output_type": "execute_result"
    }
   ],
   "source": [
    "regressor=xgb.XGBRegressor(booster = 'gbtree',\n",
    "                           colsample_bytree = 1.0,\n",
    "                           learning_rate = 0.025, # xgb’s “eta”\n",
    "                           gamma = 1.0,\n",
    "                           max_depth = 13,\n",
    "                           min_child_weight = 3,\n",
    "                           n_estimators = 263,\n",
    "                           n_jobs = 16,\n",
    "                           objective = 'reg:squarederror',\n",
    "                           random_state = SEED,\n",
    "                           subsample = 0.7,\n",
    "                           tree_method = 'exact'\n",
    "                        )\n",
    "regressor.fit(X_train, y_train)"
   ]
  },
  {
   "cell_type": "code",
   "execution_count": 176,
   "metadata": {},
   "outputs": [],
   "source": [
    "predictions = regressor.predict(X_test)"
   ]
  },
  {
   "cell_type": "code",
   "execution_count": 177,
   "metadata": {},
   "outputs": [
    {
     "name": "stdout",
     "output_type": "stream",
     "text": [
      "R2 Score: 0.5777786516354317\n"
     ]
    }
   ],
   "source": [
    "from sklearn.metrics import r2_score\n",
    "\n",
    "r2 = r2_score(y_test, predictions)\n",
    "\n",
    "print(f'R2 Score: {r2}')"
   ]
  },
  {
   "cell_type": "code",
   "execution_count": 178,
   "metadata": {},
   "outputs": [],
   "source": [
    "import pickle\n",
    "\n",
    "filename = 'SKPred_pickle_saved_model.sav'\n",
    "pickle.dump(regressor, open(filename, 'wb'))"
   ]
  },
  {
   "cell_type": "code",
   "execution_count": 179,
   "metadata": {},
   "outputs": [],
   "source": [
    "# Save with xgboost\n",
    "\n",
    "regressor.save_model('SKPred_xgboost_saved_model.json')"
   ]
  },
  {
   "cell_type": "markdown",
   "metadata": {},
   "source": [
    "# Hyperopt"
   ]
  },
  {
   "cell_type": "code",
   "execution_count": 36,
   "metadata": {},
   "outputs": [],
   "source": [
    "def score(params):\n",
    "    print(\"Training with params: \")\n",
    "    print(params)\n",
    "    num_round = int(params['n_estimators'])\n",
    "    del params['n_estimators']\n",
    "    dtrain = xgb.DMatrix(X_train, label=y_train)\n",
    "    dvalid = xgb.DMatrix(X_test, label=y_test)\n",
    "    #watchlist = [(dvalid, 'eval'), (dtrain, 'train')]\n",
    "    regressor = xgb.train(params, dtrain, num_round)\n",
    "    predictions = regressor.predict(dvalid)\n",
    "    score = r2_score(y_test, predictions)\n",
    "    # TODO: Add the importance for the selected features\n",
    "    print(\"\\tScore {0}\\n\\n\".format(score))\n",
    "    # The score function should return the loss (1-score)\n",
    "    # since the optimize function looks for the minimum\n",
    "    loss = 1 - score\n",
    "    return {'loss': loss, 'status': STATUS_OK}"
   ]
  },
  {
   "cell_type": "code",
   "execution_count": 1,
   "metadata": {},
   "outputs": [
    {
     "ename": "NameError",
     "evalue": "name 'SEED' is not defined",
     "output_type": "error",
     "traceback": [
      "\u001b[1;31m---------------------------------------------------------------------------\u001b[0m",
      "\u001b[1;31mNameError\u001b[0m                                 Traceback (most recent call last)",
      "Cell \u001b[1;32mIn[1], line 2\u001b[0m\n\u001b[0;32m      1\u001b[0m \u001b[38;5;28;01mdef\u001b[39;00m \u001b[38;5;21moptimize\u001b[39m(\n\u001b[1;32m----> 2\u001b[0m              random_state\u001b[38;5;241m=\u001b[39m\u001b[43mSEED\u001b[49m):\n\u001b[0;32m      3\u001b[0m \u001b[38;5;250m    \u001b[39m\u001b[38;5;124;03m\"\"\"\u001b[39;00m\n\u001b[0;32m      4\u001b[0m \u001b[38;5;124;03m    This is the optimization function that given a space (space here) of \u001b[39;00m\n\u001b[0;32m      5\u001b[0m \u001b[38;5;124;03m    hyperparameters and a scoring function (score here), finds the best hyperparameters.\u001b[39;00m\n\u001b[0;32m      6\u001b[0m \u001b[38;5;124;03m    \"\"\"\u001b[39;00m\n\u001b[0;32m      7\u001b[0m     \u001b[38;5;66;03m# To learn more about XGBoost parameters, head to this page: \u001b[39;00m\n\u001b[0;32m      8\u001b[0m     \u001b[38;5;66;03m# https://github.com/dmlc/xgboost/blob/master/doc/parameter.md\u001b[39;00m\n",
      "\u001b[1;31mNameError\u001b[0m: name 'SEED' is not defined"
     ]
    }
   ],
   "source": [
    "def optimize(\n",
    "             random_state=SEED):\n",
    "    \"\"\"\n",
    "    This is the optimization function that given a space (space here) of \n",
    "    hyperparameters and a scoring function (score here), finds the best hyperparameters.\n",
    "    \"\"\"\n",
    "    # To learn more about XGBoost parameters, head to this page: \n",
    "    # https://github.com/dmlc/xgboost/blob/master/doc/parameter.md\n",
    "    space = {\n",
    "        'n_estimators': hp.quniform('n_estimators', 100, 1000, 1),\n",
    "        'eta': hp.quniform('eta', 0.025, 0.5, 0.025),\n",
    "        # A problem with max_depth casted to float instead of int with\n",
    "        # the hp.quniform method.\n",
    "        'max_depth':  hp.choice('max_depth', np.arange(1, 14, dtype=int)),\n",
    "        'min_child_weight': hp.quniform('min_child_weight', 1, 6, 1),\n",
    "        'subsample': hp.quniform('subsample', 0.5, 1, 0.05),\n",
    "        'gamma': hp.quniform('gamma', 0.5, 1, 0.05),\n",
    "        'colsample_bytree': hp.quniform('colsample_bytree', 0.5, 1, 0.05),\n",
    "        'objective': 'reg:squarederror',\n",
    "        # Increase this number if you have more cores. Otherwise, remove it and it will default \n",
    "        # to the maxium number. \n",
    "        'nthread': 16,\n",
    "        'booster': 'gbtree',\n",
    "        'tree_method': 'exact',\n",
    "        'silent': 1,\n",
    "        'seed': random_state\n",
    "    }\n",
    "    # Use the fmin function from Hyperopt to find the best hyperparameters\n",
    "    best = fmin(score, space, algo=tpe.suggest,  \n",
    "                max_evals=250)\n",
    "    return best"
   ]
  },
  {
   "cell_type": "markdown",
   "metadata": {},
   "source": [
    "### Лучшие гиперпараметры\n",
    "{'booster': 'gbtree', 'colsample_bytree': 1.0, 'eta': 0.025, 'gamma': 1.0, 'max_depth': 13, 'min_child_weight': 3.0, 'n_estimators': 263.0, 'nthread': 16, 'objective': 'reg:squarederror', 'seed': 314159265, 'silent': 1, 'subsample': 0.7000000000000001, 'tree_method': 'exact'}"
   ]
  },
  {
   "cell_type": "code",
   "execution_count": 38,
   "metadata": {},
   "outputs": [
    {
     "name": "stdout",
     "output_type": "stream",
     "text": [
      "Training with params:                                  \n",
      "{'booster': 'gbtree', 'colsample_bytree': 0.9, 'eta': 0.17500000000000002, 'gamma': 0.8, 'max_depth': 7, 'min_child_weight': 4.0, 'n_estimators': 848.0, 'nthread': 16, 'objective': 'reg:squarederror', 'seed': 314159265, 'silent': 1, 'subsample': 0.7000000000000001, 'tree_method': 'exact'}\n",
      "  0%|          | 0/250 [00:00<?, ?trial/s, best loss=?]"
     ]
    },
    {
     "name": "stderr",
     "output_type": "stream",
     "text": [
      "c:\\Users\\dimas\\AppData\\Local\\Programs\\Python\\Python311\\Lib\\site-packages\\xgboost\\core.py:160: UserWarning: [23:53:06] WARNING: C:\\buildkite-agent\\builds\\buildkite-windows-cpu-autoscaling-group-i-0b3782d1791676daf-1\\xgboost\\xgboost-ci-windows\\src\\learner.cc:742: \n",
      "Parameters: { \"silent\" } are not used.\n",
      "\n",
      "  warnings.warn(smsg, UserWarning)\n",
      "\n"
     ]
    },
    {
     "name": "stdout",
     "output_type": "stream",
     "text": [
      "\tScore 0.7172271439192176                              \n",
      "\n",
      "\n",
      "Training with params:                                                                \n",
      "{'booster': 'gbtree', 'colsample_bytree': 0.9500000000000001, 'eta': 0.275, 'gamma': 0.6000000000000001, 'max_depth': 10, 'min_child_weight': 3.0, 'n_estimators': 807.0, 'nthread': 16, 'objective': 'reg:squarederror', 'seed': 314159265, 'silent': 1, 'subsample': 0.8500000000000001, 'tree_method': 'exact'}\n",
      "  0%|          | 1/250 [03:14<13:27:06, 194.48s/trial, best loss: 0.2827728560807824]"
     ]
    },
    {
     "name": "stderr",
     "output_type": "stream",
     "text": [
      "c:\\Users\\dimas\\AppData\\Local\\Programs\\Python\\Python311\\Lib\\site-packages\\xgboost\\core.py:160: UserWarning: [23:56:20] WARNING: C:\\buildkite-agent\\builds\\buildkite-windows-cpu-autoscaling-group-i-0b3782d1791676daf-1\\xgboost\\xgboost-ci-windows\\src\\learner.cc:742: \n",
      "Parameters: { \"silent\" } are not used.\n",
      "\n",
      "  warnings.warn(smsg, UserWarning)\n",
      "\n"
     ]
    },
    {
     "name": "stdout",
     "output_type": "stream",
     "text": [
      "\tScore 0.7061238695197123                                                            \n",
      "\n",
      "\n",
      "Training with params:                                                                \n",
      "{'booster': 'gbtree', 'colsample_bytree': 0.9500000000000001, 'eta': 0.05, 'gamma': 0.6000000000000001, 'max_depth': 2, 'min_child_weight': 6.0, 'n_estimators': 867.0, 'nthread': 16, 'objective': 'reg:squarederror', 'seed': 314159265, 'silent': 1, 'subsample': 0.55, 'tree_method': 'exact'}\n",
      "  1%|          | 2/250 [06:50<14:16:19, 207.18s/trial, best loss: 0.2827728560807824]"
     ]
    },
    {
     "name": "stderr",
     "output_type": "stream",
     "text": [
      "c:\\Users\\dimas\\AppData\\Local\\Programs\\Python\\Python311\\Lib\\site-packages\\xgboost\\core.py:160: UserWarning: [23:59:56] WARNING: C:\\buildkite-agent\\builds\\buildkite-windows-cpu-autoscaling-group-i-0b3782d1791676daf-1\\xgboost\\xgboost-ci-windows\\src\\learner.cc:742: \n",
      "Parameters: { \"silent\" } are not used.\n",
      "\n",
      "  warnings.warn(smsg, UserWarning)\n",
      "\n"
     ]
    },
    {
     "name": "stdout",
     "output_type": "stream",
     "text": [
      "\tScore 0.47773778235558517                                                           \n",
      "\n",
      "\n",
      "Training with params:                                                                \n",
      "{'booster': 'gbtree', 'colsample_bytree': 0.6000000000000001, 'eta': 0.15000000000000002, 'gamma': 0.9, 'max_depth': 2, 'min_child_weight': 2.0, 'n_estimators': 954.0, 'nthread': 16, 'objective': 'reg:squarederror', 'seed': 314159265, 'silent': 1, 'subsample': 0.8500000000000001, 'tree_method': 'exact'}\n",
      "  1%|          | 3/250 [07:56<9:47:00, 142.59s/trial, best loss: 0.2827728560807824]"
     ]
    },
    {
     "name": "stderr",
     "output_type": "stream",
     "text": [
      "c:\\Users\\dimas\\AppData\\Local\\Programs\\Python\\Python311\\Lib\\site-packages\\xgboost\\core.py:160: UserWarning: [00:01:02] WARNING: C:\\buildkite-agent\\builds\\buildkite-windows-cpu-autoscaling-group-i-0b3782d1791676daf-1\\xgboost\\xgboost-ci-windows\\src\\learner.cc:742: \n",
      "Parameters: { \"silent\" } are not used.\n",
      "\n",
      "  warnings.warn(smsg, UserWarning)\n",
      "\n"
     ]
    },
    {
     "name": "stdout",
     "output_type": "stream",
     "text": [
      "\tScore 0.5390708580322019                                                           \n",
      "\n",
      "\n",
      "Training with params:                                                               \n",
      "{'booster': 'gbtree', 'colsample_bytree': 0.5, 'eta': 0.17500000000000002, 'gamma': 0.8500000000000001, 'max_depth': 6, 'min_child_weight': 4.0, 'n_estimators': 295.0, 'nthread': 16, 'objective': 'reg:squarederror', 'seed': 314159265, 'silent': 1, 'subsample': 0.7000000000000001, 'tree_method': 'exact'}\n",
      "  2%|▏         | 4/250 [08:54<7:28:31, 109.40s/trial, best loss: 0.2827728560807824]"
     ]
    },
    {
     "name": "stderr",
     "output_type": "stream",
     "text": [
      "c:\\Users\\dimas\\AppData\\Local\\Programs\\Python\\Python311\\Lib\\site-packages\\xgboost\\core.py:160: UserWarning: [00:02:01] WARNING: C:\\buildkite-agent\\builds\\buildkite-windows-cpu-autoscaling-group-i-0b3782d1791676daf-1\\xgboost\\xgboost-ci-windows\\src\\learner.cc:742: \n",
      "Parameters: { \"silent\" } are not used.\n",
      "\n",
      "  warnings.warn(smsg, UserWarning)\n",
      "\n"
     ]
    },
    {
     "name": "stdout",
     "output_type": "stream",
     "text": [
      "\tScore 0.6924069370542069                                                           \n",
      "\n",
      "\n",
      "Training with params:                                                               \n",
      "{'booster': 'gbtree', 'colsample_bytree': 0.75, 'eta': 0.15000000000000002, 'gamma': 0.6000000000000001, 'max_depth': 8, 'min_child_weight': 3.0, 'n_estimators': 615.0, 'nthread': 16, 'objective': 'reg:squarederror', 'seed': 314159265, 'silent': 1, 'subsample': 0.6000000000000001, 'tree_method': 'exact'}\n",
      "  2%|▏         | 5/250 [09:41<5:55:03, 86.95s/trial, best loss: 0.2827728560807824]"
     ]
    },
    {
     "name": "stderr",
     "output_type": "stream",
     "text": [
      "c:\\Users\\dimas\\AppData\\Local\\Programs\\Python\\Python311\\Lib\\site-packages\\xgboost\\core.py:160: UserWarning: [00:02:48] WARNING: C:\\buildkite-agent\\builds\\buildkite-windows-cpu-autoscaling-group-i-0b3782d1791676daf-1\\xgboost\\xgboost-ci-windows\\src\\learner.cc:742: \n",
      "Parameters: { \"silent\" } are not used.\n",
      "\n",
      "  warnings.warn(smsg, UserWarning)\n",
      "\n"
     ]
    },
    {
     "name": "stdout",
     "output_type": "stream",
     "text": [
      "\tScore 0.717865003733106                                                           \n",
      "\n",
      "\n",
      "Training with params:                                                              \n",
      "{'booster': 'gbtree', 'colsample_bytree': 0.75, 'eta': 0.1, 'gamma': 0.9500000000000001, 'max_depth': 2, 'min_child_weight': 5.0, 'n_estimators': 376.0, 'nthread': 16, 'objective': 'reg:squarederror', 'seed': 314159265, 'silent': 1, 'subsample': 0.8500000000000001, 'tree_method': 'exact'}\n",
      "  2%|▏         | 6/250 [12:00<7:05:20, 104.59s/trial, best loss: 0.282134996266894]"
     ]
    },
    {
     "name": "stderr",
     "output_type": "stream",
     "text": [
      "c:\\Users\\dimas\\AppData\\Local\\Programs\\Python\\Python311\\Lib\\site-packages\\xgboost\\core.py:160: UserWarning: [00:05:07] WARNING: C:\\buildkite-agent\\builds\\buildkite-windows-cpu-autoscaling-group-i-0b3782d1791676daf-1\\xgboost\\xgboost-ci-windows\\src\\learner.cc:742: \n",
      "Parameters: { \"silent\" } are not used.\n",
      "\n",
      "  warnings.warn(smsg, UserWarning)\n",
      "\n"
     ]
    },
    {
     "name": "stdout",
     "output_type": "stream",
     "text": [
      "\tScore 0.4616680158455615                                                          \n",
      "\n",
      "\n",
      "Training with params:                                                              \n",
      "{'booster': 'gbtree', 'colsample_bytree': 0.6000000000000001, 'eta': 0.07500000000000001, 'gamma': 0.8, 'max_depth': 9, 'min_child_weight': 3.0, 'n_estimators': 900.0, 'nthread': 16, 'objective': 'reg:squarederror', 'seed': 314159265, 'silent': 1, 'subsample': 0.9500000000000001, 'tree_method': 'exact'}\n",
      "  3%|▎         | 7/250 [12:24<5:16:50, 78.23s/trial, best loss: 0.282134996266894]"
     ]
    },
    {
     "name": "stderr",
     "output_type": "stream",
     "text": [
      "c:\\Users\\dimas\\AppData\\Local\\Programs\\Python\\Python311\\Lib\\site-packages\\xgboost\\core.py:160: UserWarning: [00:05:31] WARNING: C:\\buildkite-agent\\builds\\buildkite-windows-cpu-autoscaling-group-i-0b3782d1791676daf-1\\xgboost\\xgboost-ci-windows\\src\\learner.cc:742: \n",
      "Parameters: { \"silent\" } are not used.\n",
      "\n",
      "  warnings.warn(smsg, UserWarning)\n",
      "\n"
     ]
    },
    {
     "name": "stdout",
     "output_type": "stream",
     "text": [
      "\tScore 0.7232069655447217                                                         \n",
      "\n",
      "\n",
      "Training with params:                                                                \n",
      "{'booster': 'gbtree', 'colsample_bytree': 0.7000000000000001, 'eta': 0.05, 'gamma': 0.65, 'max_depth': 10, 'min_child_weight': 1.0, 'n_estimators': 408.0, 'nthread': 16, 'objective': 'reg:squarederror', 'seed': 314159265, 'silent': 1, 'subsample': 0.7000000000000001, 'tree_method': 'exact'}\n",
      "  3%|▎         | 8/250 [15:27<7:29:51, 111.54s/trial, best loss: 0.27679303445527825]"
     ]
    },
    {
     "name": "stderr",
     "output_type": "stream",
     "text": [
      "c:\\Users\\dimas\\AppData\\Local\\Programs\\Python\\Python311\\Lib\\site-packages\\xgboost\\core.py:160: UserWarning: [00:08:33] WARNING: C:\\buildkite-agent\\builds\\buildkite-windows-cpu-autoscaling-group-i-0b3782d1791676daf-1\\xgboost\\xgboost-ci-windows\\src\\learner.cc:742: \n",
      "Parameters: { \"silent\" } are not used.\n",
      "\n",
      "  warnings.warn(smsg, UserWarning)\n",
      "\n"
     ]
    },
    {
     "name": "stdout",
     "output_type": "stream",
     "text": [
      "\tScore 0.7241753604380234                                                            \n",
      "\n",
      "\n",
      "Training with params:                                                                \n",
      "{'booster': 'gbtree', 'colsample_bytree': 0.5, 'eta': 0.1, 'gamma': 0.75, 'max_depth': 10, 'min_child_weight': 5.0, 'n_estimators': 698.0, 'nthread': 16, 'objective': 'reg:squarederror', 'seed': 314159265, 'silent': 1, 'subsample': 0.7000000000000001, 'tree_method': 'exact'}\n",
      "  4%|▎         | 9/250 [17:16<7:24:07, 110.57s/trial, best loss: 0.27582463956197656]"
     ]
    },
    {
     "name": "stderr",
     "output_type": "stream",
     "text": [
      "c:\\Users\\dimas\\AppData\\Local\\Programs\\Python\\Python311\\Lib\\site-packages\\xgboost\\core.py:160: UserWarning: [00:10:22] WARNING: C:\\buildkite-agent\\builds\\buildkite-windows-cpu-autoscaling-group-i-0b3782d1791676daf-1\\xgboost\\xgboost-ci-windows\\src\\learner.cc:742: \n",
      "Parameters: { \"silent\" } are not used.\n",
      "\n",
      "  warnings.warn(smsg, UserWarning)\n",
      "\n"
     ]
    },
    {
     "name": "stdout",
     "output_type": "stream",
     "text": [
      "\tScore 0.7227375947652277                                                            \n",
      "\n",
      "\n",
      "Training with params:                                                                 \n",
      "{'booster': 'gbtree', 'colsample_bytree': 0.5, 'eta': 0.35000000000000003, 'gamma': 0.75, 'max_depth': 1, 'min_child_weight': 6.0, 'n_estimators': 461.0, 'nthread': 16, 'objective': 'reg:squarederror', 'seed': 314159265, 'silent': 1, 'subsample': 1.0, 'tree_method': 'exact'}\n",
      "  4%|▍         | 10/250 [20:06<8:36:02, 129.01s/trial, best loss: 0.27582463956197656]"
     ]
    },
    {
     "name": "stderr",
     "output_type": "stream",
     "text": [
      "c:\\Users\\dimas\\AppData\\Local\\Programs\\Python\\Python311\\Lib\\site-packages\\xgboost\\core.py:160: UserWarning: [00:13:12] WARNING: C:\\buildkite-agent\\builds\\buildkite-windows-cpu-autoscaling-group-i-0b3782d1791676daf-1\\xgboost\\xgboost-ci-windows\\src\\learner.cc:742: \n",
      "Parameters: { \"silent\" } are not used.\n",
      "\n",
      "  warnings.warn(smsg, UserWarning)\n",
      "\n"
     ]
    },
    {
     "name": "stdout",
     "output_type": "stream",
     "text": [
      "\tScore 0.3378753830001793                                                             \n",
      "\n",
      "\n",
      "Training with params:                                                                 \n",
      "{'booster': 'gbtree', 'colsample_bytree': 0.8, 'eta': 0.42500000000000004, 'gamma': 0.9, 'max_depth': 1, 'min_child_weight': 4.0, 'n_estimators': 528.0, 'nthread': 16, 'objective': 'reg:squarederror', 'seed': 314159265, 'silent': 1, 'subsample': 0.9500000000000001, 'tree_method': 'exact'}\n",
      "  4%|▍         | 11/250 [20:17<6:10:22, 92.98s/trial, best loss: 0.27582463956197656]"
     ]
    },
    {
     "name": "stderr",
     "output_type": "stream",
     "text": [
      "c:\\Users\\dimas\\AppData\\Local\\Programs\\Python\\Python311\\Lib\\site-packages\\xgboost\\core.py:160: UserWarning: [00:13:23] WARNING: C:\\buildkite-agent\\builds\\buildkite-windows-cpu-autoscaling-group-i-0b3782d1791676daf-1\\xgboost\\xgboost-ci-windows\\src\\learner.cc:742: \n",
      "Parameters: { \"silent\" } are not used.\n",
      "\n",
      "  warnings.warn(smsg, UserWarning)\n",
      "\n"
     ]
    },
    {
     "name": "stdout",
     "output_type": "stream",
     "text": [
      "\tScore 0.3484526593268614                                                            \n",
      "\n",
      "\n",
      "Training with params:                                                                \n",
      "{'booster': 'gbtree', 'colsample_bytree': 0.7000000000000001, 'eta': 0.1, 'gamma': 0.75, 'max_depth': 11, 'min_child_weight': 4.0, 'n_estimators': 970.0, 'nthread': 16, 'objective': 'reg:squarederror', 'seed': 314159265, 'silent': 1, 'subsample': 0.7000000000000001, 'tree_method': 'exact'}\n",
      "  5%|▍         | 12/250 [20:40<4:43:52, 71.56s/trial, best loss: 0.27582463956197656]"
     ]
    },
    {
     "name": "stderr",
     "output_type": "stream",
     "text": [
      "c:\\Users\\dimas\\AppData\\Local\\Programs\\Python\\Python311\\Lib\\site-packages\\xgboost\\core.py:160: UserWarning: [00:13:46] WARNING: C:\\buildkite-agent\\builds\\buildkite-windows-cpu-autoscaling-group-i-0b3782d1791676daf-1\\xgboost\\xgboost-ci-windows\\src\\learner.cc:742: \n",
      "Parameters: { \"silent\" } are not used.\n",
      "\n",
      "  warnings.warn(smsg, UserWarning)\n",
      "\n"
     ]
    },
    {
     "name": "stdout",
     "output_type": "stream",
     "text": [
      "\tScore 0.7205160014819523                                                            \n",
      "\n",
      "\n",
      "Training with params:                                                                 \n",
      "{'booster': 'gbtree', 'colsample_bytree': 0.5, 'eta': 0.30000000000000004, 'gamma': 0.8, 'max_depth': 4, 'min_child_weight': 4.0, 'n_estimators': 983.0, 'nthread': 16, 'objective': 'reg:squarederror', 'seed': 314159265, 'silent': 1, 'subsample': 0.9, 'tree_method': 'exact'}\n",
      "  5%|▌         | 13/250 [25:10<8:39:57, 131.64s/trial, best loss: 0.27582463956197656]"
     ]
    },
    {
     "name": "stderr",
     "output_type": "stream",
     "text": [
      "c:\\Users\\dimas\\AppData\\Local\\Programs\\Python\\Python311\\Lib\\site-packages\\xgboost\\core.py:160: UserWarning: [00:18:16] WARNING: C:\\buildkite-agent\\builds\\buildkite-windows-cpu-autoscaling-group-i-0b3782d1791676daf-1\\xgboost\\xgboost-ci-windows\\src\\learner.cc:742: \n",
      "Parameters: { \"silent\" } are not used.\n",
      "\n",
      "  warnings.warn(smsg, UserWarning)\n",
      "\n"
     ]
    },
    {
     "name": "stdout",
     "output_type": "stream",
     "text": [
      "\tScore 0.6909656122119961                                                             \n",
      "\n",
      "\n",
      "Training with params:                                                                 \n",
      "{'booster': 'gbtree', 'colsample_bytree': 0.6000000000000001, 'eta': 0.30000000000000004, 'gamma': 0.8, 'max_depth': 8, 'min_child_weight': 3.0, 'n_estimators': 165.0, 'nthread': 16, 'objective': 'reg:squarederror', 'seed': 314159265, 'silent': 1, 'subsample': 0.55, 'tree_method': 'exact'}\n",
      "  6%|▌         | 14/250 [26:36<7:43:48, 117.92s/trial, best loss: 0.27582463956197656]"
     ]
    },
    {
     "name": "stderr",
     "output_type": "stream",
     "text": [
      "c:\\Users\\dimas\\AppData\\Local\\Programs\\Python\\Python311\\Lib\\site-packages\\xgboost\\core.py:160: UserWarning: [00:19:42] WARNING: C:\\buildkite-agent\\builds\\buildkite-windows-cpu-autoscaling-group-i-0b3782d1791676daf-1\\xgboost\\xgboost-ci-windows\\src\\learner.cc:742: \n",
      "Parameters: { \"silent\" } are not used.\n",
      "\n",
      "  warnings.warn(smsg, UserWarning)\n",
      "\n"
     ]
    },
    {
     "name": "stdout",
     "output_type": "stream",
     "text": [
      "\tScore 0.7076662774384035                                                             \n",
      "\n",
      "\n",
      "Training with params:                                                                 \n",
      "{'booster': 'gbtree', 'colsample_bytree': 0.7000000000000001, 'eta': 0.25, 'gamma': 0.55, 'max_depth': 6, 'min_child_weight': 1.0, 'n_estimators': 409.0, 'nthread': 16, 'objective': 'reg:squarederror', 'seed': 314159265, 'silent': 1, 'subsample': 0.55, 'tree_method': 'exact'}\n",
      "  6%|▌         | 15/250 [27:08<6:00:19, 92.00s/trial, best loss: 0.27582463956197656]"
     ]
    },
    {
     "name": "stderr",
     "output_type": "stream",
     "text": [
      "c:\\Users\\dimas\\AppData\\Local\\Programs\\Python\\Python311\\Lib\\site-packages\\xgboost\\core.py:160: UserWarning: [00:20:14] WARNING: C:\\buildkite-agent\\builds\\buildkite-windows-cpu-autoscaling-group-i-0b3782d1791676daf-1\\xgboost\\xgboost-ci-windows\\src\\learner.cc:742: \n",
      "Parameters: { \"silent\" } are not used.\n",
      "\n",
      "  warnings.warn(smsg, UserWarning)\n",
      "\n"
     ]
    },
    {
     "name": "stdout",
     "output_type": "stream",
     "text": [
      "\tScore 0.7037009305233206                                                            \n",
      "\n",
      "\n",
      "Training with params:                                                                \n",
      "{'booster': 'gbtree', 'colsample_bytree': 0.55, 'eta': 0.35000000000000003, 'gamma': 0.9, 'max_depth': 11, 'min_child_weight': 4.0, 'n_estimators': 610.0, 'nthread': 16, 'objective': 'reg:squarederror', 'seed': 314159265, 'silent': 1, 'subsample': 0.9500000000000001, 'tree_method': 'exact'}\n",
      "  6%|▋         | 16/250 [28:11<5:24:29, 83.20s/trial, best loss: 0.27582463956197656]"
     ]
    },
    {
     "name": "stderr",
     "output_type": "stream",
     "text": [
      "c:\\Users\\dimas\\AppData\\Local\\Programs\\Python\\Python311\\Lib\\site-packages\\xgboost\\core.py:160: UserWarning: [00:21:17] WARNING: C:\\buildkite-agent\\builds\\buildkite-windows-cpu-autoscaling-group-i-0b3782d1791676daf-1\\xgboost\\xgboost-ci-windows\\src\\learner.cc:742: \n",
      "Parameters: { \"silent\" } are not used.\n",
      "\n",
      "  warnings.warn(smsg, UserWarning)\n",
      "\n"
     ]
    },
    {
     "name": "stdout",
     "output_type": "stream",
     "text": [
      "\tScore 0.7153259626435211                                                            \n",
      "\n",
      "\n",
      "Training with params:                                                                \n",
      "{'booster': 'gbtree', 'colsample_bytree': 0.65, 'eta': 0.1, 'gamma': 0.9, 'max_depth': 8, 'min_child_weight': 3.0, 'n_estimators': 154.0, 'nthread': 16, 'objective': 'reg:squarederror', 'seed': 314159265, 'silent': 1, 'subsample': 0.8, 'tree_method': 'exact'}\n",
      "  7%|▋         | 17/250 [30:26<6:23:49, 98.84s/trial, best loss: 0.27582463956197656]"
     ]
    },
    {
     "name": "stderr",
     "output_type": "stream",
     "text": [
      "c:\\Users\\dimas\\AppData\\Local\\Programs\\Python\\Python311\\Lib\\site-packages\\xgboost\\core.py:160: UserWarning: [00:23:32] WARNING: C:\\buildkite-agent\\builds\\buildkite-windows-cpu-autoscaling-group-i-0b3782d1791676daf-1\\xgboost\\xgboost-ci-windows\\src\\learner.cc:742: \n",
      "Parameters: { \"silent\" } are not used.\n",
      "\n",
      "  warnings.warn(smsg, UserWarning)\n",
      "\n"
     ]
    },
    {
     "name": "stdout",
     "output_type": "stream",
     "text": [
      "\tScore 0.7083064432988937                                                            \n",
      "\n",
      "\n",
      "Training with params:                                                                \n",
      "{'booster': 'gbtree', 'colsample_bytree': 0.6000000000000001, 'eta': 0.30000000000000004, 'gamma': 0.8500000000000001, 'max_depth': 9, 'min_child_weight': 2.0, 'n_estimators': 597.0, 'nthread': 16, 'objective': 'reg:squarederror', 'seed': 314159265, 'silent': 1, 'subsample': 0.9, 'tree_method': 'exact'}\n",
      "  7%|▋         | 18/250 [30:55<5:00:54, 77.82s/trial, best loss: 0.27582463956197656]"
     ]
    },
    {
     "name": "stderr",
     "output_type": "stream",
     "text": [
      "c:\\Users\\dimas\\AppData\\Local\\Programs\\Python\\Python311\\Lib\\site-packages\\xgboost\\core.py:160: UserWarning: [00:24:01] WARNING: C:\\buildkite-agent\\builds\\buildkite-windows-cpu-autoscaling-group-i-0b3782d1791676daf-1\\xgboost\\xgboost-ci-windows\\src\\learner.cc:742: \n",
      "Parameters: { \"silent\" } are not used.\n",
      "\n",
      "  warnings.warn(smsg, UserWarning)\n",
      "\n"
     ]
    },
    {
     "name": "stdout",
     "output_type": "stream",
     "text": [
      "\tScore 0.7141002502361226                                                            \n",
      "\n",
      "\n",
      "Training with params:                                                                \n",
      "{'booster': 'gbtree', 'colsample_bytree': 0.9, 'eta': 0.17500000000000002, 'gamma': 0.55, 'max_depth': 10, 'min_child_weight': 6.0, 'n_estimators': 629.0, 'nthread': 16, 'objective': 'reg:squarederror', 'seed': 314159265, 'silent': 1, 'subsample': 0.9500000000000001, 'tree_method': 'exact'}\n",
      "  8%|▊         | 19/250 [32:47<5:39:16, 88.12s/trial, best loss: 0.27582463956197656]"
     ]
    },
    {
     "name": "stderr",
     "output_type": "stream",
     "text": [
      "c:\\Users\\dimas\\AppData\\Local\\Programs\\Python\\Python311\\Lib\\site-packages\\xgboost\\core.py:160: UserWarning: [00:25:53] WARNING: C:\\buildkite-agent\\builds\\buildkite-windows-cpu-autoscaling-group-i-0b3782d1791676daf-1\\xgboost\\xgboost-ci-windows\\src\\learner.cc:742: \n",
      "Parameters: { \"silent\" } are not used.\n",
      "\n",
      "  warnings.warn(smsg, UserWarning)\n",
      "\n"
     ]
    },
    {
     "name": "stdout",
     "output_type": "stream",
     "text": [
      "\tScore 0.7209493353094488                                                            \n",
      "\n",
      "\n",
      "Training with params:                                                                 \n",
      "{'booster': 'gbtree', 'colsample_bytree': 0.8, 'eta': 0.025, 'gamma': 0.65, 'max_depth': 9, 'min_child_weight': 1.0, 'n_estimators': 228.0, 'nthread': 16, 'objective': 'reg:squarederror', 'seed': 314159265, 'silent': 1, 'subsample': 0.65, 'tree_method': 'exact'}\n",
      "  8%|▊         | 20/250 [35:09<6:40:23, 104.45s/trial, best loss: 0.27582463956197656]"
     ]
    },
    {
     "name": "stderr",
     "output_type": "stream",
     "text": [
      "c:\\Users\\dimas\\AppData\\Local\\Programs\\Python\\Python311\\Lib\\site-packages\\xgboost\\core.py:160: UserWarning: [00:28:16] WARNING: C:\\buildkite-agent\\builds\\buildkite-windows-cpu-autoscaling-group-i-0b3782d1791676daf-1\\xgboost\\xgboost-ci-windows\\src\\learner.cc:742: \n",
      "Parameters: { \"silent\" } are not used.\n",
      "\n",
      "  warnings.warn(smsg, UserWarning)\n",
      "\n"
     ]
    },
    {
     "name": "stdout",
     "output_type": "stream",
     "text": [
      "\tScore 0.7042999217540338                                                             \n",
      "\n",
      "\n",
      "Training with params:                                                                 \n",
      "{'booster': 'gbtree', 'colsample_bytree': 0.65, 'eta': 0.025, 'gamma': 0.7000000000000001, 'max_depth': 12, 'min_child_weight': 2.0, 'n_estimators': 717.0, 'nthread': 16, 'objective': 'reg:squarederror', 'seed': 314159265, 'silent': 1, 'subsample': 0.75, 'tree_method': 'exact'}\n",
      "  8%|▊         | 21/250 [36:03<5:40:10, 89.13s/trial, best loss: 0.27582463956197656]"
     ]
    },
    {
     "name": "stderr",
     "output_type": "stream",
     "text": [
      "c:\\Users\\dimas\\AppData\\Local\\Programs\\Python\\Python311\\Lib\\site-packages\\xgboost\\core.py:160: UserWarning: [00:29:09] WARNING: C:\\buildkite-agent\\builds\\buildkite-windows-cpu-autoscaling-group-i-0b3782d1791676daf-1\\xgboost\\xgboost-ci-windows\\src\\learner.cc:742: \n",
      "Parameters: { \"silent\" } are not used.\n",
      "\n",
      "  warnings.warn(smsg, UserWarning)\n",
      "\n"
     ]
    },
    {
     "name": "stdout",
     "output_type": "stream",
     "text": [
      "\tScore 0.727444750335928                                                             \n",
      "\n",
      "\n",
      "Training with params:                                                                 \n",
      "{'booster': 'gbtree', 'colsample_bytree': 0.7000000000000001, 'eta': 0.025, 'gamma': 0.7000000000000001, 'max_depth': 12, 'min_child_weight': 2.0, 'n_estimators': 737.0, 'nthread': 16, 'objective': 'reg:squarederror', 'seed': 314159265, 'silent': 1, 'subsample': 0.75, 'tree_method': 'exact'}\n",
      "  9%|▉         | 22/250 [39:26<7:48:28, 123.28s/trial, best loss: 0.27255524966407196]"
     ]
    },
    {
     "name": "stderr",
     "output_type": "stream",
     "text": [
      "c:\\Users\\dimas\\AppData\\Local\\Programs\\Python\\Python311\\Lib\\site-packages\\xgboost\\core.py:160: UserWarning: [00:32:32] WARNING: C:\\buildkite-agent\\builds\\buildkite-windows-cpu-autoscaling-group-i-0b3782d1791676daf-1\\xgboost\\xgboost-ci-windows\\src\\learner.cc:742: \n",
      "Parameters: { \"silent\" } are not used.\n",
      "\n",
      "  warnings.warn(smsg, UserWarning)\n",
      "\n"
     ]
    },
    {
     "name": "stdout",
     "output_type": "stream",
     "text": [
      "\tScore 0.7273677541561883                                                             \n",
      "\n",
      "\n",
      "Training with params:                                                                 \n",
      "{'booster': 'gbtree', 'colsample_bytree': 0.8, 'eta': 0.025, 'gamma': 0.7000000000000001, 'max_depth': 12, 'min_child_weight': 2.0, 'n_estimators': 738.0, 'nthread': 16, 'objective': 'reg:squarederror', 'seed': 314159265, 'silent': 1, 'subsample': 0.75, 'tree_method': 'exact'}\n",
      "  9%|▉         | 23/250 [42:50<9:18:02, 147.50s/trial, best loss: 0.27255524966407196]"
     ]
    },
    {
     "name": "stderr",
     "output_type": "stream",
     "text": [
      "c:\\Users\\dimas\\AppData\\Local\\Programs\\Python\\Python311\\Lib\\site-packages\\xgboost\\core.py:160: UserWarning: [00:35:56] WARNING: C:\\buildkite-agent\\builds\\buildkite-windows-cpu-autoscaling-group-i-0b3782d1791676daf-1\\xgboost\\xgboost-ci-windows\\src\\learner.cc:742: \n",
      "Parameters: { \"silent\" } are not used.\n",
      "\n",
      "  warnings.warn(smsg, UserWarning)\n",
      "\n"
     ]
    },
    {
     "name": "stdout",
     "output_type": "stream",
     "text": [
      "\tScore 0.7269070342489781                                                             \n",
      "\n",
      "\n",
      "Training with params:                                                                  \n",
      "{'booster': 'gbtree', 'colsample_bytree': 0.65, 'eta': 0.025, 'gamma': 0.7000000000000001, 'max_depth': 12, 'min_child_weight': 2.0, 'n_estimators': 749.0, 'nthread': 16, 'objective': 'reg:squarederror', 'seed': 314159265, 'silent': 1, 'subsample': 0.8, 'tree_method': 'exact'}\n",
      " 10%|▉         | 24/250 [46:24<10:30:43, 167.45s/trial, best loss: 0.27255524966407196]"
     ]
    },
    {
     "name": "stderr",
     "output_type": "stream",
     "text": [
      "c:\\Users\\dimas\\AppData\\Local\\Programs\\Python\\Python311\\Lib\\site-packages\\xgboost\\core.py:160: UserWarning: [00:39:30] WARNING: C:\\buildkite-agent\\builds\\buildkite-windows-cpu-autoscaling-group-i-0b3782d1791676daf-1\\xgboost\\xgboost-ci-windows\\src\\learner.cc:742: \n",
      "Parameters: { \"silent\" } are not used.\n",
      "\n",
      "  warnings.warn(smsg, UserWarning)\n",
      "\n"
     ]
    },
    {
     "name": "stdout",
     "output_type": "stream",
     "text": [
      "\tScore 0.727195593127784                                                               \n",
      "\n",
      "\n",
      "Training with params:                                                                  \n",
      "{'booster': 'gbtree', 'colsample_bytree': 0.65, 'eta': 0.45, 'gamma': 0.5, 'max_depth': 12, 'min_child_weight': 2.0, 'n_estimators': 513.0, 'nthread': 16, 'objective': 'reg:squarederror', 'seed': 314159265, 'silent': 1, 'subsample': 0.75, 'tree_method': 'exact'}\n",
      " 10%|█         | 25/250 [49:47<11:08:00, 178.13s/trial, best loss: 0.27255524966407196]"
     ]
    },
    {
     "name": "stderr",
     "output_type": "stream",
     "text": [
      "c:\\Users\\dimas\\AppData\\Local\\Programs\\Python\\Python311\\Lib\\site-packages\\xgboost\\core.py:160: UserWarning: [00:42:53] WARNING: C:\\buildkite-agent\\builds\\buildkite-windows-cpu-autoscaling-group-i-0b3782d1791676daf-1\\xgboost\\xgboost-ci-windows\\src\\learner.cc:742: \n",
      "Parameters: { \"silent\" } are not used.\n",
      "\n",
      "  warnings.warn(smsg, UserWarning)\n",
      "\n"
     ]
    },
    {
     "name": "stdout",
     "output_type": "stream",
     "text": [
      "\tScore 0.6856036282711151                                                              \n",
      "\n",
      "\n",
      "Training with params:                                                                  \n",
      "{'booster': 'gbtree', 'colsample_bytree': 0.8500000000000001, 'eta': 0.225, 'gamma': 0.7000000000000001, 'max_depth': 3, 'min_child_weight': 1.0, 'n_estimators': 786.0, 'nthread': 16, 'objective': 'reg:squarederror', 'seed': 314159265, 'silent': 1, 'subsample': 0.65, 'tree_method': 'exact'}\n",
      " 10%|█         | 26/250 [52:06<10:21:26, 166.46s/trial, best loss: 0.27255524966407196]"
     ]
    },
    {
     "name": "stderr",
     "output_type": "stream",
     "text": [
      "c:\\Users\\dimas\\AppData\\Local\\Programs\\Python\\Python311\\Lib\\site-packages\\xgboost\\core.py:160: UserWarning: [00:45:12] WARNING: C:\\buildkite-agent\\builds\\buildkite-windows-cpu-autoscaling-group-i-0b3782d1791676daf-1\\xgboost\\xgboost-ci-windows\\src\\learner.cc:742: \n",
      "Parameters: { \"silent\" } are not used.\n",
      "\n",
      "  warnings.warn(smsg, UserWarning)\n",
      "\n"
     ]
    },
    {
     "name": "stdout",
     "output_type": "stream",
     "text": [
      "\tScore 0.6427380955497319                                                              \n",
      "\n",
      "\n",
      "Training with params:                                                                  \n",
      "{'booster': 'gbtree', 'colsample_bytree': 0.55, 'eta': 0.125, 'gamma': 0.65, 'max_depth': 5, 'min_child_weight': 2.0, 'n_estimators': 715.0, 'nthread': 16, 'objective': 'reg:squarederror', 'seed': 314159265, 'silent': 1, 'subsample': 0.8, 'tree_method': 'exact'}\n",
      " 11%|█         | 27/250 [53:12<8:26:45, 136.35s/trial, best loss: 0.27255524966407196]"
     ]
    },
    {
     "name": "stderr",
     "output_type": "stream",
     "text": [
      "c:\\Users\\dimas\\AppData\\Local\\Programs\\Python\\Python311\\Lib\\site-packages\\xgboost\\core.py:160: UserWarning: [00:46:18] WARNING: C:\\buildkite-agent\\builds\\buildkite-windows-cpu-autoscaling-group-i-0b3782d1791676daf-1\\xgboost\\xgboost-ci-windows\\src\\learner.cc:742: \n",
      "Parameters: { \"silent\" } are not used.\n",
      "\n",
      "  warnings.warn(smsg, UserWarning)\n",
      "\n"
     ]
    },
    {
     "name": "stdout",
     "output_type": "stream",
     "text": [
      "\tScore 0.6985105933823801                                                             \n",
      "\n",
      "\n",
      "Training with params:                                                                 \n",
      "{'booster': 'gbtree', 'colsample_bytree': 0.7000000000000001, 'eta': 0.225, 'gamma': 0.7000000000000001, 'max_depth': 13, 'min_child_weight': 2.0, 'n_estimators': 666.0, 'nthread': 16, 'objective': 'reg:squarederror', 'seed': 314159265, 'silent': 1, 'subsample': 0.65, 'tree_method': 'exact'}\n",
      " 11%|█         | 28/250 [54:32<7:22:05, 119.48s/trial, best loss: 0.27255524966407196]"
     ]
    },
    {
     "name": "stderr",
     "output_type": "stream",
     "text": [
      "c:\\Users\\dimas\\AppData\\Local\\Programs\\Python\\Python311\\Lib\\site-packages\\xgboost\\core.py:160: UserWarning: [00:47:38] WARNING: C:\\buildkite-agent\\builds\\buildkite-windows-cpu-autoscaling-group-i-0b3782d1791676daf-1\\xgboost\\xgboost-ci-windows\\src\\learner.cc:742: \n",
      "Parameters: { \"silent\" } are not used.\n",
      "\n",
      "  warnings.warn(smsg, UserWarning)\n",
      "\n"
     ]
    },
    {
     "name": "stdout",
     "output_type": "stream",
     "text": [
      "\tScore 0.7076667595181547                                                             \n",
      "\n",
      "\n",
      "Training with params:                                                                 \n",
      "{'booster': 'gbtree', 'colsample_bytree': 0.8500000000000001, 'eta': 0.05, 'gamma': 0.55, 'max_depth': 12, 'min_child_weight': 1.0, 'n_estimators': 846.0, 'nthread': 16, 'objective': 'reg:squarederror', 'seed': 314159265, 'silent': 1, 'subsample': 0.75, 'tree_method': 'exact'}\n",
      " 12%|█▏        | 29/250 [57:56<8:53:16, 144.78s/trial, best loss: 0.27255524966407196]"
     ]
    },
    {
     "name": "stderr",
     "output_type": "stream",
     "text": [
      "c:\\Users\\dimas\\AppData\\Local\\Programs\\Python\\Python311\\Lib\\site-packages\\xgboost\\core.py:160: UserWarning: [00:51:02] WARNING: C:\\buildkite-agent\\builds\\buildkite-windows-cpu-autoscaling-group-i-0b3782d1791676daf-1\\xgboost\\xgboost-ci-windows\\src\\learner.cc:742: \n",
      "Parameters: { \"silent\" } are not used.\n",
      "\n",
      "  warnings.warn(smsg, UserWarning)\n",
      "\n"
     ]
    },
    {
     "name": "stdout",
     "output_type": "stream",
     "text": [
      "\tScore 0.7191672989024448                                                             \n",
      "\n",
      "\n",
      "Training with params:                                                                    \n",
      "{'booster': 'gbtree', 'colsample_bytree': 0.55, 'eta': 0.2, 'gamma': 0.65, 'max_depth': 12, 'min_child_weight': 3.0, 'n_estimators': 803.0, 'nthread': 16, 'objective': 'reg:squarederror', 'seed': 314159265, 'silent': 1, 'subsample': 0.6000000000000001, 'tree_method': 'exact'}\n",
      " 12%|█▏        | 30/250 [1:02:05<10:45:11, 175.96s/trial, best loss: 0.27255524966407196]"
     ]
    },
    {
     "name": "stderr",
     "output_type": "stream",
     "text": [
      "c:\\Users\\dimas\\AppData\\Local\\Programs\\Python\\Python311\\Lib\\site-packages\\xgboost\\core.py:160: UserWarning: [00:55:11] WARNING: C:\\buildkite-agent\\builds\\buildkite-windows-cpu-autoscaling-group-i-0b3782d1791676daf-1\\xgboost\\xgboost-ci-windows\\src\\learner.cc:742: \n",
      "Parameters: { \"silent\" } are not used.\n",
      "\n",
      "  warnings.warn(smsg, UserWarning)\n",
      "\n"
     ]
    },
    {
     "name": "stdout",
     "output_type": "stream",
     "text": [
      "\tScore 0.7114415646083041                                                                \n",
      "\n",
      "\n",
      "Training with params:                                                                    \n",
      "{'booster': 'gbtree', 'colsample_bytree': 0.75, 'eta': 0.375, 'gamma': 0.5, 'max_depth': 7, 'min_child_weight': 1.0, 'n_estimators': 924.0, 'nthread': 16, 'objective': 'reg:squarederror', 'seed': 314159265, 'silent': 1, 'subsample': 0.5, 'tree_method': 'exact'}\n",
      " 12%|█▏        | 31/250 [1:05:52<11:38:19, 191.32s/trial, best loss: 0.27255524966407196]"
     ]
    },
    {
     "name": "stderr",
     "output_type": "stream",
     "text": [
      "c:\\Users\\dimas\\AppData\\Local\\Programs\\Python\\Python311\\Lib\\site-packages\\xgboost\\core.py:160: UserWarning: [00:58:58] WARNING: C:\\buildkite-agent\\builds\\buildkite-windows-cpu-autoscaling-group-i-0b3782d1791676daf-1\\xgboost\\xgboost-ci-windows\\src\\learner.cc:742: \n",
      "Parameters: { \"silent\" } are not used.\n",
      "\n",
      "  warnings.warn(smsg, UserWarning)\n",
      "\n"
     ]
    },
    {
     "name": "stdout",
     "output_type": "stream",
     "text": [
      "\tScore 0.6900276989833081                                                                \n",
      "\n",
      "\n",
      "Training with params:                                                                    \n",
      "{'booster': 'gbtree', 'colsample_bytree': 0.65, 'eta': 0.07500000000000001, 'gamma': 0.6000000000000001, 'max_depth': 4, 'min_child_weight': 2.0, 'n_estimators': 855.0, 'nthread': 16, 'objective': 'reg:squarederror', 'seed': 314159265, 'silent': 1, 'subsample': 0.8500000000000001, 'tree_method': 'exact'}\n",
      " 13%|█▎        | 32/250 [1:08:37<11:07:14, 183.65s/trial, best loss: 0.27255524966407196]"
     ]
    },
    {
     "name": "stderr",
     "output_type": "stream",
     "text": [
      "c:\\Users\\dimas\\AppData\\Local\\Programs\\Python\\Python311\\Lib\\site-packages\\xgboost\\core.py:160: UserWarning: [01:01:44] WARNING: C:\\buildkite-agent\\builds\\buildkite-windows-cpu-autoscaling-group-i-0b3782d1791676daf-1\\xgboost\\xgboost-ci-windows\\src\\learner.cc:742: \n",
      "Parameters: { \"silent\" } are not used.\n",
      "\n",
      "  warnings.warn(smsg, UserWarning)\n",
      "\n"
     ]
    },
    {
     "name": "stdout",
     "output_type": "stream",
     "text": [
      "\tScore 0.663441643428436                                                                 \n",
      "\n",
      "\n",
      "Training with params:                                                                    \n",
      "{'booster': 'gbtree', 'colsample_bytree': 0.8500000000000001, 'eta': 0.15000000000000002, 'gamma': 0.75, 'max_depth': 12, 'min_child_weight': 5.0, 'n_estimators': 548.0, 'nthread': 16, 'objective': 'reg:squarederror', 'seed': 314159265, 'silent': 1, 'subsample': 0.8, 'tree_method': 'exact'}\n",
      " 13%|█▎        | 33/250 [1:09:58<9:12:21, 152.72s/trial, best loss: 0.27255524966407196]"
     ]
    },
    {
     "name": "stderr",
     "output_type": "stream",
     "text": [
      "c:\\Users\\dimas\\AppData\\Local\\Programs\\Python\\Python311\\Lib\\site-packages\\xgboost\\core.py:160: UserWarning: [01:03:04] WARNING: C:\\buildkite-agent\\builds\\buildkite-windows-cpu-autoscaling-group-i-0b3782d1791676daf-1\\xgboost\\xgboost-ci-windows\\src\\learner.cc:742: \n",
      "Parameters: { \"silent\" } are not used.\n",
      "\n",
      "  warnings.warn(smsg, UserWarning)\n",
      "\n"
     ]
    },
    {
     "name": "stdout",
     "output_type": "stream",
     "text": [
      "\tScore 0.717838707528532                                                                \n",
      "\n",
      "\n",
      "Training with params:                                                                   \n",
      "{'booster': 'gbtree', 'colsample_bytree': 0.9500000000000001, 'eta': 0.5, 'gamma': 0.8500000000000001, 'max_depth': 13, 'min_child_weight': 3.0, 'n_estimators': 669.0, 'nthread': 16, 'objective': 'reg:squarederror', 'seed': 314159265, 'silent': 1, 'subsample': 0.75, 'tree_method': 'exact'}\n",
      " 14%|█▎        | 34/250 [1:12:40<9:20:00, 155.56s/trial, best loss: 0.27255524966407196]"
     ]
    },
    {
     "name": "stderr",
     "output_type": "stream",
     "text": [
      "c:\\Users\\dimas\\AppData\\Local\\Programs\\Python\\Python311\\Lib\\site-packages\\xgboost\\core.py:160: UserWarning: [01:05:47] WARNING: C:\\buildkite-agent\\builds\\buildkite-windows-cpu-autoscaling-group-i-0b3782d1791676daf-1\\xgboost\\xgboost-ci-windows\\src\\learner.cc:742: \n",
      "Parameters: { \"silent\" } are not used.\n",
      "\n",
      "  warnings.warn(smsg, UserWarning)\n",
      "\n"
     ]
    },
    {
     "name": "stdout",
     "output_type": "stream",
     "text": [
      "\tScore 0.6711423740865914                                                               \n",
      "\n",
      "\n",
      "Training with params:                                                                    \n",
      "{'booster': 'gbtree', 'colsample_bytree': 0.7000000000000001, 'eta': 0.07500000000000001, 'gamma': 0.7000000000000001, 'max_depth': 5, 'min_child_weight': 1.0, 'n_estimators': 475.0, 'nthread': 16, 'objective': 'reg:squarederror', 'seed': 314159265, 'silent': 1, 'subsample': 0.6000000000000001, 'tree_method': 'exact'}\n",
      " 14%|█▍        | 35/250 [1:16:22<10:28:23, 175.37s/trial, best loss: 0.27255524966407196]"
     ]
    },
    {
     "name": "stderr",
     "output_type": "stream",
     "text": [
      "c:\\Users\\dimas\\AppData\\Local\\Programs\\Python\\Python311\\Lib\\site-packages\\xgboost\\core.py:160: UserWarning: [01:09:28] WARNING: C:\\buildkite-agent\\builds\\buildkite-windows-cpu-autoscaling-group-i-0b3782d1791676daf-1\\xgboost\\xgboost-ci-windows\\src\\learner.cc:742: \n",
      "Parameters: { \"silent\" } are not used.\n",
      "\n",
      "  warnings.warn(smsg, UserWarning)\n",
      "\n"
     ]
    },
    {
     "name": "stdout",
     "output_type": "stream",
     "text": [
      "\tScore 0.6738001525334276                                                                \n",
      "\n",
      "\n",
      "Training with params:                                                                    \n",
      "{'booster': 'gbtree', 'colsample_bytree': 0.75, 'eta': 0.125, 'gamma': 0.6000000000000001, 'max_depth': 3, 'min_child_weight': 2.0, 'n_estimators': 781.0, 'nthread': 16, 'objective': 'reg:squarederror', 'seed': 314159265, 'silent': 1, 'subsample': 0.9, 'tree_method': 'exact'}\n",
      " 14%|█▍        | 36/250 [1:17:21<8:21:18, 140.55s/trial, best loss: 0.27255524966407196]"
     ]
    },
    {
     "name": "stderr",
     "output_type": "stream",
     "text": [
      "c:\\Users\\dimas\\AppData\\Local\\Programs\\Python\\Python311\\Lib\\site-packages\\xgboost\\core.py:160: UserWarning: [01:10:27] WARNING: C:\\buildkite-agent\\builds\\buildkite-windows-cpu-autoscaling-group-i-0b3782d1791676daf-1\\xgboost\\xgboost-ci-windows\\src\\learner.cc:742: \n",
      "Parameters: { \"silent\" } are not used.\n",
      "\n",
      "  warnings.warn(smsg, UserWarning)\n",
      "\n"
     ]
    },
    {
     "name": "stdout",
     "output_type": "stream",
     "text": [
      "\tScore 0.6320584426897877                                                               \n",
      "\n",
      "\n",
      "Training with params:                                                                   \n",
      "{'booster': 'gbtree', 'colsample_bytree': 1.0, 'eta': 0.2, 'gamma': 0.9500000000000001, 'max_depth': 12, 'min_child_weight': 3.0, 'n_estimators': 890.0, 'nthread': 16, 'objective': 'reg:squarederror', 'seed': 314159265, 'silent': 1, 'subsample': 0.65, 'tree_method': 'exact'}\n",
      " 15%|█▍        | 37/250 [1:18:18<6:49:34, 115.37s/trial, best loss: 0.27255524966407196]"
     ]
    },
    {
     "name": "stderr",
     "output_type": "stream",
     "text": [
      "c:\\Users\\dimas\\AppData\\Local\\Programs\\Python\\Python311\\Lib\\site-packages\\xgboost\\core.py:160: UserWarning: [01:11:24] WARNING: C:\\buildkite-agent\\builds\\buildkite-windows-cpu-autoscaling-group-i-0b3782d1791676daf-1\\xgboost\\xgboost-ci-windows\\src\\learner.cc:742: \n",
      "Parameters: { \"silent\" } are not used.\n",
      "\n",
      "  warnings.warn(smsg, UserWarning)\n",
      "\n"
     ]
    },
    {
     "name": "stdout",
     "output_type": "stream",
     "text": [
      "\tScore 0.7122000762926739                                                               \n",
      "\n",
      "\n",
      "Training with params:                                                                   \n",
      "{'booster': 'gbtree', 'colsample_bytree': 0.6000000000000001, 'eta': 0.05, 'gamma': 1.0, 'max_depth': 2, 'min_child_weight': 2.0, 'n_estimators': 839.0, 'nthread': 16, 'objective': 'reg:squarederror', 'seed': 314159265, 'silent': 1, 'subsample': 0.7000000000000001, 'tree_method': 'exact'}\n",
      " 15%|█▌        | 38/250 [1:22:58<9:42:53, 164.97s/trial, best loss: 0.27255524966407196]"
     ]
    },
    {
     "name": "stderr",
     "output_type": "stream",
     "text": [
      "c:\\Users\\dimas\\AppData\\Local\\Programs\\Python\\Python311\\Lib\\site-packages\\xgboost\\core.py:160: UserWarning: [01:16:05] WARNING: C:\\buildkite-agent\\builds\\buildkite-windows-cpu-autoscaling-group-i-0b3782d1791676daf-1\\xgboost\\xgboost-ci-windows\\src\\learner.cc:742: \n",
      "Parameters: { \"silent\" } are not used.\n",
      "\n",
      "  warnings.warn(smsg, UserWarning)\n",
      "\n"
     ]
    },
    {
     "name": "stdout",
     "output_type": "stream",
     "text": [
      "\tScore 0.45580517607842685                                                              \n",
      "\n",
      "\n",
      "Training with params:                                                                   \n",
      "{'booster': 'gbtree', 'colsample_bytree': 0.55, 'eta': 0.125, 'gamma': 0.65, 'max_depth': 7, 'min_child_weight': 1.0, 'n_estimators': 315.0, 'nthread': 16, 'objective': 'reg:squarederror', 'seed': 314159265, 'silent': 1, 'subsample': 0.8500000000000001, 'tree_method': 'exact'}\n",
      " 16%|█▌        | 39/250 [1:23:48<7:38:52, 130.48s/trial, best loss: 0.27255524966407196]"
     ]
    },
    {
     "name": "stderr",
     "output_type": "stream",
     "text": [
      "c:\\Users\\dimas\\AppData\\Local\\Programs\\Python\\Python311\\Lib\\site-packages\\xgboost\\core.py:160: UserWarning: [01:16:55] WARNING: C:\\buildkite-agent\\builds\\buildkite-windows-cpu-autoscaling-group-i-0b3782d1791676daf-1\\xgboost\\xgboost-ci-windows\\src\\learner.cc:742: \n",
      "Parameters: { \"silent\" } are not used.\n",
      "\n",
      "  warnings.warn(smsg, UserWarning)\n",
      "\n"
     ]
    },
    {
     "name": "stdout",
     "output_type": "stream",
     "text": [
      "\tScore 0.7118754884440053                                                               \n",
      "\n",
      "\n",
      "Training with params:                                                                   \n",
      "{'booster': 'gbtree', 'colsample_bytree': 0.65, 'eta': 0.15000000000000002, 'gamma': 0.8500000000000001, 'max_depth': 6, 'min_child_weight': 3.0, 'n_estimators': 573.0, 'nthread': 16, 'objective': 'reg:squarederror', 'seed': 314159265, 'silent': 1, 'subsample': 0.8, 'tree_method': 'exact'}\n",
      " 16%|█▌        | 40/250 [1:24:35<6:08:21, 105.24s/trial, best loss: 0.27255524966407196]"
     ]
    },
    {
     "name": "stderr",
     "output_type": "stream",
     "text": [
      "c:\\Users\\dimas\\AppData\\Local\\Programs\\Python\\Python311\\Lib\\site-packages\\xgboost\\core.py:160: UserWarning: [01:17:41] WARNING: C:\\buildkite-agent\\builds\\buildkite-windows-cpu-autoscaling-group-i-0b3782d1791676daf-1\\xgboost\\xgboost-ci-windows\\src\\learner.cc:742: \n",
      "Parameters: { \"silent\" } are not used.\n",
      "\n",
      "  warnings.warn(smsg, UserWarning)\n",
      "\n"
     ]
    },
    {
     "name": "stdout",
     "output_type": "stream",
     "text": [
      "\tScore 0.7109276650066774                                                               \n",
      "\n",
      "\n",
      "Training with params:                                                                   \n",
      "{'booster': 'gbtree', 'colsample_bytree': 0.75, 'eta': 0.05, 'gamma': 0.6000000000000001, 'max_depth': 1, 'min_child_weight': 2.0, 'n_estimators': 655.0, 'nthread': 16, 'objective': 'reg:squarederror', 'seed': 314159265, 'silent': 1, 'subsample': 0.7000000000000001, 'tree_method': 'exact'}\n",
      " 16%|█▋        | 41/250 [1:25:52<5:36:48, 96.69s/trial, best loss: 0.27255524966407196]"
     ]
    },
    {
     "name": "stderr",
     "output_type": "stream",
     "text": [
      "c:\\Users\\dimas\\AppData\\Local\\Programs\\Python\\Python311\\Lib\\site-packages\\xgboost\\core.py:160: UserWarning: [01:18:58] WARNING: C:\\buildkite-agent\\builds\\buildkite-windows-cpu-autoscaling-group-i-0b3782d1791676daf-1\\xgboost\\xgboost-ci-windows\\src\\learner.cc:742: \n",
      "Parameters: { \"silent\" } are not used.\n",
      "\n",
      "  warnings.warn(smsg, UserWarning)\n",
      "\n"
     ]
    },
    {
     "name": "stdout",
     "output_type": "stream",
     "text": [
      "\tScore 0.2735674041049547                                                              \n",
      "\n",
      "\n",
      "Training with params:                                                                  \n",
      "{'booster': 'gbtree', 'colsample_bytree': 0.7000000000000001, 'eta': 0.275, 'gamma': 0.8, 'max_depth': 12, 'min_child_weight': 5.0, 'n_estimators': 918.0, 'nthread': 16, 'objective': 'reg:squarederror', 'seed': 314159265, 'silent': 1, 'subsample': 0.8500000000000001, 'tree_method': 'exact'}\n",
      " 17%|█▋        | 42/250 [1:26:21<4:24:59, 76.44s/trial, best loss: 0.27255524966407196]"
     ]
    },
    {
     "name": "stderr",
     "output_type": "stream",
     "text": [
      "c:\\Users\\dimas\\AppData\\Local\\Programs\\Python\\Python311\\Lib\\site-packages\\xgboost\\core.py:160: UserWarning: [01:19:27] WARNING: C:\\buildkite-agent\\builds\\buildkite-windows-cpu-autoscaling-group-i-0b3782d1791676daf-1\\xgboost\\xgboost-ci-windows\\src\\learner.cc:742: \n",
      "Parameters: { \"silent\" } are not used.\n",
      "\n",
      "  warnings.warn(smsg, UserWarning)\n",
      "\n"
     ]
    },
    {
     "name": "stdout",
     "output_type": "stream",
     "text": [
      "\tScore 0.7079857776912353                                                              \n",
      "\n",
      "\n",
      "Training with params:                                                                   \n",
      "{'booster': 'gbtree', 'colsample_bytree': 0.8, 'eta': 0.07500000000000001, 'gamma': 0.75, 'max_depth': 2, 'min_child_weight': 1.0, 'n_estimators': 760.0, 'nthread': 16, 'objective': 'reg:squarederror', 'seed': 314159265, 'silent': 1, 'subsample': 0.5, 'tree_method': 'exact'}\n",
      " 17%|█▋        | 43/250 [1:30:18<7:10:35, 124.81s/trial, best loss: 0.27255524966407196]"
     ]
    },
    {
     "name": "stderr",
     "output_type": "stream",
     "text": [
      "c:\\Users\\dimas\\AppData\\Local\\Programs\\Python\\Python311\\Lib\\site-packages\\xgboost\\core.py:160: UserWarning: [01:23:25] WARNING: C:\\buildkite-agent\\builds\\buildkite-windows-cpu-autoscaling-group-i-0b3782d1791676daf-1\\xgboost\\xgboost-ci-windows\\src\\learner.cc:742: \n",
      "Parameters: { \"silent\" } are not used.\n",
      "\n",
      "  warnings.warn(smsg, UserWarning)\n",
      "\n"
     ]
    },
    {
     "name": "stdout",
     "output_type": "stream",
     "text": [
      "\tScore 0.49068161870226734                                                              \n",
      "\n",
      "\n",
      "Training with params:                                                                   \n",
      "{'booster': 'gbtree', 'colsample_bytree': 0.6000000000000001, 'eta': 0.4, 'gamma': 0.8, 'max_depth': 11, 'min_child_weight': 3.0, 'n_estimators': 694.0, 'nthread': 16, 'objective': 'reg:squarederror', 'seed': 314159265, 'silent': 1, 'subsample': 0.6000000000000001, 'tree_method': 'exact'}\n",
      " 18%|█▊        | 44/250 [1:31:09<5:52:24, 102.64s/trial, best loss: 0.27255524966407196]"
     ]
    },
    {
     "name": "stderr",
     "output_type": "stream",
     "text": [
      "c:\\Users\\dimas\\AppData\\Local\\Programs\\Python\\Python311\\Lib\\site-packages\\xgboost\\core.py:160: UserWarning: [01:24:16] WARNING: C:\\buildkite-agent\\builds\\buildkite-windows-cpu-autoscaling-group-i-0b3782d1791676daf-1\\xgboost\\xgboost-ci-windows\\src\\learner.cc:742: \n",
      "Parameters: { \"silent\" } are not used.\n",
      "\n",
      "  warnings.warn(smsg, UserWarning)\n",
      "\n"
     ]
    },
    {
     "name": "stdout",
     "output_type": "stream",
     "text": [
      "\tScore 0.6916463845636367                                                               \n",
      "\n",
      "\n",
      "Training with params:                                                                   \n",
      "{'booster': 'gbtree', 'colsample_bytree': 0.9, 'eta': 0.2, 'gamma': 0.55, 'max_depth': 5, 'min_child_weight': 4.0, 'n_estimators': 998.0, 'nthread': 16, 'objective': 'reg:squarederror', 'seed': 314159265, 'silent': 1, 'subsample': 0.7000000000000001, 'tree_method': 'exact'}\n",
      " 18%|█▊        | 45/250 [1:34:02<7:02:25, 123.63s/trial, best loss: 0.27255524966407196]"
     ]
    },
    {
     "name": "stderr",
     "output_type": "stream",
     "text": [
      "c:\\Users\\dimas\\AppData\\Local\\Programs\\Python\\Python311\\Lib\\site-packages\\xgboost\\core.py:160: UserWarning: [01:27:08] WARNING: C:\\buildkite-agent\\builds\\buildkite-windows-cpu-autoscaling-group-i-0b3782d1791676daf-1\\xgboost\\xgboost-ci-windows\\src\\learner.cc:742: \n",
      "Parameters: { \"silent\" } are not used.\n",
      "\n",
      "  warnings.warn(smsg, UserWarning)\n",
      "\n"
     ]
    },
    {
     "name": "stdout",
     "output_type": "stream",
     "text": [
      "\tScore 0.7050330385551903                                                               \n",
      "\n",
      "\n",
      "Training with params:                                                                   \n",
      "{'booster': 'gbtree', 'colsample_bytree': 0.65, 'eta': 0.325, 'gamma': 0.75, 'max_depth': 4, 'min_child_weight': 3.0, 'n_estimators': 466.0, 'nthread': 16, 'objective': 'reg:squarederror', 'seed': 314159265, 'silent': 1, 'subsample': 0.75, 'tree_method': 'exact'}\n",
      " 18%|█▊        | 46/250 [1:36:06<7:00:31, 123.68s/trial, best loss: 0.27255524966407196]"
     ]
    },
    {
     "name": "stderr",
     "output_type": "stream",
     "text": [
      "c:\\Users\\dimas\\AppData\\Local\\Programs\\Python\\Python311\\Lib\\site-packages\\xgboost\\core.py:160: UserWarning: [01:29:12] WARNING: C:\\buildkite-agent\\builds\\buildkite-windows-cpu-autoscaling-group-i-0b3782d1791676daf-1\\xgboost\\xgboost-ci-windows\\src\\learner.cc:742: \n",
      "Parameters: { \"silent\" } are not used.\n",
      "\n",
      "  warnings.warn(smsg, UserWarning)\n",
      "\n"
     ]
    },
    {
     "name": "stdout",
     "output_type": "stream",
     "text": [
      "\tScore 0.6773572785373093                                                               \n",
      "\n",
      "\n",
      "Training with params:                                                                   \n",
      "{'booster': 'gbtree', 'colsample_bytree': 0.75, 'eta': 0.45, 'gamma': 0.7000000000000001, 'max_depth': 8, 'min_child_weight': 1.0, 'n_estimators': 314.0, 'nthread': 16, 'objective': 'reg:squarederror', 'seed': 314159265, 'silent': 1, 'subsample': 0.9, 'tree_method': 'exact'}\n",
      " 19%|█▉        | 47/250 [1:36:51<5:38:36, 100.08s/trial, best loss: 0.27255524966407196]"
     ]
    },
    {
     "name": "stderr",
     "output_type": "stream",
     "text": [
      "c:\\Users\\dimas\\AppData\\Local\\Programs\\Python\\Python311\\Lib\\site-packages\\xgboost\\core.py:160: UserWarning: [01:29:57] WARNING: C:\\buildkite-agent\\builds\\buildkite-windows-cpu-autoscaling-group-i-0b3782d1791676daf-1\\xgboost\\xgboost-ci-windows\\src\\learner.cc:742: \n",
      "Parameters: { \"silent\" } are not used.\n",
      "\n",
      "  warnings.warn(smsg, UserWarning)\n",
      "\n"
     ]
    },
    {
     "name": "stdout",
     "output_type": "stream",
     "text": [
      "\tScore 0.7075789289176662                                                               \n",
      "\n",
      "\n",
      "Training with params:                                                                   \n",
      "{'booster': 'gbtree', 'colsample_bytree': 0.8, 'eta': 0.25, 'gamma': 0.6000000000000001, 'max_depth': 10, 'min_child_weight': 4.0, 'n_estimators': 944.0, 'nthread': 16, 'objective': 'reg:squarederror', 'seed': 314159265, 'silent': 1, 'subsample': 1.0, 'tree_method': 'exact'}\n",
      " 19%|█▉        | 48/250 [1:37:46<4:51:30, 86.58s/trial, best loss: 0.27255524966407196]"
     ]
    },
    {
     "name": "stderr",
     "output_type": "stream",
     "text": [
      "c:\\Users\\dimas\\AppData\\Local\\Programs\\Python\\Python311\\Lib\\site-packages\\xgboost\\core.py:160: UserWarning: [01:30:52] WARNING: C:\\buildkite-agent\\builds\\buildkite-windows-cpu-autoscaling-group-i-0b3782d1791676daf-1\\xgboost\\xgboost-ci-windows\\src\\learner.cc:742: \n",
      "Parameters: { \"silent\" } are not used.\n",
      "\n",
      "  warnings.warn(smsg, UserWarning)\n",
      "\n"
     ]
    },
    {
     "name": "stdout",
     "output_type": "stream",
     "text": [
      "\tScore 0.7170616720755704                                                              \n",
      "\n",
      "\n",
      "Training with params:                                                                   \n",
      "{'booster': 'gbtree', 'colsample_bytree': 0.5, 'eta': 0.5, 'gamma': 0.65, 'max_depth': 6, 'min_child_weight': 2.0, 'n_estimators': 372.0, 'nthread': 16, 'objective': 'reg:squarederror', 'seed': 314159265, 'silent': 1, 'subsample': 0.8, 'tree_method': 'exact'}\n",
      " 20%|█▉        | 49/250 [1:40:48<6:25:38, 115.12s/trial, best loss: 0.27255524966407196]"
     ]
    },
    {
     "name": "stderr",
     "output_type": "stream",
     "text": [
      "c:\\Users\\dimas\\AppData\\Local\\Programs\\Python\\Python311\\Lib\\site-packages\\xgboost\\core.py:160: UserWarning: [01:33:54] WARNING: C:\\buildkite-agent\\builds\\buildkite-windows-cpu-autoscaling-group-i-0b3782d1791676daf-1\\xgboost\\xgboost-ci-windows\\src\\learner.cc:742: \n",
      "Parameters: { \"silent\" } are not used.\n",
      "\n",
      "  warnings.warn(smsg, UserWarning)\n",
      "\n"
     ]
    },
    {
     "name": "stdout",
     "output_type": "stream",
     "text": [
      "\tScore 0.7015406878704198                                                               \n",
      "\n",
      "\n",
      "Training with params:                                                                   \n",
      "{'booster': 'gbtree', 'colsample_bytree': 0.7000000000000001, 'eta': 0.15000000000000002, 'gamma': 0.8, 'max_depth': 1, 'min_child_weight': 1.0, 'n_estimators': 113.0, 'nthread': 16, 'objective': 'reg:squarederror', 'seed': 314159265, 'silent': 1, 'subsample': 0.65, 'tree_method': 'exact'}\n",
      " 20%|██        | 50/250 [1:41:34<5:15:21, 94.61s/trial, best loss: 0.27255524966407196]"
     ]
    },
    {
     "name": "stderr",
     "output_type": "stream",
     "text": [
      "c:\\Users\\dimas\\AppData\\Local\\Programs\\Python\\Python311\\Lib\\site-packages\\xgboost\\core.py:160: UserWarning: [01:34:41] WARNING: C:\\buildkite-agent\\builds\\buildkite-windows-cpu-autoscaling-group-i-0b3782d1791676daf-1\\xgboost\\xgboost-ci-windows\\src\\learner.cc:742: \n",
      "Parameters: { \"silent\" } are not used.\n",
      "\n",
      "  warnings.warn(smsg, UserWarning)\n",
      "\n"
     ]
    },
    {
     "name": "stdout",
     "output_type": "stream",
     "text": [
      "\tScore 0.2485046050889237                                                              \n",
      "\n",
      "\n",
      "Training with params:                                                                  \n",
      "{'booster': 'gbtree', 'colsample_bytree': 0.55, 'eta': 0.1, 'gamma': 0.9500000000000001, 'max_depth': 12, 'min_child_weight': 5.0, 'n_estimators': 508.0, 'nthread': 16, 'objective': 'reg:squarederror', 'seed': 314159265, 'silent': 1, 'subsample': 0.8500000000000001, 'tree_method': 'exact'}\n",
      " 20%|██        | 51/250 [1:41:40<3:45:07, 67.88s/trial, best loss: 0.27255524966407196]"
     ]
    },
    {
     "name": "stderr",
     "output_type": "stream",
     "text": [
      "c:\\Users\\dimas\\AppData\\Local\\Programs\\Python\\Python311\\Lib\\site-packages\\xgboost\\core.py:160: UserWarning: [01:34:46] WARNING: C:\\buildkite-agent\\builds\\buildkite-windows-cpu-autoscaling-group-i-0b3782d1791676daf-1\\xgboost\\xgboost-ci-windows\\src\\learner.cc:742: \n",
      "Parameters: { \"silent\" } are not used.\n",
      "\n",
      "  warnings.warn(smsg, UserWarning)\n",
      "\n"
     ]
    },
    {
     "name": "stdout",
     "output_type": "stream",
     "text": [
      "\tScore 0.724325230584123                                                               \n",
      "\n",
      "\n",
      "Training with params:                                                                  \n",
      "{'booster': 'gbtree', 'colsample_bytree': 0.6000000000000001, 'eta': 0.025, 'gamma': 0.8500000000000001, 'max_depth': 9, 'min_child_weight': 3.0, 'n_estimators': 824.0, 'nthread': 16, 'objective': 'reg:squarederror', 'seed': 314159265, 'silent': 1, 'subsample': 0.55, 'tree_method': 'exact'}\n",
      " 21%|██        | 52/250 [1:43:46<4:42:06, 85.49s/trial, best loss: 0.27255524966407196]"
     ]
    },
    {
     "name": "stderr",
     "output_type": "stream",
     "text": [
      "c:\\Users\\dimas\\AppData\\Local\\Programs\\Python\\Python311\\Lib\\site-packages\\xgboost\\core.py:160: UserWarning: [01:36:53] WARNING: C:\\buildkite-agent\\builds\\buildkite-windows-cpu-autoscaling-group-i-0b3782d1791676daf-1\\xgboost\\xgboost-ci-windows\\src\\learner.cc:742: \n",
      "Parameters: { \"silent\" } are not used.\n",
      "\n",
      "  warnings.warn(smsg, UserWarning)\n",
      "\n"
     ]
    },
    {
     "name": "stdout",
     "output_type": "stream",
     "text": [
      "\tScore 0.7178796306906761                                                              \n",
      "\n",
      "\n",
      "Training with params:                                                                   \n",
      "{'booster': 'gbtree', 'colsample_bytree': 0.7000000000000001, 'eta': 0.17500000000000002, 'gamma': 0.75, 'max_depth': 3, 'min_child_weight': 2.0, 'n_estimators': 575.0, 'nthread': 16, 'objective': 'reg:squarederror', 'seed': 314159265, 'silent': 1, 'subsample': 0.7000000000000001, 'tree_method': 'exact'}\n",
      " 21%|██        | 53/250 [1:46:40<6:07:18, 111.87s/trial, best loss: 0.27255524966407196]"
     ]
    },
    {
     "name": "stderr",
     "output_type": "stream",
     "text": [
      "c:\\Users\\dimas\\AppData\\Local\\Programs\\Python\\Python311\\Lib\\site-packages\\xgboost\\core.py:160: UserWarning: [01:39:46] WARNING: C:\\buildkite-agent\\builds\\buildkite-windows-cpu-autoscaling-group-i-0b3782d1791676daf-1\\xgboost\\xgboost-ci-windows\\src\\learner.cc:742: \n",
      "Parameters: { \"silent\" } are not used.\n",
      "\n",
      "  warnings.warn(smsg, UserWarning)\n",
      "\n"
     ]
    },
    {
     "name": "stdout",
     "output_type": "stream",
     "text": [
      "\tScore 0.625087322572561                                                                \n",
      "\n",
      "\n",
      "Training with params:                                                                   \n",
      "{'booster': 'gbtree', 'colsample_bytree': 0.65, 'eta': 0.07500000000000001, 'gamma': 0.7000000000000001, 'max_depth': 13, 'min_child_weight': 1.0, 'n_estimators': 724.0, 'nthread': 16, 'objective': 'reg:squarederror', 'seed': 314159265, 'silent': 1, 'subsample': 0.75, 'tree_method': 'exact'}\n",
      " 22%|██▏       | 54/250 [1:47:25<5:00:33, 92.01s/trial, best loss: 0.27255524966407196]"
     ]
    },
    {
     "name": "stderr",
     "output_type": "stream",
     "text": [
      "c:\\Users\\dimas\\AppData\\Local\\Programs\\Python\\Python311\\Lib\\site-packages\\xgboost\\core.py:160: UserWarning: [01:40:32] WARNING: C:\\buildkite-agent\\builds\\buildkite-windows-cpu-autoscaling-group-i-0b3782d1791676daf-1\\xgboost\\xgboost-ci-windows\\src\\learner.cc:742: \n",
      "Parameters: { \"silent\" } are not used.\n",
      "\n",
      "  warnings.warn(smsg, UserWarning)\n",
      "\n"
     ]
    },
    {
     "name": "stdout",
     "output_type": "stream",
     "text": [
      "\tScore 0.7185153005455907                                                              \n",
      "\n",
      "\n",
      "Training with params:                                                                   \n",
      "{'booster': 'gbtree', 'colsample_bytree': 0.8500000000000001, 'eta': 0.1, 'gamma': 0.5, 'max_depth': 7, 'min_child_weight': 2.0, 'n_estimators': 637.0, 'nthread': 16, 'objective': 'reg:squarederror', 'seed': 314159265, 'silent': 1, 'subsample': 1.0, 'tree_method': 'exact'}\n",
      " 22%|██▏       | 55/250 [1:51:00<6:58:47, 128.86s/trial, best loss: 0.27255524966407196]"
     ]
    },
    {
     "name": "stderr",
     "output_type": "stream",
     "text": [
      "c:\\Users\\dimas\\AppData\\Local\\Programs\\Python\\Python311\\Lib\\site-packages\\xgboost\\core.py:160: UserWarning: [01:44:07] WARNING: C:\\buildkite-agent\\builds\\buildkite-windows-cpu-autoscaling-group-i-0b3782d1791676daf-1\\xgboost\\xgboost-ci-windows\\src\\learner.cc:742: \n",
      "Parameters: { \"silent\" } are not used.\n",
      "\n",
      "  warnings.warn(smsg, UserWarning)\n",
      "\n"
     ]
    },
    {
     "name": "stdout",
     "output_type": "stream",
     "text": [
      "\tScore 0.7212029329092876                                                               \n",
      "\n",
      "\n",
      "Training with params:                                                                   \n",
      "{'booster': 'gbtree', 'colsample_bytree': 0.6000000000000001, 'eta': 0.05, 'gamma': 0.6000000000000001, 'max_depth': 11, 'min_child_weight': 3.0, 'n_estimators': 241.0, 'nthread': 16, 'objective': 'reg:squarederror', 'seed': 314159265, 'silent': 1, 'subsample': 0.6000000000000001, 'tree_method': 'exact'}\n",
      " 22%|██▏       | 56/250 [1:52:35<6:23:40, 118.66s/trial, best loss: 0.27255524966407196]"
     ]
    },
    {
     "name": "stderr",
     "output_type": "stream",
     "text": [
      "c:\\Users\\dimas\\AppData\\Local\\Programs\\Python\\Python311\\Lib\\site-packages\\xgboost\\core.py:160: UserWarning: [01:45:42] WARNING: C:\\buildkite-agent\\builds\\buildkite-windows-cpu-autoscaling-group-i-0b3782d1791676daf-1\\xgboost\\xgboost-ci-windows\\src\\learner.cc:742: \n",
      "Parameters: { \"silent\" } are not used.\n",
      "\n",
      "  warnings.warn(smsg, UserWarning)\n",
      "\n"
     ]
    },
    {
     "name": "stdout",
     "output_type": "stream",
     "text": [
      "\tScore 0.7217575222495408                                                               \n",
      "\n",
      "\n",
      "Training with params:                                                                   \n",
      "{'booster': 'gbtree', 'colsample_bytree': 0.8, 'eta': 0.125, 'gamma': 0.65, 'max_depth': 12, 'min_child_weight': 4.0, 'n_estimators': 419.0, 'nthread': 16, 'objective': 'reg:squarederror', 'seed': 314159265, 'silent': 1, 'subsample': 0.8, 'tree_method': 'exact'}\n",
      " 23%|██▎       | 57/250 [1:53:39<5:28:24, 102.10s/trial, best loss: 0.27255524966407196]"
     ]
    },
    {
     "name": "stderr",
     "output_type": "stream",
     "text": [
      "c:\\Users\\dimas\\AppData\\Local\\Programs\\Python\\Python311\\Lib\\site-packages\\xgboost\\core.py:160: UserWarning: [01:46:45] WARNING: C:\\buildkite-agent\\builds\\buildkite-windows-cpu-autoscaling-group-i-0b3782d1791676daf-1\\xgboost\\xgboost-ci-windows\\src\\learner.cc:742: \n",
      "Parameters: { \"silent\" } are not used.\n",
      "\n",
      "  warnings.warn(smsg, UserWarning)\n",
      "\n"
     ]
    },
    {
     "name": "stdout",
     "output_type": "stream",
     "text": [
      "\tScore 0.7222632611230285                                                               \n",
      "\n",
      "\n",
      "Training with params:                                                                   \n",
      "{'booster': 'gbtree', 'colsample_bytree': 0.5, 'eta': 0.025, 'gamma': 0.55, 'max_depth': 8, 'min_child_weight': 2.0, 'n_estimators': 895.0, 'nthread': 16, 'objective': 'reg:squarederror', 'seed': 314159265, 'silent': 1, 'subsample': 0.9500000000000001, 'tree_method': 'exact'}\n",
      " 23%|██▎       | 58/250 [1:55:36<5:41:26, 106.70s/trial, best loss: 0.27255524966407196]"
     ]
    },
    {
     "name": "stderr",
     "output_type": "stream",
     "text": [
      "c:\\Users\\dimas\\AppData\\Local\\Programs\\Python\\Python311\\Lib\\site-packages\\xgboost\\core.py:160: UserWarning: [01:48:42] WARNING: C:\\buildkite-agent\\builds\\buildkite-windows-cpu-autoscaling-group-i-0b3782d1791676daf-1\\xgboost\\xgboost-ci-windows\\src\\learner.cc:742: \n",
      "Parameters: { \"silent\" } are not used.\n",
      "\n",
      "  warnings.warn(smsg, UserWarning)\n",
      "\n"
     ]
    },
    {
     "name": "stdout",
     "output_type": "stream",
     "text": [
      "\tScore 0.7098404795048661                                                               \n",
      "\n",
      "\n",
      "Training with params:                                                                   \n",
      "{'booster': 'gbtree', 'colsample_bytree': 0.55, 'eta': 0.275, 'gamma': 0.8, 'max_depth': 12, 'min_child_weight': 1.0, 'n_estimators': 698.0, 'nthread': 16, 'objective': 'reg:squarederror', 'seed': 314159265, 'silent': 1, 'subsample': 0.9, 'tree_method': 'exact'}\n",
      " 24%|██▎       | 59/250 [1:58:04<6:18:38, 118.95s/trial, best loss: 0.27255524966407196]"
     ]
    },
    {
     "name": "stderr",
     "output_type": "stream",
     "text": [
      "c:\\Users\\dimas\\AppData\\Local\\Programs\\Python\\Python311\\Lib\\site-packages\\xgboost\\core.py:160: UserWarning: [01:51:10] WARNING: C:\\buildkite-agent\\builds\\buildkite-windows-cpu-autoscaling-group-i-0b3782d1791676daf-1\\xgboost\\xgboost-ci-windows\\src\\learner.cc:742: \n",
      "Parameters: { \"silent\" } are not used.\n",
      "\n",
      "  warnings.warn(smsg, UserWarning)\n",
      "\n"
     ]
    },
    {
     "name": "stdout",
     "output_type": "stream",
     "text": [
      "\tScore 0.7089660195819272                                                               \n",
      "\n",
      "\n",
      "Training with params:                                                                   \n",
      "{'booster': 'gbtree', 'colsample_bytree': 0.9, 'eta': 0.225, 'gamma': 1.0, 'max_depth': 4, 'min_child_weight': 6.0, 'n_estimators': 599.0, 'nthread': 16, 'objective': 'reg:squarederror', 'seed': 314159265, 'silent': 1, 'subsample': 0.8500000000000001, 'tree_method': 'exact'}\n",
      " 24%|██▍       | 60/250 [2:00:58<7:09:02, 135.49s/trial, best loss: 0.27255524966407196]"
     ]
    },
    {
     "name": "stderr",
     "output_type": "stream",
     "text": [
      "c:\\Users\\dimas\\AppData\\Local\\Programs\\Python\\Python311\\Lib\\site-packages\\xgboost\\core.py:160: UserWarning: [01:54:04] WARNING: C:\\buildkite-agent\\builds\\buildkite-windows-cpu-autoscaling-group-i-0b3782d1791676daf-1\\xgboost\\xgboost-ci-windows\\src\\learner.cc:742: \n",
      "Parameters: { \"silent\" } are not used.\n",
      "\n",
      "  warnings.warn(smsg, UserWarning)\n",
      "\n"
     ]
    },
    {
     "name": "stdout",
     "output_type": "stream",
     "text": [
      "\tScore 0.6819720014432085                                                               \n",
      "\n",
      "\n",
      "Training with params:                                                                   \n",
      "{'booster': 'gbtree', 'colsample_bytree': 0.75, 'eta': 0.325, 'gamma': 0.9, 'max_depth': 10, 'min_child_weight': 4.0, 'n_estimators': 870.0, 'nthread': 16, 'objective': 'reg:squarederror', 'seed': 314159265, 'silent': 1, 'subsample': 0.65, 'tree_method': 'exact'}\n",
      " 24%|██▍       | 61/250 [2:01:57<5:55:01, 112.70s/trial, best loss: 0.27255524966407196]"
     ]
    },
    {
     "name": "stderr",
     "output_type": "stream",
     "text": [
      "c:\\Users\\dimas\\AppData\\Local\\Programs\\Python\\Python311\\Lib\\site-packages\\xgboost\\core.py:160: UserWarning: [01:55:04] WARNING: C:\\buildkite-agent\\builds\\buildkite-windows-cpu-autoscaling-group-i-0b3782d1791676daf-1\\xgboost\\xgboost-ci-windows\\src\\learner.cc:742: \n",
      "Parameters: { \"silent\" } are not used.\n",
      "\n",
      "  warnings.warn(smsg, UserWarning)\n",
      "\n"
     ]
    },
    {
     "name": "stdout",
     "output_type": "stream",
     "text": [
      "\tScore 0.7001498856348962                                                               \n",
      "\n",
      "\n",
      "Training with params:                                                                   \n",
      "{'booster': 'gbtree', 'colsample_bytree': 1.0, 'eta': 0.07500000000000001, 'gamma': 0.7000000000000001, 'max_depth': 9, 'min_child_weight': 2.0, 'n_estimators': 952.0, 'nthread': 16, 'objective': 'reg:squarederror', 'seed': 314159265, 'silent': 1, 'subsample': 0.75, 'tree_method': 'exact'}\n",
      " 25%|██▍       | 62/250 [2:05:26<7:23:50, 141.65s/trial, best loss: 0.27255524966407196]"
     ]
    },
    {
     "name": "stderr",
     "output_type": "stream",
     "text": [
      "c:\\Users\\dimas\\AppData\\Local\\Programs\\Python\\Python311\\Lib\\site-packages\\xgboost\\core.py:160: UserWarning: [01:58:33] WARNING: C:\\buildkite-agent\\builds\\buildkite-windows-cpu-autoscaling-group-i-0b3782d1791676daf-1\\xgboost\\xgboost-ci-windows\\src\\learner.cc:742: \n",
      "Parameters: { \"silent\" } are not used.\n",
      "\n",
      "  warnings.warn(smsg, UserWarning)\n",
      "\n"
     ]
    },
    {
     "name": "stdout",
     "output_type": "stream",
     "text": [
      "\tScore 0.7212910246887865                                                               \n",
      "\n",
      "\n",
      "Training with params:                                                                   \n",
      "{'booster': 'gbtree', 'colsample_bytree': 0.7000000000000001, 'eta': 0.17500000000000002, 'gamma': 0.75, 'max_depth': 2, 'min_child_weight': 3.0, 'n_estimators': 769.0, 'nthread': 16, 'objective': 'reg:squarederror', 'seed': 314159265, 'silent': 1, 'subsample': 0.55, 'tree_method': 'exact'}\n",
      " 25%|██▌       | 63/250 [2:09:02<8:31:00, 163.96s/trial, best loss: 0.27255524966407196]"
     ]
    },
    {
     "name": "stderr",
     "output_type": "stream",
     "text": [
      "c:\\Users\\dimas\\AppData\\Local\\Programs\\Python\\Python311\\Lib\\site-packages\\xgboost\\core.py:160: UserWarning: [02:02:09] WARNING: C:\\buildkite-agent\\builds\\buildkite-windows-cpu-autoscaling-group-i-0b3782d1791676daf-1\\xgboost\\xgboost-ci-windows\\src\\learner.cc:742: \n",
      "Parameters: { \"silent\" } are not used.\n",
      "\n",
      "  warnings.warn(smsg, UserWarning)\n",
      "\n"
     ]
    },
    {
     "name": "stdout",
     "output_type": "stream",
     "text": [
      "\tScore 0.5380954972902423                                                               \n",
      "\n",
      "\n",
      "Training with params:                                                                   \n",
      "{'booster': 'gbtree', 'colsample_bytree': 0.65, 'eta': 0.025, 'gamma': 0.65, 'max_depth': 12, 'min_child_weight': 1.0, 'n_estimators': 437.0, 'nthread': 16, 'objective': 'reg:squarederror', 'seed': 314159265, 'silent': 1, 'subsample': 0.7000000000000001, 'tree_method': 'exact'}\n",
      " 26%|██▌       | 64/250 [2:09:53<6:43:15, 130.08s/trial, best loss: 0.27255524966407196]"
     ]
    },
    {
     "name": "stderr",
     "output_type": "stream",
     "text": [
      "c:\\Users\\dimas\\AppData\\Local\\Programs\\Python\\Python311\\Lib\\site-packages\\xgboost\\core.py:160: UserWarning: [02:03:00] WARNING: C:\\buildkite-agent\\builds\\buildkite-windows-cpu-autoscaling-group-i-0b3782d1791676daf-1\\xgboost\\xgboost-ci-windows\\src\\learner.cc:742: \n",
      "Parameters: { \"silent\" } are not used.\n",
      "\n",
      "  warnings.warn(smsg, UserWarning)\n",
      "\n"
     ]
    },
    {
     "name": "stdout",
     "output_type": "stream",
     "text": [
      "\tScore 0.7276055268062851                                                               \n",
      "\n",
      "\n",
      "Training with params:                                                                   \n",
      "{'booster': 'gbtree', 'colsample_bytree': 0.65, 'eta': 0.025, 'gamma': 0.65, 'max_depth': 12, 'min_child_weight': 1.0, 'n_estimators': 362.0, 'nthread': 16, 'objective': 'reg:squarederror', 'seed': 314159265, 'silent': 1, 'subsample': 0.7000000000000001, 'tree_method': 'exact'}\n",
      " 26%|██▌       | 65/250 [2:12:00<6:37:26, 128.90s/trial, best loss: 0.2723944731937149]"
     ]
    },
    {
     "name": "stderr",
     "output_type": "stream",
     "text": [
      "c:\\Users\\dimas\\AppData\\Local\\Programs\\Python\\Python311\\Lib\\site-packages\\xgboost\\core.py:160: UserWarning: [02:05:06] WARNING: C:\\buildkite-agent\\builds\\buildkite-windows-cpu-autoscaling-group-i-0b3782d1791676daf-1\\xgboost\\xgboost-ci-windows\\src\\learner.cc:742: \n",
      "Parameters: { \"silent\" } are not used.\n",
      "\n",
      "  warnings.warn(smsg, UserWarning)\n",
      "\n"
     ]
    },
    {
     "name": "stdout",
     "output_type": "stream",
     "text": [
      "\tScore 0.727965281473014                                                               \n",
      "\n",
      "\n",
      "Training with params:                                                                  \n",
      "{'booster': 'gbtree', 'colsample_bytree': 0.65, 'eta': 0.025, 'gamma': 0.65, 'max_depth': 12, 'min_child_weight': 1.0, 'n_estimators': 371.0, 'nthread': 16, 'objective': 'reg:squarederror', 'seed': 314159265, 'silent': 1, 'subsample': 0.7000000000000001, 'tree_method': 'exact'}\n",
      " 26%|██▋       | 66/250 [2:13:47<6:15:24, 122.42s/trial, best loss: 0.272034718526986]"
     ]
    },
    {
     "name": "stderr",
     "output_type": "stream",
     "text": [
      "c:\\Users\\dimas\\AppData\\Local\\Programs\\Python\\Python311\\Lib\\site-packages\\xgboost\\core.py:160: UserWarning: [02:06:53] WARNING: C:\\buildkite-agent\\builds\\buildkite-windows-cpu-autoscaling-group-i-0b3782d1791676daf-1\\xgboost\\xgboost-ci-windows\\src\\learner.cc:742: \n",
      "Parameters: { \"silent\" } are not used.\n",
      "\n",
      "  warnings.warn(smsg, UserWarning)\n",
      "\n"
     ]
    },
    {
     "name": "stdout",
     "output_type": "stream",
     "text": [
      "\tScore 0.7278776473338472                                                             \n",
      "\n",
      "\n",
      "Training with params:                                                                 \n",
      "{'booster': 'gbtree', 'colsample_bytree': 0.6000000000000001, 'eta': 0.05, 'gamma': 0.65, 'max_depth': 12, 'min_child_weight': 1.0, 'n_estimators': 258.0, 'nthread': 16, 'objective': 'reg:squarederror', 'seed': 314159265, 'silent': 1, 'subsample': 0.7000000000000001, 'tree_method': 'exact'}\n",
      " 27%|██▋       | 67/250 [2:15:37<6:01:41, 118.59s/trial, best loss: 0.272034718526986]"
     ]
    },
    {
     "name": "stderr",
     "output_type": "stream",
     "text": [
      "c:\\Users\\dimas\\AppData\\Local\\Programs\\Python\\Python311\\Lib\\site-packages\\xgboost\\core.py:160: UserWarning: [02:08:43] WARNING: C:\\buildkite-agent\\builds\\buildkite-windows-cpu-autoscaling-group-i-0b3782d1791676daf-1\\xgboost\\xgboost-ci-windows\\src\\learner.cc:742: \n",
      "Parameters: { \"silent\" } are not used.\n",
      "\n",
      "  warnings.warn(smsg, UserWarning)\n",
      "\n"
     ]
    },
    {
     "name": "stdout",
     "output_type": "stream",
     "text": [
      "\tScore 0.7271625877010202                                                             \n",
      "\n",
      "\n",
      "Training with params:                                                                 \n",
      "{'booster': 'gbtree', 'colsample_bytree': 0.65, 'eta': 0.1, 'gamma': 0.55, 'max_depth': 12, 'min_child_weight': 1.0, 'n_estimators': 198.0, 'nthread': 16, 'objective': 'reg:squarederror', 'seed': 314159265, 'silent': 1, 'subsample': 0.65, 'tree_method': 'exact'}\n",
      " 27%|██▋       | 68/250 [2:16:49<5:17:46, 104.76s/trial, best loss: 0.272034718526986]"
     ]
    },
    {
     "name": "stderr",
     "output_type": "stream",
     "text": [
      "c:\\Users\\dimas\\AppData\\Local\\Programs\\Python\\Python311\\Lib\\site-packages\\xgboost\\core.py:160: UserWarning: [02:09:55] WARNING: C:\\buildkite-agent\\builds\\buildkite-windows-cpu-autoscaling-group-i-0b3782d1791676daf-1\\xgboost\\xgboost-ci-windows\\src\\learner.cc:742: \n",
      "Parameters: { \"silent\" } are not used.\n",
      "\n",
      "  warnings.warn(smsg, UserWarning)\n",
      "\n"
     ]
    },
    {
     "name": "stdout",
     "output_type": "stream",
     "text": [
      "\tScore 0.72572509115548                                                               \n",
      "\n",
      "\n",
      "Training with params:                                                                 \n",
      "{'booster': 'gbtree', 'colsample_bytree': 0.55, 'eta': 0.025, 'gamma': 0.6000000000000001, 'max_depth': 12, 'min_child_weight': 1.0, 'n_estimators': 366.0, 'nthread': 16, 'objective': 'reg:squarederror', 'seed': 314159265, 'silent': 1, 'subsample': 0.6000000000000001, 'tree_method': 'exact'}\n",
      " 28%|██▊       | 69/250 [2:17:48<4:34:29, 90.99s/trial, best loss: 0.272034718526986]"
     ]
    },
    {
     "name": "stderr",
     "output_type": "stream",
     "text": [
      "c:\\Users\\dimas\\AppData\\Local\\Programs\\Python\\Python311\\Lib\\site-packages\\xgboost\\core.py:160: UserWarning: [02:10:54] WARNING: C:\\buildkite-agent\\builds\\buildkite-windows-cpu-autoscaling-group-i-0b3782d1791676daf-1\\xgboost\\xgboost-ci-windows\\src\\learner.cc:742: \n",
      "Parameters: { \"silent\" } are not used.\n",
      "\n",
      "  warnings.warn(smsg, UserWarning)\n",
      "\n"
     ]
    },
    {
     "name": "stdout",
     "output_type": "stream",
     "text": [
      "\tScore 0.7245314470051387                                                            \n",
      "\n",
      "\n",
      "Training with params:                                                                \n",
      "{'booster': 'gbtree', 'colsample_bytree': 0.65, 'eta': 0.125, 'gamma': 0.5, 'max_depth': 6, 'min_child_weight': 1.0, 'n_estimators': 435.0, 'nthread': 16, 'objective': 'reg:squarederror', 'seed': 314159265, 'silent': 1, 'subsample': 0.7000000000000001, 'tree_method': 'exact'}\n",
      " 28%|██▊       | 70/250 [2:19:35<4:47:22, 95.79s/trial, best loss: 0.272034718526986]"
     ]
    },
    {
     "name": "stderr",
     "output_type": "stream",
     "text": [
      "c:\\Users\\dimas\\AppData\\Local\\Programs\\Python\\Python311\\Lib\\site-packages\\xgboost\\core.py:160: UserWarning: [02:12:41] WARNING: C:\\buildkite-agent\\builds\\buildkite-windows-cpu-autoscaling-group-i-0b3782d1791676daf-1\\xgboost\\xgboost-ci-windows\\src\\learner.cc:742: \n",
      "Parameters: { \"silent\" } are not used.\n",
      "\n",
      "  warnings.warn(smsg, UserWarning)\n",
      "\n"
     ]
    },
    {
     "name": "stdout",
     "output_type": "stream",
     "text": [
      "\tScore 0.705756479156219                                                             \n",
      "\n",
      "\n",
      "Training with params:                                                                \n",
      "{'booster': 'gbtree', 'colsample_bytree': 0.6000000000000001, 'eta': 0.05, 'gamma': 0.65, 'max_depth': 12, 'min_child_weight': 1.0, 'n_estimators': 351.0, 'nthread': 16, 'objective': 'reg:squarederror', 'seed': 314159265, 'silent': 1, 'subsample': 0.6000000000000001, 'tree_method': 'exact'}\n",
      " 28%|██▊       | 71/250 [2:20:38<4:16:05, 85.84s/trial, best loss: 0.272034718526986]"
     ]
    },
    {
     "name": "stderr",
     "output_type": "stream",
     "text": [
      "c:\\Users\\dimas\\AppData\\Local\\Programs\\Python\\Python311\\Lib\\site-packages\\xgboost\\core.py:160: UserWarning: [02:13:44] WARNING: C:\\buildkite-agent\\builds\\buildkite-windows-cpu-autoscaling-group-i-0b3782d1791676daf-1\\xgboost\\xgboost-ci-windows\\src\\learner.cc:742: \n",
      "Parameters: { \"silent\" } are not used.\n",
      "\n",
      "  warnings.warn(smsg, UserWarning)\n",
      "\n"
     ]
    },
    {
     "name": "stdout",
     "output_type": "stream",
     "text": [
      "\tScore 0.7248771725295772                                                            \n",
      "\n",
      "\n",
      "Training with params:                                                                \n",
      "{'booster': 'gbtree', 'colsample_bytree': 0.7000000000000001, 'eta': 0.07500000000000001, 'gamma': 0.55, 'max_depth': 13, 'min_child_weight': 1.0, 'n_estimators': 290.0, 'nthread': 16, 'objective': 'reg:squarederror', 'seed': 314159265, 'silent': 1, 'subsample': 0.65, 'tree_method': 'exact'}\n",
      " 29%|██▉       | 72/250 [2:22:19<4:28:47, 90.61s/trial, best loss: 0.272034718526986]"
     ]
    },
    {
     "name": "stderr",
     "output_type": "stream",
     "text": [
      "c:\\Users\\dimas\\AppData\\Local\\Programs\\Python\\Python311\\Lib\\site-packages\\xgboost\\core.py:160: UserWarning: [02:15:26] WARNING: C:\\buildkite-agent\\builds\\buildkite-windows-cpu-autoscaling-group-i-0b3782d1791676daf-1\\xgboost\\xgboost-ci-windows\\src\\learner.cc:742: \n",
      "Parameters: { \"silent\" } are not used.\n",
      "\n",
      "  warnings.warn(smsg, UserWarning)\n",
      "\n"
     ]
    },
    {
     "name": "stdout",
     "output_type": "stream",
     "text": [
      "\tScore 0.7237455574548095                                                            \n",
      "\n",
      "\n",
      "Training with params:                                                                \n",
      "{'booster': 'gbtree', 'colsample_bytree': 0.65, 'eta': 0.15000000000000002, 'gamma': 0.65, 'max_depth': 5, 'min_child_weight': 1.0, 'n_estimators': 126.0, 'nthread': 16, 'objective': 'reg:squarederror', 'seed': 314159265, 'silent': 1, 'subsample': 0.7000000000000001, 'tree_method': 'exact'}\n",
      " 29%|██▉       | 73/250 [2:23:53<4:29:50, 91.47s/trial, best loss: 0.272034718526986]"
     ]
    },
    {
     "name": "stderr",
     "output_type": "stream",
     "text": [
      "c:\\Users\\dimas\\AppData\\Local\\Programs\\Python\\Python311\\Lib\\site-packages\\xgboost\\core.py:160: UserWarning: [02:16:59] WARNING: C:\\buildkite-agent\\builds\\buildkite-windows-cpu-autoscaling-group-i-0b3782d1791676daf-1\\xgboost\\xgboost-ci-windows\\src\\learner.cc:742: \n",
      "Parameters: { \"silent\" } are not used.\n",
      "\n",
      "  warnings.warn(smsg, UserWarning)\n",
      "\n"
     ]
    },
    {
     "name": "stdout",
     "output_type": "stream",
     "text": [
      "\tScore 0.6485372350904794                                                            \n",
      "\n",
      "\n",
      "Training with params:                                                                \n",
      "{'booster': 'gbtree', 'colsample_bytree': 0.5, 'eta': 0.05, 'gamma': 0.6000000000000001, 'max_depth': 3, 'min_child_weight': 6.0, 'n_estimators': 401.0, 'nthread': 16, 'objective': 'reg:squarederror', 'seed': 314159265, 'silent': 1, 'subsample': 0.55, 'tree_method': 'exact'}\n",
      " 30%|██▉       | 74/250 [2:24:08<3:21:38, 68.74s/trial, best loss: 0.272034718526986]"
     ]
    },
    {
     "name": "stderr",
     "output_type": "stream",
     "text": [
      "c:\\Users\\dimas\\AppData\\Local\\Programs\\Python\\Python311\\Lib\\site-packages\\xgboost\\core.py:160: UserWarning: [02:17:15] WARNING: C:\\buildkite-agent\\builds\\buildkite-windows-cpu-autoscaling-group-i-0b3782d1791676daf-1\\xgboost\\xgboost-ci-windows\\src\\learner.cc:742: \n",
      "Parameters: { \"silent\" } are not used.\n",
      "\n",
      "  warnings.warn(smsg, UserWarning)\n",
      "\n"
     ]
    },
    {
     "name": "stdout",
     "output_type": "stream",
     "text": [
      "\tScore 0.5498703764586637                                                            \n",
      "\n",
      "\n",
      "Training with params:                                                                \n",
      "{'booster': 'gbtree', 'colsample_bytree': 0.55, 'eta': 0.1, 'gamma': 0.6000000000000001, 'max_depth': 1, 'min_child_weight': 2.0, 'n_estimators': 192.0, 'nthread': 16, 'objective': 'reg:squarederror', 'seed': 314159265, 'silent': 1, 'subsample': 0.65, 'tree_method': 'exact'}\n",
      " 30%|███       | 75/250 [2:24:43<2:50:09, 58.34s/trial, best loss: 0.272034718526986]"
     ]
    },
    {
     "name": "stderr",
     "output_type": "stream",
     "text": [
      "c:\\Users\\dimas\\AppData\\Local\\Programs\\Python\\Python311\\Lib\\site-packages\\xgboost\\core.py:160: UserWarning: [02:17:49] WARNING: C:\\buildkite-agent\\builds\\buildkite-windows-cpu-autoscaling-group-i-0b3782d1791676daf-1\\xgboost\\xgboost-ci-windows\\src\\learner.cc:742: \n",
      "Parameters: { \"silent\" } are not used.\n",
      "\n",
      "  warnings.warn(smsg, UserWarning)\n",
      "\n"
     ]
    },
    {
     "name": "stdout",
     "output_type": "stream",
     "text": [
      "\tScore 0.25073613385344407                                                           \n",
      "\n",
      "\n",
      "Training with params:                                                                \n",
      "{'booster': 'gbtree', 'colsample_bytree': 0.75, 'eta': 0.025, 'gamma': 0.7000000000000001, 'max_depth': 12, 'min_child_weight': 1.0, 'n_estimators': 336.0, 'nthread': 16, 'objective': 'reg:squarederror', 'seed': 314159265, 'silent': 1, 'subsample': 0.7000000000000001, 'tree_method': 'exact'}\n",
      " 30%|███       | 76/250 [2:24:52<2:06:20, 43.57s/trial, best loss: 0.272034718526986]"
     ]
    },
    {
     "name": "stderr",
     "output_type": "stream",
     "text": [
      "c:\\Users\\dimas\\AppData\\Local\\Programs\\Python\\Python311\\Lib\\site-packages\\xgboost\\core.py:160: UserWarning: [02:17:58] WARNING: C:\\buildkite-agent\\builds\\buildkite-windows-cpu-autoscaling-group-i-0b3782d1791676daf-1\\xgboost\\xgboost-ci-windows\\src\\learner.cc:742: \n",
      "Parameters: { \"silent\" } are not used.\n",
      "\n",
      "  warnings.warn(smsg, UserWarning)\n",
      "\n"
     ]
    },
    {
     "name": "stdout",
     "output_type": "stream",
     "text": [
      "\tScore 0.7282167716698069                                                            \n",
      "\n",
      "\n",
      "Training with params:                                                                 \n",
      "{'booster': 'gbtree', 'colsample_bytree': 0.8, 'eta': 0.07500000000000001, 'gamma': 0.7000000000000001, 'max_depth': 7, 'min_child_weight': 1.0, 'n_estimators': 337.0, 'nthread': 16, 'objective': 'reg:squarederror', 'seed': 314159265, 'silent': 1, 'subsample': 0.8, 'tree_method': 'exact'}\n",
      " 31%|███       | 77/250 [2:26:35<2:57:41, 61.63s/trial, best loss: 0.2717832283301931]"
     ]
    },
    {
     "name": "stderr",
     "output_type": "stream",
     "text": [
      "c:\\Users\\dimas\\AppData\\Local\\Programs\\Python\\Python311\\Lib\\site-packages\\xgboost\\core.py:160: UserWarning: [02:19:42] WARNING: C:\\buildkite-agent\\builds\\buildkite-windows-cpu-autoscaling-group-i-0b3782d1791676daf-1\\xgboost\\xgboost-ci-windows\\src\\learner.cc:742: \n",
      "Parameters: { \"silent\" } are not used.\n",
      "\n",
      "  warnings.warn(smsg, UserWarning)\n",
      "\n"
     ]
    },
    {
     "name": "stdout",
     "output_type": "stream",
     "text": [
      "\tScore 0.7099136155843346                                                             \n",
      "\n",
      "\n",
      "Training with params:                                                                 \n",
      "{'booster': 'gbtree', 'colsample_bytree': 0.8500000000000001, 'eta': 0.17500000000000002, 'gamma': 0.75, 'max_depth': 11, 'min_child_weight': 2.0, 'n_estimators': 483.0, 'nthread': 16, 'objective': 'reg:squarederror', 'seed': 314159265, 'silent': 1, 'subsample': 0.75, 'tree_method': 'exact'}\n",
      " 31%|███       | 78/250 [2:27:31<2:51:22, 59.78s/trial, best loss: 0.2717832283301931]"
     ]
    },
    {
     "name": "stderr",
     "output_type": "stream",
     "text": [
      "c:\\Users\\dimas\\AppData\\Local\\Programs\\Python\\Python311\\Lib\\site-packages\\xgboost\\core.py:160: UserWarning: [02:20:37] WARNING: C:\\buildkite-agent\\builds\\buildkite-windows-cpu-autoscaling-group-i-0b3782d1791676daf-1\\xgboost\\xgboost-ci-windows\\src\\learner.cc:742: \n",
      "Parameters: { \"silent\" } are not used.\n",
      "\n",
      "  warnings.warn(smsg, UserWarning)\n",
      "\n"
     ]
    },
    {
     "name": "stdout",
     "output_type": "stream",
     "text": [
      "\tScore 0.7164139858325771                                                             \n",
      "\n",
      "\n",
      "Training with params:                                                                 \n",
      "{'booster': 'gbtree', 'colsample_bytree': 0.75, 'eta': 0.125, 'gamma': 0.7000000000000001, 'max_depth': 8, 'min_child_weight': 1.0, 'n_estimators': 274.0, 'nthread': 16, 'objective': 'reg:squarederror', 'seed': 314159265, 'silent': 1, 'subsample': 0.5, 'tree_method': 'exact'}\n",
      " 32%|███▏      | 79/250 [2:29:41<3:50:42, 80.95s/trial, best loss: 0.2717832283301931]"
     ]
    },
    {
     "name": "stderr",
     "output_type": "stream",
     "text": [
      "c:\\Users\\dimas\\AppData\\Local\\Programs\\Python\\Python311\\Lib\\site-packages\\xgboost\\core.py:160: UserWarning: [02:22:48] WARNING: C:\\buildkite-agent\\builds\\buildkite-windows-cpu-autoscaling-group-i-0b3782d1791676daf-1\\xgboost\\xgboost-ci-windows\\src\\learner.cc:742: \n",
      "Parameters: { \"silent\" } are not used.\n",
      "\n",
      "  warnings.warn(smsg, UserWarning)\n",
      "\n"
     ]
    },
    {
     "name": "stdout",
     "output_type": "stream",
     "text": [
      "\tScore 0.7142858776376872                                                             \n",
      "\n",
      "\n",
      "Training with params:                                                                 \n",
      "{'booster': 'gbtree', 'colsample_bytree': 0.75, 'eta': 0.47500000000000003, 'gamma': 0.55, 'max_depth': 12, 'min_child_weight': 1.0, 'n_estimators': 205.0, 'nthread': 16, 'objective': 'reg:squarederror', 'seed': 314159265, 'silent': 1, 'subsample': 0.65, 'tree_method': 'exact'}\n",
      " 32%|███▏      | 80/250 [2:30:37<3:28:18, 73.52s/trial, best loss: 0.2717832283301931]"
     ]
    },
    {
     "name": "stderr",
     "output_type": "stream",
     "text": [
      "c:\\Users\\dimas\\AppData\\Local\\Programs\\Python\\Python311\\Lib\\site-packages\\xgboost\\core.py:160: UserWarning: [02:23:44] WARNING: C:\\buildkite-agent\\builds\\buildkite-windows-cpu-autoscaling-group-i-0b3782d1791676daf-1\\xgboost\\xgboost-ci-windows\\src\\learner.cc:742: \n",
      "Parameters: { \"silent\" } are not used.\n",
      "\n",
      "  warnings.warn(smsg, UserWarning)\n",
      "\n"
     ]
    },
    {
     "name": "stdout",
     "output_type": "stream",
     "text": [
      "\tScore 0.6911613385239155                                                             \n",
      "\n",
      "\n",
      "Training with params:                                                                 \n",
      "{'booster': 'gbtree', 'colsample_bytree': 0.9500000000000001, 'eta': 0.025, 'gamma': 0.7000000000000001, 'max_depth': 4, 'min_child_weight': 2.0, 'n_estimators': 158.0, 'nthread': 16, 'objective': 'reg:squarederror', 'seed': 314159265, 'silent': 1, 'subsample': 0.6000000000000001, 'tree_method': 'exact'}\n",
      " 32%|███▏      | 81/250 [2:31:39<3:16:46, 69.86s/trial, best loss: 0.2717832283301931]"
     ]
    },
    {
     "name": "stderr",
     "output_type": "stream",
     "text": [
      "c:\\Users\\dimas\\AppData\\Local\\Programs\\Python\\Python311\\Lib\\site-packages\\xgboost\\core.py:160: UserWarning: [02:24:45] WARNING: C:\\buildkite-agent\\builds\\buildkite-windows-cpu-autoscaling-group-i-0b3782d1791676daf-1\\xgboost\\xgboost-ci-windows\\src\\learner.cc:742: \n",
      "Parameters: { \"silent\" } are not used.\n",
      "\n",
      "  warnings.warn(smsg, UserWarning)\n",
      "\n"
     ]
    },
    {
     "name": "stdout",
     "output_type": "stream",
     "text": [
      "\tScore 0.5477728945788278                                                             \n",
      "\n",
      "\n",
      "Training with params:                                                                 \n",
      "{'booster': 'gbtree', 'colsample_bytree': 0.7000000000000001, 'eta': 0.4, 'gamma': 0.5, 'max_depth': 10, 'min_child_weight': 2.0, 'n_estimators': 332.0, 'nthread': 16, 'objective': 'reg:squarederror', 'seed': 314159265, 'silent': 1, 'subsample': 0.8, 'tree_method': 'exact'}\n",
      " 33%|███▎      | 82/250 [2:31:57<2:32:14, 54.37s/trial, best loss: 0.2717832283301931]"
     ]
    },
    {
     "name": "stderr",
     "output_type": "stream",
     "text": [
      "c:\\Users\\dimas\\AppData\\Local\\Programs\\Python\\Python311\\Lib\\site-packages\\xgboost\\core.py:160: UserWarning: [02:25:03] WARNING: C:\\buildkite-agent\\builds\\buildkite-windows-cpu-autoscaling-group-i-0b3782d1791676daf-1\\xgboost\\xgboost-ci-windows\\src\\learner.cc:742: \n",
      "Parameters: { \"silent\" } are not used.\n",
      "\n",
      "  warnings.warn(smsg, UserWarning)\n",
      "\n"
     ]
    },
    {
     "name": "stdout",
     "output_type": "stream",
     "text": [
      "\tScore 0.7029932590706529                                                             \n",
      "\n",
      "\n",
      "Training with params:                                                                 \n",
      "{'booster': 'gbtree', 'colsample_bytree': 0.6000000000000001, 'eta': 0.2, 'gamma': 0.65, 'max_depth': 2, 'min_child_weight': 1.0, 'n_estimators': 395.0, 'nthread': 16, 'objective': 'reg:squarederror', 'seed': 314159265, 'silent': 1, 'subsample': 0.7000000000000001, 'tree_method': 'exact'}\n",
      " 33%|███▎      | 83/250 [2:33:12<2:48:30, 60.54s/trial, best loss: 0.2717832283301931]"
     ]
    },
    {
     "name": "stderr",
     "output_type": "stream",
     "text": [
      "c:\\Users\\dimas\\AppData\\Local\\Programs\\Python\\Python311\\Lib\\site-packages\\xgboost\\core.py:160: UserWarning: [02:26:18] WARNING: C:\\buildkite-agent\\builds\\buildkite-windows-cpu-autoscaling-group-i-0b3782d1791676daf-1\\xgboost\\xgboost-ci-windows\\src\\learner.cc:742: \n",
      "Parameters: { \"silent\" } are not used.\n",
      "\n",
      "  warnings.warn(smsg, UserWarning)\n",
      "\n"
     ]
    },
    {
     "name": "stdout",
     "output_type": "stream",
     "text": [
      "\tScore 0.4978256368875674                                                             \n",
      "\n",
      "\n",
      "Training with params:                                                                 \n",
      "{'booster': 'gbtree', 'colsample_bytree': 0.75, 'eta': 0.25, 'gamma': 0.8, 'max_depth': 9, 'min_child_weight': 5.0, 'n_estimators': 535.0, 'nthread': 16, 'objective': 'reg:squarederror', 'seed': 314159265, 'silent': 1, 'subsample': 0.75, 'tree_method': 'exact'}\n",
      " 34%|███▎      | 84/250 [2:33:36<2:17:27, 49.68s/trial, best loss: 0.2717832283301931]"
     ]
    },
    {
     "name": "stderr",
     "output_type": "stream",
     "text": [
      "c:\\Users\\dimas\\AppData\\Local\\Programs\\Python\\Python311\\Lib\\site-packages\\xgboost\\core.py:160: UserWarning: [02:26:43] WARNING: C:\\buildkite-agent\\builds\\buildkite-windows-cpu-autoscaling-group-i-0b3782d1791676daf-1\\xgboost\\xgboost-ci-windows\\src\\learner.cc:742: \n",
      "Parameters: { \"silent\" } are not used.\n",
      "\n",
      "  warnings.warn(smsg, UserWarning)\n",
      "\n"
     ]
    },
    {
     "name": "stdout",
     "output_type": "stream",
     "text": [
      "\tScore 0.7152897056843244                                                             \n",
      "\n",
      "\n",
      "Training with params:                                                                 \n",
      "{'booster': 'gbtree', 'colsample_bytree': 0.8, 'eta': 0.15000000000000002, 'gamma': 0.75, 'max_depth': 12, 'min_child_weight': 1.0, 'n_estimators': 495.0, 'nthread': 16, 'objective': 'reg:squarederror', 'seed': 314159265, 'silent': 1, 'subsample': 0.7000000000000001, 'tree_method': 'exact'}\n",
      " 34%|███▍      | 85/250 [2:35:29<3:08:59, 68.72s/trial, best loss: 0.2717832283301931]"
     ]
    },
    {
     "name": "stderr",
     "output_type": "stream",
     "text": [
      "c:\\Users\\dimas\\AppData\\Local\\Programs\\Python\\Python311\\Lib\\site-packages\\xgboost\\core.py:160: UserWarning: [02:28:36] WARNING: C:\\buildkite-agent\\builds\\buildkite-windows-cpu-autoscaling-group-i-0b3782d1791676daf-1\\xgboost\\xgboost-ci-windows\\src\\learner.cc:742: \n",
      "Parameters: { \"silent\" } are not used.\n",
      "\n",
      "  warnings.warn(smsg, UserWarning)\n",
      "\n"
     ]
    },
    {
     "name": "stdout",
     "output_type": "stream",
     "text": [
      "\tScore 0.7157579147643386                                                             \n",
      "\n",
      "\n",
      "Training with params:                                                                 \n",
      "{'booster': 'gbtree', 'colsample_bytree': 0.7000000000000001, 'eta': 0.1, 'gamma': 0.6000000000000001, 'max_depth': 5, 'min_child_weight': 2.0, 'n_estimators': 386.0, 'nthread': 16, 'objective': 'reg:squarederror', 'seed': 314159265, 'silent': 1, 'subsample': 0.65, 'tree_method': 'exact'}\n",
      " 34%|███▍      | 86/250 [2:37:54<4:10:14, 91.55s/trial, best loss: 0.2717832283301931]"
     ]
    },
    {
     "name": "stderr",
     "output_type": "stream",
     "text": [
      "c:\\Users\\dimas\\AppData\\Local\\Programs\\Python\\Python311\\Lib\\site-packages\\xgboost\\core.py:160: UserWarning: [02:31:01] WARNING: C:\\buildkite-agent\\builds\\buildkite-windows-cpu-autoscaling-group-i-0b3782d1791676daf-1\\xgboost\\xgboost-ci-windows\\src\\learner.cc:742: \n",
      "Parameters: { \"silent\" } are not used.\n",
      "\n",
      "  warnings.warn(smsg, UserWarning)\n",
      "\n"
     ]
    },
    {
     "name": "stdout",
     "output_type": "stream",
     "text": [
      "\tScore 0.6781698700025593                                                             \n",
      "\n",
      "\n",
      "Training with params:                                                                 \n",
      "{'booster': 'gbtree', 'colsample_bytree': 0.8500000000000001, 'eta': 0.05, 'gamma': 0.65, 'max_depth': 1, 'min_child_weight': 1.0, 'n_estimators': 224.0, 'nthread': 16, 'objective': 'reg:squarederror', 'seed': 314159265, 'silent': 1, 'subsample': 0.75, 'tree_method': 'exact'}\n",
      " 35%|███▍      | 87/250 [2:38:42<3:33:15, 78.50s/trial, best loss: 0.2717832283301931]"
     ]
    },
    {
     "name": "stderr",
     "output_type": "stream",
     "text": [
      "c:\\Users\\dimas\\AppData\\Local\\Programs\\Python\\Python311\\Lib\\site-packages\\xgboost\\core.py:160: UserWarning: [02:31:49] WARNING: C:\\buildkite-agent\\builds\\buildkite-windows-cpu-autoscaling-group-i-0b3782d1791676daf-1\\xgboost\\xgboost-ci-windows\\src\\learner.cc:742: \n",
      "Parameters: { \"silent\" } are not used.\n",
      "\n",
      "  warnings.warn(smsg, UserWarning)\n",
      "\n"
     ]
    },
    {
     "name": "stdout",
     "output_type": "stream",
     "text": [
      "\tScore 0.22902190575489478                                                            \n",
      "\n",
      "\n",
      "Training with params:                                                                 \n",
      "{'booster': 'gbtree', 'colsample_bytree': 0.75, 'eta': 0.07500000000000001, 'gamma': 0.75, 'max_depth': 6, 'min_child_weight': 2.0, 'n_estimators': 440.0, 'nthread': 16, 'objective': 'reg:squarederror', 'seed': 314159265, 'silent': 1, 'subsample': 0.55, 'tree_method': 'exact'}\n",
      " 35%|███▌      | 88/250 [2:38:52<2:36:34, 57.99s/trial, best loss: 0.2717832283301931]"
     ]
    },
    {
     "name": "stderr",
     "output_type": "stream",
     "text": [
      "c:\\Users\\dimas\\AppData\\Local\\Programs\\Python\\Python311\\Lib\\site-packages\\xgboost\\core.py:160: UserWarning: [02:31:59] WARNING: C:\\buildkite-agent\\builds\\buildkite-windows-cpu-autoscaling-group-i-0b3782d1791676daf-1\\xgboost\\xgboost-ci-windows\\src\\learner.cc:742: \n",
      "Parameters: { \"silent\" } are not used.\n",
      "\n",
      "  warnings.warn(smsg, UserWarning)\n",
      "\n"
     ]
    },
    {
     "name": "stdout",
     "output_type": "stream",
     "text": [
      "\tScore 0.695857857834879                                                              \n",
      "\n",
      "\n",
      "Training with params:                                                                 \n",
      "{'booster': 'gbtree', 'colsample_bytree': 0.7000000000000001, 'eta': 0.125, 'gamma': 0.7000000000000001, 'max_depth': 12, 'min_child_weight': 5.0, 'n_estimators': 141.0, 'nthread': 16, 'objective': 'reg:squarederror', 'seed': 314159265, 'silent': 1, 'subsample': 0.8, 'tree_method': 'exact'}\n",
      " 36%|███▌      | 89/250 [2:40:01<2:43:46, 61.04s/trial, best loss: 0.2717832283301931]"
     ]
    },
    {
     "name": "stderr",
     "output_type": "stream",
     "text": [
      "c:\\Users\\dimas\\AppData\\Local\\Programs\\Python\\Python311\\Lib\\site-packages\\xgboost\\core.py:160: UserWarning: [02:33:07] WARNING: C:\\buildkite-agent\\builds\\buildkite-windows-cpu-autoscaling-group-i-0b3782d1791676daf-1\\xgboost\\xgboost-ci-windows\\src\\learner.cc:742: \n",
      "Parameters: { \"silent\" } are not used.\n",
      "\n",
      "  warnings.warn(smsg, UserWarning)\n",
      "\n"
     ]
    },
    {
     "name": "stdout",
     "output_type": "stream",
     "text": [
      "\tScore 0.7280627694348178                                                             \n",
      "\n",
      "\n",
      "Training with params:                                                                 \n",
      "{'booster': 'gbtree', 'colsample_bytree': 0.8, 'eta': 0.30000000000000004, 'gamma': 0.8500000000000001, 'max_depth': 3, 'min_child_weight': 6.0, 'n_estimators': 121.0, 'nthread': 16, 'objective': 'reg:squarederror', 'seed': 314159265, 'silent': 1, 'subsample': 0.9, 'tree_method': 'exact'}\n",
      " 36%|███▌      | 90/250 [2:40:39<2:25:06, 54.42s/trial, best loss: 0.2717832283301931]"
     ]
    },
    {
     "name": "stderr",
     "output_type": "stream",
     "text": [
      "c:\\Users\\dimas\\AppData\\Local\\Programs\\Python\\Python311\\Lib\\site-packages\\xgboost\\core.py:160: UserWarning: [02:33:46] WARNING: C:\\buildkite-agent\\builds\\buildkite-windows-cpu-autoscaling-group-i-0b3782d1791676daf-1\\xgboost\\xgboost-ci-windows\\src\\learner.cc:742: \n",
      "Parameters: { \"silent\" } are not used.\n",
      "\n",
      "  warnings.warn(smsg, UserWarning)\n",
      "\n"
     ]
    },
    {
     "name": "stdout",
     "output_type": "stream",
     "text": [
      "\tScore 0.5957209247418995                                                             \n",
      "\n",
      "\n",
      "Training with params:                                                                 \n",
      "{'booster': 'gbtree', 'colsample_bytree': 0.7000000000000001, 'eta': 0.225, 'gamma': 0.8, 'max_depth': 13, 'min_child_weight': 5.0, 'n_estimators': 301.0, 'nthread': 16, 'objective': 'reg:squarederror', 'seed': 314159265, 'silent': 1, 'subsample': 0.8500000000000001, 'tree_method': 'exact'}\n",
      " 36%|███▋      | 91/250 [2:40:49<1:48:21, 40.89s/trial, best loss: 0.2717832283301931]"
     ]
    },
    {
     "name": "stderr",
     "output_type": "stream",
     "text": [
      "c:\\Users\\dimas\\AppData\\Local\\Programs\\Python\\Python311\\Lib\\site-packages\\xgboost\\core.py:160: UserWarning: [02:33:55] WARNING: C:\\buildkite-agent\\builds\\buildkite-windows-cpu-autoscaling-group-i-0b3782d1791676daf-1\\xgboost\\xgboost-ci-windows\\src\\learner.cc:742: \n",
      "Parameters: { \"silent\" } are not used.\n",
      "\n",
      "  warnings.warn(smsg, UserWarning)\n",
      "\n"
     ]
    },
    {
     "name": "stdout",
     "output_type": "stream",
     "text": [
      "\tScore 0.7194953047821424                                                             \n",
      "\n",
      "\n",
      "Training with params:                                                                 \n",
      "{'booster': 'gbtree', 'colsample_bytree': 0.9, 'eta': 0.325, 'gamma': 0.7000000000000001, 'max_depth': 7, 'min_child_weight': 5.0, 'n_estimators': 185.0, 'nthread': 16, 'objective': 'reg:squarederror', 'seed': 314159265, 'silent': 1, 'subsample': 0.8, 'tree_method': 'exact'}\n",
      " 37%|███▋      | 92/250 [2:42:15<2:23:46, 54.60s/trial, best loss: 0.2717832283301931]"
     ]
    },
    {
     "name": "stderr",
     "output_type": "stream",
     "text": [
      "c:\\Users\\dimas\\AppData\\Local\\Programs\\Python\\Python311\\Lib\\site-packages\\xgboost\\core.py:160: UserWarning: [02:35:22] WARNING: C:\\buildkite-agent\\builds\\buildkite-windows-cpu-autoscaling-group-i-0b3782d1791676daf-1\\xgboost\\xgboost-ci-windows\\src\\learner.cc:742: \n",
      "Parameters: { \"silent\" } are not used.\n",
      "\n",
      "  warnings.warn(smsg, UserWarning)\n",
      "\n"
     ]
    },
    {
     "name": "stdout",
     "output_type": "stream",
     "text": [
      "\tScore 0.7126538171226823                                                             \n",
      "\n",
      "\n",
      "Training with params:                                                                 \n",
      "{'booster': 'gbtree', 'colsample_bytree': 0.75, 'eta': 0.17500000000000002, 'gamma': 0.7000000000000001, 'max_depth': 12, 'min_child_weight': 6.0, 'n_estimators': 249.0, 'nthread': 16, 'objective': 'reg:squarederror', 'seed': 314159265, 'silent': 1, 'subsample': 0.8500000000000001, 'tree_method': 'exact'}\n",
      " 37%|███▋      | 93/250 [2:42:47<2:04:25, 47.55s/trial, best loss: 0.2717832283301931]"
     ]
    },
    {
     "name": "stderr",
     "output_type": "stream",
     "text": [
      "c:\\Users\\dimas\\AppData\\Local\\Programs\\Python\\Python311\\Lib\\site-packages\\xgboost\\core.py:160: UserWarning: [02:35:53] WARNING: C:\\buildkite-agent\\builds\\buildkite-windows-cpu-autoscaling-group-i-0b3782d1791676daf-1\\xgboost\\xgboost-ci-windows\\src\\learner.cc:742: \n",
      "Parameters: { \"silent\" } are not used.\n",
      "\n",
      "  warnings.warn(smsg, UserWarning)\n",
      "\n"
     ]
    },
    {
     "name": "stdout",
     "output_type": "stream",
     "text": [
      "\tScore 0.7224280521961661                                                             \n",
      "\n",
      "\n",
      "Training with params:                                                                 \n",
      "{'booster': 'gbtree', 'colsample_bytree': 0.7000000000000001, 'eta': 0.125, 'gamma': 0.75, 'max_depth': 11, 'min_child_weight': 4.0, 'n_estimators': 175.0, 'nthread': 16, 'objective': 'reg:squarederror', 'seed': 314159265, 'silent': 1, 'subsample': 0.8, 'tree_method': 'exact'}\n",
      " 38%|███▊      | 94/250 [2:43:56<2:20:22, 53.99s/trial, best loss: 0.2717832283301931]"
     ]
    },
    {
     "name": "stderr",
     "output_type": "stream",
     "text": [
      "c:\\Users\\dimas\\AppData\\Local\\Programs\\Python\\Python311\\Lib\\site-packages\\xgboost\\core.py:160: UserWarning: [02:37:02] WARNING: C:\\buildkite-agent\\builds\\buildkite-windows-cpu-autoscaling-group-i-0b3782d1791676daf-1\\xgboost\\xgboost-ci-windows\\src\\learner.cc:742: \n",
      "Parameters: { \"silent\" } are not used.\n",
      "\n",
      "  warnings.warn(smsg, UserWarning)\n",
      "\n"
     ]
    },
    {
     "name": "stdout",
     "output_type": "stream",
     "text": [
      "\tScore 0.7255853559590303                                                             \n",
      "\n",
      "\n",
      "Training with params:                                                                 \n",
      "{'booster': 'gbtree', 'colsample_bytree': 0.8, 'eta': 0.05, 'gamma': 0.8, 'max_depth': 8, 'min_child_weight': 5.0, 'n_estimators': 277.0, 'nthread': 16, 'objective': 'reg:squarederror', 'seed': 314159265, 'silent': 1, 'subsample': 0.75, 'tree_method': 'exact'}\n",
      " 38%|███▊      | 95/250 [2:44:39<2:11:42, 50.98s/trial, best loss: 0.2717832283301931]"
     ]
    },
    {
     "name": "stderr",
     "output_type": "stream",
     "text": [
      "c:\\Users\\dimas\\AppData\\Local\\Programs\\Python\\Python311\\Lib\\site-packages\\xgboost\\core.py:160: UserWarning: [02:37:46] WARNING: C:\\buildkite-agent\\builds\\buildkite-windows-cpu-autoscaling-group-i-0b3782d1791676daf-1\\xgboost\\xgboost-ci-windows\\src\\learner.cc:742: \n",
      "Parameters: { \"silent\" } are not used.\n",
      "\n",
      "  warnings.warn(smsg, UserWarning)\n",
      "\n"
     ]
    },
    {
     "name": "stdout",
     "output_type": "stream",
     "text": [
      "\tScore 0.7081844593492002                                                             \n",
      "\n",
      "\n",
      "Training with params:                                                                 \n",
      "{'booster': 'gbtree', 'colsample_bytree': 0.75, 'eta': 0.1, 'gamma': 0.9, 'max_depth': 12, 'min_child_weight': 5.0, 'n_estimators': 228.0, 'nthread': 16, 'objective': 'reg:squarederror', 'seed': 314159265, 'silent': 1, 'subsample': 0.9500000000000001, 'tree_method': 'exact'}\n",
      " 38%|███▊      | 96/250 [2:45:32<2:12:20, 51.56s/trial, best loss: 0.2717832283301931]"
     ]
    },
    {
     "name": "stderr",
     "output_type": "stream",
     "text": [
      "c:\\Users\\dimas\\AppData\\Local\\Programs\\Python\\Python311\\Lib\\site-packages\\xgboost\\core.py:160: UserWarning: [02:38:39] WARNING: C:\\buildkite-agent\\builds\\buildkite-windows-cpu-autoscaling-group-i-0b3782d1791676daf-1\\xgboost\\xgboost-ci-windows\\src\\learner.cc:742: \n",
      "Parameters: { \"silent\" } are not used.\n",
      "\n",
      "  warnings.warn(smsg, UserWarning)\n",
      "\n"
     ]
    },
    {
     "name": "stdout",
     "output_type": "stream",
     "text": [
      "\tScore 0.7265563180248062                                                             \n",
      "\n",
      "\n",
      "Training with params:                                                                 \n",
      "{'booster': 'gbtree', 'colsample_bytree': 0.8500000000000001, 'eta': 0.35000000000000003, 'gamma': 0.7000000000000001, 'max_depth': 10, 'min_child_weight': 4.0, 'n_estimators': 455.0, 'nthread': 16, 'objective': 'reg:squarederror', 'seed': 314159265, 'silent': 1, 'subsample': 0.8500000000000001, 'tree_method': 'exact'}\n",
      " 39%|███▉      | 97/250 [2:46:34<2:19:11, 54.59s/trial, best loss: 0.2717832283301931]"
     ]
    },
    {
     "name": "stderr",
     "output_type": "stream",
     "text": [
      "c:\\Users\\dimas\\AppData\\Local\\Programs\\Python\\Python311\\Lib\\site-packages\\xgboost\\core.py:160: UserWarning: [02:39:40] WARNING: C:\\buildkite-agent\\builds\\buildkite-windows-cpu-autoscaling-group-i-0b3782d1791676daf-1\\xgboost\\xgboost-ci-windows\\src\\learner.cc:742: \n",
      "Parameters: { \"silent\" } are not used.\n",
      "\n",
      "  warnings.warn(smsg, UserWarning)\n",
      "\n"
     ]
    },
    {
     "name": "stdout",
     "output_type": "stream",
     "text": [
      "\tScore 0.7105969207357732                                                             \n",
      "\n",
      "\n",
      "Training with params:                                                                 \n",
      "{'booster': 'gbtree', 'colsample_bytree': 0.7000000000000001, 'eta': 0.225, 'gamma': 0.8500000000000001, 'max_depth': 4, 'min_child_weight': 6.0, 'n_estimators': 135.0, 'nthread': 16, 'objective': 'reg:squarederror', 'seed': 314159265, 'silent': 1, 'subsample': 0.9, 'tree_method': 'exact'}\n",
      " 39%|███▉      | 98/250 [2:48:21<2:58:11, 70.34s/trial, best loss: 0.2717832283301931]"
     ]
    },
    {
     "name": "stderr",
     "output_type": "stream",
     "text": [
      "c:\\Users\\dimas\\AppData\\Local\\Programs\\Python\\Python311\\Lib\\site-packages\\xgboost\\core.py:160: UserWarning: [02:41:27] WARNING: C:\\buildkite-agent\\builds\\buildkite-windows-cpu-autoscaling-group-i-0b3782d1791676daf-1\\xgboost\\xgboost-ci-windows\\src\\learner.cc:742: \n",
      "Parameters: { \"silent\" } are not used.\n",
      "\n",
      "  warnings.warn(smsg, UserWarning)\n",
      "\n"
     ]
    },
    {
     "name": "stdout",
     "output_type": "stream",
     "text": [
      "\tScore 0.6304822051641059                                                             \n",
      "\n",
      "\n",
      "Training with params:                                                                 \n",
      "{'booster': 'gbtree', 'colsample_bytree': 0.6000000000000001, 'eta': 0.2, 'gamma': 0.6000000000000001, 'max_depth': 2, 'min_child_weight': 4.0, 'n_estimators': 102.0, 'nthread': 16, 'objective': 'reg:squarederror', 'seed': 314159265, 'silent': 1, 'subsample': 0.8, 'tree_method': 'exact'}\n",
      " 40%|███▉      | 99/250 [2:48:34<2:13:26, 53.02s/trial, best loss: 0.2717832283301931]"
     ]
    },
    {
     "name": "stderr",
     "output_type": "stream",
     "text": [
      "c:\\Users\\dimas\\AppData\\Local\\Programs\\Python\\Python311\\Lib\\site-packages\\xgboost\\core.py:160: UserWarning: [02:41:40] WARNING: C:\\buildkite-agent\\builds\\buildkite-windows-cpu-autoscaling-group-i-0b3782d1791676daf-1\\xgboost\\xgboost-ci-windows\\src\\learner.cc:742: \n",
      "Parameters: { \"silent\" } are not used.\n",
      "\n",
      "  warnings.warn(smsg, UserWarning)\n",
      "\n"
     ]
    },
    {
     "name": "stdout",
     "output_type": "stream",
     "text": [
      "\tScore 0.42628625085502037                                                            \n",
      "\n",
      "\n",
      "Training with params:                                                                  \n",
      "{'booster': 'gbtree', 'colsample_bytree': 0.65, 'eta': 0.15000000000000002, 'gamma': 0.75, 'max_depth': 9, 'min_child_weight': 6.0, 'n_estimators': 216.0, 'nthread': 16, 'objective': 'reg:squarederror', 'seed': 314159265, 'silent': 1, 'subsample': 0.75, 'tree_method': 'exact'}\n",
      " 40%|████      | 100/250 [2:48:40<1:37:28, 38.99s/trial, best loss: 0.2717832283301931]"
     ]
    },
    {
     "name": "stderr",
     "output_type": "stream",
     "text": [
      "c:\\Users\\dimas\\AppData\\Local\\Programs\\Python\\Python311\\Lib\\site-packages\\xgboost\\core.py:160: UserWarning: [02:41:46] WARNING: C:\\buildkite-agent\\builds\\buildkite-windows-cpu-autoscaling-group-i-0b3782d1791676daf-1\\xgboost\\xgboost-ci-windows\\src\\learner.cc:742: \n",
      "Parameters: { \"silent\" } are not used.\n",
      "\n",
      "  warnings.warn(smsg, UserWarning)\n",
      "\n"
     ]
    },
    {
     "name": "stdout",
     "output_type": "stream",
     "text": [
      "\tScore 0.7198533382589605                                                              \n",
      "\n",
      "\n",
      "Training with params:                                                                  \n",
      "{'booster': 'gbtree', 'colsample_bytree': 0.8, 'eta': 0.125, 'gamma': 0.55, 'max_depth': 12, 'min_child_weight': 5.0, 'n_estimators': 142.0, 'nthread': 16, 'objective': 'reg:squarederror', 'seed': 314159265, 'silent': 1, 'subsample': 0.6000000000000001, 'tree_method': 'exact'}\n",
      " 40%|████      | 101/250 [2:49:25<1:41:07, 40.72s/trial, best loss: 0.2717832283301931]"
     ]
    },
    {
     "name": "stderr",
     "output_type": "stream",
     "text": [
      "c:\\Users\\dimas\\AppData\\Local\\Programs\\Python\\Python311\\Lib\\site-packages\\xgboost\\core.py:160: UserWarning: [02:42:31] WARNING: C:\\buildkite-agent\\builds\\buildkite-windows-cpu-autoscaling-group-i-0b3782d1791676daf-1\\xgboost\\xgboost-ci-windows\\src\\learner.cc:742: \n",
      "Parameters: { \"silent\" } are not used.\n",
      "\n",
      "  warnings.warn(smsg, UserWarning)\n",
      "\n"
     ]
    },
    {
     "name": "stdout",
     "output_type": "stream",
     "text": [
      "\tScore 0.7250868338913985                                                              \n",
      "\n",
      "\n",
      "Training with params:                                                                  \n",
      "{'booster': 'gbtree', 'colsample_bytree': 0.65, 'eta': 0.07500000000000001, 'gamma': 0.8, 'max_depth': 12, 'min_child_weight': 4.0, 'n_estimators': 561.0, 'nthread': 16, 'objective': 'reg:squarederror', 'seed': 314159265, 'silent': 1, 'subsample': 0.75, 'tree_method': 'exact'}\n",
      " 41%|████      | 102/250 [2:50:08<1:42:09, 41.41s/trial, best loss: 0.2717832283301931]"
     ]
    },
    {
     "name": "stderr",
     "output_type": "stream",
     "text": [
      "c:\\Users\\dimas\\AppData\\Local\\Programs\\Python\\Python311\\Lib\\site-packages\\xgboost\\core.py:160: UserWarning: [02:43:14] WARNING: C:\\buildkite-agent\\builds\\buildkite-windows-cpu-autoscaling-group-i-0b3782d1791676daf-1\\xgboost\\xgboost-ci-windows\\src\\learner.cc:742: \n",
      "Parameters: { \"silent\" } are not used.\n",
      "\n",
      "  warnings.warn(smsg, UserWarning)\n",
      "\n"
     ]
    },
    {
     "name": "stdout",
     "output_type": "stream",
     "text": [
      "\tScore 0.7237500656690655                                                              \n",
      "\n",
      "\n",
      "Training with params:                                                                  \n",
      "{'booster': 'gbtree', 'colsample_bytree': 0.7000000000000001, 'eta': 0.375, 'gamma': 0.65, 'max_depth': 6, 'min_child_weight': 3.0, 'n_estimators': 419.0, 'nthread': 16, 'objective': 'reg:squarederror', 'seed': 314159265, 'silent': 1, 'subsample': 0.8, 'tree_method': 'exact'}\n",
      " 41%|████      | 103/250 [2:52:43<3:05:01, 75.52s/trial, best loss: 0.2717832283301931]"
     ]
    },
    {
     "name": "stderr",
     "output_type": "stream",
     "text": [
      "c:\\Users\\dimas\\AppData\\Local\\Programs\\Python\\Python311\\Lib\\site-packages\\xgboost\\core.py:160: UserWarning: [02:45:49] WARNING: C:\\buildkite-agent\\builds\\buildkite-windows-cpu-autoscaling-group-i-0b3782d1791676daf-1\\xgboost\\xgboost-ci-windows\\src\\learner.cc:742: \n",
      "Parameters: { \"silent\" } are not used.\n",
      "\n",
      "  warnings.warn(smsg, UserWarning)\n",
      "\n"
     ]
    },
    {
     "name": "stdout",
     "output_type": "stream",
     "text": [
      "\tScore 0.7086877511418673                                                              \n",
      "\n",
      "\n",
      "Training with params:                                                                  \n",
      "{'booster': 'gbtree', 'colsample_bytree': 0.6000000000000001, 'eta': 0.07500000000000001, 'gamma': 0.7000000000000001, 'max_depth': 5, 'min_child_weight': 6.0, 'n_estimators': 326.0, 'nthread': 16, 'objective': 'reg:squarederror', 'seed': 314159265, 'silent': 1, 'subsample': 0.5, 'tree_method': 'exact'}\n",
      " 42%|████▏     | 104/250 [2:53:40<2:50:16, 69.98s/trial, best loss: 0.2717832283301931]"
     ]
    },
    {
     "name": "stderr",
     "output_type": "stream",
     "text": [
      "c:\\Users\\dimas\\AppData\\Local\\Programs\\Python\\Python311\\Lib\\site-packages\\xgboost\\core.py:160: UserWarning: [02:46:46] WARNING: C:\\buildkite-agent\\builds\\buildkite-windows-cpu-autoscaling-group-i-0b3782d1791676daf-1\\xgboost\\xgboost-ci-windows\\src\\learner.cc:742: \n",
      "Parameters: { \"silent\" } are not used.\n",
      "\n",
      "  warnings.warn(smsg, UserWarning)\n",
      "\n"
     ]
    },
    {
     "name": "stdout",
     "output_type": "stream",
     "text": [
      "\tScore 0.6549641600622775                                                              \n",
      "\n",
      "\n",
      "Training with params:                                                                  \n",
      "{'booster': 'gbtree', 'colsample_bytree': 0.9500000000000001, 'eta': 0.25, 'gamma': 0.6000000000000001, 'max_depth': 1, 'min_child_weight': 5.0, 'n_estimators': 354.0, 'nthread': 16, 'objective': 'reg:squarederror', 'seed': 314159265, 'silent': 1, 'subsample': 0.7000000000000001, 'tree_method': 'exact'}\n",
      " 42%|████▏     | 105/250 [2:54:21<2:28:15, 61.35s/trial, best loss: 0.2717832283301931]"
     ]
    },
    {
     "name": "stderr",
     "output_type": "stream",
     "text": [
      "c:\\Users\\dimas\\AppData\\Local\\Programs\\Python\\Python311\\Lib\\site-packages\\xgboost\\core.py:160: UserWarning: [02:47:27] WARNING: C:\\buildkite-agent\\builds\\buildkite-windows-cpu-autoscaling-group-i-0b3782d1791676daf-1\\xgboost\\xgboost-ci-windows\\src\\learner.cc:742: \n",
      "Parameters: { \"silent\" } are not used.\n",
      "\n",
      "  warnings.warn(smsg, UserWarning)\n",
      "\n"
     ]
    },
    {
     "name": "stdout",
     "output_type": "stream",
     "text": [
      "\tScore 0.31927831107794336                                                             \n",
      "\n",
      "\n",
      "Training with params:                                                                  \n",
      "{'booster': 'gbtree', 'colsample_bytree': 0.75, 'eta': 0.025, 'gamma': 0.75, 'max_depth': 13, 'min_child_weight': 3.0, 'n_estimators': 262.0, 'nthread': 16, 'objective': 'reg:squarederror', 'seed': 314159265, 'silent': 1, 'subsample': 0.65, 'tree_method': 'exact'}\n",
      " 42%|████▏     | 106/250 [2:54:38<1:54:56, 47.89s/trial, best loss: 0.2717832283301931]"
     ]
    },
    {
     "name": "stderr",
     "output_type": "stream",
     "text": [
      "c:\\Users\\dimas\\AppData\\Local\\Programs\\Python\\Python311\\Lib\\site-packages\\xgboost\\core.py:160: UserWarning: [02:47:44] WARNING: C:\\buildkite-agent\\builds\\buildkite-windows-cpu-autoscaling-group-i-0b3782d1791676daf-1\\xgboost\\xgboost-ci-windows\\src\\learner.cc:742: \n",
      "Parameters: { \"silent\" } are not used.\n",
      "\n",
      "  warnings.warn(smsg, UserWarning)\n",
      "\n"
     ]
    },
    {
     "name": "stdout",
     "output_type": "stream",
     "text": [
      "\tScore 0.7293838345677959                                                              \n",
      "\n",
      "\n",
      "Training with params:                                                                  \n",
      "{'booster': 'gbtree', 'colsample_bytree': 0.8500000000000001, 'eta': 0.275, 'gamma': 0.8500000000000001, 'max_depth': 13, 'min_child_weight': 3.0, 'n_estimators': 259.0, 'nthread': 16, 'objective': 'reg:squarederror', 'seed': 314159265, 'silent': 1, 'subsample': 0.65, 'tree_method': 'exact'}\n",
      " 43%|████▎     | 107/250 [2:56:07<2:24:07, 60.47s/trial, best loss: 0.2706161654322041]"
     ]
    },
    {
     "name": "stderr",
     "output_type": "stream",
     "text": [
      "c:\\Users\\dimas\\AppData\\Local\\Programs\\Python\\Python311\\Lib\\site-packages\\xgboost\\core.py:160: UserWarning: [02:49:14] WARNING: C:\\buildkite-agent\\builds\\buildkite-windows-cpu-autoscaling-group-i-0b3782d1791676daf-1\\xgboost\\xgboost-ci-windows\\src\\learner.cc:742: \n",
      "Parameters: { \"silent\" } are not used.\n",
      "\n",
      "  warnings.warn(smsg, UserWarning)\n",
      "\n"
     ]
    },
    {
     "name": "stdout",
     "output_type": "stream",
     "text": [
      "\tScore 0.7138824627296503                                                              \n",
      "\n",
      "\n",
      "Training with params:                                                                  \n",
      "{'booster': 'gbtree', 'colsample_bytree': 0.8, 'eta': 0.17500000000000002, 'gamma': 0.8, 'max_depth': 13, 'min_child_weight': 4.0, 'n_estimators': 104.0, 'nthread': 16, 'objective': 'reg:squarederror', 'seed': 314159265, 'silent': 1, 'subsample': 0.55, 'tree_method': 'exact'}\n",
      " 43%|████▎     | 108/250 [2:57:35<2:42:12, 68.54s/trial, best loss: 0.2706161654322041]"
     ]
    },
    {
     "name": "stderr",
     "output_type": "stream",
     "text": [
      "c:\\Users\\dimas\\AppData\\Local\\Programs\\Python\\Python311\\Lib\\site-packages\\xgboost\\core.py:160: UserWarning: [02:50:41] WARNING: C:\\buildkite-agent\\builds\\buildkite-windows-cpu-autoscaling-group-i-0b3782d1791676daf-1\\xgboost\\xgboost-ci-windows\\src\\learner.cc:742: \n",
      "Parameters: { \"silent\" } are not used.\n",
      "\n",
      "  warnings.warn(smsg, UserWarning)\n",
      "\n"
     ]
    },
    {
     "name": "stdout",
     "output_type": "stream",
     "text": [
      "\tScore 0.7232668148794236                                                              \n",
      "\n",
      "\n",
      "Training with params:                                                                  \n",
      "{'booster': 'gbtree', 'colsample_bytree': 0.9, 'eta': 0.025, 'gamma': 0.75, 'max_depth': 13, 'min_child_weight': 4.0, 'n_estimators': 168.0, 'nthread': 16, 'objective': 'reg:squarederror', 'seed': 314159265, 'silent': 1, 'subsample': 0.6000000000000001, 'tree_method': 'exact'}\n",
      " 44%|████▎     | 109/250 [2:58:10<2:17:49, 58.65s/trial, best loss: 0.2706161654322041]"
     ]
    },
    {
     "name": "stderr",
     "output_type": "stream",
     "text": [
      "c:\\Users\\dimas\\AppData\\Local\\Programs\\Python\\Python311\\Lib\\site-packages\\xgboost\\core.py:160: UserWarning: [02:51:17] WARNING: C:\\buildkite-agent\\builds\\buildkite-windows-cpu-autoscaling-group-i-0b3782d1791676daf-1\\xgboost\\xgboost-ci-windows\\src\\learner.cc:742: \n",
      "Parameters: { \"silent\" } are not used.\n",
      "\n",
      "  warnings.warn(smsg, UserWarning)\n",
      "\n"
     ]
    },
    {
     "name": "stdout",
     "output_type": "stream",
     "text": [
      "\tScore 0.7260974164777778                                                              \n",
      "\n",
      "\n",
      "Training with params:                                                                  \n",
      "{'booster': 'gbtree', 'colsample_bytree': 0.75, 'eta': 0.2, 'gamma': 0.8500000000000001, 'max_depth': 13, 'min_child_weight': 3.0, 'n_estimators': 148.0, 'nthread': 16, 'objective': 'reg:squarederror', 'seed': 314159265, 'silent': 1, 'subsample': 0.6000000000000001, 'tree_method': 'exact'}\n",
      " 44%|████▍     | 110/250 [2:59:14<2:20:12, 60.09s/trial, best loss: 0.2706161654322041]"
     ]
    },
    {
     "name": "stderr",
     "output_type": "stream",
     "text": [
      "c:\\Users\\dimas\\AppData\\Local\\Programs\\Python\\Python311\\Lib\\site-packages\\xgboost\\core.py:160: UserWarning: [02:52:20] WARNING: C:\\buildkite-agent\\builds\\buildkite-windows-cpu-autoscaling-group-i-0b3782d1791676daf-1\\xgboost\\xgboost-ci-windows\\src\\learner.cc:742: \n",
      "Parameters: { \"silent\" } are not used.\n",
      "\n",
      "  warnings.warn(smsg, UserWarning)\n",
      "\n"
     ]
    },
    {
     "name": "stdout",
     "output_type": "stream",
     "text": [
      "\tScore 0.7191688542906286                                                              \n",
      "\n",
      "\n",
      "Training with params:                                                                  \n",
      "{'booster': 'gbtree', 'colsample_bytree': 0.8, 'eta': 0.15000000000000002, 'gamma': 0.75, 'max_depth': 13, 'min_child_weight': 5.0, 'n_estimators': 304.0, 'nthread': 16, 'objective': 'reg:squarederror', 'seed': 314159265, 'silent': 1, 'subsample': 0.65, 'tree_method': 'exact'}\n",
      " 44%|████▍     | 111/250 [3:00:03<2:11:42, 56.85s/trial, best loss: 0.2706161654322041]"
     ]
    },
    {
     "name": "stderr",
     "output_type": "stream",
     "text": [
      "c:\\Users\\dimas\\AppData\\Local\\Programs\\Python\\Python311\\Lib\\site-packages\\xgboost\\core.py:160: UserWarning: [02:53:09] WARNING: C:\\buildkite-agent\\builds\\buildkite-windows-cpu-autoscaling-group-i-0b3782d1791676daf-1\\xgboost\\xgboost-ci-windows\\src\\learner.cc:742: \n",
      "Parameters: { \"silent\" } are not used.\n",
      "\n",
      "  warnings.warn(smsg, UserWarning)\n",
      "\n"
     ]
    },
    {
     "name": "stdout",
     "output_type": "stream",
     "text": [
      "\tScore 0.7194692568009511                                                              \n",
      "\n",
      "\n",
      "Training with params:                                                                  \n",
      "{'booster': 'gbtree', 'colsample_bytree': 0.8500000000000001, 'eta': 0.05, 'gamma': 0.9500000000000001, 'max_depth': 3, 'min_child_weight': 4.0, 'n_estimators': 277.0, 'nthread': 16, 'objective': 'reg:squarederror', 'seed': 314159265, 'silent': 1, 'subsample': 0.65, 'tree_method': 'exact'}\n",
      " 45%|████▍     | 112/250 [3:01:42<2:39:50, 69.50s/trial, best loss: 0.2706161654322041]"
     ]
    },
    {
     "name": "stderr",
     "output_type": "stream",
     "text": [
      "c:\\Users\\dimas\\AppData\\Local\\Programs\\Python\\Python311\\Lib\\site-packages\\xgboost\\core.py:160: UserWarning: [02:54:48] WARNING: C:\\buildkite-agent\\builds\\buildkite-windows-cpu-autoscaling-group-i-0b3782d1791676daf-1\\xgboost\\xgboost-ci-windows\\src\\learner.cc:742: \n",
      "Parameters: { \"silent\" } are not used.\n",
      "\n",
      "  warnings.warn(smsg, UserWarning)\n",
      "\n"
     ]
    },
    {
     "name": "stdout",
     "output_type": "stream",
     "text": [
      "\tScore 0.5499562849857049                                                              \n",
      "\n",
      "\n",
      "Training with params:                                                                  \n",
      "{'booster': 'gbtree', 'colsample_bytree': 0.75, 'eta': 0.1, 'gamma': 0.9, 'max_depth': 7, 'min_child_weight': 3.0, 'n_estimators': 210.0, 'nthread': 16, 'objective': 'reg:squarederror', 'seed': 314159265, 'silent': 1, 'subsample': 0.5, 'tree_method': 'exact'}\n",
      " 45%|████▌     | 113/250 [3:02:06<2:07:38, 55.90s/trial, best loss: 0.2706161654322041]"
     ]
    },
    {
     "name": "stderr",
     "output_type": "stream",
     "text": [
      "c:\\Users\\dimas\\AppData\\Local\\Programs\\Python\\Python311\\Lib\\site-packages\\xgboost\\core.py:160: UserWarning: [02:55:13] WARNING: C:\\buildkite-agent\\builds\\buildkite-windows-cpu-autoscaling-group-i-0b3782d1791676daf-1\\xgboost\\xgboost-ci-windows\\src\\learner.cc:742: \n",
      "Parameters: { \"silent\" } are not used.\n",
      "\n",
      "  warnings.warn(smsg, UserWarning)\n",
      "\n"
     ]
    },
    {
     "name": "stdout",
     "output_type": "stream",
     "text": [
      "\tScore 0.7020305231124826                                                              \n",
      "\n",
      "\n",
      "Training with params:                                                                  \n",
      "{'booster': 'gbtree', 'colsample_bytree': 0.8500000000000001, 'eta': 0.125, 'gamma': 0.8, 'max_depth': 11, 'min_child_weight': 6.0, 'n_estimators': 242.0, 'nthread': 16, 'objective': 'reg:squarederror', 'seed': 314159265, 'silent': 1, 'subsample': 0.9500000000000001, 'tree_method': 'exact'}\n",
      " 46%|████▌     | 114/250 [3:02:45<1:55:07, 50.79s/trial, best loss: 0.2706161654322041]"
     ]
    },
    {
     "name": "stderr",
     "output_type": "stream",
     "text": [
      "c:\\Users\\dimas\\AppData\\Local\\Programs\\Python\\Python311\\Lib\\site-packages\\xgboost\\core.py:160: UserWarning: [02:55:52] WARNING: C:\\buildkite-agent\\builds\\buildkite-windows-cpu-autoscaling-group-i-0b3782d1791676daf-1\\xgboost\\xgboost-ci-windows\\src\\learner.cc:742: \n",
      "Parameters: { \"silent\" } are not used.\n",
      "\n",
      "  warnings.warn(smsg, UserWarning)\n",
      "\n"
     ]
    },
    {
     "name": "stdout",
     "output_type": "stream",
     "text": [
      "\tScore 0.7267665041015083                                                              \n",
      "\n",
      "\n",
      "Training with params:                                                                  \n",
      "{'booster': 'gbtree', 'colsample_bytree': 0.8, 'eta': 0.05, 'gamma': 0.7000000000000001, 'max_depth': 8, 'min_child_weight': 3.0, 'n_estimators': 528.0, 'nthread': 16, 'objective': 'reg:squarederror', 'seed': 314159265, 'silent': 1, 'subsample': 0.8500000000000001, 'tree_method': 'exact'}\n",
      " 46%|████▌     | 115/250 [3:03:47<2:01:22, 53.94s/trial, best loss: 0.2706161654322041]"
     ]
    },
    {
     "name": "stderr",
     "output_type": "stream",
     "text": [
      "c:\\Users\\dimas\\AppData\\Local\\Programs\\Python\\Python311\\Lib\\site-packages\\xgboost\\core.py:160: UserWarning: [02:56:53] WARNING: C:\\buildkite-agent\\builds\\buildkite-windows-cpu-autoscaling-group-i-0b3782d1791676daf-1\\xgboost\\xgboost-ci-windows\\src\\learner.cc:742: \n",
      "Parameters: { \"silent\" } are not used.\n",
      "\n",
      "  warnings.warn(smsg, UserWarning)\n",
      "\n"
     ]
    },
    {
     "name": "stdout",
     "output_type": "stream",
     "text": [
      "\tScore 0.7198487411674566                                                              \n",
      "\n",
      "\n",
      "Training with params:                                                                  \n",
      "{'booster': 'gbtree', 'colsample_bytree': 0.9, 'eta': 0.025, 'gamma': 0.75, 'max_depth': 13, 'min_child_weight': 5.0, 'n_estimators': 180.0, 'nthread': 16, 'objective': 'reg:squarederror', 'seed': 314159265, 'silent': 1, 'subsample': 0.7000000000000001, 'tree_method': 'exact'}\n",
      " 46%|████▋     | 116/250 [3:05:23<2:29:13, 66.82s/trial, best loss: 0.2706161654322041]"
     ]
    },
    {
     "name": "stderr",
     "output_type": "stream",
     "text": [
      "c:\\Users\\dimas\\AppData\\Local\\Programs\\Python\\Python311\\Lib\\site-packages\\xgboost\\core.py:160: UserWarning: [02:58:30] WARNING: C:\\buildkite-agent\\builds\\buildkite-windows-cpu-autoscaling-group-i-0b3782d1791676daf-1\\xgboost\\xgboost-ci-windows\\src\\learner.cc:742: \n",
      "Parameters: { \"silent\" } are not used.\n",
      "\n",
      "  warnings.warn(smsg, UserWarning)\n",
      "\n"
     ]
    },
    {
     "name": "stdout",
     "output_type": "stream",
     "text": [
      "\tScore 0.728594680521258                                                               \n",
      "\n",
      "\n",
      "Training with params:                                                                  \n",
      "{'booster': 'gbtree', 'colsample_bytree': 0.9500000000000001, 'eta': 0.45, 'gamma': 0.8500000000000001, 'max_depth': 13, 'min_child_weight': 4.0, 'n_estimators': 320.0, 'nthread': 16, 'objective': 'reg:squarederror', 'seed': 314159265, 'silent': 1, 'subsample': 0.55, 'tree_method': 'exact'}\n",
      " 47%|████▋     | 117/250 [3:06:29<2:27:02, 66.34s/trial, best loss: 0.2706161654322041]"
     ]
    },
    {
     "name": "stderr",
     "output_type": "stream",
     "text": [
      "c:\\Users\\dimas\\AppData\\Local\\Programs\\Python\\Python311\\Lib\\site-packages\\xgboost\\core.py:160: UserWarning: [02:59:35] WARNING: C:\\buildkite-agent\\builds\\buildkite-windows-cpu-autoscaling-group-i-0b3782d1791676daf-1\\xgboost\\xgboost-ci-windows\\src\\learner.cc:742: \n",
      "Parameters: { \"silent\" } are not used.\n",
      "\n",
      "  warnings.warn(smsg, UserWarning)\n",
      "\n"
     ]
    },
    {
     "name": "stdout",
     "output_type": "stream",
     "text": [
      "\tScore 0.677284862959205                                                               \n",
      "\n",
      "\n",
      "Training with params:                                                                  \n",
      "{'booster': 'gbtree', 'colsample_bytree': 0.9, 'eta': 0.025, 'gamma': 0.9, 'max_depth': 13, 'min_child_weight': 5.0, 'n_estimators': 624.0, 'nthread': 16, 'objective': 'reg:squarederror', 'seed': 314159265, 'silent': 1, 'subsample': 0.6000000000000001, 'tree_method': 'exact'}\n",
      " 47%|████▋     | 118/250 [3:08:21<2:56:32, 80.25s/trial, best loss: 0.2706161654322041]"
     ]
    },
    {
     "name": "stderr",
     "output_type": "stream",
     "text": [
      "c:\\Users\\dimas\\AppData\\Local\\Programs\\Python\\Python311\\Lib\\site-packages\\xgboost\\core.py:160: UserWarning: [03:01:28] WARNING: C:\\buildkite-agent\\builds\\buildkite-windows-cpu-autoscaling-group-i-0b3782d1791676daf-1\\xgboost\\xgboost-ci-windows\\src\\learner.cc:742: \n",
      "Parameters: { \"silent\" } are not used.\n",
      "\n",
      "  warnings.warn(smsg, UserWarning)\n",
      "\n"
     ]
    },
    {
     "name": "stdout",
     "output_type": "stream",
     "text": [
      "\tScore 0.7280476399333591                                                              \n",
      "\n",
      "\n",
      "Training with params:                                                                   \n",
      "{'booster': 'gbtree', 'colsample_bytree': 0.9, 'eta': 0.42500000000000004, 'gamma': 0.8, 'max_depth': 13, 'min_child_weight': 6.0, 'n_estimators': 348.0, 'nthread': 16, 'objective': 'reg:squarederror', 'seed': 314159265, 'silent': 1, 'subsample': 0.7000000000000001, 'tree_method': 'exact'}\n",
      " 48%|████▊     | 119/250 [3:11:56<4:23:15, 120.57s/trial, best loss: 0.2706161654322041]"
     ]
    },
    {
     "name": "stderr",
     "output_type": "stream",
     "text": [
      "c:\\Users\\dimas\\AppData\\Local\\Programs\\Python\\Python311\\Lib\\site-packages\\xgboost\\core.py:160: UserWarning: [03:05:02] WARNING: C:\\buildkite-agent\\builds\\buildkite-windows-cpu-autoscaling-group-i-0b3782d1791676daf-1\\xgboost\\xgboost-ci-windows\\src\\learner.cc:742: \n",
      "Parameters: { \"silent\" } are not used.\n",
      "\n",
      "  warnings.warn(smsg, UserWarning)\n",
      "\n"
     ]
    },
    {
     "name": "stdout",
     "output_type": "stream",
     "text": [
      "\tScore 0.6983675778105798                                                               \n",
      "\n",
      "\n",
      "Training with params:                                                                   \n",
      "{'booster': 'gbtree', 'colsample_bytree': 0.9500000000000001, 'eta': 0.025, 'gamma': 0.75, 'max_depth': 13, 'min_child_weight': 3.0, 'n_estimators': 382.0, 'nthread': 16, 'objective': 'reg:squarederror', 'seed': 314159265, 'silent': 1, 'subsample': 0.65, 'tree_method': 'exact'}\n",
      " 48%|████▊     | 120/250 [3:13:48<4:15:44, 118.03s/trial, best loss: 0.2706161654322041]"
     ]
    },
    {
     "name": "stderr",
     "output_type": "stream",
     "text": [
      "c:\\Users\\dimas\\AppData\\Local\\Programs\\Python\\Python311\\Lib\\site-packages\\xgboost\\core.py:160: UserWarning: [03:06:54] WARNING: C:\\buildkite-agent\\builds\\buildkite-windows-cpu-autoscaling-group-i-0b3782d1791676daf-1\\xgboost\\xgboost-ci-windows\\src\\learner.cc:742: \n",
      "Parameters: { \"silent\" } are not used.\n",
      "\n",
      "  warnings.warn(smsg, UserWarning)\n",
      "\n"
     ]
    },
    {
     "name": "stdout",
     "output_type": "stream",
     "text": [
      "\tScore 0.7285598716120519                                                               \n",
      "\n",
      "\n",
      "Training with params:                                                                   \n",
      "{'booster': 'gbtree', 'colsample_bytree': 1.0, 'eta': 0.07500000000000001, 'gamma': 0.9500000000000001, 'max_depth': 13, 'min_child_weight': 3.0, 'n_estimators': 453.0, 'nthread': 16, 'objective': 'reg:squarederror', 'seed': 314159265, 'silent': 1, 'subsample': 0.65, 'tree_method': 'exact'}\n",
      " 48%|████▊     | 121/250 [3:16:02<4:24:11, 122.88s/trial, best loss: 0.2706161654322041]"
     ]
    },
    {
     "name": "stderr",
     "output_type": "stream",
     "text": [
      "c:\\Users\\dimas\\AppData\\Local\\Programs\\Python\\Python311\\Lib\\site-packages\\xgboost\\core.py:160: UserWarning: [03:09:09] WARNING: C:\\buildkite-agent\\builds\\buildkite-windows-cpu-autoscaling-group-i-0b3782d1791676daf-1\\xgboost\\xgboost-ci-windows\\src\\learner.cc:742: \n",
      "Parameters: { \"silent\" } are not used.\n",
      "\n",
      "  warnings.warn(smsg, UserWarning)\n",
      "\n"
     ]
    },
    {
     "name": "stdout",
     "output_type": "stream",
     "text": [
      "\tScore 0.7198751056660212                                                               \n",
      "\n",
      "\n",
      "Training with params:                                                                   \n",
      "{'booster': 'gbtree', 'colsample_bytree': 1.0, 'eta': 0.1, 'gamma': 0.8500000000000001, 'max_depth': 13, 'min_child_weight': 3.0, 'n_estimators': 382.0, 'nthread': 16, 'objective': 'reg:squarederror', 'seed': 314159265, 'silent': 1, 'subsample': 0.5, 'tree_method': 'exact'}\n",
      " 49%|████▉     | 122/250 [3:18:40<4:44:34, 133.39s/trial, best loss: 0.2706161654322041]"
     ]
    },
    {
     "name": "stderr",
     "output_type": "stream",
     "text": [
      "c:\\Users\\dimas\\AppData\\Local\\Programs\\Python\\Python311\\Lib\\site-packages\\xgboost\\core.py:160: UserWarning: [03:11:46] WARNING: C:\\buildkite-agent\\builds\\buildkite-windows-cpu-autoscaling-group-i-0b3782d1791676daf-1\\xgboost\\xgboost-ci-windows\\src\\learner.cc:742: \n",
      "Parameters: { \"silent\" } are not used.\n",
      "\n",
      "  warnings.warn(smsg, UserWarning)\n",
      "\n"
     ]
    },
    {
     "name": "stdout",
     "output_type": "stream",
     "text": [
      "\tScore 0.7206709160733361                                                               \n",
      "\n",
      "\n",
      "Training with params:                                                                   \n",
      "{'booster': 'gbtree', 'colsample_bytree': 0.9500000000000001, 'eta': 0.47500000000000003, 'gamma': 0.8, 'max_depth': 13, 'min_child_weight': 3.0, 'n_estimators': 500.0, 'nthread': 16, 'objective': 'reg:squarederror', 'seed': 314159265, 'silent': 1, 'subsample': 0.55, 'tree_method': 'exact'}\n",
      " 49%|████▉     | 123/250 [3:20:56<4:44:12, 134.27s/trial, best loss: 0.2706161654322041]"
     ]
    },
    {
     "name": "stderr",
     "output_type": "stream",
     "text": [
      "c:\\Users\\dimas\\AppData\\Local\\Programs\\Python\\Python311\\Lib\\site-packages\\xgboost\\core.py:160: UserWarning: [03:14:03] WARNING: C:\\buildkite-agent\\builds\\buildkite-windows-cpu-autoscaling-group-i-0b3782d1791676daf-1\\xgboost\\xgboost-ci-windows\\src\\learner.cc:742: \n",
      "Parameters: { \"silent\" } are not used.\n",
      "\n",
      "  warnings.warn(smsg, UserWarning)\n",
      "\n"
     ]
    },
    {
     "name": "stdout",
     "output_type": "stream",
     "text": [
      "\tScore 0.6713759948782044                                                               \n",
      "\n",
      "\n",
      "Training with params:                                                                   \n",
      "{'booster': 'gbtree', 'colsample_bytree': 1.0, 'eta': 0.05, 'gamma': 0.75, 'max_depth': 13, 'min_child_weight': 3.0, 'n_estimators': 587.0, 'nthread': 16, 'objective': 'reg:squarederror', 'seed': 314159265, 'silent': 1, 'subsample': 0.6000000000000001, 'tree_method': 'exact'}\n",
      " 50%|████▉     | 124/250 [3:23:51<5:07:32, 146.45s/trial, best loss: 0.2706161654322041]"
     ]
    },
    {
     "name": "stderr",
     "output_type": "stream",
     "text": [
      "c:\\Users\\dimas\\AppData\\Local\\Programs\\Python\\Python311\\Lib\\site-packages\\xgboost\\core.py:160: UserWarning: [03:16:58] WARNING: C:\\buildkite-agent\\builds\\buildkite-windows-cpu-autoscaling-group-i-0b3782d1791676daf-1\\xgboost\\xgboost-ci-windows\\src\\learner.cc:742: \n",
      "Parameters: { \"silent\" } are not used.\n",
      "\n",
      "  warnings.warn(smsg, UserWarning)\n",
      "\n"
     ]
    },
    {
     "name": "stdout",
     "output_type": "stream",
     "text": [
      "\tScore 0.7242359051513338                                                               \n",
      "\n",
      "\n",
      "Training with params:                                                                   \n",
      "{'booster': 'gbtree', 'colsample_bytree': 0.9500000000000001, 'eta': 0.375, 'gamma': 0.9, 'max_depth': 13, 'min_child_weight': 3.0, 'n_estimators': 481.0, 'nthread': 16, 'objective': 'reg:squarederror', 'seed': 314159265, 'silent': 1, 'subsample': 0.6000000000000001, 'tree_method': 'exact'}\n",
      " 50%|█████     | 125/250 [3:27:20<5:44:15, 165.24s/trial, best loss: 0.2706161654322041]"
     ]
    },
    {
     "name": "stderr",
     "output_type": "stream",
     "text": [
      "c:\\Users\\dimas\\AppData\\Local\\Programs\\Python\\Python311\\Lib\\site-packages\\xgboost\\core.py:160: UserWarning: [03:20:27] WARNING: C:\\buildkite-agent\\builds\\buildkite-windows-cpu-autoscaling-group-i-0b3782d1791676daf-1\\xgboost\\xgboost-ci-windows\\src\\learner.cc:742: \n",
      "Parameters: { \"silent\" } are not used.\n",
      "\n",
      "  warnings.warn(smsg, UserWarning)\n",
      "\n"
     ]
    },
    {
     "name": "stdout",
     "output_type": "stream",
     "text": [
      "\tScore 0.6959801431694835                                                               \n",
      "\n",
      "\n",
      "Training with params:                                                                   \n",
      "{'booster': 'gbtree', 'colsample_bytree': 0.9500000000000001, 'eta': 0.1, 'gamma': 1.0, 'max_depth': 13, 'min_child_weight': 4.0, 'n_estimators': 286.0, 'nthread': 16, 'objective': 'reg:squarederror', 'seed': 314159265, 'silent': 1, 'subsample': 0.65, 'tree_method': 'exact'}\n",
      " 50%|█████     | 126/250 [3:30:04<5:40:40, 164.84s/trial, best loss: 0.2706161654322041]"
     ]
    },
    {
     "name": "stderr",
     "output_type": "stream",
     "text": [
      "c:\\Users\\dimas\\AppData\\Local\\Programs\\Python\\Python311\\Lib\\site-packages\\xgboost\\core.py:160: UserWarning: [03:23:11] WARNING: C:\\buildkite-agent\\builds\\buildkite-windows-cpu-autoscaling-group-i-0b3782d1791676daf-1\\xgboost\\xgboost-ci-windows\\src\\learner.cc:742: \n",
      "Parameters: { \"silent\" } are not used.\n",
      "\n",
      "  warnings.warn(smsg, UserWarning)\n",
      "\n"
     ]
    },
    {
     "name": "stdout",
     "output_type": "stream",
     "text": [
      "\tScore 0.723797607705521                                                                \n",
      "\n",
      "\n",
      "Training with params:                                                                   \n",
      "{'booster': 'gbtree', 'colsample_bytree': 1.0, 'eta': 0.07500000000000001, 'gamma': 0.8, 'max_depth': 10, 'min_child_weight': 4.0, 'n_estimators': 413.0, 'nthread': 16, 'objective': 'reg:squarederror', 'seed': 314159265, 'silent': 1, 'subsample': 0.55, 'tree_method': 'exact'}\n",
      " 51%|█████     | 127/250 [3:31:42<4:56:19, 144.55s/trial, best loss: 0.2706161654322041]"
     ]
    },
    {
     "name": "stderr",
     "output_type": "stream",
     "text": [
      "c:\\Users\\dimas\\AppData\\Local\\Programs\\Python\\Python311\\Lib\\site-packages\\xgboost\\core.py:160: UserWarning: [03:24:48] WARNING: C:\\buildkite-agent\\builds\\buildkite-windows-cpu-autoscaling-group-i-0b3782d1791676daf-1\\xgboost\\xgboost-ci-windows\\src\\learner.cc:742: \n",
      "Parameters: { \"silent\" } are not used.\n",
      "\n",
      "  warnings.warn(smsg, UserWarning)\n",
      "\n"
     ]
    },
    {
     "name": "stdout",
     "output_type": "stream",
     "text": [
      "\tScore 0.7242428084878361                                                               \n",
      "\n",
      "\n",
      "Training with params:                                                                   \n",
      "{'booster': 'gbtree', 'colsample_bytree': 0.9, 'eta': 0.30000000000000004, 'gamma': 0.75, 'max_depth': 4, 'min_child_weight': 3.0, 'n_estimators': 262.0, 'nthread': 16, 'objective': 'reg:squarederror', 'seed': 314159265, 'silent': 1, 'subsample': 0.65, 'tree_method': 'exact'}\n",
      " 51%|█████     | 128/250 [3:33:33<4:33:34, 134.55s/trial, best loss: 0.2706161654322041]"
     ]
    },
    {
     "name": "stderr",
     "output_type": "stream",
     "text": [
      "c:\\Users\\dimas\\AppData\\Local\\Programs\\Python\\Python311\\Lib\\site-packages\\xgboost\\core.py:160: UserWarning: [03:26:39] WARNING: C:\\buildkite-agent\\builds\\buildkite-windows-cpu-autoscaling-group-i-0b3782d1791676daf-1\\xgboost\\xgboost-ci-windows\\src\\learner.cc:742: \n",
      "Parameters: { \"silent\" } are not used.\n",
      "\n",
      "  warnings.warn(smsg, UserWarning)\n",
      "\n"
     ]
    },
    {
     "name": "stdout",
     "output_type": "stream",
     "text": [
      "\tScore 0.6617618111814574                                                               \n",
      "\n",
      "\n",
      "Training with params:                                                                   \n",
      "{'booster': 'gbtree', 'colsample_bytree': 0.9500000000000001, 'eta': 0.05, 'gamma': 0.8500000000000001, 'max_depth': 2, 'min_child_weight': 3.0, 'n_estimators': 310.0, 'nthread': 16, 'objective': 'reg:squarederror', 'seed': 314159265, 'silent': 1, 'subsample': 0.7000000000000001, 'tree_method': 'exact'}\n",
      " 52%|█████▏    | 129/250 [3:34:01<3:26:48, 102.55s/trial, best loss: 0.2706161654322041]"
     ]
    },
    {
     "name": "stderr",
     "output_type": "stream",
     "text": [
      "c:\\Users\\dimas\\AppData\\Local\\Programs\\Python\\Python311\\Lib\\site-packages\\xgboost\\core.py:160: UserWarning: [03:27:07] WARNING: C:\\buildkite-agent\\builds\\buildkite-windows-cpu-autoscaling-group-i-0b3782d1791676daf-1\\xgboost\\xgboost-ci-windows\\src\\learner.cc:742: \n",
      "Parameters: { \"silent\" } are not used.\n",
      "\n",
      "  warnings.warn(smsg, UserWarning)\n",
      "\n"
     ]
    },
    {
     "name": "stdout",
     "output_type": "stream",
     "text": [
      "\tScore 0.40747910260092024                                                              \n",
      "\n",
      "\n",
      "Training with params:                                                                   \n",
      "{'booster': 'gbtree', 'colsample_bytree': 1.0, 'eta': 0.025, 'gamma': 0.75, 'max_depth': 9, 'min_child_weight': 3.0, 'n_estimators': 179.0, 'nthread': 16, 'objective': 'reg:squarederror', 'seed': 314159265, 'silent': 1, 'subsample': 0.55, 'tree_method': 'exact'}\n",
      " 52%|█████▏    | 130/250 [3:34:21<2:35:32, 77.77s/trial, best loss: 0.2706161654322041]"
     ]
    },
    {
     "name": "stderr",
     "output_type": "stream",
     "text": [
      "c:\\Users\\dimas\\AppData\\Local\\Programs\\Python\\Python311\\Lib\\site-packages\\xgboost\\core.py:160: UserWarning: [03:27:27] WARNING: C:\\buildkite-agent\\builds\\buildkite-windows-cpu-autoscaling-group-i-0b3782d1791676daf-1\\xgboost\\xgboost-ci-windows\\src\\learner.cc:742: \n",
      "Parameters: { \"silent\" } are not used.\n",
      "\n",
      "  warnings.warn(smsg, UserWarning)\n",
      "\n"
     ]
    },
    {
     "name": "stdout",
     "output_type": "stream",
     "text": [
      "\tScore 0.7012740779038695                                                              \n",
      "\n",
      "\n",
      "Training with params:                                                                  \n",
      "{'booster': 'gbtree', 'colsample_bytree': 0.9, 'eta': 0.17500000000000002, 'gamma': 0.8500000000000001, 'max_depth': 13, 'min_child_weight': 4.0, 'n_estimators': 198.0, 'nthread': 16, 'objective': 'reg:squarederror', 'seed': 314159265, 'silent': 1, 'subsample': 0.6000000000000001, 'tree_method': 'exact'}\n",
      " 52%|█████▏    | 131/250 [3:35:07<2:15:22, 68.25s/trial, best loss: 0.2706161654322041]"
     ]
    },
    {
     "name": "stderr",
     "output_type": "stream",
     "text": [
      "c:\\Users\\dimas\\AppData\\Local\\Programs\\Python\\Python311\\Lib\\site-packages\\xgboost\\core.py:160: UserWarning: [03:28:13] WARNING: C:\\buildkite-agent\\builds\\buildkite-windows-cpu-autoscaling-group-i-0b3782d1791676daf-1\\xgboost\\xgboost-ci-windows\\src\\learner.cc:742: \n",
      "Parameters: { \"silent\" } are not used.\n",
      "\n",
      "  warnings.warn(smsg, UserWarning)\n",
      "\n"
     ]
    },
    {
     "name": "stdout",
     "output_type": "stream",
     "text": [
      "\tScore 0.7186759941613068                                                              \n",
      "\n",
      "\n",
      "Training with params:                                                                  \n",
      "{'booster': 'gbtree', 'colsample_bytree': 0.9, 'eta': 0.15000000000000002, 'gamma': 0.75, 'max_depth': 6, 'min_child_weight': 4.0, 'n_estimators': 232.0, 'nthread': 16, 'objective': 'reg:squarederror', 'seed': 314159265, 'silent': 1, 'subsample': 0.5, 'tree_method': 'exact'}\n",
      " 53%|█████▎    | 132/250 [3:36:13<2:13:09, 67.71s/trial, best loss: 0.2706161654322041]"
     ]
    },
    {
     "name": "stderr",
     "output_type": "stream",
     "text": [
      "c:\\Users\\dimas\\AppData\\Local\\Programs\\Python\\Python311\\Lib\\site-packages\\xgboost\\core.py:160: UserWarning: [03:29:19] WARNING: C:\\buildkite-agent\\builds\\buildkite-windows-cpu-autoscaling-group-i-0b3782d1791676daf-1\\xgboost\\xgboost-ci-windows\\src\\learner.cc:742: \n",
      "Parameters: { \"silent\" } are not used.\n",
      "\n",
      "  warnings.warn(smsg, UserWarning)\n",
      "\n"
     ]
    },
    {
     "name": "stdout",
     "output_type": "stream",
     "text": [
      "\tScore 0.6964222466532543                                                              \n",
      "\n",
      "\n",
      "Training with params:                                                                  \n",
      "{'booster': 'gbtree', 'colsample_bytree': 1.0, 'eta': 0.1, 'gamma': 0.8, 'max_depth': 5, 'min_child_weight': 2.0, 'n_estimators': 523.0, 'nthread': 16, 'objective': 'reg:squarederror', 'seed': 314159265, 'silent': 1, 'subsample': 0.7000000000000001, 'tree_method': 'exact'}\n",
      " 53%|█████▎    | 133/250 [3:36:50<1:54:05, 58.51s/trial, best loss: 0.2706161654322041]"
     ]
    },
    {
     "name": "stderr",
     "output_type": "stream",
     "text": [
      "c:\\Users\\dimas\\AppData\\Local\\Programs\\Python\\Python311\\Lib\\site-packages\\xgboost\\core.py:160: UserWarning: [03:29:56] WARNING: C:\\buildkite-agent\\builds\\buildkite-windows-cpu-autoscaling-group-i-0b3782d1791676daf-1\\xgboost\\xgboost-ci-windows\\src\\learner.cc:742: \n",
      "Parameters: { \"silent\" } are not used.\n",
      "\n",
      "  warnings.warn(smsg, UserWarning)\n",
      "\n"
     ]
    },
    {
     "name": "stdout",
     "output_type": "stream",
     "text": [
      "\tScore 0.6917399333227914                                                              \n",
      "\n",
      "\n",
      "Training with params:                                                                  \n",
      "{'booster': 'gbtree', 'colsample_bytree': 0.9500000000000001, 'eta': 0.05, 'gamma': 0.8, 'max_depth': 1, 'min_child_weight': 3.0, 'n_estimators': 650.0, 'nthread': 16, 'objective': 'reg:squarederror', 'seed': 314159265, 'silent': 1, 'subsample': 0.65, 'tree_method': 'exact'}\n",
      " 54%|█████▎    | 134/250 [3:37:58<1:58:36, 61.35s/trial, best loss: 0.2706161654322041]"
     ]
    },
    {
     "name": "stderr",
     "output_type": "stream",
     "text": [
      "c:\\Users\\dimas\\AppData\\Local\\Programs\\Python\\Python311\\Lib\\site-packages\\xgboost\\core.py:160: UserWarning: [03:31:04] WARNING: C:\\buildkite-agent\\builds\\buildkite-windows-cpu-autoscaling-group-i-0b3782d1791676daf-1\\xgboost\\xgboost-ci-windows\\src\\learner.cc:742: \n",
      "Parameters: { \"silent\" } are not used.\n",
      "\n",
      "  warnings.warn(smsg, UserWarning)\n",
      "\n"
     ]
    },
    {
     "name": "stdout",
     "output_type": "stream",
     "text": [
      "\tScore 0.2739704751176175                                                              \n",
      "\n",
      "\n",
      "Training with params:                                                                  \n",
      "{'booster': 'gbtree', 'colsample_bytree': 0.8500000000000001, 'eta': 0.125, 'gamma': 0.7000000000000001, 'max_depth': 13, 'min_child_weight': 4.0, 'n_estimators': 553.0, 'nthread': 16, 'objective': 'reg:squarederror', 'seed': 314159265, 'silent': 1, 'subsample': 0.75, 'tree_method': 'exact'}\n",
      " 54%|█████▍    | 135/250 [3:38:28<1:39:40, 52.00s/trial, best loss: 0.2706161654322041]"
     ]
    },
    {
     "name": "stderr",
     "output_type": "stream",
     "text": [
      "c:\\Users\\dimas\\AppData\\Local\\Programs\\Python\\Python311\\Lib\\site-packages\\xgboost\\core.py:160: UserWarning: [03:31:35] WARNING: C:\\buildkite-agent\\builds\\buildkite-windows-cpu-autoscaling-group-i-0b3782d1791676daf-1\\xgboost\\xgboost-ci-windows\\src\\learner.cc:742: \n",
      "Parameters: { \"silent\" } are not used.\n",
      "\n",
      "  warnings.warn(smsg, UserWarning)\n",
      "\n"
     ]
    },
    {
     "name": "stdout",
     "output_type": "stream",
     "text": [
      "\tScore 0.7164990117654308                                                              \n",
      "\n",
      "\n",
      "Training with params:                                                                  \n",
      "{'booster': 'gbtree', 'colsample_bytree': 0.9, 'eta': 0.07500000000000001, 'gamma': 0.75, 'max_depth': 7, 'min_child_weight': 2.0, 'n_estimators': 395.0, 'nthread': 16, 'objective': 'reg:squarederror', 'seed': 314159265, 'silent': 1, 'subsample': 0.7000000000000001, 'tree_method': 'exact'}\n",
      " 54%|█████▍    | 136/250 [3:41:22<2:48:22, 88.62s/trial, best loss: 0.2706161654322041]"
     ]
    },
    {
     "name": "stderr",
     "output_type": "stream",
     "text": [
      "c:\\Users\\dimas\\AppData\\Local\\Programs\\Python\\Python311\\Lib\\site-packages\\xgboost\\core.py:160: UserWarning: [03:34:29] WARNING: C:\\buildkite-agent\\builds\\buildkite-windows-cpu-autoscaling-group-i-0b3782d1791676daf-1\\xgboost\\xgboost-ci-windows\\src\\learner.cc:742: \n",
      "Parameters: { \"silent\" } are not used.\n",
      "\n",
      "  warnings.warn(smsg, UserWarning)\n",
      "\n"
     ]
    },
    {
     "name": "stdout",
     "output_type": "stream",
     "text": [
      "\tScore 0.7121817201469631                                                              \n",
      "\n",
      "\n",
      "Training with params:                                                                  \n",
      "{'booster': 'gbtree', 'colsample_bytree': 0.9500000000000001, 'eta': 0.025, 'gamma': 0.9, 'max_depth': 13, 'min_child_weight': 3.0, 'n_estimators': 431.0, 'nthread': 16, 'objective': 'reg:squarederror', 'seed': 314159265, 'silent': 1, 'subsample': 0.6000000000000001, 'tree_method': 'exact'}\n",
      " 55%|█████▍    | 137/250 [3:42:31<2:35:26, 82.53s/trial, best loss: 0.2706161654322041]"
     ]
    },
    {
     "name": "stderr",
     "output_type": "stream",
     "text": [
      "c:\\Users\\dimas\\AppData\\Local\\Programs\\Python\\Python311\\Lib\\site-packages\\xgboost\\core.py:160: UserWarning: [03:35:37] WARNING: C:\\buildkite-agent\\builds\\buildkite-windows-cpu-autoscaling-group-i-0b3782d1791676daf-1\\xgboost\\xgboost-ci-windows\\src\\learner.cc:742: \n",
      "Parameters: { \"silent\" } are not used.\n",
      "\n",
      "  warnings.warn(smsg, UserWarning)\n",
      "\n"
     ]
    },
    {
     "name": "stdout",
     "output_type": "stream",
     "text": [
      "\tScore 0.7285182275146489                                                              \n",
      "\n",
      "\n",
      "Training with params:                                                                   \n",
      "{'booster': 'gbtree', 'colsample_bytree': 0.9, 'eta': 0.025, 'gamma': 0.65, 'max_depth': 3, 'min_child_weight': 3.0, 'n_estimators': 103.0, 'nthread': 16, 'objective': 'reg:squarederror', 'seed': 314159265, 'silent': 1, 'subsample': 0.75, 'tree_method': 'exact'}\n",
      " 55%|█████▌    | 138/250 [3:45:04<3:13:39, 103.74s/trial, best loss: 0.2706161654322041]"
     ]
    },
    {
     "name": "stderr",
     "output_type": "stream",
     "text": [
      "c:\\Users\\dimas\\AppData\\Local\\Programs\\Python\\Python311\\Lib\\site-packages\\xgboost\\core.py:160: UserWarning: [03:38:10] WARNING: C:\\buildkite-agent\\builds\\buildkite-windows-cpu-autoscaling-group-i-0b3782d1791676daf-1\\xgboost\\xgboost-ci-windows\\src\\learner.cc:742: \n",
      "Parameters: { \"silent\" } are not used.\n",
      "\n",
      "  warnings.warn(smsg, UserWarning)\n",
      "\n"
     ]
    },
    {
     "name": "stdout",
     "output_type": "stream",
     "text": [
      "\tScore 0.45439637132045574                                                              \n",
      "\n",
      "\n",
      "Training with params:                                                                   \n",
      "{'booster': 'gbtree', 'colsample_bytree': 1.0, 'eta': 0.35000000000000003, 'gamma': 0.8500000000000001, 'max_depth': 11, 'min_child_weight': 4.0, 'n_estimators': 680.0, 'nthread': 16, 'objective': 'reg:squarederror', 'seed': 314159265, 'silent': 1, 'subsample': 0.75, 'tree_method': 'exact'}\n",
      " 56%|█████▌    | 139/250 [3:45:13<2:19:12, 75.24s/trial, best loss: 0.2706161654322041]"
     ]
    },
    {
     "name": "stderr",
     "output_type": "stream",
     "text": [
      "c:\\Users\\dimas\\AppData\\Local\\Programs\\Python\\Python311\\Lib\\site-packages\\xgboost\\core.py:160: UserWarning: [03:38:19] WARNING: C:\\buildkite-agent\\builds\\buildkite-windows-cpu-autoscaling-group-i-0b3782d1791676daf-1\\xgboost\\xgboost-ci-windows\\src\\learner.cc:742: \n",
      "Parameters: { \"silent\" } are not used.\n",
      "\n",
      "  warnings.warn(smsg, UserWarning)\n",
      "\n"
     ]
    },
    {
     "name": "stdout",
     "output_type": "stream",
     "text": [
      "\tScore 0.7043745275712211                                                              \n",
      "\n",
      "\n",
      "Training with params:                                                                   \n",
      "{'booster': 'gbtree', 'colsample_bytree': 0.9500000000000001, 'eta': 0.2, 'gamma': 0.9500000000000001, 'max_depth': 8, 'min_child_weight': 2.0, 'n_estimators': 466.0, 'nthread': 16, 'objective': 'reg:squarederror', 'seed': 314159265, 'silent': 1, 'subsample': 0.65, 'tree_method': 'exact'}\n",
      " 56%|█████▌    | 140/250 [3:48:24<3:21:33, 109.94s/trial, best loss: 0.2706161654322041]"
     ]
    },
    {
     "name": "stderr",
     "output_type": "stream",
     "text": [
      "c:\\Users\\dimas\\AppData\\Local\\Programs\\Python\\Python311\\Lib\\site-packages\\xgboost\\core.py:160: UserWarning: [03:41:30] WARNING: C:\\buildkite-agent\\builds\\buildkite-windows-cpu-autoscaling-group-i-0b3782d1791676daf-1\\xgboost\\xgboost-ci-windows\\src\\learner.cc:742: \n",
      "Parameters: { \"silent\" } are not used.\n",
      "\n",
      "  warnings.warn(smsg, UserWarning)\n",
      "\n"
     ]
    },
    {
     "name": "stdout",
     "output_type": "stream",
     "text": [
      "\tScore 0.7163760723151689                                                               \n",
      "\n",
      "\n",
      "Training with params:                                                                   \n",
      "{'booster': 'gbtree', 'colsample_bytree': 0.8500000000000001, 'eta': 0.07500000000000001, 'gamma': 0.7000000000000001, 'max_depth': 10, 'min_child_weight': 3.0, 'n_estimators': 165.0, 'nthread': 16, 'objective': 'reg:squarederror', 'seed': 314159265, 'silent': 1, 'subsample': 0.7000000000000001, 'tree_method': 'exact'}\n",
      " 56%|█████▋    | 141/250 [3:49:58<3:11:28, 105.40s/trial, best loss: 0.2706161654322041]"
     ]
    },
    {
     "name": "stderr",
     "output_type": "stream",
     "text": [
      "c:\\Users\\dimas\\AppData\\Local\\Programs\\Python\\Python311\\Lib\\site-packages\\xgboost\\core.py:160: UserWarning: [03:43:05] WARNING: C:\\buildkite-agent\\builds\\buildkite-windows-cpu-autoscaling-group-i-0b3782d1791676daf-1\\xgboost\\xgboost-ci-windows\\src\\learner.cc:742: \n",
      "Parameters: { \"silent\" } are not used.\n",
      "\n",
      "  warnings.warn(smsg, UserWarning)\n",
      "\n"
     ]
    },
    {
     "name": "stdout",
     "output_type": "stream",
     "text": [
      "\tScore 0.7252898819251841                                                               \n",
      "\n",
      "\n",
      "Training with params:                                                                   \n",
      "{'booster': 'gbtree', 'colsample_bytree': 1.0, 'eta': 0.225, 'gamma': 0.8, 'max_depth': 4, 'min_child_weight': 4.0, 'n_estimators': 369.0, 'nthread': 16, 'objective': 'reg:squarederror', 'seed': 314159265, 'silent': 1, 'subsample': 0.65, 'tree_method': 'exact'}\n",
      " 57%|█████▋    | 142/250 [3:50:40<2:35:16, 86.26s/trial, best loss: 0.2706161654322041]"
     ]
    },
    {
     "name": "stderr",
     "output_type": "stream",
     "text": [
      "c:\\Users\\dimas\\AppData\\Local\\Programs\\Python\\Python311\\Lib\\site-packages\\xgboost\\core.py:160: UserWarning: [03:43:46] WARNING: C:\\buildkite-agent\\builds\\buildkite-windows-cpu-autoscaling-group-i-0b3782d1791676daf-1\\xgboost\\xgboost-ci-windows\\src\\learner.cc:742: \n",
      "Parameters: { \"silent\" } are not used.\n",
      "\n",
      "  warnings.warn(smsg, UserWarning)\n",
      "\n"
     ]
    },
    {
     "name": "stdout",
     "output_type": "stream",
     "text": [
      "\tScore 0.6647742998412396                                                              \n",
      "\n",
      "\n",
      "Training with params:                                                                  \n",
      "{'booster': 'gbtree', 'colsample_bytree': 0.9, 'eta': 0.15000000000000002, 'gamma': 0.75, 'max_depth': 2, 'min_child_weight': 5.0, 'n_estimators': 288.0, 'nthread': 16, 'objective': 'reg:squarederror', 'seed': 314159265, 'silent': 1, 'subsample': 0.55, 'tree_method': 'exact'}\n",
      " 57%|█████▋    | 143/250 [3:51:21<2:09:23, 72.55s/trial, best loss: 0.2706161654322041]"
     ]
    },
    {
     "name": "stderr",
     "output_type": "stream",
     "text": [
      "c:\\Users\\dimas\\AppData\\Local\\Programs\\Python\\Python311\\Lib\\site-packages\\xgboost\\core.py:160: UserWarning: [03:44:27] WARNING: C:\\buildkite-agent\\builds\\buildkite-windows-cpu-autoscaling-group-i-0b3782d1791676daf-1\\xgboost\\xgboost-ci-windows\\src\\learner.cc:742: \n",
      "Parameters: { \"silent\" } are not used.\n",
      "\n",
      "  warnings.warn(smsg, UserWarning)\n",
      "\n"
     ]
    },
    {
     "name": "stdout",
     "output_type": "stream",
     "text": [
      "\tScore 0.4832146065651045                                                              \n",
      "\n",
      "\n",
      "Training with params:                                                                  \n",
      "{'booster': 'gbtree', 'colsample_bytree': 0.8500000000000001, 'eta': 0.25, 'gamma': 0.7000000000000001, 'max_depth': 9, 'min_child_weight': 2.0, 'n_estimators': 123.0, 'nthread': 16, 'objective': 'reg:squarederror', 'seed': 314159265, 'silent': 1, 'subsample': 0.6000000000000001, 'tree_method': 'exact'}\n",
      " 58%|█████▊    | 144/250 [3:51:41<1:40:21, 56.81s/trial, best loss: 0.2706161654322041]"
     ]
    },
    {
     "name": "stderr",
     "output_type": "stream",
     "text": [
      "c:\\Users\\dimas\\AppData\\Local\\Programs\\Python\\Python311\\Lib\\site-packages\\xgboost\\core.py:160: UserWarning: [03:44:47] WARNING: C:\\buildkite-agent\\builds\\buildkite-windows-cpu-autoscaling-group-i-0b3782d1791676daf-1\\xgboost\\xgboost-ci-windows\\src\\learner.cc:742: \n",
      "Parameters: { \"silent\" } are not used.\n",
      "\n",
      "  warnings.warn(smsg, UserWarning)\n",
      "\n"
     ]
    },
    {
     "name": "stdout",
     "output_type": "stream",
     "text": [
      "\tScore 0.7168736235707758                                                              \n",
      "\n",
      "\n",
      "Training with params:                                                                  \n",
      "{'booster': 'gbtree', 'colsample_bytree': 0.9500000000000001, 'eta': 0.025, 'gamma': 0.9, 'max_depth': 13, 'min_child_weight': 3.0, 'n_estimators': 425.0, 'nthread': 16, 'objective': 'reg:squarederror', 'seed': 314159265, 'silent': 1, 'subsample': 0.6000000000000001, 'tree_method': 'exact'}\n",
      " 58%|█████▊    | 145/250 [3:52:09<1:24:40, 48.39s/trial, best loss: 0.2706161654322041]"
     ]
    },
    {
     "name": "stderr",
     "output_type": "stream",
     "text": [
      "c:\\Users\\dimas\\AppData\\Local\\Programs\\Python\\Python311\\Lib\\site-packages\\xgboost\\core.py:160: UserWarning: [03:45:16] WARNING: C:\\buildkite-agent\\builds\\buildkite-windows-cpu-autoscaling-group-i-0b3782d1791676daf-1\\xgboost\\xgboost-ci-windows\\src\\learner.cc:742: \n",
      "Parameters: { \"silent\" } are not used.\n",
      "\n",
      "  warnings.warn(smsg, UserWarning)\n",
      "\n"
     ]
    },
    {
     "name": "stdout",
     "output_type": "stream",
     "text": [
      "\tScore 0.7283868886276038                                                              \n",
      "\n",
      "\n",
      "Training with params:                                                                  \n",
      "{'booster': 'gbtree', 'colsample_bytree': 0.9500000000000001, 'eta': 0.05, 'gamma': 0.9500000000000001, 'max_depth': 13, 'min_child_weight': 3.0, 'n_estimators': 442.0, 'nthread': 16, 'objective': 'reg:squarederror', 'seed': 314159265, 'silent': 1, 'subsample': 0.6000000000000001, 'tree_method': 'exact'}\n",
      " 58%|█████▊    | 146/250 [3:54:42<2:17:59, 79.61s/trial, best loss: 0.2706161654322041]"
     ]
    },
    {
     "name": "stderr",
     "output_type": "stream",
     "text": [
      "c:\\Users\\dimas\\AppData\\Local\\Programs\\Python\\Python311\\Lib\\site-packages\\xgboost\\core.py:160: UserWarning: [03:47:48] WARNING: C:\\buildkite-agent\\builds\\buildkite-windows-cpu-autoscaling-group-i-0b3782d1791676daf-1\\xgboost\\xgboost-ci-windows\\src\\learner.cc:742: \n",
      "Parameters: { \"silent\" } are not used.\n",
      "\n",
      "  warnings.warn(smsg, UserWarning)\n",
      "\n"
     ]
    },
    {
     "name": "stdout",
     "output_type": "stream",
     "text": [
      "\tScore 0.7262891336999318                                                              \n",
      "\n",
      "\n",
      "Training with params:                                                                   \n",
      "{'booster': 'gbtree', 'colsample_bytree': 1.0, 'eta': 0.025, 'gamma': 0.9500000000000001, 'max_depth': 13, 'min_child_weight': 3.0, 'n_estimators': 346.0, 'nthread': 16, 'objective': 'reg:squarederror', 'seed': 314159265, 'silent': 1, 'subsample': 0.65, 'tree_method': 'exact'}\n",
      " 59%|█████▉    | 147/250 [3:57:16<2:55:13, 102.07s/trial, best loss: 0.2706161654322041]"
     ]
    },
    {
     "name": "stderr",
     "output_type": "stream",
     "text": [
      "c:\\Users\\dimas\\AppData\\Local\\Programs\\Python\\Python311\\Lib\\site-packages\\xgboost\\core.py:160: UserWarning: [03:50:23] WARNING: C:\\buildkite-agent\\builds\\buildkite-windows-cpu-autoscaling-group-i-0b3782d1791676daf-1\\xgboost\\xgboost-ci-windows\\src\\learner.cc:742: \n",
      "Parameters: { \"silent\" } are not used.\n",
      "\n",
      "  warnings.warn(smsg, UserWarning)\n",
      "\n"
     ]
    },
    {
     "name": "stdout",
     "output_type": "stream",
     "text": [
      "\tScore 0.7289593051670322                                                               \n",
      "\n",
      "\n",
      "Training with params:                                                                   \n",
      "{'booster': 'gbtree', 'colsample_bytree': 1.0, 'eta': 0.025, 'gamma': 1.0, 'max_depth': 13, 'min_child_weight': 3.0, 'n_estimators': 263.0, 'nthread': 16, 'objective': 'reg:squarederror', 'seed': 314159265, 'silent': 1, 'subsample': 0.7000000000000001, 'tree_method': 'exact'}\n",
      " 59%|█████▉    | 148/250 [3:59:23<3:06:12, 109.53s/trial, best loss: 0.2706161654322041]"
     ]
    },
    {
     "name": "stderr",
     "output_type": "stream",
     "text": [
      "c:\\Users\\dimas\\AppData\\Local\\Programs\\Python\\Python311\\Lib\\site-packages\\xgboost\\core.py:160: UserWarning: [03:52:30] WARNING: C:\\buildkite-agent\\builds\\buildkite-windows-cpu-autoscaling-group-i-0b3782d1791676daf-1\\xgboost\\xgboost-ci-windows\\src\\learner.cc:742: \n",
      "Parameters: { \"silent\" } are not used.\n",
      "\n",
      "  warnings.warn(smsg, UserWarning)\n",
      "\n"
     ]
    },
    {
     "name": "stdout",
     "output_type": "stream",
     "text": [
      "\tScore 0.7299085624523285                                                               \n",
      "\n",
      "\n",
      "Training with params:                                                                   \n",
      "{'booster': 'gbtree', 'colsample_bytree': 1.0, 'eta': 0.05, 'gamma': 0.9500000000000001, 'max_depth': 13, 'min_child_weight': 3.0, 'n_estimators': 255.0, 'nthread': 16, 'objective': 'reg:squarederror', 'seed': 314159265, 'silent': 1, 'subsample': 0.7000000000000001, 'tree_method': 'exact'}\n",
      " 60%|█████▉    | 149/250 [4:00:59<2:57:32, 105.47s/trial, best loss: 0.2700914375476715]"
     ]
    },
    {
     "name": "stderr",
     "output_type": "stream",
     "text": [
      "c:\\Users\\dimas\\AppData\\Local\\Programs\\Python\\Python311\\Lib\\site-packages\\xgboost\\core.py:160: UserWarning: [03:54:06] WARNING: C:\\buildkite-agent\\builds\\buildkite-windows-cpu-autoscaling-group-i-0b3782d1791676daf-1\\xgboost\\xgboost-ci-windows\\src\\learner.cc:742: \n",
      "Parameters: { \"silent\" } are not used.\n",
      "\n",
      "  warnings.warn(smsg, UserWarning)\n",
      "\n"
     ]
    },
    {
     "name": "stdout",
     "output_type": "stream",
     "text": [
      "\tScore 0.7264743708684196                                                               \n",
      "\n",
      "\n",
      "Training with params:                                                                   \n",
      "{'booster': 'gbtree', 'colsample_bytree': 1.0, 'eta': 0.07500000000000001, 'gamma': 1.0, 'max_depth': 13, 'min_child_weight': 3.0, 'n_estimators': 217.0, 'nthread': 16, 'objective': 'reg:squarederror', 'seed': 314159265, 'silent': 1, 'subsample': 0.7000000000000001, 'tree_method': 'exact'}\n",
      " 60%|██████    | 150/250 [4:02:30<2:48:31, 101.12s/trial, best loss: 0.2700914375476715]"
     ]
    },
    {
     "name": "stderr",
     "output_type": "stream",
     "text": [
      "c:\\Users\\dimas\\AppData\\Local\\Programs\\Python\\Python311\\Lib\\site-packages\\xgboost\\core.py:160: UserWarning: [03:55:37] WARNING: C:\\buildkite-agent\\builds\\buildkite-windows-cpu-autoscaling-group-i-0b3782d1791676daf-1\\xgboost\\xgboost-ci-windows\\src\\learner.cc:742: \n",
      "Parameters: { \"silent\" } are not used.\n",
      "\n",
      "  warnings.warn(smsg, UserWarning)\n",
      "\n"
     ]
    },
    {
     "name": "stdout",
     "output_type": "stream",
     "text": [
      "\tScore 0.7252286383385644                                                               \n",
      "\n",
      "\n",
      "Training with params:                                                                   \n",
      "{'booster': 'gbtree', 'colsample_bytree': 0.9500000000000001, 'eta': 0.05, 'gamma': 1.0, 'max_depth': 13, 'min_child_weight': 4.0, 'n_estimators': 191.0, 'nthread': 16, 'objective': 'reg:squarederror', 'seed': 314159265, 'silent': 1, 'subsample': 0.75, 'tree_method': 'exact'}\n",
      " 60%|██████    | 151/250 [4:03:48<2:35:07, 94.02s/trial, best loss: 0.2700914375476715]"
     ]
    },
    {
     "name": "stderr",
     "output_type": "stream",
     "text": [
      "c:\\Users\\dimas\\AppData\\Local\\Programs\\Python\\Python311\\Lib\\site-packages\\xgboost\\core.py:160: UserWarning: [03:56:54] WARNING: C:\\buildkite-agent\\builds\\buildkite-windows-cpu-autoscaling-group-i-0b3782d1791676daf-1\\xgboost\\xgboost-ci-windows\\src\\learner.cc:742: \n",
      "Parameters: { \"silent\" } are not used.\n",
      "\n",
      "  warnings.warn(smsg, UserWarning)\n",
      "\n"
     ]
    },
    {
     "name": "stdout",
     "output_type": "stream",
     "text": [
      "\tScore 0.7289329928410123                                                              \n",
      "\n",
      "\n",
      "Training with params:                                                                  \n",
      "{'booster': 'gbtree', 'colsample_bytree': 1.0, 'eta': 0.1, 'gamma': 1.0, 'max_depth': 6, 'min_child_weight': 4.0, 'n_estimators': 346.0, 'nthread': 16, 'objective': 'reg:squarederror', 'seed': 314159265, 'silent': 1, 'subsample': 0.75, 'tree_method': 'exact'}\n",
      " 61%|██████    | 152/250 [4:04:53<2:19:39, 85.51s/trial, best loss: 0.2700914375476715]"
     ]
    },
    {
     "name": "stderr",
     "output_type": "stream",
     "text": [
      "c:\\Users\\dimas\\AppData\\Local\\Programs\\Python\\Python311\\Lib\\site-packages\\xgboost\\core.py:160: UserWarning: [03:58:00] WARNING: C:\\buildkite-agent\\builds\\buildkite-windows-cpu-autoscaling-group-i-0b3782d1791676daf-1\\xgboost\\xgboost-ci-windows\\src\\learner.cc:742: \n",
      "Parameters: { \"silent\" } are not used.\n",
      "\n",
      "  warnings.warn(smsg, UserWarning)\n",
      "\n"
     ]
    },
    {
     "name": "stdout",
     "output_type": "stream",
     "text": [
      "\tScore 0.7005317602543832                                                              \n",
      "\n",
      "\n",
      "Training with params:                                                                  \n",
      "{'booster': 'gbtree', 'colsample_bytree': 1.0, 'eta': 0.05, 'gamma': 1.0, 'max_depth': 5, 'min_child_weight': 4.0, 'n_estimators': 268.0, 'nthread': 16, 'objective': 'reg:squarederror', 'seed': 314159265, 'silent': 1, 'subsample': 0.8, 'tree_method': 'exact'}\n",
      " 61%|██████    | 153/250 [4:05:46<2:02:18, 75.66s/trial, best loss: 0.2700914375476715]"
     ]
    },
    {
     "name": "stderr",
     "output_type": "stream",
     "text": [
      "c:\\Users\\dimas\\AppData\\Local\\Programs\\Python\\Python311\\Lib\\site-packages\\xgboost\\core.py:160: UserWarning: [03:58:52] WARNING: C:\\buildkite-agent\\builds\\buildkite-windows-cpu-autoscaling-group-i-0b3782d1791676daf-1\\xgboost\\xgboost-ci-windows\\src\\learner.cc:742: \n",
      "Parameters: { \"silent\" } are not used.\n",
      "\n",
      "  warnings.warn(smsg, UserWarning)\n",
      "\n"
     ]
    },
    {
     "name": "stdout",
     "output_type": "stream",
     "text": [
      "\tScore 0.6411145605426443                                                              \n",
      "\n",
      "\n",
      "Training with params:                                                                  \n",
      "{'booster': 'gbtree', 'colsample_bytree': 1.0, 'eta': 0.07500000000000001, 'gamma': 1.0, 'max_depth': 13, 'min_child_weight': 4.0, 'n_estimators': 239.0, 'nthread': 16, 'objective': 'reg:squarederror', 'seed': 314159265, 'silent': 1, 'subsample': 0.75, 'tree_method': 'exact'}\n",
      " 62%|██████▏   | 154/250 [4:06:20<1:40:59, 63.12s/trial, best loss: 0.2700914375476715]"
     ]
    },
    {
     "name": "stderr",
     "output_type": "stream",
     "text": [
      "c:\\Users\\dimas\\AppData\\Local\\Programs\\Python\\Python311\\Lib\\site-packages\\xgboost\\core.py:160: UserWarning: [03:59:26] WARNING: C:\\buildkite-agent\\builds\\buildkite-windows-cpu-autoscaling-group-i-0b3782d1791676daf-1\\xgboost\\xgboost-ci-windows\\src\\learner.cc:742: \n",
      "Parameters: { \"silent\" } are not used.\n",
      "\n",
      "  warnings.warn(smsg, UserWarning)\n",
      "\n"
     ]
    },
    {
     "name": "stdout",
     "output_type": "stream",
     "text": [
      "\tScore 0.7233138790428132                                                              \n",
      "\n",
      "\n",
      "Training with params:                                                                  \n",
      "{'booster': 'gbtree', 'colsample_bytree': 0.9500000000000001, 'eta': 0.05, 'gamma': 0.9500000000000001, 'max_depth': 1, 'min_child_weight': 3.0, 'n_estimators': 159.0, 'nthread': 16, 'objective': 'reg:squarederror', 'seed': 314159265, 'silent': 1, 'subsample': 0.75, 'tree_method': 'exact'}\n",
      " 62%|██████▏   | 155/250 [4:07:43<1:49:13, 68.98s/trial, best loss: 0.2700914375476715]"
     ]
    },
    {
     "name": "stderr",
     "output_type": "stream",
     "text": [
      "c:\\Users\\dimas\\AppData\\Local\\Programs\\Python\\Python311\\Lib\\site-packages\\xgboost\\core.py:160: UserWarning: [04:00:49] WARNING: C:\\buildkite-agent\\builds\\buildkite-windows-cpu-autoscaling-group-i-0b3782d1791676daf-1\\xgboost\\xgboost-ci-windows\\src\\learner.cc:742: \n",
      "Parameters: { \"silent\" } are not used.\n",
      "\n",
      "  warnings.warn(smsg, UserWarning)\n",
      "\n"
     ]
    },
    {
     "name": "stdout",
     "output_type": "stream",
     "text": [
      "\tScore 0.21542119547791538                                                             \n",
      "\n",
      "\n",
      "Training with params:                                                                  \n",
      "{'booster': 'gbtree', 'colsample_bytree': 1.0, 'eta': 0.125, 'gamma': 1.0, 'max_depth': 3, 'min_child_weight': 4.0, 'n_estimators': 296.0, 'nthread': 16, 'objective': 'reg:squarederror', 'seed': 314159265, 'silent': 1, 'subsample': 0.65, 'tree_method': 'exact'}\n",
      " 62%|██████▏   | 156/250 [4:07:50<1:19:08, 50.52s/trial, best loss: 0.2700914375476715]"
     ]
    },
    {
     "name": "stderr",
     "output_type": "stream",
     "text": [
      "c:\\Users\\dimas\\AppData\\Local\\Programs\\Python\\Python311\\Lib\\site-packages\\xgboost\\core.py:160: UserWarning: [04:00:56] WARNING: C:\\buildkite-agent\\builds\\buildkite-windows-cpu-autoscaling-group-i-0b3782d1791676daf-1\\xgboost\\xgboost-ci-windows\\src\\learner.cc:742: \n",
      "Parameters: { \"silent\" } are not used.\n",
      "\n",
      "  warnings.warn(smsg, UserWarning)\n",
      "\n"
     ]
    },
    {
     "name": "stdout",
     "output_type": "stream",
     "text": [
      "\tScore 0.5980069435684015                                                              \n",
      "\n",
      "\n",
      "Training with params:                                                                  \n",
      "{'booster': 'gbtree', 'colsample_bytree': 0.9500000000000001, 'eta': 0.025, 'gamma': 1.0, 'max_depth': 13, 'min_child_weight': 2.0, 'n_estimators': 323.0, 'nthread': 16, 'objective': 'reg:squarederror', 'seed': 314159265, 'silent': 1, 'subsample': 0.7000000000000001, 'tree_method': 'exact'}\n",
      " 63%|██████▎   | 157/250 [4:08:16<1:06:53, 43.16s/trial, best loss: 0.2700914375476715]"
     ]
    },
    {
     "name": "stderr",
     "output_type": "stream",
     "text": [
      "c:\\Users\\dimas\\AppData\\Local\\Programs\\Python\\Python311\\Lib\\site-packages\\xgboost\\core.py:160: UserWarning: [04:01:22] WARNING: C:\\buildkite-agent\\builds\\buildkite-windows-cpu-autoscaling-group-i-0b3782d1791676daf-1\\xgboost\\xgboost-ci-windows\\src\\learner.cc:742: \n",
      "Parameters: { \"silent\" } are not used.\n",
      "\n",
      "  warnings.warn(smsg, UserWarning)\n",
      "\n"
     ]
    },
    {
     "name": "stdout",
     "output_type": "stream",
     "text": [
      "\tScore 0.7289998129668143                                                              \n",
      "\n",
      "\n",
      "Training with params:                                                                  \n",
      "{'booster': 'gbtree', 'colsample_bytree': 0.5, 'eta': 0.1, 'gamma': 0.9500000000000001, 'max_depth': 7, 'min_child_weight': 2.0, 'n_estimators': 320.0, 'nthread': 16, 'objective': 'reg:squarederror', 'seed': 314159265, 'silent': 1, 'subsample': 0.7000000000000001, 'tree_method': 'exact'}\n",
      " 63%|██████▎   | 158/250 [4:10:10<1:38:38, 64.34s/trial, best loss: 0.2700914375476715]"
     ]
    },
    {
     "name": "stderr",
     "output_type": "stream",
     "text": [
      "c:\\Users\\dimas\\AppData\\Local\\Programs\\Python\\Python311\\Lib\\site-packages\\xgboost\\core.py:160: UserWarning: [04:03:16] WARNING: C:\\buildkite-agent\\builds\\buildkite-windows-cpu-autoscaling-group-i-0b3782d1791676daf-1\\xgboost\\xgboost-ci-windows\\src\\learner.cc:742: \n",
      "Parameters: { \"silent\" } are not used.\n",
      "\n",
      "  warnings.warn(smsg, UserWarning)\n",
      "\n"
     ]
    },
    {
     "name": "stdout",
     "output_type": "stream",
     "text": [
      "\tScore 0.7012740827139232                                                              \n",
      "\n",
      "\n",
      "Training with params:                                                                  \n",
      "{'booster': 'gbtree', 'colsample_bytree': 1.0, 'eta': 0.275, 'gamma': 0.9500000000000001, 'max_depth': 11, 'min_child_weight': 2.0, 'n_estimators': 331.0, 'nthread': 16, 'objective': 'reg:squarederror', 'seed': 314159265, 'silent': 1, 'subsample': 0.65, 'tree_method': 'exact'}\n",
      " 64%|██████▎   | 159/250 [4:10:59<1:30:49, 59.88s/trial, best loss: 0.2700914375476715]"
     ]
    },
    {
     "name": "stderr",
     "output_type": "stream",
     "text": [
      "c:\\Users\\dimas\\AppData\\Local\\Programs\\Python\\Python311\\Lib\\site-packages\\xgboost\\core.py:160: UserWarning: [04:04:06] WARNING: C:\\buildkite-agent\\builds\\buildkite-windows-cpu-autoscaling-group-i-0b3782d1791676daf-1\\xgboost\\xgboost-ci-windows\\src\\learner.cc:742: \n",
      "Parameters: { \"silent\" } are not used.\n",
      "\n",
      "  warnings.warn(smsg, UserWarning)\n",
      "\n"
     ]
    },
    {
     "name": "stdout",
     "output_type": "stream",
     "text": [
      "\tScore 0.7099080603087957                                                              \n",
      "\n",
      "\n",
      "Training with params:                                                                  \n",
      "{'booster': 'gbtree', 'colsample_bytree': 0.9500000000000001, 'eta': 0.025, 'gamma': 1.0, 'max_depth': 13, 'min_child_weight': 2.0, 'n_estimators': 412.0, 'nthread': 16, 'objective': 'reg:squarederror', 'seed': 314159265, 'silent': 1, 'subsample': 0.65, 'tree_method': 'exact'}\n",
      " 64%|██████▍   | 160/250 [4:12:36<1:46:21, 70.90s/trial, best loss: 0.2700914375476715]"
     ]
    },
    {
     "name": "stderr",
     "output_type": "stream",
     "text": [
      "c:\\Users\\dimas\\AppData\\Local\\Programs\\Python\\Python311\\Lib\\site-packages\\xgboost\\core.py:160: UserWarning: [04:05:42] WARNING: C:\\buildkite-agent\\builds\\buildkite-windows-cpu-autoscaling-group-i-0b3782d1791676daf-1\\xgboost\\xgboost-ci-windows\\src\\learner.cc:742: \n",
      "Parameters: { \"silent\" } are not used.\n",
      "\n",
      "  warnings.warn(smsg, UserWarning)\n",
      "\n"
     ]
    },
    {
     "name": "stdout",
     "output_type": "stream",
     "text": [
      "\tScore 0.7283715838177756                                                              \n",
      "\n",
      "\n",
      "Training with params:                                                                  \n",
      "{'booster': 'gbtree', 'colsample_bytree': 0.55, 'eta': 0.07500000000000001, 'gamma': 1.0, 'max_depth': 13, 'min_child_weight': 2.0, 'n_estimators': 297.0, 'nthread': 16, 'objective': 'reg:squarederror', 'seed': 314159265, 'silent': 1, 'subsample': 0.7000000000000001, 'tree_method': 'exact'}\n",
      " 64%|██████▍   | 161/250 [4:15:01<2:18:27, 93.34s/trial, best loss: 0.2700914375476715]"
     ]
    },
    {
     "name": "stderr",
     "output_type": "stream",
     "text": [
      "c:\\Users\\dimas\\AppData\\Local\\Programs\\Python\\Python311\\Lib\\site-packages\\xgboost\\core.py:160: UserWarning: [04:08:08] WARNING: C:\\buildkite-agent\\builds\\buildkite-windows-cpu-autoscaling-group-i-0b3782d1791676daf-1\\xgboost\\xgboost-ci-windows\\src\\learner.cc:742: \n",
      "Parameters: { \"silent\" } are not used.\n",
      "\n",
      "  warnings.warn(smsg, UserWarning)\n",
      "\n"
     ]
    },
    {
     "name": "stdout",
     "output_type": "stream",
     "text": [
      "\tScore 0.7252485379934022                                                              \n",
      "\n",
      "\n",
      "Training with params:                                                                  \n",
      "{'booster': 'gbtree', 'colsample_bytree': 1.0, 'eta': 0.1, 'gamma': 0.9500000000000001, 'max_depth': 8, 'min_child_weight': 2.0, 'n_estimators': 400.0, 'nthread': 16, 'objective': 'reg:squarederror', 'seed': 314159265, 'silent': 1, 'subsample': 0.65, 'tree_method': 'exact'}\n",
      " 65%|██████▍   | 162/250 [4:16:28<2:13:59, 91.36s/trial, best loss: 0.2700914375476715]"
     ]
    },
    {
     "name": "stderr",
     "output_type": "stream",
     "text": [
      "c:\\Users\\dimas\\AppData\\Local\\Programs\\Python\\Python311\\Lib\\site-packages\\xgboost\\core.py:160: UserWarning: [04:09:35] WARNING: C:\\buildkite-agent\\builds\\buildkite-windows-cpu-autoscaling-group-i-0b3782d1791676daf-1\\xgboost\\xgboost-ci-windows\\src\\learner.cc:742: \n",
      "Parameters: { \"silent\" } are not used.\n",
      "\n",
      "  warnings.warn(smsg, UserWarning)\n",
      "\n"
     ]
    },
    {
     "name": "stdout",
     "output_type": "stream",
     "text": [
      "\tScore 0.717783518748898                                                               \n",
      "\n",
      "\n",
      "Training with params:                                                                  \n",
      "{'booster': 'gbtree', 'colsample_bytree': 0.9, 'eta': 0.025, 'gamma': 0.9, 'max_depth': 10, 'min_child_weight': 2.0, 'n_estimators': 360.0, 'nthread': 16, 'objective': 'reg:squarederror', 'seed': 314159265, 'silent': 1, 'subsample': 0.7000000000000001, 'tree_method': 'exact'}\n",
      " 65%|██████▌   | 163/250 [4:17:52<2:09:17, 89.16s/trial, best loss: 0.2700914375476715]"
     ]
    },
    {
     "name": "stderr",
     "output_type": "stream",
     "text": [
      "c:\\Users\\dimas\\AppData\\Local\\Programs\\Python\\Python311\\Lib\\site-packages\\xgboost\\core.py:160: UserWarning: [04:10:59] WARNING: C:\\buildkite-agent\\builds\\buildkite-windows-cpu-autoscaling-group-i-0b3782d1791676daf-1\\xgboost\\xgboost-ci-windows\\src\\learner.cc:742: \n",
      "Parameters: { \"silent\" } are not used.\n",
      "\n",
      "  warnings.warn(smsg, UserWarning)\n",
      "\n"
     ]
    },
    {
     "name": "stdout",
     "output_type": "stream",
     "text": [
      "\tScore 0.7229985439890881                                                              \n",
      "\n",
      "\n",
      "Training with params:                                                                  \n",
      "{'booster': 'gbtree', 'colsample_bytree': 0.9500000000000001, 'eta': 0.17500000000000002, 'gamma': 0.9500000000000001, 'max_depth': 4, 'min_child_weight': 3.0, 'n_estimators': 210.0, 'nthread': 16, 'objective': 'reg:squarederror', 'seed': 314159265, 'silent': 1, 'subsample': 0.6000000000000001, 'tree_method': 'exact'}\n",
      " 66%|██████▌   | 164/250 [4:19:23<2:08:27, 89.63s/trial, best loss: 0.2700914375476715]"
     ]
    },
    {
     "name": "stderr",
     "output_type": "stream",
     "text": [
      "c:\\Users\\dimas\\AppData\\Local\\Programs\\Python\\Python311\\Lib\\site-packages\\xgboost\\core.py:160: UserWarning: [04:12:29] WARNING: C:\\buildkite-agent\\builds\\buildkite-windows-cpu-autoscaling-group-i-0b3782d1791676daf-1\\xgboost\\xgboost-ci-windows\\src\\learner.cc:742: \n",
      "Parameters: { \"silent\" } are not used.\n",
      "\n",
      "  warnings.warn(smsg, UserWarning)\n",
      "\n"
     ]
    },
    {
     "name": "stdout",
     "output_type": "stream",
     "text": [
      "\tScore 0.6454292985676471                                                              \n",
      "\n",
      "\n",
      "Training with params:                                                                  \n",
      "{'booster': 'gbtree', 'colsample_bytree': 0.9500000000000001, 'eta': 0.125, 'gamma': 1.0, 'max_depth': 2, 'min_child_weight': 2.0, 'n_estimators': 249.0, 'nthread': 16, 'objective': 'reg:squarederror', 'seed': 314159265, 'silent': 1, 'subsample': 0.65, 'tree_method': 'exact'}\n",
      " 66%|██████▌   | 165/250 [4:19:46<1:38:48, 69.74s/trial, best loss: 0.2700914375476715]"
     ]
    },
    {
     "name": "stderr",
     "output_type": "stream",
     "text": [
      "c:\\Users\\dimas\\AppData\\Local\\Programs\\Python\\Python311\\Lib\\site-packages\\xgboost\\core.py:160: UserWarning: [04:12:53] WARNING: C:\\buildkite-agent\\builds\\buildkite-windows-cpu-autoscaling-group-i-0b3782d1791676daf-1\\xgboost\\xgboost-ci-windows\\src\\learner.cc:742: \n",
      "Parameters: { \"silent\" } are not used.\n",
      "\n",
      "  warnings.warn(smsg, UserWarning)\n",
      "\n"
     ]
    },
    {
     "name": "stdout",
     "output_type": "stream",
     "text": [
      "\tScore 0.4548433464175715                                                              \n",
      "\n",
      "\n",
      "Training with params:                                                                  \n",
      "{'booster': 'gbtree', 'colsample_bytree': 0.8500000000000001, 'eta': 0.325, 'gamma': 1.0, 'max_depth': 13, 'min_child_weight': 3.0, 'n_estimators': 508.0, 'nthread': 16, 'objective': 'reg:squarederror', 'seed': 314159265, 'silent': 1, 'subsample': 0.8, 'tree_method': 'exact'}\n",
      " 66%|██████▋   | 166/250 [4:20:03<1:15:23, 53.86s/trial, best loss: 0.2700914375476715]"
     ]
    },
    {
     "name": "stderr",
     "output_type": "stream",
     "text": [
      "c:\\Users\\dimas\\AppData\\Local\\Programs\\Python\\Python311\\Lib\\site-packages\\xgboost\\core.py:160: UserWarning: [04:13:09] WARNING: C:\\buildkite-agent\\builds\\buildkite-windows-cpu-autoscaling-group-i-0b3782d1791676daf-1\\xgboost\\xgboost-ci-windows\\src\\learner.cc:742: \n",
      "Parameters: { \"silent\" } are not used.\n",
      "\n",
      "  warnings.warn(smsg, UserWarning)\n",
      "\n"
     ]
    },
    {
     "name": "stdout",
     "output_type": "stream",
     "text": [
      "\tScore 0.7058227286254427                                                              \n",
      "\n",
      "\n",
      "Training with params:                                                                  \n",
      "{'booster': 'gbtree', 'colsample_bytree': 1.0, 'eta': 0.05, 'gamma': 0.9500000000000001, 'max_depth': 9, 'min_child_weight': 2.0, 'n_estimators': 489.0, 'nthread': 16, 'objective': 'reg:squarederror', 'seed': 314159265, 'silent': 1, 'subsample': 0.7000000000000001, 'tree_method': 'exact'}\n",
      " 67%|██████▋   | 167/250 [4:22:42<1:58:08, 85.40s/trial, best loss: 0.2700914375476715]"
     ]
    },
    {
     "name": "stderr",
     "output_type": "stream",
     "text": [
      "c:\\Users\\dimas\\AppData\\Local\\Programs\\Python\\Python311\\Lib\\site-packages\\xgboost\\core.py:160: UserWarning: [04:15:48] WARNING: C:\\buildkite-agent\\builds\\buildkite-windows-cpu-autoscaling-group-i-0b3782d1791676daf-1\\xgboost\\xgboost-ci-windows\\src\\learner.cc:742: \n",
      "Parameters: { \"silent\" } are not used.\n",
      "\n",
      "  warnings.warn(smsg, UserWarning)\n",
      "\n"
     ]
    },
    {
     "name": "stdout",
     "output_type": "stream",
     "text": [
      "\tScore 0.7232757800463453                                                              \n",
      "\n",
      "\n",
      "Training with params:                                                                  \n",
      "{'booster': 'gbtree', 'colsample_bytree': 1.0, 'eta': 0.07500000000000001, 'gamma': 0.9, 'max_depth': 6, 'min_child_weight': 3.0, 'n_estimators': 542.0, 'nthread': 16, 'objective': 'reg:squarederror', 'seed': 314159265, 'silent': 1, 'subsample': 0.65, 'tree_method': 'exact'}\n",
      " 67%|██████▋   | 168/250 [4:24:36<2:08:23, 93.95s/trial, best loss: 0.2700914375476715]"
     ]
    },
    {
     "name": "stderr",
     "output_type": "stream",
     "text": [
      "c:\\Users\\dimas\\AppData\\Local\\Programs\\Python\\Python311\\Lib\\site-packages\\xgboost\\core.py:160: UserWarning: [04:17:42] WARNING: C:\\buildkite-agent\\builds\\buildkite-windows-cpu-autoscaling-group-i-0b3782d1791676daf-1\\xgboost\\xgboost-ci-windows\\src\\learner.cc:742: \n",
      "Parameters: { \"silent\" } are not used.\n",
      "\n",
      "  warnings.warn(smsg, UserWarning)\n",
      "\n"
     ]
    },
    {
     "name": "stdout",
     "output_type": "stream",
     "text": [
      "\tScore 0.7055009979293027                                                              \n",
      "\n",
      "\n",
      "Training with params:                                                                  \n",
      "{'booster': 'gbtree', 'colsample_bytree': 0.9, 'eta': 0.025, 'gamma': 0.9, 'max_depth': 5, 'min_child_weight': 2.0, 'n_estimators': 343.0, 'nthread': 16, 'objective': 'reg:squarederror', 'seed': 314159265, 'silent': 1, 'subsample': 0.55, 'tree_method': 'exact'}\n",
      " 68%|██████▊   | 169/250 [4:26:02<2:03:24, 91.41s/trial, best loss: 0.2700914375476715]"
     ]
    },
    {
     "name": "stderr",
     "output_type": "stream",
     "text": [
      "c:\\Users\\dimas\\AppData\\Local\\Programs\\Python\\Python311\\Lib\\site-packages\\xgboost\\core.py:160: UserWarning: [04:19:08] WARNING: C:\\buildkite-agent\\builds\\buildkite-windows-cpu-autoscaling-group-i-0b3782d1791676daf-1\\xgboost\\xgboost-ci-windows\\src\\learner.cc:742: \n",
      "Parameters: { \"silent\" } are not used.\n",
      "\n",
      "  warnings.warn(smsg, UserWarning)\n",
      "\n"
     ]
    },
    {
     "name": "stdout",
     "output_type": "stream",
     "text": [
      "\tScore 0.6229883997764962                                                              \n",
      "\n",
      "\n",
      "Training with params:                                                                  \n",
      "{'booster': 'gbtree', 'colsample_bytree': 1.0, 'eta': 0.125, 'gamma': 1.0, 'max_depth': 13, 'min_child_weight': 3.0, 'n_estimators': 273.0, 'nthread': 16, 'objective': 'reg:squarederror', 'seed': 314159265, 'silent': 1, 'subsample': 0.75, 'tree_method': 'exact'}\n",
      " 68%|██████▊   | 170/250 [4:26:48<1:43:51, 77.89s/trial, best loss: 0.2700914375476715]"
     ]
    },
    {
     "name": "stderr",
     "output_type": "stream",
     "text": [
      "c:\\Users\\dimas\\AppData\\Local\\Programs\\Python\\Python311\\Lib\\site-packages\\xgboost\\core.py:160: UserWarning: [04:19:54] WARNING: C:\\buildkite-agent\\builds\\buildkite-windows-cpu-autoscaling-group-i-0b3782d1791676daf-1\\xgboost\\xgboost-ci-windows\\src\\learner.cc:742: \n",
      "Parameters: { \"silent\" } are not used.\n",
      "\n",
      "  warnings.warn(smsg, UserWarning)\n",
      "\n"
     ]
    },
    {
     "name": "stdout",
     "output_type": "stream",
     "text": [
      "\tScore 0.7192661139300178                                                              \n",
      "\n",
      "\n",
      "Training with params:                                                                  \n",
      "{'booster': 'gbtree', 'colsample_bytree': 0.9500000000000001, 'eta': 0.07500000000000001, 'gamma': 0.9500000000000001, 'max_depth': 1, 'min_child_weight': 2.0, 'n_estimators': 457.0, 'nthread': 16, 'objective': 'reg:squarederror', 'seed': 314159265, 'silent': 1, 'subsample': 0.6000000000000001, 'tree_method': 'exact'}\n",
      " 68%|██████▊   | 171/250 [4:28:21<1:48:40, 82.54s/trial, best loss: 0.2700914375476715]"
     ]
    },
    {
     "name": "stderr",
     "output_type": "stream",
     "text": [
      "c:\\Users\\dimas\\AppData\\Local\\Programs\\Python\\Python311\\Lib\\site-packages\\xgboost\\core.py:160: UserWarning: [04:21:28] WARNING: C:\\buildkite-agent\\builds\\buildkite-windows-cpu-autoscaling-group-i-0b3782d1791676daf-1\\xgboost\\xgboost-ci-windows\\src\\learner.cc:742: \n",
      "Parameters: { \"silent\" } are not used.\n",
      "\n",
      "  warnings.warn(smsg, UserWarning)\n",
      "\n"
     ]
    },
    {
     "name": "stdout",
     "output_type": "stream",
     "text": [
      "\tScore 0.2769477279805884                                                              \n",
      "\n",
      "\n",
      "Training with params:                                                                  \n",
      "{'booster': 'gbtree', 'colsample_bytree': 0.55, 'eta': 0.4, 'gamma': 1.0, 'max_depth': 3, 'min_child_weight': 3.0, 'n_estimators': 312.0, 'nthread': 16, 'objective': 'reg:squarederror', 'seed': 314159265, 'silent': 1, 'subsample': 0.7000000000000001, 'tree_method': 'exact'}\n",
      " 69%|██████▉   | 172/250 [4:28:43<1:23:46, 64.45s/trial, best loss: 0.2700914375476715]"
     ]
    },
    {
     "name": "stderr",
     "output_type": "stream",
     "text": [
      "c:\\Users\\dimas\\AppData\\Local\\Programs\\Python\\Python311\\Lib\\site-packages\\xgboost\\core.py:160: UserWarning: [04:21:50] WARNING: C:\\buildkite-agent\\builds\\buildkite-windows-cpu-autoscaling-group-i-0b3782d1791676daf-1\\xgboost\\xgboost-ci-windows\\src\\learner.cc:742: \n",
      "Parameters: { \"silent\" } are not used.\n",
      "\n",
      "  warnings.warn(smsg, UserWarning)\n",
      "\n"
     ]
    },
    {
     "name": "stdout",
     "output_type": "stream",
     "text": [
      "\tScore 0.6254714348673693                                                              \n",
      "\n",
      "\n",
      "Training with params:                                                                  \n",
      "{'booster': 'gbtree', 'colsample_bytree': 0.9, 'eta': 0.15000000000000002, 'gamma': 0.9, 'max_depth': 13, 'min_child_weight': 3.0, 'n_estimators': 228.0, 'nthread': 16, 'objective': 'reg:squarederror', 'seed': 314159265, 'silent': 1, 'subsample': 0.7000000000000001, 'tree_method': 'exact'}\n",
      " 69%|██████▉   | 173/250 [4:29:08<1:07:22, 52.50s/trial, best loss: 0.2700914375476715]"
     ]
    },
    {
     "name": "stderr",
     "output_type": "stream",
     "text": [
      "c:\\Users\\dimas\\AppData\\Local\\Programs\\Python\\Python311\\Lib\\site-packages\\xgboost\\core.py:160: UserWarning: [04:22:14] WARNING: C:\\buildkite-agent\\builds\\buildkite-windows-cpu-autoscaling-group-i-0b3782d1791676daf-1\\xgboost\\xgboost-ci-windows\\src\\learner.cc:742: \n",
      "Parameters: { \"silent\" } are not used.\n",
      "\n",
      "  warnings.warn(smsg, UserWarning)\n",
      "\n"
     ]
    },
    {
     "name": "stdout",
     "output_type": "stream",
     "text": [
      "\tScore 0.7212737109247787                                                              \n",
      "\n",
      "\n",
      "Training with params:                                                                  \n",
      "{'booster': 'gbtree', 'colsample_bytree': 0.8, 'eta': 0.1, 'gamma': 0.9500000000000001, 'max_depth': 7, 'min_child_weight': 2.0, 'n_estimators': 573.0, 'nthread': 16, 'objective': 'reg:squarederror', 'seed': 314159265, 'silent': 1, 'subsample': 0.65, 'tree_method': 'exact'}\n",
      " 70%|██████▉   | 174/250 [4:30:23<1:14:53, 59.13s/trial, best loss: 0.2700914375476715]"
     ]
    },
    {
     "name": "stderr",
     "output_type": "stream",
     "text": [
      "c:\\Users\\dimas\\AppData\\Local\\Programs\\Python\\Python311\\Lib\\site-packages\\xgboost\\core.py:160: UserWarning: [04:23:29] WARNING: C:\\buildkite-agent\\builds\\buildkite-windows-cpu-autoscaling-group-i-0b3782d1791676daf-1\\xgboost\\xgboost-ci-windows\\src\\learner.cc:742: \n",
      "Parameters: { \"silent\" } are not used.\n",
      "\n",
      "  warnings.warn(smsg, UserWarning)\n",
      "\n"
     ]
    },
    {
     "name": "stdout",
     "output_type": "stream",
     "text": [
      "\tScore 0.7153201864969593                                                              \n",
      "\n",
      "\n",
      "Training with params:                                                                  \n",
      "{'booster': 'gbtree', 'colsample_bytree': 0.8500000000000001, 'eta': 0.05, 'gamma': 1.0, 'max_depth': 11, 'min_child_weight': 3.0, 'n_estimators': 601.0, 'nthread': 16, 'objective': 'reg:squarederror', 'seed': 314159265, 'silent': 1, 'subsample': 0.75, 'tree_method': 'exact'}\n",
      " 70%|███████   | 175/250 [4:32:00<1:28:10, 70.54s/trial, best loss: 0.2700914375476715]"
     ]
    },
    {
     "name": "stderr",
     "output_type": "stream",
     "text": [
      "c:\\Users\\dimas\\AppData\\Local\\Programs\\Python\\Python311\\Lib\\site-packages\\xgboost\\core.py:160: UserWarning: [04:25:06] WARNING: C:\\buildkite-agent\\builds\\buildkite-windows-cpu-autoscaling-group-i-0b3782d1791676daf-1\\xgboost\\xgboost-ci-windows\\src\\learner.cc:742: \n",
      "Parameters: { \"silent\" } are not used.\n",
      "\n",
      "  warnings.warn(smsg, UserWarning)\n",
      "\n"
     ]
    },
    {
     "name": "stdout",
     "output_type": "stream",
     "text": [
      "\tScore 0.7247177743797896                                                              \n",
      "\n",
      "\n",
      "Training with params:                                                                  \n",
      "{'booster': 'gbtree', 'colsample_bytree': 1.0, 'eta': 0.07500000000000001, 'gamma': 0.9500000000000001, 'max_depth': 13, 'min_child_weight': 3.0, 'n_estimators': 137.0, 'nthread': 16, 'objective': 'reg:squarederror', 'seed': 314159265, 'silent': 1, 'subsample': 0.8, 'tree_method': 'exact'}\n",
      " 70%|███████   | 176/250 [4:34:41<2:00:37, 97.81s/trial, best loss: 0.2700914375476715]"
     ]
    },
    {
     "name": "stderr",
     "output_type": "stream",
     "text": [
      "c:\\Users\\dimas\\AppData\\Local\\Programs\\Python\\Python311\\Lib\\site-packages\\xgboost\\core.py:160: UserWarning: [04:27:48] WARNING: C:\\buildkite-agent\\builds\\buildkite-windows-cpu-autoscaling-group-i-0b3782d1791676daf-1\\xgboost\\xgboost-ci-windows\\src\\learner.cc:742: \n",
      "Parameters: { \"silent\" } are not used.\n",
      "\n",
      "  warnings.warn(smsg, UserWarning)\n",
      "\n"
     ]
    },
    {
     "name": "stdout",
     "output_type": "stream",
     "text": [
      "\tScore 0.7268848540080286                                                              \n",
      "\n",
      "\n",
      "Training with params:                                                                  \n",
      "{'booster': 'gbtree', 'colsample_bytree': 0.9500000000000001, 'eta': 0.025, 'gamma': 1.0, 'max_depth': 13, 'min_child_weight': 2.0, 'n_estimators': 368.0, 'nthread': 16, 'objective': 'reg:squarederror', 'seed': 314159265, 'silent': 1, 'subsample': 0.6000000000000001, 'tree_method': 'exact'}\n",
      " 71%|███████   | 177/250 [4:35:29<1:40:49, 82.86s/trial, best loss: 0.2700914375476715]"
     ]
    },
    {
     "name": "stderr",
     "output_type": "stream",
     "text": [
      "c:\\Users\\dimas\\AppData\\Local\\Programs\\Python\\Python311\\Lib\\site-packages\\xgboost\\core.py:160: UserWarning: [04:28:36] WARNING: C:\\buildkite-agent\\builds\\buildkite-windows-cpu-autoscaling-group-i-0b3782d1791676daf-1\\xgboost\\xgboost-ci-windows\\src\\learner.cc:742: \n",
      "Parameters: { \"silent\" } are not used.\n",
      "\n",
      "  warnings.warn(smsg, UserWarning)\n",
      "\n"
     ]
    },
    {
     "name": "stdout",
     "output_type": "stream",
     "text": [
      "\tScore 0.7296845911413492                                                              \n",
      "\n",
      "\n",
      "Training with params:                                                                  \n",
      "{'booster': 'gbtree', 'colsample_bytree': 0.8500000000000001, 'eta': 0.42500000000000004, 'gamma': 0.5, 'max_depth': 8, 'min_child_weight': 1.0, 'n_estimators': 385.0, 'nthread': 16, 'objective': 'reg:squarederror', 'seed': 314159265, 'silent': 1, 'subsample': 0.5, 'tree_method': 'exact'}\n",
      " 71%|███████   | 178/250 [4:37:42<1:57:14, 97.70s/trial, best loss: 0.2700914375476715]"
     ]
    },
    {
     "name": "stderr",
     "output_type": "stream",
     "text": [
      "c:\\Users\\dimas\\AppData\\Local\\Programs\\Python\\Python311\\Lib\\site-packages\\xgboost\\core.py:160: UserWarning: [04:30:48] WARNING: C:\\buildkite-agent\\builds\\buildkite-windows-cpu-autoscaling-group-i-0b3782d1791676daf-1\\xgboost\\xgboost-ci-windows\\src\\learner.cc:742: \n",
      "Parameters: { \"silent\" } are not used.\n",
      "\n",
      "  warnings.warn(smsg, UserWarning)\n",
      "\n"
     ]
    },
    {
     "name": "stdout",
     "output_type": "stream",
     "text": [
      "\tScore 0.6930769344183068                                                              \n",
      "\n",
      "\n",
      "Training with params:                                                                  \n",
      "{'booster': 'gbtree', 'colsample_bytree': 0.9, 'eta': 0.025, 'gamma': 1.0, 'max_depth': 10, 'min_child_weight': 1.0, 'n_estimators': 473.0, 'nthread': 16, 'objective': 'reg:squarederror', 'seed': 314159265, 'silent': 1, 'subsample': 0.55, 'tree_method': 'exact'}\n",
      " 72%|███████▏  | 179/250 [4:39:02<1:49:23, 92.45s/trial, best loss: 0.2700914375476715]"
     ]
    },
    {
     "name": "stderr",
     "output_type": "stream",
     "text": [
      "c:\\Users\\dimas\\AppData\\Local\\Programs\\Python\\Python311\\Lib\\site-packages\\xgboost\\core.py:160: UserWarning: [04:32:08] WARNING: C:\\buildkite-agent\\builds\\buildkite-windows-cpu-autoscaling-group-i-0b3782d1791676daf-1\\xgboost\\xgboost-ci-windows\\src\\learner.cc:742: \n",
      "Parameters: { \"silent\" } are not used.\n",
      "\n",
      "  warnings.warn(smsg, UserWarning)\n",
      "\n"
     ]
    },
    {
     "name": "stdout",
     "output_type": "stream",
     "text": [
      "\tScore 0.7237564129434286                                                              \n",
      "\n",
      "\n",
      "Training with params:                                                                   \n",
      "{'booster': 'gbtree', 'colsample_bytree': 0.9, 'eta': 0.1, 'gamma': 0.9, 'max_depth': 4, 'min_child_weight': 2.0, 'n_estimators': 377.0, 'nthread': 16, 'objective': 'reg:squarederror', 'seed': 314159265, 'silent': 1, 'subsample': 0.55, 'tree_method': 'exact'}\n",
      " 72%|███████▏  | 180/250 [4:41:06<1:59:00, 102.00s/trial, best loss: 0.2700914375476715]"
     ]
    },
    {
     "name": "stderr",
     "output_type": "stream",
     "text": [
      "c:\\Users\\dimas\\AppData\\Local\\Programs\\Python\\Python311\\Lib\\site-packages\\xgboost\\core.py:160: UserWarning: [04:34:12] WARNING: C:\\buildkite-agent\\builds\\buildkite-windows-cpu-autoscaling-group-i-0b3782d1791676daf-1\\xgboost\\xgboost-ci-windows\\src\\learner.cc:742: \n",
      "Parameters: { \"silent\" } are not used.\n",
      "\n",
      "  warnings.warn(smsg, UserWarning)\n",
      "\n"
     ]
    },
    {
     "name": "stdout",
     "output_type": "stream",
     "text": [
      "\tScore 0.6424112577886403                                                               \n",
      "\n",
      "\n",
      "Training with params:                                                                   \n",
      "{'booster': 'gbtree', 'colsample_bytree': 0.9500000000000001, 'eta': 0.47500000000000003, 'gamma': 1.0, 'max_depth': 9, 'min_child_weight': 2.0, 'n_estimators': 287.0, 'nthread': 16, 'objective': 'reg:squarederror', 'seed': 314159265, 'silent': 1, 'subsample': 0.6000000000000001, 'tree_method': 'exact'}\n",
      " 72%|███████▏  | 181/250 [4:41:48<1:36:39, 84.05s/trial, best loss: 0.2700914375476715]"
     ]
    },
    {
     "name": "stderr",
     "output_type": "stream",
     "text": [
      "c:\\Users\\dimas\\AppData\\Local\\Programs\\Python\\Python311\\Lib\\site-packages\\xgboost\\core.py:160: UserWarning: [04:34:55] WARNING: C:\\buildkite-agent\\builds\\buildkite-windows-cpu-autoscaling-group-i-0b3782d1791676daf-1\\xgboost\\xgboost-ci-windows\\src\\learner.cc:742: \n",
      "Parameters: { \"silent\" } are not used.\n",
      "\n",
      "  warnings.warn(smsg, UserWarning)\n",
      "\n"
     ]
    },
    {
     "name": "stdout",
     "output_type": "stream",
     "text": [
      "\tScore 0.691307395450208                                                               \n",
      "\n",
      "\n",
      "Training with params:                                                                  \n",
      "{'booster': 'gbtree', 'colsample_bytree': 0.9, 'eta': 0.05, 'gamma': 1.0, 'max_depth': 2, 'min_child_weight': 1.0, 'n_estimators': 118.0, 'nthread': 16, 'objective': 'reg:squarederror', 'seed': 314159265, 'silent': 1, 'subsample': 0.5, 'tree_method': 'exact'}\n",
      " 73%|███████▎  | 182/250 [4:42:56<1:29:46, 79.22s/trial, best loss: 0.2700914375476715]"
     ]
    },
    {
     "name": "stderr",
     "output_type": "stream",
     "text": [
      "c:\\Users\\dimas\\AppData\\Local\\Programs\\Python\\Python311\\Lib\\site-packages\\xgboost\\core.py:160: UserWarning: [04:36:03] WARNING: C:\\buildkite-agent\\builds\\buildkite-windows-cpu-autoscaling-group-i-0b3782d1791676daf-1\\xgboost\\xgboost-ci-windows\\src\\learner.cc:742: \n",
      "Parameters: { \"silent\" } are not used.\n",
      "\n",
      "  warnings.warn(smsg, UserWarning)\n",
      "\n"
     ]
    },
    {
     "name": "stdout",
     "output_type": "stream",
     "text": [
      "\tScore 0.34942304147449255                                                             \n",
      "\n",
      "\n",
      "Training with params:                                                                  \n",
      "{'booster': 'gbtree', 'colsample_bytree': 0.8, 'eta': 0.125, 'gamma': 0.9500000000000001, 'max_depth': 13, 'min_child_weight': 1.0, 'n_estimators': 195.0, 'nthread': 16, 'objective': 'reg:squarederror', 'seed': 314159265, 'silent': 1, 'subsample': 0.6000000000000001, 'tree_method': 'exact'}\n",
      " 73%|███████▎  | 183/250 [4:43:05<1:04:46, 58.01s/trial, best loss: 0.2700914375476715]"
     ]
    },
    {
     "name": "stderr",
     "output_type": "stream",
     "text": [
      "c:\\Users\\dimas\\AppData\\Local\\Programs\\Python\\Python311\\Lib\\site-packages\\xgboost\\core.py:160: UserWarning: [04:36:11] WARNING: C:\\buildkite-agent\\builds\\buildkite-windows-cpu-autoscaling-group-i-0b3782d1791676daf-1\\xgboost\\xgboost-ci-windows\\src\\learner.cc:742: \n",
      "Parameters: { \"silent\" } are not used.\n",
      "\n",
      "  warnings.warn(smsg, UserWarning)\n",
      "\n"
     ]
    },
    {
     "name": "stdout",
     "output_type": "stream",
     "text": [
      "\tScore 0.7205664840425902                                                              \n",
      "\n",
      "\n",
      "Training with params:                                                                  \n",
      "{'booster': 'gbtree', 'colsample_bytree': 0.5, 'eta': 0.15000000000000002, 'gamma': 0.9, 'max_depth': 13, 'min_child_weight': 2.0, 'n_estimators': 407.0, 'nthread': 16, 'objective': 'reg:squarederror', 'seed': 314159265, 'silent': 1, 'subsample': 0.6000000000000001, 'tree_method': 'exact'}\n",
      " 74%|███████▎  | 184/250 [4:44:09<1:06:02, 60.04s/trial, best loss: 0.2700914375476715]"
     ]
    },
    {
     "name": "stderr",
     "output_type": "stream",
     "text": [
      "c:\\Users\\dimas\\AppData\\Local\\Programs\\Python\\Python311\\Lib\\site-packages\\xgboost\\core.py:160: UserWarning: [04:37:16] WARNING: C:\\buildkite-agent\\builds\\buildkite-windows-cpu-autoscaling-group-i-0b3782d1791676daf-1\\xgboost\\xgboost-ci-windows\\src\\learner.cc:742: \n",
      "Parameters: { \"silent\" } are not used.\n",
      "\n",
      "  warnings.warn(smsg, UserWarning)\n",
      "\n"
     ]
    },
    {
     "name": "stdout",
     "output_type": "stream",
     "text": [
      "\tScore 0.7140090493827951                                                              \n",
      "\n",
      "\n",
      "Training with params:                                                                  \n",
      "{'booster': 'gbtree', 'colsample_bytree': 0.8500000000000001, 'eta': 0.025, 'gamma': 0.5, 'max_depth': 6, 'min_child_weight': 2.0, 'n_estimators': 154.0, 'nthread': 16, 'objective': 'reg:squarederror', 'seed': 314159265, 'silent': 1, 'subsample': 0.55, 'tree_method': 'exact'}\n",
      " 74%|███████▍  | 185/250 [4:46:06<1:23:21, 76.95s/trial, best loss: 0.2700914375476715]"
     ]
    },
    {
     "name": "stderr",
     "output_type": "stream",
     "text": [
      "c:\\Users\\dimas\\AppData\\Local\\Programs\\Python\\Python311\\Lib\\site-packages\\xgboost\\core.py:160: UserWarning: [04:39:12] WARNING: C:\\buildkite-agent\\builds\\buildkite-windows-cpu-autoscaling-group-i-0b3782d1791676daf-1\\xgboost\\xgboost-ci-windows\\src\\learner.cc:742: \n",
      "Parameters: { \"silent\" } are not used.\n",
      "\n",
      "  warnings.warn(smsg, UserWarning)\n",
      "\n"
     ]
    },
    {
     "name": "stdout",
     "output_type": "stream",
     "text": [
      "\tScore 0.6206285275908596                                                              \n",
      "\n",
      "\n",
      "Training with params:                                                                  \n",
      "{'booster': 'gbtree', 'colsample_bytree': 0.9500000000000001, 'eta': 0.1, 'gamma': 0.55, 'max_depth': 5, 'min_child_weight': 2.0, 'n_estimators': 317.0, 'nthread': 16, 'objective': 'reg:squarederror', 'seed': 314159265, 'silent': 1, 'subsample': 0.65, 'tree_method': 'exact'}\n",
      " 74%|███████▍  | 186/250 [4:46:31<1:05:28, 61.38s/trial, best loss: 0.2700914375476715]"
     ]
    },
    {
     "name": "stderr",
     "output_type": "stream",
     "text": [
      "c:\\Users\\dimas\\AppData\\Local\\Programs\\Python\\Python311\\Lib\\site-packages\\xgboost\\core.py:160: UserWarning: [04:39:37] WARNING: C:\\buildkite-agent\\builds\\buildkite-windows-cpu-autoscaling-group-i-0b3782d1791676daf-1\\xgboost\\xgboost-ci-windows\\src\\learner.cc:742: \n",
      "Parameters: { \"silent\" } are not used.\n",
      "\n",
      "  warnings.warn(smsg, UserWarning)\n",
      "\n"
     ]
    },
    {
     "name": "stdout",
     "output_type": "stream",
     "text": [
      "\tScore 0.6764458206651814                                                              \n",
      "\n",
      "\n",
      "Training with params:                                                                  \n",
      "{'booster': 'gbtree', 'colsample_bytree': 0.9500000000000001, 'eta': 0.05, 'gamma': 0.9, 'max_depth': 1, 'min_child_weight': 2.0, 'n_estimators': 445.0, 'nthread': 16, 'objective': 'reg:squarederror', 'seed': 314159265, 'silent': 1, 'subsample': 0.7000000000000001, 'tree_method': 'exact'}\n",
      " 75%|███████▍  | 187/250 [4:47:13<58:12, 55.44s/trial, best loss: 0.2700914375476715]"
     ]
    },
    {
     "name": "stderr",
     "output_type": "stream",
     "text": [
      "c:\\Users\\dimas\\AppData\\Local\\Programs\\Python\\Python311\\Lib\\site-packages\\xgboost\\core.py:160: UserWarning: [04:40:19] WARNING: C:\\buildkite-agent\\builds\\buildkite-windows-cpu-autoscaling-group-i-0b3782d1791676daf-1\\xgboost\\xgboost-ci-windows\\src\\learner.cc:742: \n",
      "Parameters: { \"silent\" } are not used.\n",
      "\n",
      "  warnings.warn(smsg, UserWarning)\n",
      "\n"
     ]
    },
    {
     "name": "stdout",
     "output_type": "stream",
     "text": [
      "\tScore 0.25816191576270997                                                           \n",
      "\n",
      "\n",
      "Training with params:                                                                \n",
      "{'booster': 'gbtree', 'colsample_bytree': 0.8500000000000001, 'eta': 0.07500000000000001, 'gamma': 0.9500000000000001, 'max_depth': 13, 'min_child_weight': 1.0, 'n_estimators': 250.0, 'nthread': 16, 'objective': 'reg:squarederror', 'seed': 314159265, 'silent': 1, 'subsample': 0.6000000000000001, 'tree_method': 'exact'}\n",
      " 75%|███████▌  | 188/250 [4:47:33<46:22, 44.88s/trial, best loss: 0.2700914375476715]"
     ]
    },
    {
     "name": "stderr",
     "output_type": "stream",
     "text": [
      "c:\\Users\\dimas\\AppData\\Local\\Programs\\Python\\Python311\\Lib\\site-packages\\xgboost\\core.py:160: UserWarning: [04:40:39] WARNING: C:\\buildkite-agent\\builds\\buildkite-windows-cpu-autoscaling-group-i-0b3782d1791676daf-1\\xgboost\\xgboost-ci-windows\\src\\learner.cc:742: \n",
      "Parameters: { \"silent\" } are not used.\n",
      "\n",
      "  warnings.warn(smsg, UserWarning)\n",
      "\n"
     ]
    },
    {
     "name": "stdout",
     "output_type": "stream",
     "text": [
      "\tScore 0.7215080597707766                                                            \n",
      "\n",
      "\n",
      "Training with params:                                                                \n",
      "{'booster': 'gbtree', 'colsample_bytree': 0.9, 'eta': 0.17500000000000002, 'gamma': 0.8500000000000001, 'max_depth': 3, 'min_child_weight': 2.0, 'n_estimators': 515.0, 'nthread': 16, 'objective': 'reg:squarederror', 'seed': 314159265, 'silent': 1, 'subsample': 0.5, 'tree_method': 'exact'}\n",
      " 76%|███████▌  | 189/250 [4:48:59<58:23, 57.44s/trial, best loss: 0.2700914375476715]"
     ]
    },
    {
     "name": "stderr",
     "output_type": "stream",
     "text": [
      "c:\\Users\\dimas\\AppData\\Local\\Programs\\Python\\Python311\\Lib\\site-packages\\xgboost\\core.py:160: UserWarning: [04:42:06] WARNING: C:\\buildkite-agent\\builds\\buildkite-windows-cpu-autoscaling-group-i-0b3782d1791676daf-1\\xgboost\\xgboost-ci-windows\\src\\learner.cc:742: \n",
      "Parameters: { \"silent\" } are not used.\n",
      "\n",
      "  warnings.warn(smsg, UserWarning)\n",
      "\n"
     ]
    },
    {
     "name": "stdout",
     "output_type": "stream",
     "text": [
      "\tScore 0.6210598750900693                                                            \n",
      "\n",
      "\n",
      "Training with params:                                                                \n",
      "{'booster': 'gbtree', 'colsample_bytree': 0.8, 'eta': 0.025, 'gamma': 1.0, 'max_depth': 7, 'min_child_weight': 1.0, 'n_estimators': 219.0, 'nthread': 16, 'objective': 'reg:squarederror', 'seed': 314159265, 'silent': 1, 'subsample': 0.55, 'tree_method': 'exact'}\n",
      " 76%|███████▌  | 190/250 [4:49:45<53:55, 53.92s/trial, best loss: 0.2700914375476715]"
     ]
    },
    {
     "name": "stderr",
     "output_type": "stream",
     "text": [
      "c:\\Users\\dimas\\AppData\\Local\\Programs\\Python\\Python311\\Lib\\site-packages\\xgboost\\core.py:160: UserWarning: [04:42:52] WARNING: C:\\buildkite-agent\\builds\\buildkite-windows-cpu-autoscaling-group-i-0b3782d1791676daf-1\\xgboost\\xgboost-ci-windows\\src\\learner.cc:742: \n",
      "Parameters: { \"silent\" } are not used.\n",
      "\n",
      "  warnings.warn(smsg, UserWarning)\n",
      "\n"
     ]
    },
    {
     "name": "stdout",
     "output_type": "stream",
     "text": [
      "\tScore 0.6618387137865738                                                            \n",
      "\n",
      "\n",
      "Training with params:                                                                \n",
      "{'booster': 'gbtree', 'colsample_bytree': 0.9, 'eta': 0.05, 'gamma': 0.9500000000000001, 'max_depth': 11, 'min_child_weight': 1.0, 'n_estimators': 360.0, 'nthread': 16, 'objective': 'reg:squarederror', 'seed': 314159265, 'silent': 1, 'subsample': 0.65, 'tree_method': 'exact'}\n",
      " 76%|███████▋  | 191/250 [4:50:25<48:58, 49.80s/trial, best loss: 0.2700914375476715]"
     ]
    },
    {
     "name": "stderr",
     "output_type": "stream",
     "text": [
      "c:\\Users\\dimas\\AppData\\Local\\Programs\\Python\\Python311\\Lib\\site-packages\\xgboost\\core.py:160: UserWarning: [04:43:32] WARNING: C:\\buildkite-agent\\builds\\buildkite-windows-cpu-autoscaling-group-i-0b3782d1791676daf-1\\xgboost\\xgboost-ci-windows\\src\\learner.cc:742: \n",
      "Parameters: { \"silent\" } are not used.\n",
      "\n",
      "  warnings.warn(smsg, UserWarning)\n",
      "\n"
     ]
    },
    {
     "name": "stdout",
     "output_type": "stream",
     "text": [
      "\tScore 0.725127996599289                                                             \n",
      "\n",
      "\n",
      "Training with params:                                                                  \n",
      "{'booster': 'gbtree', 'colsample_bytree': 0.9500000000000001, 'eta': 0.05, 'gamma': 1.0, 'max_depth': 13, 'min_child_weight': 2.0, 'n_estimators': 272.0, 'nthread': 16, 'objective': 'reg:squarederror', 'seed': 314159265, 'silent': 1, 'subsample': 0.7000000000000001, 'tree_method': 'exact'}\n",
      " 77%|███████▋  | 192/250 [4:52:07<1:03:05, 65.27s/trial, best loss: 0.2700914375476715]"
     ]
    },
    {
     "name": "stderr",
     "output_type": "stream",
     "text": [
      "c:\\Users\\dimas\\AppData\\Local\\Programs\\Python\\Python311\\Lib\\site-packages\\xgboost\\core.py:160: UserWarning: [04:45:13] WARNING: C:\\buildkite-agent\\builds\\buildkite-windows-cpu-autoscaling-group-i-0b3782d1791676daf-1\\xgboost\\xgboost-ci-windows\\src\\learner.cc:742: \n",
      "Parameters: { \"silent\" } are not used.\n",
      "\n",
      "  warnings.warn(smsg, UserWarning)\n",
      "\n"
     ]
    },
    {
     "name": "stdout",
     "output_type": "stream",
     "text": [
      "\tScore 0.7258331543309485                                                              \n",
      "\n",
      "\n",
      "Training with params:                                                                  \n",
      "{'booster': 'gbtree', 'colsample_bytree': 1.0, 'eta': 0.30000000000000004, 'gamma': 0.9, 'max_depth': 8, 'min_child_weight': 2.0, 'n_estimators': 100.0, 'nthread': 16, 'objective': 'reg:squarederror', 'seed': 314159265, 'silent': 1, 'subsample': 0.75, 'tree_method': 'exact'}\n",
      " 77%|███████▋  | 193/250 [4:53:41<1:10:08, 73.83s/trial, best loss: 0.2700914375476715]"
     ]
    },
    {
     "name": "stderr",
     "output_type": "stream",
     "text": [
      "c:\\Users\\dimas\\AppData\\Local\\Programs\\Python\\Python311\\Lib\\site-packages\\xgboost\\core.py:160: UserWarning: [04:46:47] WARNING: C:\\buildkite-agent\\builds\\buildkite-windows-cpu-autoscaling-group-i-0b3782d1791676daf-1\\xgboost\\xgboost-ci-windows\\src\\learner.cc:742: \n",
      "Parameters: { \"silent\" } are not used.\n",
      "\n",
      "  warnings.warn(smsg, UserWarning)\n",
      "\n"
     ]
    },
    {
     "name": "stdout",
     "output_type": "stream",
     "text": [
      "\tScore 0.7155994023825294                                                              \n",
      "\n",
      "\n",
      "Training with params:                                                                  \n",
      "{'booster': 'gbtree', 'colsample_bytree': 0.9500000000000001, 'eta': 0.07500000000000001, 'gamma': 0.9500000000000001, 'max_depth': 13, 'min_child_weight': 3.0, 'n_estimators': 425.0, 'nthread': 16, 'objective': 'reg:squarederror', 'seed': 314159265, 'silent': 1, 'subsample': 0.6000000000000001, 'tree_method': 'exact'}\n",
      " 78%|███████▊  | 194/250 [4:54:01<54:03, 57.92s/trial, best loss: 0.2700914375476715]"
     ]
    },
    {
     "name": "stderr",
     "output_type": "stream",
     "text": [
      "c:\\Users\\dimas\\AppData\\Local\\Programs\\Python\\Python311\\Lib\\site-packages\\xgboost\\core.py:160: UserWarning: [04:47:08] WARNING: C:\\buildkite-agent\\builds\\buildkite-windows-cpu-autoscaling-group-i-0b3782d1791676daf-1\\xgboost\\xgboost-ci-windows\\src\\learner.cc:742: \n",
      "Parameters: { \"silent\" } are not used.\n",
      "\n",
      "  warnings.warn(smsg, UserWarning)\n",
      "\n"
     ]
    },
    {
     "name": "stdout",
     "output_type": "stream",
     "text": [
      "\tScore 0.7221545564609815                                                            \n",
      "\n",
      "\n",
      "Training with params:                                                                  \n",
      "{'booster': 'gbtree', 'colsample_bytree': 0.75, 'eta': 0.5, 'gamma': 1.0, 'max_depth': 10, 'min_child_weight': 2.0, 'n_estimators': 178.0, 'nthread': 16, 'objective': 'reg:squarederror', 'seed': 314159265, 'silent': 1, 'subsample': 0.65, 'tree_method': 'exact'}\n",
      " 78%|███████▊  | 195/250 [4:56:29<1:17:41, 84.75s/trial, best loss: 0.2700914375476715]"
     ]
    },
    {
     "name": "stderr",
     "output_type": "stream",
     "text": [
      "c:\\Users\\dimas\\AppData\\Local\\Programs\\Python\\Python311\\Lib\\site-packages\\xgboost\\core.py:160: UserWarning: [04:49:35] WARNING: C:\\buildkite-agent\\builds\\buildkite-windows-cpu-autoscaling-group-i-0b3782d1791676daf-1\\xgboost\\xgboost-ci-windows\\src\\learner.cc:742: \n",
      "Parameters: { \"silent\" } are not used.\n",
      "\n",
      "  warnings.warn(smsg, UserWarning)\n",
      "\n"
     ]
    },
    {
     "name": "stdout",
     "output_type": "stream",
     "text": [
      "\tScore 0.7068836164520642                                                              \n",
      "\n",
      "\n",
      "Training with params:                                                                  \n",
      "{'booster': 'gbtree', 'colsample_bytree': 0.9, 'eta': 0.125, 'gamma': 0.8500000000000001, 'max_depth': 13, 'min_child_weight': 1.0, 'n_estimators': 323.0, 'nthread': 16, 'objective': 'reg:squarederror', 'seed': 314159265, 'silent': 1, 'subsample': 0.7000000000000001, 'tree_method': 'exact'}\n",
      " 78%|███████▊  | 196/250 [4:57:12<1:05:07, 72.37s/trial, best loss: 0.2700914375476715]"
     ]
    },
    {
     "name": "stderr",
     "output_type": "stream",
     "text": [
      "c:\\Users\\dimas\\AppData\\Local\\Programs\\Python\\Python311\\Lib\\site-packages\\xgboost\\core.py:160: UserWarning: [04:50:19] WARNING: C:\\buildkite-agent\\builds\\buildkite-windows-cpu-autoscaling-group-i-0b3782d1791676daf-1\\xgboost\\xgboost-ci-windows\\src\\learner.cc:742: \n",
      "Parameters: { \"silent\" } are not used.\n",
      "\n",
      "  warnings.warn(smsg, UserWarning)\n",
      "\n"
     ]
    },
    {
     "name": "stdout",
     "output_type": "stream",
     "text": [
      "\tScore 0.717636220773882                                                               \n",
      "\n",
      "\n",
      "Training with params:                                                                  \n",
      "{'booster': 'gbtree', 'colsample_bytree': 0.6000000000000001, 'eta': 0.2, 'gamma': 0.9, 'max_depth': 4, 'min_child_weight': 3.0, 'n_estimators': 980.0, 'nthread': 16, 'objective': 'reg:squarederror', 'seed': 314159265, 'silent': 1, 'subsample': 0.5, 'tree_method': 'exact'}\n",
      " 79%|███████▉  | 197/250 [4:58:58<1:12:54, 82.55s/trial, best loss: 0.2700914375476715]"
     ]
    },
    {
     "name": "stderr",
     "output_type": "stream",
     "text": [
      "c:\\Users\\dimas\\AppData\\Local\\Programs\\Python\\Python311\\Lib\\site-packages\\xgboost\\core.py:160: UserWarning: [04:52:05] WARNING: C:\\buildkite-agent\\builds\\buildkite-windows-cpu-autoscaling-group-i-0b3782d1791676daf-1\\xgboost\\xgboost-ci-windows\\src\\learner.cc:742: \n",
      "Parameters: { \"silent\" } are not used.\n",
      "\n",
      "  warnings.warn(smsg, UserWarning)\n",
      "\n"
     ]
    },
    {
     "name": "stdout",
     "output_type": "stream",
     "text": [
      "\tScore 0.681057840022562                                                               \n",
      "\n",
      "\n",
      "Training with params:                                                                  \n",
      "{'booster': 'gbtree', 'colsample_bytree': 0.8500000000000001, 'eta': 0.375, 'gamma': 1.0, 'max_depth': 2, 'min_child_weight': 2.0, 'n_estimators': 302.0, 'nthread': 16, 'objective': 'reg:squarederror', 'seed': 314159265, 'silent': 1, 'subsample': 0.75, 'tree_method': 'exact'}\n",
      " 79%|███████▉  | 198/250 [5:00:42<1:16:52, 88.70s/trial, best loss: 0.2700914375476715]"
     ]
    },
    {
     "name": "stderr",
     "output_type": "stream",
     "text": [
      "c:\\Users\\dimas\\AppData\\Local\\Programs\\Python\\Python311\\Lib\\site-packages\\xgboost\\core.py:160: UserWarning: [04:53:48] WARNING: C:\\buildkite-agent\\builds\\buildkite-windows-cpu-autoscaling-group-i-0b3782d1791676daf-1\\xgboost\\xgboost-ci-windows\\src\\learner.cc:742: \n",
      "Parameters: { \"silent\" } are not used.\n",
      "\n",
      "  warnings.warn(smsg, UserWarning)\n",
      "\n"
     ]
    },
    {
     "name": "stdout",
     "output_type": "stream",
     "text": [
      "\tScore 0.5378228354699046                                                              \n",
      "\n",
      "\n",
      "Training with params:                                                                  \n",
      "{'booster': 'gbtree', 'colsample_bytree': 0.65, 'eta': 0.025, 'gamma': 0.9500000000000001, 'max_depth': 9, 'min_child_weight': 3.0, 'n_estimators': 235.0, 'nthread': 16, 'objective': 'reg:squarederror', 'seed': 314159265, 'silent': 1, 'subsample': 0.65, 'tree_method': 'exact'}\n",
      " 80%|███████▉  | 199/250 [5:01:01<57:40, 67.86s/trial, best loss: 0.2700914375476715]"
     ]
    },
    {
     "name": "stderr",
     "output_type": "stream",
     "text": [
      "c:\\Users\\dimas\\AppData\\Local\\Programs\\Python\\Python311\\Lib\\site-packages\\xgboost\\core.py:160: UserWarning: [04:54:07] WARNING: C:\\buildkite-agent\\builds\\buildkite-windows-cpu-autoscaling-group-i-0b3782d1791676daf-1\\xgboost\\xgboost-ci-windows\\src\\learner.cc:742: \n",
      "Parameters: { \"silent\" } are not used.\n",
      "\n",
      "  warnings.warn(smsg, UserWarning)\n",
      "\n"
     ]
    },
    {
     "name": "stdout",
     "output_type": "stream",
     "text": [
      "\tScore 0.7015163310965353                                                            \n",
      "\n",
      "\n",
      "Training with params:                                                                \n",
      "{'booster': 'gbtree', 'colsample_bytree': 1.0, 'eta': 0.1, 'gamma': 0.8500000000000001, 'max_depth': 13, 'min_child_weight': 1.0, 'n_estimators': 617.0, 'nthread': 16, 'objective': 'reg:squarederror', 'seed': 314159265, 'silent': 1, 'subsample': 0.8, 'tree_method': 'exact'}\n",
      " 80%|████████  | 200/250 [5:01:53<52:39, 63.19s/trial, best loss: 0.2700914375476715]"
     ]
    },
    {
     "name": "stderr",
     "output_type": "stream",
     "text": [
      "c:\\Users\\dimas\\AppData\\Local\\Programs\\Python\\Python311\\Lib\\site-packages\\xgboost\\core.py:160: UserWarning: [04:54:59] WARNING: C:\\buildkite-agent\\builds\\buildkite-windows-cpu-autoscaling-group-i-0b3782d1791676daf-1\\xgboost\\xgboost-ci-windows\\src\\learner.cc:742: \n",
      "Parameters: { \"silent\" } are not used.\n",
      "\n",
      "  warnings.warn(smsg, UserWarning)\n",
      "\n"
     ]
    },
    {
     "name": "stdout",
     "output_type": "stream",
     "text": [
      "\tScore 0.7166393512518747                                                            \n",
      "\n",
      "\n",
      "Training with params:                                                                   \n",
      "{'booster': 'gbtree', 'colsample_bytree': 0.55, 'eta': 0.07500000000000001, 'gamma': 0.5, 'max_depth': 1, 'min_child_weight': 2.0, 'n_estimators': 372.0, 'nthread': 16, 'objective': 'reg:squarederror', 'seed': 314159265, 'silent': 1, 'subsample': 0.8500000000000001, 'tree_method': 'exact'}\n",
      " 80%|████████  | 201/250 [5:05:22<1:27:19, 106.92s/trial, best loss: 0.2700914375476715]"
     ]
    },
    {
     "name": "stderr",
     "output_type": "stream",
     "text": [
      "c:\\Users\\dimas\\AppData\\Local\\Programs\\Python\\Python311\\Lib\\site-packages\\xgboost\\core.py:160: UserWarning: [04:58:28] WARNING: C:\\buildkite-agent\\builds\\buildkite-windows-cpu-autoscaling-group-i-0b3782d1791676daf-1\\xgboost\\xgboost-ci-windows\\src\\learner.cc:742: \n",
      "Parameters: { \"silent\" } are not used.\n",
      "\n",
      "  warnings.warn(smsg, UserWarning)\n",
      "\n"
     ]
    },
    {
     "name": "stdout",
     "output_type": "stream",
     "text": [
      "\tScore 0.2654800553775365                                                               \n",
      "\n",
      "\n",
      "Training with params:                                                                   \n",
      "{'booster': 'gbtree', 'colsample_bytree': 0.9500000000000001, 'eta': 0.225, 'gamma': 1.0, 'max_depth': 6, 'min_child_weight': 3.0, 'n_estimators': 397.0, 'nthread': 16, 'objective': 'reg:squarederror', 'seed': 314159265, 'silent': 1, 'subsample': 0.55, 'tree_method': 'exact'}\n",
      " 81%|████████  | 202/250 [5:05:37<1:03:29, 79.36s/trial, best loss: 0.2700914375476715]"
     ]
    },
    {
     "name": "stderr",
     "output_type": "stream",
     "text": [
      "c:\\Users\\dimas\\AppData\\Local\\Programs\\Python\\Python311\\Lib\\site-packages\\xgboost\\core.py:160: UserWarning: [04:58:43] WARNING: C:\\buildkite-agent\\builds\\buildkite-windows-cpu-autoscaling-group-i-0b3782d1791676daf-1\\xgboost\\xgboost-ci-windows\\src\\learner.cc:742: \n",
      "Parameters: { \"silent\" } are not used.\n",
      "\n",
      "  warnings.warn(smsg, UserWarning)\n",
      "\n"
     ]
    },
    {
     "name": "stdout",
     "output_type": "stream",
     "text": [
      "\tScore 0.7054810680168652                                                              \n",
      "\n",
      "\n",
      "Training with params:                                                                  \n",
      "{'booster': 'gbtree', 'colsample_bytree': 0.8, 'eta': 0.15000000000000002, 'gamma': 0.9500000000000001, 'max_depth': 5, 'min_child_weight': 2.0, 'n_estimators': 201.0, 'nthread': 16, 'objective': 'reg:squarederror', 'seed': 314159265, 'silent': 1, 'subsample': 0.6000000000000001, 'tree_method': 'exact'}\n",
      " 81%|████████  | 203/250 [5:06:41<58:37, 74.83s/trial, best loss: 0.2700914375476715]"
     ]
    },
    {
     "name": "stderr",
     "output_type": "stream",
     "text": [
      "c:\\Users\\dimas\\AppData\\Local\\Programs\\Python\\Python311\\Lib\\site-packages\\xgboost\\core.py:160: UserWarning: [04:59:48] WARNING: C:\\buildkite-agent\\builds\\buildkite-windows-cpu-autoscaling-group-i-0b3782d1791676daf-1\\xgboost\\xgboost-ci-windows\\src\\learner.cc:742: \n",
      "Parameters: { \"silent\" } are not used.\n",
      "\n",
      "  warnings.warn(smsg, UserWarning)\n",
      "\n"
     ]
    },
    {
     "name": "stdout",
     "output_type": "stream",
     "text": [
      "\tScore 0.6717191345682278                                                            \n",
      "\n",
      "\n",
      "Training with params:                                                                \n",
      "{'booster': 'gbtree', 'colsample_bytree': 0.7000000000000001, 'eta': 0.025, 'gamma': 1.0, 'max_depth': 13, 'min_child_weight': 1.0, 'n_estimators': 262.0, 'nthread': 16, 'objective': 'reg:squarederror', 'seed': 314159265, 'silent': 1, 'subsample': 0.75, 'tree_method': 'exact'}\n",
      " 82%|████████▏ | 204/250 [5:07:08<46:23, 60.50s/trial, best loss: 0.2700914375476715]"
     ]
    },
    {
     "name": "stderr",
     "output_type": "stream",
     "text": [
      "c:\\Users\\dimas\\AppData\\Local\\Programs\\Python\\Python311\\Lib\\site-packages\\xgboost\\core.py:160: UserWarning: [05:00:15] WARNING: C:\\buildkite-agent\\builds\\buildkite-windows-cpu-autoscaling-group-i-0b3782d1791676daf-1\\xgboost\\xgboost-ci-windows\\src\\learner.cc:742: \n",
      "Parameters: { \"silent\" } are not used.\n",
      "\n",
      "  warnings.warn(smsg, UserWarning)\n",
      "\n"
     ]
    },
    {
     "name": "stdout",
     "output_type": "stream",
     "text": [
      "\tScore 0.7286296124734963                                                            \n",
      "\n",
      "\n",
      "Training with params:                                                                \n",
      "{'booster': 'gbtree', 'colsample_bytree': 1.0, 'eta': 0.05, 'gamma': 0.9, 'max_depth': 3, 'min_child_weight': 3.0, 'n_estimators': 492.0, 'nthread': 16, 'objective': 'reg:squarederror', 'seed': 314159265, 'silent': 1, 'subsample': 0.7000000000000001, 'tree_method': 'exact'}\n",
      " 82%|████████▏ | 205/250 [5:08:32<50:37, 67.50s/trial, best loss: 0.2700914375476715]"
     ]
    },
    {
     "name": "stderr",
     "output_type": "stream",
     "text": [
      "c:\\Users\\dimas\\AppData\\Local\\Programs\\Python\\Python311\\Lib\\site-packages\\xgboost\\core.py:160: UserWarning: [05:01:39] WARNING: C:\\buildkite-agent\\builds\\buildkite-windows-cpu-autoscaling-group-i-0b3782d1791676daf-1\\xgboost\\xgboost-ci-windows\\src\\learner.cc:742: \n",
      "Parameters: { \"silent\" } are not used.\n",
      "\n",
      "  warnings.warn(smsg, UserWarning)\n",
      "\n"
     ]
    },
    {
     "name": "stdout",
     "output_type": "stream",
     "text": [
      "\tScore 0.5765042983476351                                                            \n",
      "\n",
      "\n",
      "Training with params:                                                                \n",
      "{'booster': 'gbtree', 'colsample_bytree': 0.9, 'eta': 0.25, 'gamma': 0.55, 'max_depth': 7, 'min_child_weight': 3.0, 'n_estimators': 643.0, 'nthread': 16, 'objective': 'reg:squarederror', 'seed': 314159265, 'silent': 1, 'subsample': 0.6000000000000001, 'tree_method': 'exact'}\n",
      " 82%|████████▏ | 206/250 [5:09:14<43:56, 59.92s/trial, best loss: 0.2700914375476715]"
     ]
    },
    {
     "name": "stderr",
     "output_type": "stream",
     "text": [
      "c:\\Users\\dimas\\AppData\\Local\\Programs\\Python\\Python311\\Lib\\site-packages\\xgboost\\core.py:160: UserWarning: [05:02:21] WARNING: C:\\buildkite-agent\\builds\\buildkite-windows-cpu-autoscaling-group-i-0b3782d1791676daf-1\\xgboost\\xgboost-ci-windows\\src\\learner.cc:742: \n",
      "Parameters: { \"silent\" } are not used.\n",
      "\n",
      "  warnings.warn(smsg, UserWarning)\n",
      "\n"
     ]
    },
    {
     "name": "stdout",
     "output_type": "stream",
     "text": [
      "\tScore 0.7165297821927474                                                            \n",
      "\n",
      "\n",
      "Training with params:                                                                \n",
      "{'booster': 'gbtree', 'colsample_bytree': 0.8500000000000001, 'eta': 0.07500000000000001, 'gamma': 0.6000000000000001, 'max_depth': 13, 'min_child_weight': 2.0, 'n_estimators': 336.0, 'nthread': 16, 'objective': 'reg:squarederror', 'seed': 314159265, 'silent': 1, 'subsample': 0.8, 'tree_method': 'exact'}\n",
      " 83%|████████▎ | 207/250 [5:11:11<55:03, 76.83s/trial, best loss: 0.2700914375476715]"
     ]
    },
    {
     "name": "stderr",
     "output_type": "stream",
     "text": [
      "c:\\Users\\dimas\\AppData\\Local\\Programs\\Python\\Python311\\Lib\\site-packages\\xgboost\\core.py:160: UserWarning: [05:04:17] WARNING: C:\\buildkite-agent\\builds\\buildkite-windows-cpu-autoscaling-group-i-0b3782d1791676daf-1\\xgboost\\xgboost-ci-windows\\src\\learner.cc:742: \n",
      "Parameters: { \"silent\" } are not used.\n",
      "\n",
      "  warnings.warn(smsg, UserWarning)\n",
      "\n"
     ]
    },
    {
     "name": "stdout",
     "output_type": "stream",
     "text": [
      "\tScore 0.7226894845925222                                                            \n",
      "\n",
      "\n",
      "Training with params:                                                                  \n",
      "{'booster': 'gbtree', 'colsample_bytree': 0.9500000000000001, 'eta': 0.1, 'gamma': 0.9500000000000001, 'max_depth': 11, 'min_child_weight': 2.0, 'n_estimators': 463.0, 'nthread': 16, 'objective': 'reg:squarederror', 'seed': 314159265, 'silent': 1, 'subsample': 0.65, 'tree_method': 'exact'}\n",
      " 83%|████████▎ | 208/250 [5:12:59<1:00:27, 86.36s/trial, best loss: 0.2700914375476715]"
     ]
    },
    {
     "name": "stderr",
     "output_type": "stream",
     "text": [
      "c:\\Users\\dimas\\AppData\\Local\\Programs\\Python\\Python311\\Lib\\site-packages\\xgboost\\core.py:160: UserWarning: [05:06:06] WARNING: C:\\buildkite-agent\\builds\\buildkite-windows-cpu-autoscaling-group-i-0b3782d1791676daf-1\\xgboost\\xgboost-ci-windows\\src\\learner.cc:742: \n",
      "Parameters: { \"silent\" } are not used.\n",
      "\n",
      "  warnings.warn(smsg, UserWarning)\n",
      "\n"
     ]
    },
    {
     "name": "stdout",
     "output_type": "stream",
     "text": [
      "\tScore 0.7202805776922858                                                              \n",
      "\n",
      "\n",
      "Training with params:                                                                   \n",
      "{'booster': 'gbtree', 'colsample_bytree': 0.6000000000000001, 'eta': 0.125, 'gamma': 0.9, 'max_depth': 8, 'min_child_weight': 1.0, 'n_estimators': 149.0, 'nthread': 16, 'objective': 'reg:squarederror', 'seed': 314159265, 'silent': 1, 'subsample': 0.7000000000000001, 'tree_method': 'exact'}\n",
      " 84%|████████▎ | 209/250 [5:15:12<1:08:35, 100.37s/trial, best loss: 0.2700914375476715]"
     ]
    },
    {
     "name": "stderr",
     "output_type": "stream",
     "text": [
      "c:\\Users\\dimas\\AppData\\Local\\Programs\\Python\\Python311\\Lib\\site-packages\\xgboost\\core.py:160: UserWarning: [05:08:19] WARNING: C:\\buildkite-agent\\builds\\buildkite-windows-cpu-autoscaling-group-i-0b3782d1791676daf-1\\xgboost\\xgboost-ci-windows\\src\\learner.cc:742: \n",
      "Parameters: { \"silent\" } are not used.\n",
      "\n",
      "  warnings.warn(smsg, UserWarning)\n",
      "\n"
     ]
    },
    {
     "name": "stdout",
     "output_type": "stream",
     "text": [
      "\tScore 0.7078168294623438                                                               \n",
      "\n",
      "\n",
      "Training with params:                                                                   \n",
      "{'booster': 'gbtree', 'colsample_bytree': 1.0, 'eta': 0.025, 'gamma': 0.8500000000000001, 'max_depth': 13, 'min_child_weight': 4.0, 'n_estimators': 285.0, 'nthread': 16, 'objective': 'reg:squarederror', 'seed': 314159265, 'silent': 1, 'subsample': 1.0, 'tree_method': 'exact'}\n",
      " 84%|████████▍ | 210/250 [5:15:39<52:14, 78.37s/trial, best loss: 0.2700914375476715]"
     ]
    },
    {
     "name": "stderr",
     "output_type": "stream",
     "text": [
      "c:\\Users\\dimas\\AppData\\Local\\Programs\\Python\\Python311\\Lib\\site-packages\\xgboost\\core.py:160: UserWarning: [05:08:46] WARNING: C:\\buildkite-agent\\builds\\buildkite-windows-cpu-autoscaling-group-i-0b3782d1791676daf-1\\xgboost\\xgboost-ci-windows\\src\\learner.cc:742: \n",
      "Parameters: { \"silent\" } are not used.\n",
      "\n",
      "  warnings.warn(smsg, UserWarning)\n",
      "\n"
     ]
    },
    {
     "name": "stdout",
     "output_type": "stream",
     "text": [
      "\tScore 0.7252495080777344                                                            \n",
      "\n",
      "\n",
      "Training with params:                                                                \n",
      "{'booster': 'gbtree', 'colsample_bytree': 0.5, 'eta': 0.17500000000000002, 'gamma': 1.0, 'max_depth': 10, 'min_child_weight': 3.0, 'n_estimators': 565.0, 'nthread': 16, 'objective': 'reg:squarederror', 'seed': 314159265, 'silent': 1, 'subsample': 0.55, 'tree_method': 'exact'}\n",
      " 84%|████████▍ | 211/250 [5:17:12<53:40, 82.58s/trial, best loss: 0.2700914375476715]"
     ]
    },
    {
     "name": "stderr",
     "output_type": "stream",
     "text": [
      "c:\\Users\\dimas\\AppData\\Local\\Programs\\Python\\Python311\\Lib\\site-packages\\xgboost\\core.py:160: UserWarning: [05:10:18] WARNING: C:\\buildkite-agent\\builds\\buildkite-windows-cpu-autoscaling-group-i-0b3782d1791676daf-1\\xgboost\\xgboost-ci-windows\\src\\learner.cc:742: \n",
      "Parameters: { \"silent\" } are not used.\n",
      "\n",
      "  warnings.warn(smsg, UserWarning)\n",
      "\n"
     ]
    },
    {
     "name": "stdout",
     "output_type": "stream",
     "text": [
      "\tScore 0.7129653121980055                                                            \n",
      "\n",
      "\n",
      "Training with params:                                                                  \n",
      "{'booster': 'gbtree', 'colsample_bytree': 0.9500000000000001, 'eta': 0.1, 'gamma': 0.9500000000000001, 'max_depth': 4, 'min_child_weight': 2.0, 'n_estimators': 587.0, 'nthread': 16, 'objective': 'reg:squarederror', 'seed': 314159265, 'silent': 1, 'subsample': 0.75, 'tree_method': 'exact'}\n",
      " 85%|████████▍ | 212/250 [5:19:19<1:00:49, 96.05s/trial, best loss: 0.2700914375476715]"
     ]
    },
    {
     "name": "stderr",
     "output_type": "stream",
     "text": [
      "c:\\Users\\dimas\\AppData\\Local\\Programs\\Python\\Python311\\Lib\\site-packages\\xgboost\\core.py:160: UserWarning: [05:12:26] WARNING: C:\\buildkite-agent\\builds\\buildkite-windows-cpu-autoscaling-group-i-0b3782d1791676daf-1\\xgboost\\xgboost-ci-windows\\src\\learner.cc:742: \n",
      "Parameters: { \"silent\" } are not used.\n",
      "\n",
      "  warnings.warn(smsg, UserWarning)\n",
      "\n"
     ]
    },
    {
     "name": "stdout",
     "output_type": "stream",
     "text": [
      "\tScore 0.6653574473724804                                                              \n",
      "\n",
      "\n",
      "Training with params:                                                                  \n",
      "{'booster': 'gbtree', 'colsample_bytree': 0.75, 'eta': 0.05, 'gamma': 1.0, 'max_depth': 13, 'min_child_weight': 3.0, 'n_estimators': 810.0, 'nthread': 16, 'objective': 'reg:squarederror', 'seed': 314159265, 'silent': 1, 'subsample': 0.65, 'tree_method': 'exact'}\n",
      " 85%|████████▌ | 213/250 [5:20:20<52:41, 85.46s/trial, best loss: 0.2700914375476715]"
     ]
    },
    {
     "name": "stderr",
     "output_type": "stream",
     "text": [
      "c:\\Users\\dimas\\AppData\\Local\\Programs\\Python\\Python311\\Lib\\site-packages\\xgboost\\core.py:160: UserWarning: [05:13:26] WARNING: C:\\buildkite-agent\\builds\\buildkite-windows-cpu-autoscaling-group-i-0b3782d1791676daf-1\\xgboost\\xgboost-ci-windows\\src\\learner.cc:742: \n",
      "Parameters: { \"silent\" } are not used.\n",
      "\n",
      "  warnings.warn(smsg, UserWarning)\n",
      "\n"
     ]
    },
    {
     "name": "stdout",
     "output_type": "stream",
     "text": [
      "\tScore 0.7226353201544764                                                            \n",
      "\n",
      "\n",
      "Training with params:                                                                   \n",
      "{'booster': 'gbtree', 'colsample_bytree': 0.9, 'eta': 0.325, 'gamma': 0.9500000000000001, 'max_depth': 2, 'min_child_weight': 2.0, 'n_estimators': 543.0, 'nthread': 16, 'objective': 'reg:squarederror', 'seed': 314159265, 'silent': 1, 'subsample': 0.6000000000000001, 'tree_method': 'exact'}\n",
      " 86%|████████▌ | 214/250 [5:24:42<1:23:01, 138.39s/trial, best loss: 0.2700914375476715]"
     ]
    },
    {
     "name": "stderr",
     "output_type": "stream",
     "text": [
      "c:\\Users\\dimas\\AppData\\Local\\Programs\\Python\\Python311\\Lib\\site-packages\\xgboost\\core.py:160: UserWarning: [05:17:48] WARNING: C:\\buildkite-agent\\builds\\buildkite-windows-cpu-autoscaling-group-i-0b3782d1791676daf-1\\xgboost\\xgboost-ci-windows\\src\\learner.cc:742: \n",
      "Parameters: { \"silent\" } are not used.\n",
      "\n",
      "  warnings.warn(smsg, UserWarning)\n",
      "\n"
     ]
    },
    {
     "name": "stdout",
     "output_type": "stream",
     "text": [
      "\tScore 0.55963918195409                                                                 \n",
      "\n",
      "\n",
      "Training with params:                                                                   \n",
      "{'booster': 'gbtree', 'colsample_bytree': 1.0, 'eta': 0.125, 'gamma': 0.8500000000000001, 'max_depth': 9, 'min_child_weight': 1.0, 'n_estimators': 739.0, 'nthread': 16, 'objective': 'reg:squarederror', 'seed': 314159265, 'silent': 1, 'subsample': 0.8500000000000001, 'tree_method': 'exact'}\n",
      " 86%|████████▌ | 215/250 [5:25:19<1:02:58, 107.97s/trial, best loss: 0.2700914375476715]"
     ]
    },
    {
     "name": "stderr",
     "output_type": "stream",
     "text": [
      "c:\\Users\\dimas\\AppData\\Local\\Programs\\Python\\Python311\\Lib\\site-packages\\xgboost\\core.py:160: UserWarning: [05:18:25] WARNING: C:\\buildkite-agent\\builds\\buildkite-windows-cpu-autoscaling-group-i-0b3782d1791676daf-1\\xgboost\\xgboost-ci-windows\\src\\learner.cc:742: \n",
      "Parameters: { \"silent\" } are not used.\n",
      "\n",
      "  warnings.warn(smsg, UserWarning)\n",
      "\n"
     ]
    },
    {
     "name": "stdout",
     "output_type": "stream",
     "text": [
      "\tScore 0.7165152681523379                                                               \n",
      "\n",
      "\n",
      "Training with params:                                                                   \n",
      "{'booster': 'gbtree', 'colsample_bytree': 0.8, 'eta': 0.07500000000000001, 'gamma': 0.9, 'max_depth': 13, 'min_child_weight': 4.0, 'n_estimators': 360.0, 'nthread': 16, 'objective': 'reg:squarederror', 'seed': 314159265, 'silent': 1, 'subsample': 0.7000000000000001, 'tree_method': 'exact'}\n",
      " 86%|████████▋ | 216/250 [5:28:05<1:10:58, 125.26s/trial, best loss: 0.2700914375476715]"
     ]
    },
    {
     "name": "stderr",
     "output_type": "stream",
     "text": [
      "c:\\Users\\dimas\\AppData\\Local\\Programs\\Python\\Python311\\Lib\\site-packages\\xgboost\\core.py:160: UserWarning: [05:21:11] WARNING: C:\\buildkite-agent\\builds\\buildkite-windows-cpu-autoscaling-group-i-0b3782d1791676daf-1\\xgboost\\xgboost-ci-windows\\src\\learner.cc:742: \n",
      "Parameters: { \"silent\" } are not used.\n",
      "\n",
      "  warnings.warn(smsg, UserWarning)\n",
      "\n"
     ]
    },
    {
     "name": "stdout",
     "output_type": "stream",
     "text": [
      "\tScore 0.7263587648119197                                                               \n",
      "\n",
      "\n",
      "Training with params:                                                                   \n",
      "{'booster': 'gbtree', 'colsample_bytree': 0.8500000000000001, 'eta': 0.4, 'gamma': 1.0, 'max_depth': 6, 'min_child_weight': 3.0, 'n_estimators': 165.0, 'nthread': 16, 'objective': 'reg:squarederror', 'seed': 314159265, 'silent': 1, 'subsample': 0.65, 'tree_method': 'exact'}\n",
      " 87%|████████▋ | 217/250 [5:30:01<1:07:26, 122.63s/trial, best loss: 0.2700914375476715]"
     ]
    },
    {
     "name": "stderr",
     "output_type": "stream",
     "text": [
      "c:\\Users\\dimas\\AppData\\Local\\Programs\\Python\\Python311\\Lib\\site-packages\\xgboost\\core.py:160: UserWarning: [05:23:07] WARNING: C:\\buildkite-agent\\builds\\buildkite-windows-cpu-autoscaling-group-i-0b3782d1791676daf-1\\xgboost\\xgboost-ci-windows\\src\\learner.cc:742: \n",
      "Parameters: { \"silent\" } are not used.\n",
      "\n",
      "  warnings.warn(smsg, UserWarning)\n",
      "\n"
     ]
    },
    {
     "name": "stdout",
     "output_type": "stream",
     "text": [
      "\tScore 0.6952757172137501                                                               \n",
      "\n",
      "\n",
      "Training with params:                                                                   \n",
      "{'booster': 'gbtree', 'colsample_bytree': 0.9500000000000001, 'eta': 0.025, 'gamma': 0.9500000000000001, 'max_depth': 1, 'min_child_weight': 2.0, 'n_estimators': 128.0, 'nthread': 16, 'objective': 'reg:squarederror', 'seed': 314159265, 'silent': 1, 'subsample': 0.7000000000000001, 'tree_method': 'exact'}\n",
      " 87%|████████▋ | 218/250 [5:30:27<49:56, 93.64s/trial, best loss: 0.2700914375476715]"
     ]
    },
    {
     "name": "stderr",
     "output_type": "stream",
     "text": [
      "c:\\Users\\dimas\\AppData\\Local\\Programs\\Python\\Python311\\Lib\\site-packages\\xgboost\\core.py:160: UserWarning: [05:23:33] WARNING: C:\\buildkite-agent\\builds\\buildkite-windows-cpu-autoscaling-group-i-0b3782d1791676daf-1\\xgboost\\xgboost-ci-windows\\src\\learner.cc:742: \n",
      "Parameters: { \"silent\" } are not used.\n",
      "\n",
      "  warnings.warn(smsg, UserWarning)\n",
      "\n"
     ]
    },
    {
     "name": "stdout",
     "output_type": "stream",
     "text": [
      "\tScore 0.18107341280141265                                                           \n",
      "\n",
      "\n",
      "Training with params:                                                                \n",
      "{'booster': 'gbtree', 'colsample_bytree': 0.7000000000000001, 'eta': 0.05, 'gamma': 1.0, 'max_depth': 5, 'min_child_weight': 3.0, 'n_estimators': 233.0, 'nthread': 16, 'objective': 'reg:squarederror', 'seed': 314159265, 'silent': 1, 'subsample': 0.55, 'tree_method': 'exact'}\n",
      " 88%|████████▊ | 219/250 [5:30:33<34:50, 67.45s/trial, best loss: 0.2700914375476715]"
     ]
    },
    {
     "name": "stderr",
     "output_type": "stream",
     "text": [
      "c:\\Users\\dimas\\AppData\\Local\\Programs\\Python\\Python311\\Lib\\site-packages\\xgboost\\core.py:160: UserWarning: [05:23:40] WARNING: C:\\buildkite-agent\\builds\\buildkite-windows-cpu-autoscaling-group-i-0b3782d1791676daf-1\\xgboost\\xgboost-ci-windows\\src\\learner.cc:742: \n",
      "Parameters: { \"silent\" } are not used.\n",
      "\n",
      "  warnings.warn(smsg, UserWarning)\n",
      "\n"
     ]
    },
    {
     "name": "stdout",
     "output_type": "stream",
     "text": [
      "\tScore 0.6296894062611817                                                            \n",
      "\n",
      "\n",
      "Training with params:                                                                \n",
      "{'booster': 'gbtree', 'colsample_bytree': 1.0, 'eta': 0.45, 'gamma': 0.9, 'max_depth': 13, 'min_child_weight': 1.0, 'n_estimators': 211.0, 'nthread': 16, 'objective': 'reg:squarederror', 'seed': 314159265, 'silent': 1, 'subsample': 0.5, 'tree_method': 'exact'}\n",
      " 88%|████████▊ | 220/250 [5:31:04<28:12, 56.42s/trial, best loss: 0.2700914375476715]"
     ]
    },
    {
     "name": "stderr",
     "output_type": "stream",
     "text": [
      "c:\\Users\\dimas\\AppData\\Local\\Programs\\Python\\Python311\\Lib\\site-packages\\xgboost\\core.py:160: UserWarning: [05:24:10] WARNING: C:\\buildkite-agent\\builds\\buildkite-windows-cpu-autoscaling-group-i-0b3782d1791676daf-1\\xgboost\\xgboost-ci-windows\\src\\learner.cc:742: \n",
      "Parameters: { \"silent\" } are not used.\n",
      "\n",
      "  warnings.warn(smsg, UserWarning)\n",
      "\n"
     ]
    },
    {
     "name": "stdout",
     "output_type": "stream",
     "text": [
      "\tScore 0.6799598553546935                                                            \n",
      "\n",
      "\n",
      "Training with params:                                                                \n",
      "{'booster': 'gbtree', 'colsample_bytree': 0.9, 'eta': 0.275, 'gamma': 0.9500000000000001, 'max_depth': 3, 'min_child_weight': 2.0, 'n_estimators': 305.0, 'nthread': 16, 'objective': 'reg:squarederror', 'seed': 314159265, 'silent': 1, 'subsample': 0.8, 'tree_method': 'exact'}\n",
      " 88%|████████▊ | 221/250 [5:32:22<30:26, 62.99s/trial, best loss: 0.2700914375476715]"
     ]
    },
    {
     "name": "stderr",
     "output_type": "stream",
     "text": [
      "c:\\Users\\dimas\\AppData\\Local\\Programs\\Python\\Python311\\Lib\\site-packages\\xgboost\\core.py:160: UserWarning: [05:25:29] WARNING: C:\\buildkite-agent\\builds\\buildkite-windows-cpu-autoscaling-group-i-0b3782d1791676daf-1\\xgboost\\xgboost-ci-windows\\src\\learner.cc:742: \n",
      "Parameters: { \"silent\" } are not used.\n",
      "\n",
      "  warnings.warn(smsg, UserWarning)\n",
      "\n"
     ]
    },
    {
     "name": "stdout",
     "output_type": "stream",
     "text": [
      "\tScore 0.6249401350626098                                                            \n",
      "\n",
      "\n",
      "Training with params:                                                                \n",
      "{'booster': 'gbtree', 'colsample_bytree': 0.75, 'eta': 0.15000000000000002, 'gamma': 0.55, 'max_depth': 13, 'min_child_weight': 4.0, 'n_estimators': 435.0, 'nthread': 16, 'objective': 'reg:squarederror', 'seed': 314159265, 'silent': 1, 'subsample': 0.9, 'tree_method': 'exact'}\n",
      " 89%|████████▉ | 222/250 [5:32:47<24:02, 51.54s/trial, best loss: 0.2700914375476715]"
     ]
    },
    {
     "name": "stderr",
     "output_type": "stream",
     "text": [
      "c:\\Users\\dimas\\AppData\\Local\\Programs\\Python\\Python311\\Lib\\site-packages\\xgboost\\core.py:160: UserWarning: [05:25:54] WARNING: C:\\buildkite-agent\\builds\\buildkite-windows-cpu-autoscaling-group-i-0b3782d1791676daf-1\\xgboost\\xgboost-ci-windows\\src\\learner.cc:742: \n",
      "Parameters: { \"silent\" } are not used.\n",
      "\n",
      "  warnings.warn(smsg, UserWarning)\n",
      "\n"
     ]
    },
    {
     "name": "stdout",
     "output_type": "stream",
     "text": [
      "\tScore 0.7194773773016252                                                            \n",
      "\n",
      "\n",
      "Training with params:                                                                \n",
      "{'booster': 'gbtree', 'colsample_bytree': 0.8500000000000001, 'eta': 0.07500000000000001, 'gamma': 1.0, 'max_depth': 7, 'min_child_weight': 3.0, 'n_estimators': 334.0, 'nthread': 16, 'objective': 'reg:squarederror', 'seed': 314159265, 'silent': 1, 'subsample': 0.65, 'tree_method': 'exact'}\n",
      " 89%|████████▉ | 223/250 [5:34:56<33:39, 74.81s/trial, best loss: 0.2700914375476715]"
     ]
    },
    {
     "name": "stderr",
     "output_type": "stream",
     "text": [
      "c:\\Users\\dimas\\AppData\\Local\\Programs\\Python\\Python311\\Lib\\site-packages\\xgboost\\core.py:160: UserWarning: [05:28:03] WARNING: C:\\buildkite-agent\\builds\\buildkite-windows-cpu-autoscaling-group-i-0b3782d1791676daf-1\\xgboost\\xgboost-ci-windows\\src\\learner.cc:742: \n",
      "Parameters: { \"silent\" } are not used.\n",
      "\n",
      "  warnings.warn(smsg, UserWarning)\n",
      "\n"
     ]
    },
    {
     "name": "stdout",
     "output_type": "stream",
     "text": [
      "\tScore 0.7089913600116575                                                            \n",
      "\n",
      "\n",
      "Training with params:                                                                \n",
      "{'booster': 'gbtree', 'colsample_bytree': 0.65, 'eta': 0.025, 'gamma': 0.6000000000000001, 'max_depth': 13, 'min_child_weight': 2.0, 'n_estimators': 387.0, 'nthread': 16, 'objective': 'reg:squarederror', 'seed': 314159265, 'silent': 1, 'subsample': 0.75, 'tree_method': 'exact'}\n",
      " 90%|████████▉ | 224/250 [5:35:57<30:32, 70.48s/trial, best loss: 0.2700914375476715]"
     ]
    },
    {
     "name": "stderr",
     "output_type": "stream",
     "text": [
      "c:\\Users\\dimas\\AppData\\Local\\Programs\\Python\\Python311\\Lib\\site-packages\\xgboost\\core.py:160: UserWarning: [05:29:03] WARNING: C:\\buildkite-agent\\builds\\buildkite-windows-cpu-autoscaling-group-i-0b3782d1791676daf-1\\xgboost\\xgboost-ci-windows\\src\\learner.cc:742: \n",
      "Parameters: { \"silent\" } are not used.\n",
      "\n",
      "  warnings.warn(smsg, UserWarning)\n",
      "\n"
     ]
    },
    {
     "name": "stdout",
     "output_type": "stream",
     "text": [
      "\tScore 0.7294933967193045                                                            \n",
      "\n",
      "\n",
      "Training with params:                                                                \n",
      "{'booster': 'gbtree', 'colsample_bytree': 0.65, 'eta': 0.225, 'gamma': 0.6000000000000001, 'max_depth': 11, 'min_child_weight': 3.0, 'n_estimators': 414.0, 'nthread': 16, 'objective': 'reg:squarederror', 'seed': 314159265, 'silent': 1, 'subsample': 0.8500000000000001, 'tree_method': 'exact'}\n",
      " 90%|█████████ | 225/250 [5:37:59<35:46, 85.88s/trial, best loss: 0.2700914375476715]"
     ]
    },
    {
     "name": "stderr",
     "output_type": "stream",
     "text": [
      "c:\\Users\\dimas\\AppData\\Local\\Programs\\Python\\Python311\\Lib\\site-packages\\xgboost\\core.py:160: UserWarning: [05:31:05] WARNING: C:\\buildkite-agent\\builds\\buildkite-windows-cpu-autoscaling-group-i-0b3782d1791676daf-1\\xgboost\\xgboost-ci-windows\\src\\learner.cc:742: \n",
      "Parameters: { \"silent\" } are not used.\n",
      "\n",
      "  warnings.warn(smsg, UserWarning)\n",
      "\n"
     ]
    },
    {
     "name": "stdout",
     "output_type": "stream",
     "text": [
      "\tScore 0.7164456139846944                                                            \n",
      "\n",
      "\n",
      "Training with params:                                                                \n",
      "{'booster': 'gbtree', 'colsample_bytree': 0.55, 'eta': 0.05, 'gamma': 0.65, 'max_depth': 8, 'min_child_weight': 1.0, 'n_estimators': 474.0, 'nthread': 16, 'objective': 'reg:squarederror', 'seed': 314159265, 'silent': 1, 'subsample': 0.8, 'tree_method': 'exact'}\n",
      " 90%|█████████ | 226/250 [5:39:39<36:07, 90.29s/trial, best loss: 0.2700914375476715]"
     ]
    },
    {
     "name": "stderr",
     "output_type": "stream",
     "text": [
      "c:\\Users\\dimas\\AppData\\Local\\Programs\\Python\\Python311\\Lib\\site-packages\\xgboost\\core.py:160: UserWarning: [05:32:45] WARNING: C:\\buildkite-agent\\builds\\buildkite-windows-cpu-autoscaling-group-i-0b3782d1791676daf-1\\xgboost\\xgboost-ci-windows\\src\\learner.cc:742: \n",
      "Parameters: { \"silent\" } are not used.\n",
      "\n",
      "  warnings.warn(smsg, UserWarning)\n",
      "\n"
     ]
    },
    {
     "name": "stdout",
     "output_type": "stream",
     "text": [
      "\tScore 0.713825752337071                                                             \n",
      "\n",
      "\n",
      "Training with params:                                                                \n",
      "{'booster': 'gbtree', 'colsample_bytree': 0.6000000000000001, 'eta': 0.1, 'gamma': 0.5, 'max_depth': 10, 'min_child_weight': 4.0, 'n_estimators': 523.0, 'nthread': 16, 'objective': 'reg:squarederror', 'seed': 314159265, 'silent': 1, 'subsample': 0.75, 'tree_method': 'exact'}\n",
      " 91%|█████████ | 227/250 [5:41:01<33:40, 87.86s/trial, best loss: 0.2700914375476715]"
     ]
    },
    {
     "name": "stderr",
     "output_type": "stream",
     "text": [
      "c:\\Users\\dimas\\AppData\\Local\\Programs\\Python\\Python311\\Lib\\site-packages\\xgboost\\core.py:160: UserWarning: [05:34:08] WARNING: C:\\buildkite-agent\\builds\\buildkite-windows-cpu-autoscaling-group-i-0b3782d1791676daf-1\\xgboost\\xgboost-ci-windows\\src\\learner.cc:742: \n",
      "Parameters: { \"silent\" } are not used.\n",
      "\n",
      "  warnings.warn(smsg, UserWarning)\n",
      "\n"
     ]
    },
    {
     "name": "stdout",
     "output_type": "stream",
     "text": [
      "\tScore 0.72345603622583                                                              \n",
      "\n",
      "\n",
      "Training with params:                                                                \n",
      "{'booster': 'gbtree', 'colsample_bytree': 0.65, 'eta': 0.025, 'gamma': 0.6000000000000001, 'max_depth': 13, 'min_child_weight': 2.0, 'n_estimators': 384.0, 'nthread': 16, 'objective': 'reg:squarederror', 'seed': 314159265, 'silent': 1, 'subsample': 0.75, 'tree_method': 'exact'}\n",
      " 91%|█████████ | 228/250 [5:42:56<35:12, 96.00s/trial, best loss: 0.2700914375476715]"
     ]
    },
    {
     "name": "stderr",
     "output_type": "stream",
     "text": [
      "c:\\Users\\dimas\\AppData\\Local\\Programs\\Python\\Python311\\Lib\\site-packages\\xgboost\\core.py:160: UserWarning: [05:36:03] WARNING: C:\\buildkite-agent\\builds\\buildkite-windows-cpu-autoscaling-group-i-0b3782d1791676daf-1\\xgboost\\xgboost-ci-windows\\src\\learner.cc:742: \n",
      "Parameters: { \"silent\" } are not used.\n",
      "\n",
      "  warnings.warn(smsg, UserWarning)\n",
      "\n"
     ]
    },
    {
     "name": "stdout",
     "output_type": "stream",
     "text": [
      "\tScore 0.7295183890504602                                                            \n",
      "\n",
      "\n",
      "Training with params:                                                                 \n",
      "{'booster': 'gbtree', 'colsample_bytree': 0.65, 'eta': 0.025, 'gamma': 0.6000000000000001, 'max_depth': 4, 'min_child_weight': 1.0, 'n_estimators': 497.0, 'nthread': 16, 'objective': 'reg:squarederror', 'seed': 314159265, 'silent': 1, 'subsample': 0.9, 'tree_method': 'exact'}\n",
      " 92%|█████████▏| 229/250 [5:44:57<36:11, 103.40s/trial, best loss: 0.2700914375476715]"
     ]
    },
    {
     "name": "stderr",
     "output_type": "stream",
     "text": [
      "c:\\Users\\dimas\\AppData\\Local\\Programs\\Python\\Python311\\Lib\\site-packages\\xgboost\\core.py:160: UserWarning: [05:38:03] WARNING: C:\\buildkite-agent\\builds\\buildkite-windows-cpu-autoscaling-group-i-0b3782d1791676daf-1\\xgboost\\xgboost-ci-windows\\src\\learner.cc:742: \n",
      "Parameters: { \"silent\" } are not used.\n",
      "\n",
      "  warnings.warn(smsg, UserWarning)\n",
      "\n"
     ]
    },
    {
     "name": "stdout",
     "output_type": "stream",
     "text": [
      "\tScore 0.5930124833538055                                                             \n",
      "\n",
      "\n",
      "Training with params:                                                                 \n",
      "{'booster': 'gbtree', 'colsample_bytree': 0.65, 'eta': 0.15000000000000002, 'gamma': 0.55, 'max_depth': 2, 'min_child_weight': 1.0, 'n_estimators': 451.0, 'nthread': 16, 'objective': 'reg:squarederror', 'seed': 314159265, 'silent': 1, 'subsample': 0.8500000000000001, 'tree_method': 'exact'}\n",
      " 92%|█████████▏| 230/250 [5:45:43<28:42, 86.13s/trial, best loss: 0.2700914375476715]"
     ]
    },
    {
     "name": "stderr",
     "output_type": "stream",
     "text": [
      "c:\\Users\\dimas\\AppData\\Local\\Programs\\Python\\Python311\\Lib\\site-packages\\xgboost\\core.py:160: UserWarning: [05:38:49] WARNING: C:\\buildkite-agent\\builds\\buildkite-windows-cpu-autoscaling-group-i-0b3782d1791676daf-1\\xgboost\\xgboost-ci-windows\\src\\learner.cc:742: \n",
      "Parameters: { \"silent\" } are not used.\n",
      "\n",
      "  warnings.warn(smsg, UserWarning)\n",
      "\n"
     ]
    },
    {
     "name": "stdout",
     "output_type": "stream",
     "text": [
      "\tScore 0.49964553378120635                                                           \n",
      "\n",
      "\n",
      "Training with params:                                                                \n",
      "{'booster': 'gbtree', 'colsample_bytree': 0.6000000000000001, 'eta': 0.05, 'gamma': 0.55, 'max_depth': 13, 'min_child_weight': 1.0, 'n_estimators': 714.0, 'nthread': 16, 'objective': 'reg:squarederror', 'seed': 314159265, 'silent': 1, 'subsample': 0.8, 'tree_method': 'exact'}\n",
      " 92%|█████████▏| 231/250 [5:46:09<21:33, 68.08s/trial, best loss: 0.2700914375476715]"
     ]
    },
    {
     "name": "stderr",
     "output_type": "stream",
     "text": [
      "c:\\Users\\dimas\\AppData\\Local\\Programs\\Python\\Python311\\Lib\\site-packages\\xgboost\\core.py:160: UserWarning: [05:39:15] WARNING: C:\\buildkite-agent\\builds\\buildkite-windows-cpu-autoscaling-group-i-0b3782d1791676daf-1\\xgboost\\xgboost-ci-windows\\src\\learner.cc:742: \n",
      "Parameters: { \"silent\" } are not used.\n",
      "\n",
      "  warnings.warn(smsg, UserWarning)\n",
      "\n"
     ]
    },
    {
     "name": "stdout",
     "output_type": "stream",
     "text": [
      "\tScore 0.7222785470236288                                                            \n",
      "\n",
      "\n",
      "Training with params:                                                                 \n",
      "{'booster': 'gbtree', 'colsample_bytree': 0.65, 'eta': 0.2, 'gamma': 0.6000000000000001, 'max_depth': 9, 'min_child_weight': 2.0, 'n_estimators': 389.0, 'nthread': 16, 'objective': 'reg:squarederror', 'seed': 314159265, 'silent': 1, 'subsample': 0.8, 'tree_method': 'exact'}\n",
      " 93%|█████████▎| 232/250 [5:49:31<32:32, 108.46s/trial, best loss: 0.2700914375476715]"
     ]
    },
    {
     "name": "stderr",
     "output_type": "stream",
     "text": [
      "c:\\Users\\dimas\\AppData\\Local\\Programs\\Python\\Python311\\Lib\\site-packages\\xgboost\\core.py:160: UserWarning: [05:42:38] WARNING: C:\\buildkite-agent\\builds\\buildkite-windows-cpu-autoscaling-group-i-0b3782d1791676daf-1\\xgboost\\xgboost-ci-windows\\src\\learner.cc:742: \n",
      "Parameters: { \"silent\" } are not used.\n",
      "\n",
      "  warnings.warn(smsg, UserWarning)\n",
      "\n"
     ]
    },
    {
     "name": "stdout",
     "output_type": "stream",
     "text": [
      "\tScore 0.7209348213897147                                                             \n",
      "\n",
      "\n",
      "Training with params:                                                                 \n",
      "{'booster': 'gbtree', 'colsample_bytree': 0.7000000000000001, 'eta': 0.125, 'gamma': 0.65, 'max_depth': 13, 'min_child_weight': 1.0, 'n_estimators': 511.0, 'nthread': 16, 'objective': 'reg:squarederror', 'seed': 314159265, 'silent': 1, 'subsample': 0.8, 'tree_method': 'exact'}\n",
      " 93%|█████████▎| 233/250 [5:50:50<28:11, 99.52s/trial, best loss: 0.2700914375476715]"
     ]
    },
    {
     "name": "stderr",
     "output_type": "stream",
     "text": [
      "c:\\Users\\dimas\\AppData\\Local\\Programs\\Python\\Python311\\Lib\\site-packages\\xgboost\\core.py:160: UserWarning: [05:43:56] WARNING: C:\\buildkite-agent\\builds\\buildkite-windows-cpu-autoscaling-group-i-0b3782d1791676daf-1\\xgboost\\xgboost-ci-windows\\src\\learner.cc:742: \n",
      "Parameters: { \"silent\" } are not used.\n",
      "\n",
      "  warnings.warn(smsg, UserWarning)\n",
      "\n"
     ]
    },
    {
     "name": "stdout",
     "output_type": "stream",
     "text": [
      "\tScore 0.716011561235545                                                             \n",
      "\n",
      "\n",
      "Training with params:                                                                 \n",
      "{'booster': 'gbtree', 'colsample_bytree': 0.6000000000000001, 'eta': 0.07500000000000001, 'gamma': 0.6000000000000001, 'max_depth': 5, 'min_child_weight': 2.0, 'n_estimators': 552.0, 'nthread': 16, 'objective': 'reg:squarederror', 'seed': 314159265, 'silent': 1, 'subsample': 0.75, 'tree_method': 'exact'}\n",
      " 94%|█████████▎| 234/250 [5:53:22<30:44, 115.28s/trial, best loss: 0.2700914375476715]"
     ]
    },
    {
     "name": "stderr",
     "output_type": "stream",
     "text": [
      "c:\\Users\\dimas\\AppData\\Local\\Programs\\Python\\Python311\\Lib\\site-packages\\xgboost\\core.py:160: UserWarning: [05:46:28] WARNING: C:\\buildkite-agent\\builds\\buildkite-windows-cpu-autoscaling-group-i-0b3782d1791676daf-1\\xgboost\\xgboost-ci-windows\\src\\learner.cc:742: \n",
      "Parameters: { \"silent\" } are not used.\n",
      "\n",
      "  warnings.warn(smsg, UserWarning)\n",
      "\n"
     ]
    },
    {
     "name": "stdout",
     "output_type": "stream",
     "text": [
      "\tScore 0.675650218933592                                                              \n",
      "\n",
      "\n",
      "Training with params:                                                                 \n",
      "{'booster': 'gbtree', 'colsample_bytree': 0.7000000000000001, 'eta': 0.30000000000000004, 'gamma': 0.5, 'max_depth': 1, 'min_child_weight': 2.0, 'n_estimators': 479.0, 'nthread': 16, 'objective': 'reg:squarederror', 'seed': 314159265, 'silent': 1, 'subsample': 0.8500000000000001, 'tree_method': 'exact'}\n",
      " 94%|█████████▍| 235/250 [5:54:25<24:52, 99.47s/trial, best loss: 0.2700914375476715]"
     ]
    },
    {
     "name": "stderr",
     "output_type": "stream",
     "text": [
      "c:\\Users\\dimas\\AppData\\Local\\Programs\\Python\\Python311\\Lib\\site-packages\\xgboost\\core.py:160: UserWarning: [05:47:31] WARNING: C:\\buildkite-agent\\builds\\buildkite-windows-cpu-autoscaling-group-i-0b3782d1791676daf-1\\xgboost\\xgboost-ci-windows\\src\\learner.cc:742: \n",
      "Parameters: { \"silent\" } are not used.\n",
      "\n",
      "  warnings.warn(smsg, UserWarning)\n",
      "\n"
     ]
    },
    {
     "name": "stdout",
     "output_type": "stream",
     "text": [
      "\tScore 0.33387224205750643                                                           \n",
      "\n",
      "\n",
      "Training with params:                                                                \n",
      "{'booster': 'gbtree', 'colsample_bytree': 0.55, 'eta': 0.17500000000000002, 'gamma': 0.65, 'max_depth': 13, 'min_child_weight': 1.0, 'n_estimators': 415.0, 'nthread': 16, 'objective': 'reg:squarederror', 'seed': 314159265, 'silent': 1, 'subsample': 0.8500000000000001, 'tree_method': 'exact'}\n",
      " 94%|█████████▍| 236/250 [5:54:44<17:35, 75.42s/trial, best loss: 0.2700914375476715]"
     ]
    },
    {
     "name": "stderr",
     "output_type": "stream",
     "text": [
      "c:\\Users\\dimas\\AppData\\Local\\Programs\\Python\\Python311\\Lib\\site-packages\\xgboost\\core.py:160: UserWarning: [05:47:50] WARNING: C:\\buildkite-agent\\builds\\buildkite-windows-cpu-autoscaling-group-i-0b3782d1791676daf-1\\xgboost\\xgboost-ci-windows\\src\\learner.cc:742: \n",
      "Parameters: { \"silent\" } are not used.\n",
      "\n",
      "  warnings.warn(smsg, UserWarning)\n",
      "\n"
     ]
    },
    {
     "name": "stdout",
     "output_type": "stream",
     "text": [
      "\tScore 0.714042653142412                                                             \n",
      "\n",
      "\n",
      "Training with params:                                                                \n",
      "{'booster': 'gbtree', 'colsample_bytree': 0.6000000000000001, 'eta': 0.1, 'gamma': 0.5, 'max_depth': 6, 'min_child_weight': 2.0, 'n_estimators': 373.0, 'nthread': 16, 'objective': 'reg:squarederror', 'seed': 314159265, 'silent': 1, 'subsample': 0.8, 'tree_method': 'exact'}\n",
      " 95%|█████████▍| 237/250 [5:56:38<18:50, 86.97s/trial, best loss: 0.2700914375476715]"
     ]
    },
    {
     "name": "stderr",
     "output_type": "stream",
     "text": [
      "c:\\Users\\dimas\\AppData\\Local\\Programs\\Python\\Python311\\Lib\\site-packages\\xgboost\\core.py:160: UserWarning: [05:49:44] WARNING: C:\\buildkite-agent\\builds\\buildkite-windows-cpu-autoscaling-group-i-0b3782d1791676daf-1\\xgboost\\xgboost-ci-windows\\src\\learner.cc:742: \n",
      "Parameters: { \"silent\" } are not used.\n",
      "\n",
      "  warnings.warn(smsg, UserWarning)\n",
      "\n"
     ]
    },
    {
     "name": "stdout",
     "output_type": "stream",
     "text": [
      "\tScore 0.6946498736001825                                                            \n",
      "\n",
      "\n",
      "Training with params:                                                                \n",
      "{'booster': 'gbtree', 'colsample_bytree': 0.7000000000000001, 'eta': 0.35000000000000003, 'gamma': 0.55, 'max_depth': 3, 'min_child_weight': 1.0, 'n_estimators': 530.0, 'nthread': 16, 'objective': 'reg:squarederror', 'seed': 314159265, 'silent': 1, 'subsample': 0.75, 'tree_method': 'exact'}\n",
      " 95%|█████████▌| 238/250 [5:57:26<15:04, 75.38s/trial, best loss: 0.2700914375476715]"
     ]
    },
    {
     "name": "stderr",
     "output_type": "stream",
     "text": [
      "c:\\Users\\dimas\\AppData\\Local\\Programs\\Python\\Python311\\Lib\\site-packages\\xgboost\\core.py:160: UserWarning: [05:50:33] WARNING: C:\\buildkite-agent\\builds\\buildkite-windows-cpu-autoscaling-group-i-0b3782d1791676daf-1\\xgboost\\xgboost-ci-windows\\src\\learner.cc:742: \n",
      "Parameters: { \"silent\" } are not used.\n",
      "\n",
      "  warnings.warn(smsg, UserWarning)\n",
      "\n"
     ]
    },
    {
     "name": "stdout",
     "output_type": "stream",
     "text": [
      "\tScore 0.6402448140396844                                                            \n",
      "\n",
      "\n",
      "Training with params:                                                                \n",
      "{'booster': 'gbtree', 'colsample_bytree': 0.65, 'eta': 0.05, 'gamma': 0.6000000000000001, 'max_depth': 7, 'min_child_weight': 2.0, 'n_estimators': 435.0, 'nthread': 16, 'objective': 'reg:squarederror', 'seed': 314159265, 'silent': 1, 'subsample': 0.75, 'tree_method': 'exact'}\n",
      " 96%|█████████▌| 239/250 [5:58:08<11:56, 65.17s/trial, best loss: 0.2700914375476715]"
     ]
    },
    {
     "name": "stderr",
     "output_type": "stream",
     "text": [
      "c:\\Users\\dimas\\AppData\\Local\\Programs\\Python\\Python311\\Lib\\site-packages\\xgboost\\core.py:160: UserWarning: [05:51:14] WARNING: C:\\buildkite-agent\\builds\\buildkite-windows-cpu-autoscaling-group-i-0b3782d1791676daf-1\\xgboost\\xgboost-ci-windows\\src\\learner.cc:742: \n",
      "Parameters: { \"silent\" } are not used.\n",
      "\n",
      "  warnings.warn(smsg, UserWarning)\n",
      "\n"
     ]
    },
    {
     "name": "stdout",
     "output_type": "stream",
     "text": [
      "\tScore 0.7037945485791                                                               \n",
      "\n",
      "\n",
      "Training with params:                                                                \n",
      "{'booster': 'gbtree', 'colsample_bytree': 0.55, 'eta': 0.025, 'gamma': 0.55, 'max_depth': 13, 'min_child_weight': 2.0, 'n_estimators': 590.0, 'nthread': 16, 'objective': 'reg:squarederror', 'seed': 314159265, 'silent': 1, 'subsample': 0.9, 'tree_method': 'exact'}\n",
      " 96%|█████████▌| 240/250 [5:59:17<11:05, 66.51s/trial, best loss: 0.2700914375476715]"
     ]
    },
    {
     "name": "stderr",
     "output_type": "stream",
     "text": [
      "c:\\Users\\dimas\\AppData\\Local\\Programs\\Python\\Python311\\Lib\\site-packages\\xgboost\\core.py:160: UserWarning: [05:52:24] WARNING: C:\\buildkite-agent\\builds\\buildkite-windows-cpu-autoscaling-group-i-0b3782d1791676daf-1\\xgboost\\xgboost-ci-windows\\src\\learner.cc:742: \n",
      "Parameters: { \"silent\" } are not used.\n",
      "\n",
      "  warnings.warn(smsg, UserWarning)\n",
      "\n"
     ]
    },
    {
     "name": "stdout",
     "output_type": "stream",
     "text": [
      "\tScore 0.7275011700777906                                                            \n",
      "\n",
      "\n",
      "Training with params:                                                                \n",
      "{'booster': 'gbtree', 'colsample_bytree': 0.6000000000000001, 'eta': 0.07500000000000001, 'gamma': 0.65, 'max_depth': 11, 'min_child_weight': 1.0, 'n_estimators': 459.0, 'nthread': 16, 'objective': 'reg:squarederror', 'seed': 314159265, 'silent': 1, 'subsample': 0.8500000000000001, 'tree_method': 'exact'}\n",
      " 96%|█████████▋| 241/250 [6:01:57<14:11, 94.62s/trial, best loss: 0.2700914375476715]"
     ]
    },
    {
     "name": "stderr",
     "output_type": "stream",
     "text": [
      "c:\\Users\\dimas\\AppData\\Local\\Programs\\Python\\Python311\\Lib\\site-packages\\xgboost\\core.py:160: UserWarning: [05:55:04] WARNING: C:\\buildkite-agent\\builds\\buildkite-windows-cpu-autoscaling-group-i-0b3782d1791676daf-1\\xgboost\\xgboost-ci-windows\\src\\learner.cc:742: \n",
      "Parameters: { \"silent\" } are not used.\n",
      "\n",
      "  warnings.warn(smsg, UserWarning)\n",
      "\n"
     ]
    },
    {
     "name": "stdout",
     "output_type": "stream",
     "text": [
      "\tScore 0.7224351583021159                                                            \n",
      "\n",
      "\n",
      "Training with params:                                                                \n",
      "{'booster': 'gbtree', 'colsample_bytree': 0.5, 'eta': 0.05, 'gamma': 0.65, 'max_depth': 8, 'min_child_weight': 2.0, 'n_estimators': 352.0, 'nthread': 16, 'objective': 'reg:squarederror', 'seed': 314159265, 'silent': 1, 'subsample': 0.9500000000000001, 'tree_method': 'exact'}\n",
      " 97%|█████████▋| 242/250 [6:03:44<13:04, 98.09s/trial, best loss: 0.2700914375476715]"
     ]
    },
    {
     "name": "stderr",
     "output_type": "stream",
     "text": [
      "c:\\Users\\dimas\\AppData\\Local\\Programs\\Python\\Python311\\Lib\\site-packages\\xgboost\\core.py:160: UserWarning: [05:56:50] WARNING: C:\\buildkite-agent\\builds\\buildkite-windows-cpu-autoscaling-group-i-0b3782d1791676daf-1\\xgboost\\xgboost-ci-windows\\src\\learner.cc:742: \n",
      "Parameters: { \"silent\" } are not used.\n",
      "\n",
      "  warnings.warn(smsg, UserWarning)\n",
      "\n"
     ]
    },
    {
     "name": "stdout",
     "output_type": "stream",
     "text": [
      "\tScore 0.7041154059635593                                                            \n",
      "\n",
      "\n",
      "Training with params:                                                                \n",
      "{'booster': 'gbtree', 'colsample_bytree': 0.65, 'eta': 0.1, 'gamma': 0.55, 'max_depth': 13, 'min_child_weight': 2.0, 'n_estimators': 399.0, 'nthread': 16, 'objective': 'reg:squarederror', 'seed': 314159265, 'silent': 1, 'subsample': 0.75, 'tree_method': 'exact'}\n",
      " 97%|█████████▋| 243/250 [6:04:37<09:53, 84.80s/trial, best loss: 0.2700914375476715]"
     ]
    },
    {
     "name": "stderr",
     "output_type": "stream",
     "text": [
      "c:\\Users\\dimas\\AppData\\Local\\Programs\\Python\\Python311\\Lib\\site-packages\\xgboost\\core.py:160: UserWarning: [05:57:44] WARNING: C:\\buildkite-agent\\builds\\buildkite-windows-cpu-autoscaling-group-i-0b3782d1791676daf-1\\xgboost\\xgboost-ci-windows\\src\\learner.cc:742: \n",
      "Parameters: { \"silent\" } are not used.\n",
      "\n",
      "  warnings.warn(smsg, UserWarning)\n",
      "\n"
     ]
    },
    {
     "name": "stdout",
     "output_type": "stream",
     "text": [
      "\tScore 0.721414663749376                                                             \n",
      "\n",
      "\n",
      "Training with params:                                                                \n",
      "{'booster': 'gbtree', 'colsample_bytree': 0.7000000000000001, 'eta': 0.025, 'gamma': 0.6000000000000001, 'max_depth': 4, 'min_child_weight': 1.0, 'n_estimators': 281.0, 'nthread': 16, 'objective': 'reg:squarederror', 'seed': 314159265, 'silent': 1, 'subsample': 0.8, 'tree_method': 'exact'}\n",
      " 98%|█████████▊| 244/250 [6:06:36<09:30, 95.03s/trial, best loss: 0.2700914375476715]"
     ]
    },
    {
     "name": "stderr",
     "output_type": "stream",
     "text": [
      "c:\\Users\\dimas\\AppData\\Local\\Programs\\Python\\Python311\\Lib\\site-packages\\xgboost\\core.py:160: UserWarning: [05:59:43] WARNING: C:\\buildkite-agent\\builds\\buildkite-windows-cpu-autoscaling-group-i-0b3782d1791676daf-1\\xgboost\\xgboost-ci-windows\\src\\learner.cc:742: \n",
      "Parameters: { \"silent\" } are not used.\n",
      "\n",
      "  warnings.warn(smsg, UserWarning)\n",
      "\n"
     ]
    },
    {
     "name": "stdout",
     "output_type": "stream",
     "text": [
      "\tScore 0.5658574208303964                                                            \n",
      "\n",
      "\n",
      "Training with params:                                                                \n",
      "{'booster': 'gbtree', 'colsample_bytree': 0.6000000000000001, 'eta': 0.35000000000000003, 'gamma': 0.5, 'max_depth': 10, 'min_child_weight': 2.0, 'n_estimators': 607.0, 'nthread': 16, 'objective': 'reg:squarederror', 'seed': 314159265, 'silent': 1, 'subsample': 0.75, 'tree_method': 'exact'}\n",
      " 98%|█████████▊| 245/250 [6:07:03<06:13, 74.65s/trial, best loss: 0.2700914375476715]"
     ]
    },
    {
     "name": "stderr",
     "output_type": "stream",
     "text": [
      "c:\\Users\\dimas\\AppData\\Local\\Programs\\Python\\Python311\\Lib\\site-packages\\xgboost\\core.py:160: UserWarning: [06:00:10] WARNING: C:\\buildkite-agent\\builds\\buildkite-windows-cpu-autoscaling-group-i-0b3782d1791676daf-1\\xgboost\\xgboost-ci-windows\\src\\learner.cc:742: \n",
      "Parameters: { \"silent\" } are not used.\n",
      "\n",
      "  warnings.warn(smsg, UserWarning)\n",
      "\n"
     ]
    },
    {
     "name": "stdout",
     "output_type": "stream",
     "text": [
      "\tScore 0.7054166631630817                                                            \n",
      "\n",
      "\n",
      "Training with params:                                                                \n",
      "{'booster': 'gbtree', 'colsample_bytree': 0.65, 'eta': 0.15000000000000002, 'gamma': 0.6000000000000001, 'max_depth': 13, 'min_child_weight': 1.0, 'n_estimators': 427.0, 'nthread': 16, 'objective': 'reg:squarederror', 'seed': 314159265, 'silent': 1, 'subsample': 0.8, 'tree_method': 'exact'}\n",
      " 98%|█████████▊| 246/250 [6:09:14<06:05, 91.38s/trial, best loss: 0.2700914375476715]"
     ]
    },
    {
     "name": "stderr",
     "output_type": "stream",
     "text": [
      "c:\\Users\\dimas\\AppData\\Local\\Programs\\Python\\Python311\\Lib\\site-packages\\xgboost\\core.py:160: UserWarning: [06:02:20] WARNING: C:\\buildkite-agent\\builds\\buildkite-windows-cpu-autoscaling-group-i-0b3782d1791676daf-1\\xgboost\\xgboost-ci-windows\\src\\learner.cc:742: \n",
      "Parameters: { \"silent\" } are not used.\n",
      "\n",
      "  warnings.warn(smsg, UserWarning)\n",
      "\n"
     ]
    },
    {
     "name": "stdout",
     "output_type": "stream",
     "text": [
      "\tScore 0.7160272736740898                                                            \n",
      "\n",
      "\n",
      "Training with params:                                                                 \n",
      "{'booster': 'gbtree', 'colsample_bytree': 0.7000000000000001, 'eta': 0.47500000000000003, 'gamma': 0.55, 'max_depth': 2, 'min_child_weight': 2.0, 'n_estimators': 304.0, 'nthread': 16, 'objective': 'reg:squarederror', 'seed': 314159265, 'silent': 1, 'subsample': 0.75, 'tree_method': 'exact'}\n",
      " 99%|█████████▉| 247/250 [6:11:20<05:05, 101.71s/trial, best loss: 0.2700914375476715]"
     ]
    },
    {
     "name": "stderr",
     "output_type": "stream",
     "text": [
      "c:\\Users\\dimas\\AppData\\Local\\Programs\\Python\\Python311\\Lib\\site-packages\\xgboost\\core.py:160: UserWarning: [06:04:26] WARNING: C:\\buildkite-agent\\builds\\buildkite-windows-cpu-autoscaling-group-i-0b3782d1791676daf-1\\xgboost\\xgboost-ci-windows\\src\\learner.cc:742: \n",
      "Parameters: { \"silent\" } are not used.\n",
      "\n",
      "  warnings.warn(smsg, UserWarning)\n",
      "\n"
     ]
    },
    {
     "name": "stdout",
     "output_type": "stream",
     "text": [
      "\tScore 0.5477966575338711                                                             \n",
      "\n",
      "\n",
      "Training with params:                                                                 \n",
      "{'booster': 'gbtree', 'colsample_bytree': 0.65, 'eta': 0.07500000000000001, 'gamma': 0.65, 'max_depth': 9, 'min_child_weight': 2.0, 'n_estimators': 248.0, 'nthread': 16, 'objective': 'reg:squarederror', 'seed': 314159265, 'silent': 1, 'subsample': 0.8500000000000001, 'tree_method': 'exact'}\n",
      " 99%|█████████▉| 248/250 [6:11:38<02:33, 76.73s/trial, best loss: 0.2700914375476715]"
     ]
    },
    {
     "name": "stderr",
     "output_type": "stream",
     "text": [
      "c:\\Users\\dimas\\AppData\\Local\\Programs\\Python\\Python311\\Lib\\site-packages\\xgboost\\core.py:160: UserWarning: [06:04:44] WARNING: C:\\buildkite-agent\\builds\\buildkite-windows-cpu-autoscaling-group-i-0b3782d1791676daf-1\\xgboost\\xgboost-ci-windows\\src\\learner.cc:742: \n",
      "Parameters: { \"silent\" } are not used.\n",
      "\n",
      "  warnings.warn(smsg, UserWarning)\n",
      "\n"
     ]
    },
    {
     "name": "stdout",
     "output_type": "stream",
     "text": [
      "\tScore 0.7215782436592991                                                            \n",
      "\n",
      "\n",
      "Training with params:                                                                \n",
      "{'booster': 'gbtree', 'colsample_bytree': 0.55, 'eta': 0.05, 'gamma': 0.7000000000000001, 'max_depth': 13, 'min_child_weight': 1.0, 'n_estimators': 664.0, 'nthread': 16, 'objective': 'reg:squarederror', 'seed': 314159265, 'silent': 1, 'subsample': 1.0, 'tree_method': 'exact'}\n",
      "100%|█████████▉| 249/250 [6:12:28<01:08, 68.56s/trial, best loss: 0.2700914375476715]"
     ]
    },
    {
     "name": "stderr",
     "output_type": "stream",
     "text": [
      "c:\\Users\\dimas\\AppData\\Local\\Programs\\Python\\Python311\\Lib\\site-packages\\xgboost\\core.py:160: UserWarning: [06:05:34] WARNING: C:\\buildkite-agent\\builds\\buildkite-windows-cpu-autoscaling-group-i-0b3782d1791676daf-1\\xgboost\\xgboost-ci-windows\\src\\learner.cc:742: \n",
      "Parameters: { \"silent\" } are not used.\n",
      "\n",
      "  warnings.warn(smsg, UserWarning)\n",
      "\n"
     ]
    },
    {
     "name": "stdout",
     "output_type": "stream",
     "text": [
      "\tScore 0.722084441620104                                                             \n",
      "\n",
      "\n",
      "100%|██████████| 250/250 [6:15:12<00:00, 90.05s/trial, best loss: 0.2700914375476715]\n",
      "The best hyperparameters are:  \n",
      "\n",
      "{'colsample_bytree': 1.0, 'eta': 0.025, 'gamma': 1.0, 'max_depth': 12, 'min_child_weight': 3.0, 'n_estimators': 263.0, 'subsample': 0.7000000000000001}\n"
     ]
    }
   ],
   "source": [
    "best_hyperparams = optimize()\n",
    "print(\"The best hyperparameters are: \", \"\\n\")\n",
    "print(best_hyperparams)"
   ]
  }
 ],
 "metadata": {
  "kernelspec": {
   "display_name": "Python 3",
   "language": "python",
   "name": "python3"
  },
  "language_info": {
   "codemirror_mode": {
    "name": "ipython",
    "version": 3
   },
   "file_extension": ".py",
   "mimetype": "text/x-python",
   "name": "python",
   "nbconvert_exporter": "python",
   "pygments_lexer": "ipython3",
   "version": "3.11.3"
  }
 },
 "nbformat": 4,
 "nbformat_minor": 2
}
